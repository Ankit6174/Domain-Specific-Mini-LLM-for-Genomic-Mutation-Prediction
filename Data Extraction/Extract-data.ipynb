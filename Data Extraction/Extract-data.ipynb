{
 "cells": [
  {
   "cell_type": "markdown",
   "id": "1a1f8fbf",
   "metadata": {},
   "source": [
    "# Fasta"
   ]
  },
  {
   "cell_type": "code",
   "execution_count": null,
   "id": "dc70e12d",
   "metadata": {},
   "outputs": [],
   "source": [
    "import requests\n",
    "\n",
    "response = requests.get(\"https://ftp.1000genomes.ebi.ac.uk/vol1/ftp/technical/reference/GRCh38_reference_genome/GRCh38_full_analysis_set_plus_decoy_hla.fa.fai\")\n",
    "with open(\"GRCh38.fa.fai\", 'w') as file:\n",
    "    file.write(response.content.decode('utf-8'))"
   ]
  },
  {
   "cell_type": "code",
   "execution_count": 1,
   "id": "7685bedd",
   "metadata": {},
   "outputs": [
    {
     "name": "stderr",
     "output_type": "stream",
     "text": [
      "GRCh38.fa: 100%|██████████| 3.26G/3.26G [08:35<00:00, 6.33MiB/s] "
     ]
    },
    {
     "name": "stdout",
     "output_type": "stream",
     "text": [
      "Downloaded GRCh38.fa successfully!\n"
     ]
    },
    {
     "name": "stderr",
     "output_type": "stream",
     "text": [
      "\n"
     ]
    }
   ],
   "source": [
    "import requests\n",
    "from tqdm import tqdm\n",
    "\n",
    "url = \"https://ftp.1000genomes.ebi.ac.uk/vol1/ftp/technical/reference/GRCh38_reference_genome/GRCh38_full_analysis_set_plus_decoy_hla.fa\"\n",
    "filename = \"GRCh38.fa\"\n",
    "\n",
    "response = requests.get(url, stream=True)\n",
    "total_size_in_bytes = int(response.headers.get('content-length', 0))\n",
    "block_size = 1024 \n",
    "\n",
    "with tqdm(total=total_size_in_bytes, unit='iB', unit_scale=True, desc=filename) as progress_bar:\n",
    "    with open(filename, 'wb') as file:\n",
    "        for data in response.iter_content(block_size):\n",
    "            progress_bar.update(len(data))\n",
    "            file.write(data)\n",
    "\n",
    "print(f\"Downloaded {filename} successfully!\")"
   ]
  },
  {
   "cell_type": "markdown",
   "id": "1d94d24f",
   "metadata": {},
   "source": [
    "# ClinVar"
   ]
  },
  {
   "cell_type": "code",
   "execution_count": null,
   "id": "0c6d7955",
   "metadata": {},
   "outputs": [],
   "source": [
    "import requests\n",
    "from tqdm import tqdm\n",
    "\n",
    "url = \"https://ftp.ncbi.nlm.nih.gov/pub/clinvar/vcf_GRCh38/weekly/clinvar.vcf.gz\"\n",
    "filename = \"clinvar.vcf.gz\"\n",
    "\n",
    "response = requests.get(url, stream=True)\n",
    "total_size_in_bytes = int(response.headers.get('content-length', 0))\n",
    "block_size = 1024 \n",
    "\n",
    "with tqdm(total=total_size_in_bytes, unit='iB', unit_scale=True, desc=filename) as progress_bar:\n",
    "    with open(filename, 'wb') as file:\n",
    "        for data in response.iter_content(block_size):\n",
    "            progress_bar.update(len(data))\n",
    "            file.write(data)\n",
    "\n",
    "print(f\"Downloaded {filename} successfully!\")"
   ]
  },
  {
   "cell_type": "code",
   "execution_count": null,
   "id": "9644bc0b",
   "metadata": {},
   "outputs": [],
   "source": [
    "import requests\n",
    "from tqdm import tqdm\n",
    "\n",
    "url = \"https://ftp.ncbi.nlm.nih.gov/pub/clinvar/vcf_GRCh38/weekly/clinvar.vcf.gz.tbi\"\n",
    "filename = \"clinvar.vcf.gz.tbi\"\n",
    "\n",
    "response = requests.get(url, stream=True)\n",
    "total_size_in_bytes = int(response.headers.get('content-length', 0))\n",
    "block_size = 1024 \n",
    "\n",
    "with tqdm(total=total_size_in_bytes, unit='iB', unit_scale=True, desc=filename) as progress_bar:\n",
    "    with open(filename, 'wb') as file:\n",
    "        for data in response.iter_content(block_size):\n",
    "            progress_bar.update(len(data))\n",
    "            file.write(data)\n",
    "\n",
    "print(f\"Downloaded {filename} successfully!\")"
   ]
  }
 ],
 "metadata": {
  "kernelspec": {
   "display_name": "Python 3",
   "language": "python",
   "name": "python3"
  },
  "language_info": {
   "codemirror_mode": {
    "name": "ipython",
    "version": 3
   },
   "file_extension": ".py",
   "mimetype": "text/x-python",
   "name": "python",
   "nbconvert_exporter": "python",
   "pygments_lexer": "ipython3",
   "version": "3.10.0"
  }
 },
 "nbformat": 4,
 "nbformat_minor": 5
}
