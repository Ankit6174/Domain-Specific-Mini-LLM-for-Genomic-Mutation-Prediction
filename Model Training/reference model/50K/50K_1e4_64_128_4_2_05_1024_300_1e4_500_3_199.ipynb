{
  "cells": [
    {
      "cell_type": "code",
      "execution_count": 22,
      "id": "f2508c25",
      "metadata": {
        "id": "f2508c25"
      },
      "outputs": [],
      "source": [
        "hyperparameters = {\n",
        "    \"learning_rate\": 1e-4,\n",
        "    \"batch_size\": 64,\n",
        "    \"embed_dim\": 128,\n",
        "    \"num_heads\": 4,\n",
        "    \"num_layers\": 2,\n",
        "    \"dropout\": 0.5,\n",
        "    \"ff_dim\": 1024,\n",
        "    \"epochs\": 10,\n",
        "    \"weight_decay\": 1e-4,\n",
        "    \"num_warmup_steps\": 500,\n",
        "    \"k-mers\": 3,\n",
        "    \"max_len\": 199,\n",
        "}\n",
        "\n",
        "info = {\n",
        "    \"dataset_size\": \"50K\",\n",
        "    \"precision\": \"FP16\",\n",
        "    \"dir_name\": \"Reference Model\",\n",
        "    \"run\": \"Second Run\"\n",
        "}"
      ]
    },
    {
      "cell_type": "code",
      "execution_count": 23,
      "id": "07396a26",
      "metadata": {
        "colab": {
          "base_uri": "https://localhost:8080/"
        },
        "id": "07396a26",
        "outputId": "88509321-5cc8-4e3f-eedf-7feca6c1e943"
      },
      "outputs": [
        {
          "output_type": "stream",
          "name": "stdout",
          "text": [
            "Drive already mounted at /content/drive; to attempt to forcibly remount, call drive.mount(\"/content/drive\", force_remount=True).\n"
          ]
        }
      ],
      "source": [
        "from google.colab import drive\n",
        "drive.mount('/content/drive')"
      ]
    },
    {
      "cell_type": "code",
      "execution_count": 24,
      "id": "ece2e0fe",
      "metadata": {
        "colab": {
          "base_uri": "https://localhost:8080/"
        },
        "id": "ece2e0fe",
        "outputId": "8938b1a5-fe23-46ea-a481-c3003a455b65"
      },
      "outputs": [
        {
          "output_type": "execute_result",
          "data": {
            "text/plain": [
              "(50000, 10)"
            ]
          },
          "metadata": {},
          "execution_count": 24
        }
      ],
      "source": [
        "import pandas as pd\n",
        "\n",
        "data_path = f\"/content/drive/MyDrive/dataset/{info['dataset_size']}.csv\"\n",
        "\n",
        "data = pd.read_csv(data_path)\n",
        "data.shape"
      ]
    },
    {
      "cell_type": "code",
      "execution_count": 25,
      "id": "1e2fe762",
      "metadata": {
        "id": "1e2fe762"
      },
      "outputs": [],
      "source": [
        "data['ref'] = data['ref'].map({'A': 0, 'T': 1, 'G': 2, 'C': 3})"
      ]
    },
    {
      "cell_type": "code",
      "execution_count": 26,
      "id": "ea96c6f3",
      "metadata": {
        "id": "ea96c6f3"
      },
      "outputs": [],
      "source": [
        "x = data['sequence']\n",
        "y_ref = data['ref']"
      ]
    },
    {
      "cell_type": "code",
      "execution_count": 27,
      "id": "_9zrR1j0v-VR",
      "metadata": {
        "id": "_9zrR1j0v-VR"
      },
      "outputs": [],
      "source": [
        "def get_codon(seq, k=hyperparameters['k-mers']):\n",
        "    return [seq[i:i+k] for i in range(len(seq) - k + 1)]\n",
        "\n",
        "vocab = {'<PAD>': 0, '<UNK>': 1}\n",
        "\n",
        "for seq in data['sequence']:\n",
        "    for codons in get_codon(seq.lower()):\n",
        "        if codons not in vocab:\n",
        "            vocab[codons] = len(vocab)\n",
        "        else:\n",
        "            continue\n",
        "\n",
        "def get_tensor(text):\n",
        "    return [vocab.get(codons.lower(), vocab['<UNK>']) for codons in get_codon(text)]"
      ]
    },
    {
      "cell_type": "code",
      "execution_count": 28,
      "id": "0bc535f2",
      "metadata": {
        "id": "0bc535f2"
      },
      "outputs": [],
      "source": [
        "import torch\n",
        "from torch.utils.data import Dataset\n",
        "\n",
        "class CustomDataset(Dataset):\n",
        "  def __init__(\n",
        "      self,\n",
        "      x,\n",
        "      y_ref,\n",
        "  ):\n",
        "    self.x_frame = x\n",
        "    self.y_ref_frame = y_ref\n",
        "\n",
        "  def __len__(self):\n",
        "    return len(self.x_frame)\n",
        "\n",
        "  def __getitem__(self, index):\n",
        "    x = torch.tensor(get_tensor(self.x_frame[index]), dtype=torch.long)\n",
        "    y_ref = torch.tensor(self.y_ref_frame[index], dtype=torch.long)\n",
        "\n",
        "    return (\n",
        "      x,\n",
        "      y_ref\n",
        "    )"
      ]
    },
    {
      "cell_type": "code",
      "execution_count": 29,
      "id": "JxQsRYLyv-VS",
      "metadata": {
        "id": "JxQsRYLyv-VS"
      },
      "outputs": [],
      "source": [
        "dataset = CustomDataset(\n",
        "    x,\n",
        "    y_ref\n",
        ")"
      ]
    },
    {
      "cell_type": "code",
      "execution_count": 30,
      "id": "8hR-7h2Uv-VT",
      "metadata": {
        "id": "8hR-7h2Uv-VT"
      },
      "outputs": [],
      "source": [
        "from torch.utils.data import random_split\n",
        "\n",
        "train_size = int(0.8 * len(dataset))\n",
        "test_size = len(dataset) - train_size\n",
        "\n",
        "train_dataset, test_dataset = random_split(dataset, [train_size, test_size])"
      ]
    },
    {
      "cell_type": "code",
      "execution_count": 31,
      "id": "vn14FOnwv-VT",
      "metadata": {
        "id": "vn14FOnwv-VT"
      },
      "outputs": [],
      "source": [
        "from torch.utils.data import DataLoader\n",
        "\n",
        "train_loader = DataLoader(\n",
        "    train_dataset,\n",
        "    batch_size=hyperparameters['batch_size'],\n",
        "    shuffle=True\n",
        ")\n",
        "\n",
        "test_loader = DataLoader(\n",
        "    test_dataset,\n",
        "    batch_size=hyperparameters['batch_size']\n",
        ")"
      ]
    },
    {
      "cell_type": "code",
      "execution_count": 32,
      "id": "6LMlvvYpv-VU",
      "metadata": {
        "id": "6LMlvvYpv-VU"
      },
      "outputs": [],
      "source": [
        "from torch import nn\n",
        "import math\n",
        "\n",
        "class PositionalEncoding(nn.Module):\n",
        "    def __init__(self, embed_dim, max_len=5000):\n",
        "        super().__init__()\n",
        "\n",
        "        pe = torch.zeros(max_len, embed_dim)\n",
        "        position = torch.arange(0, max_len).unsqueeze(1)\n",
        "\n",
        "        div_term = torch.exp((torch.arange(0, embed_dim, 2)) * (-math.log(10000.0) / embed_dim))\n",
        "\n",
        "        pe[:, 0::2] = torch.sin(position * div_term)\n",
        "        pe[:, 1::2] = torch.cos(position * div_term)\n",
        "\n",
        "        pe = pe.unsqueeze(0)\n",
        "        self.register_buffer('pe', pe)\n",
        "\n",
        "    def forward(self, x):\n",
        "        x = x + self.pe[:, :x.size(1), :].to(x.device)\n",
        "        return x\n",
        "\n",
        "class Transformer(nn.Module):\n",
        "    def __init__(self, embed_dim=512, num_heads=8, num_layers=6, ff_dim=2048, dropout=0.1, vocab_size=10000, max_len=5000):\n",
        "        super(Transformer, self).__init__()\n",
        "        self.embeddings = nn.Embedding(vocab_size, embed_dim)\n",
        "        self.position_encoding = PositionalEncoding(embed_dim=embed_dim, max_len=max_len)\n",
        "\n",
        "        encoder_layer = nn.TransformerEncoderLayer(\n",
        "            d_model=embed_dim,\n",
        "            nhead=num_heads,\n",
        "            dim_feedforward=ff_dim,\n",
        "            dropout=dropout,\n",
        "            batch_first=True\n",
        "        )\n",
        "        self.encoder = nn.TransformerEncoder(\n",
        "            encoder_layer=encoder_layer,\n",
        "            num_layers=num_layers\n",
        "        )\n",
        "\n",
        "        self.y_ref_out = nn.Linear(embed_dim, 4)\n",
        "\n",
        "    def forward(self, x):\n",
        "        x = self.embeddings(x)\n",
        "        x = self.position_encoding(x)\n",
        "\n",
        "        x = self.encoder(x)\n",
        "        x = x.mean(dim=1)\n",
        "\n",
        "        y_ref_out = self.y_ref_out(x)\n",
        "\n",
        "        return (\n",
        "            y_ref_out\n",
        "        )"
      ]
    },
    {
      "cell_type": "code",
      "execution_count": 33,
      "id": "d1bedbfb",
      "metadata": {
        "id": "d1bedbfb"
      },
      "outputs": [],
      "source": [
        "model = Transformer(\n",
        "    embed_dim=hyperparameters['embed_dim'],\n",
        "    num_heads=hyperparameters['num_heads'],\n",
        "    num_layers=hyperparameters['num_layers'],\n",
        "    ff_dim=hyperparameters['ff_dim'],\n",
        "    dropout=hyperparameters['dropout'],\n",
        "    vocab_size=len(vocab),\n",
        "    max_len=hyperparameters['max_len']\n",
        ")"
      ]
    },
    {
      "cell_type": "code",
      "execution_count": 34,
      "id": "Lsu5lrCtv-VU",
      "metadata": {
        "colab": {
          "base_uri": "https://localhost:8080/"
        },
        "id": "Lsu5lrCtv-VU",
        "outputId": "2a21d838-5de9-49ea-a23a-75692d0c95e7"
      },
      "outputs": [
        {
          "output_type": "execute_result",
          "data": {
            "text/plain": [
              "Transformer(\n",
              "  (embeddings): Embedding(66, 128)\n",
              "  (position_encoding): PositionalEncoding()\n",
              "  (encoder): TransformerEncoder(\n",
              "    (layers): ModuleList(\n",
              "      (0-1): 2 x TransformerEncoderLayer(\n",
              "        (self_attn): MultiheadAttention(\n",
              "          (out_proj): NonDynamicallyQuantizableLinear(in_features=128, out_features=128, bias=True)\n",
              "        )\n",
              "        (linear1): Linear(in_features=128, out_features=1024, bias=True)\n",
              "        (dropout): Dropout(p=0.5, inplace=False)\n",
              "        (linear2): Linear(in_features=1024, out_features=128, bias=True)\n",
              "        (norm1): LayerNorm((128,), eps=1e-05, elementwise_affine=True)\n",
              "        (norm2): LayerNorm((128,), eps=1e-05, elementwise_affine=True)\n",
              "        (dropout1): Dropout(p=0.5, inplace=False)\n",
              "        (dropout2): Dropout(p=0.5, inplace=False)\n",
              "      )\n",
              "    )\n",
              "  )\n",
              "  (y_ref_out): Linear(in_features=128, out_features=4, bias=True)\n",
              ")"
            ]
          },
          "metadata": {},
          "execution_count": 34
        }
      ],
      "source": [
        "device = torch.device(\"cuda\" if torch.cuda.is_available() else \"cpu\")\n",
        "model.to(device)"
      ]
    },
    {
      "cell_type": "code",
      "execution_count": 35,
      "id": "aQOSAZ8Av-VV",
      "metadata": {
        "colab": {
          "base_uri": "https://localhost:8080/"
        },
        "id": "aQOSAZ8Av-VV",
        "outputId": "8a393990-1e5f-48e4-e34b-8eb1db5a69be"
      },
      "outputs": [
        {
          "output_type": "stream",
          "name": "stdout",
          "text": [
            "Total trainable parameters: 668676\n"
          ]
        }
      ],
      "source": [
        "num_params = sum(p.numel() for p in model.parameters() if p.requires_grad)\n",
        "print(f\"Total trainable parameters: {num_params}\")"
      ]
    },
    {
      "cell_type": "code",
      "execution_count": 36,
      "id": "CHQdi9MYv-VW",
      "metadata": {
        "colab": {
          "base_uri": "https://localhost:8080/"
        },
        "id": "CHQdi9MYv-VW",
        "outputId": "70f449b3-26b9-42d5-caa5-ab50539244b4"
      },
      "outputs": [
        {
          "output_type": "stream",
          "name": "stderr",
          "text": [
            "/tmp/ipython-input-2088383424.py:7: FutureWarning: `torch.cuda.amp.GradScaler(args...)` is deprecated. Please use `torch.amp.GradScaler('cuda', args...)` instead.\n",
            "  scaler = torch.cuda.amp.GradScaler()\n"
          ]
        }
      ],
      "source": [
        "from torch import optim\n",
        "from transformers import get_linear_schedule_with_warmup\n",
        "\n",
        "ce_ref = nn.CrossEntropyLoss()\n",
        "\n",
        "optimizer = optim.Adam(model.parameters(), lr=hyperparameters['learning_rate'], weight_decay=hyperparameters['weight_decay'])\n",
        "scaler = torch.cuda.amp.GradScaler()\n",
        "\n",
        "num_training_steps = len(train_loader) * hyperparameters['epochs']\n",
        "num_warmup_steps = hyperparameters['num_warmup_steps']\n",
        "\n",
        "scheduler = get_linear_schedule_with_warmup(\n",
        "    optimizer,\n",
        "    num_warmup_steps=num_warmup_steps,\n",
        "    num_training_steps=num_training_steps\n",
        ")"
      ]
    },
    {
      "cell_type": "code",
      "execution_count": 37,
      "id": "bb7ee6bd",
      "metadata": {
        "id": "bb7ee6bd"
      },
      "outputs": [],
      "source": [
        "def train32(\n",
        "    model,\n",
        "    loader,\n",
        "    ce_ref,\n",
        "    optimizer\n",
        "):\n",
        "\n",
        "    model.train()\n",
        "\n",
        "    running_loss, correct_ref, total = 0.0, 0, 0\n",
        "\n",
        "    for x, y_ref in loader:\n",
        "        optimizer.zero_grad()\n",
        "\n",
        "        x = x.to(device)\n",
        "        y_ref = y_ref.to(device)\n",
        "\n",
        "        y_ref_out = model(x)\n",
        "\n",
        "        loss = ce_ref(y_ref_out, y_ref)\n",
        "\n",
        "        pred_ref = torch.argmax(y_ref_out, dim=1)\n",
        "        correct_ref += (pred_ref == y_ref).sum().item()\n",
        "\n",
        "        total += len(x)\n",
        "\n",
        "        loss.backward()\n",
        "        optimizer.step()\n",
        "\n",
        "        running_loss += loss.item() * len(x)\n",
        "\n",
        "    accuracy_ref = correct_ref / total\n",
        "\n",
        "    return (\n",
        "        running_loss/len(loader.dataset),\n",
        "        accuracy_ref\n",
        "    )\n",
        "\n",
        "def train16(\n",
        "        model,\n",
        "        loader,\n",
        "        ce_ref,\n",
        "        optimizer,\n",
        "        scaler,\n",
        "        scheduler\n",
        "    ):\n",
        "\n",
        "    model.train()\n",
        "\n",
        "    running_loss, correct_ref, total = 0.0, 0, 0\n",
        "\n",
        "    for x, y_ref in loader:\n",
        "        optimizer.zero_grad()\n",
        "\n",
        "        x = x.to(device)\n",
        "        y_ref = y_ref.to(device)\n",
        "\n",
        "        with torch.cuda.amp.autocast():\n",
        "            y_ref_out = model(x)\n",
        "\n",
        "            loss = ce_ref(y_ref_out, y_ref)\n",
        "\n",
        "        pred_ref = torch.argmax(y_ref_out, dim=1)\n",
        "        correct_ref += (pred_ref == y_ref).sum().item()\n",
        "\n",
        "        total += len(x)\n",
        "\n",
        "        scaler.scale(loss).backward()\n",
        "        scaler.step(optimizer)\n",
        "        scaler.update()\n",
        "\n",
        "        scheduler.step()\n",
        "\n",
        "        running_loss += loss.item() * len(x)\n",
        "\n",
        "\n",
        "    accuracy_ref = correct_ref / total\n",
        "\n",
        "    return (\n",
        "        running_loss/len(loader.dataset),\n",
        "        accuracy_ref\n",
        "    )"
      ]
    },
    {
      "cell_type": "code",
      "execution_count": 38,
      "id": "85c451e4",
      "metadata": {
        "id": "85c451e4"
      },
      "outputs": [],
      "source": [
        "def validation(\n",
        "        model,\n",
        "        loader,\n",
        "        ce_ref,\n",
        "):\n",
        "    model.eval()\n",
        "\n",
        "    running_loss, correct_ref,  total = 0.0, 0, 0\n",
        "\n",
        "    with torch.no_grad():\n",
        "        for x, y_ref in loader:\n",
        "                x = x.to(device)\n",
        "                y_ref = y_ref.to(device)\n",
        "\n",
        "                if info['precision'] == 'FP16':\n",
        "                        with torch.cuda.amp.autocast():\n",
        "                                y_ref_out = model(x)\n",
        "\n",
        "                                loss = ce_ref(y_ref_out, y_ref)\n",
        "                else:\n",
        "                        y_ref_out = model(x)\n",
        "\n",
        "                        loss = ce_ref(y_ref_out, y_ref)\n",
        "\n",
        "                running_loss += loss.item() * len(x)\n",
        "\n",
        "                pred_ref = torch.argmax(y_ref_out, dim=1)\n",
        "                correct_ref += (pred_ref == y_ref).sum().item()\n",
        "\n",
        "                total += len(x)\n",
        "\n",
        "        accuracy_ref = correct_ref / total\n",
        "\n",
        "        return (\n",
        "                running_loss/len(loader.dataset),\n",
        "                accuracy_ref\n",
        "        )"
      ]
    },
    {
      "cell_type": "code",
      "execution_count": 39,
      "id": "MngCN-39v-VY",
      "metadata": {
        "colab": {
          "base_uri": "https://localhost:8080/"
        },
        "id": "MngCN-39v-VY",
        "outputId": "6a7dda24-a60d-4e9f-ad19-61ddf58e9695"
      },
      "outputs": [
        {
          "output_type": "stream",
          "name": "stderr",
          "text": [
            "/tmp/ipython-input-2010280442.py:58: FutureWarning: `torch.cuda.amp.autocast(args...)` is deprecated. Please use `torch.amp.autocast('cuda', args...)` instead.\n",
            "  with torch.cuda.amp.autocast():\n",
            "/tmp/ipython-input-3094836551.py:16: FutureWarning: `torch.cuda.amp.autocast(args...)` is deprecated. Please use `torch.amp.autocast('cuda', args...)` instead.\n",
            "  with torch.cuda.amp.autocast():\n"
          ]
        },
        {
          "output_type": "stream",
          "name": "stdout",
          "text": [
            "\n",
            "    Epoch (1/10):\n",
            "    ----------------------------------------\n",
            "    Training:\n",
            "    Loss                      = 1.2452\n",
            "    Accuracy (Reference)      = 0.38%\n",
            "\n",
            "    Validation:\n",
            "    Loss                      = 0.5375\n",
            "    Accuracy (Reference)      = 0.80%\n",
            "    \n",
            "\n",
            "    Epoch (2/10):\n",
            "    ----------------------------------------\n",
            "    Training:\n",
            "    Loss                      = 0.1196\n",
            "    Accuracy (Reference)      = 0.96%\n",
            "\n",
            "    Validation:\n",
            "    Loss                      = 0.3294\n",
            "    Accuracy (Reference)      = 0.89%\n",
            "    \n",
            "\n",
            "    Epoch (3/10):\n",
            "    ----------------------------------------\n",
            "    Training:\n",
            "    Loss                      = 0.0077\n",
            "    Accuracy (Reference)      = 1.00%\n",
            "\n",
            "    Validation:\n",
            "    Loss                      = 0.5339\n",
            "    Accuracy (Reference)      = 0.86%\n",
            "    \n",
            "No improvement in val loss Counter = 1/10\n",
            "\n",
            "    Epoch (4/10):\n",
            "    ----------------------------------------\n",
            "    Training:\n",
            "    Loss                      = 0.0028\n",
            "    Accuracy (Reference)      = 1.00%\n",
            "\n",
            "    Validation:\n",
            "    Loss                      = 0.3556\n",
            "    Accuracy (Reference)      = 0.88%\n",
            "    \n",
            "No improvement in val loss Counter = 2/10\n",
            "\n",
            "    Epoch (5/10):\n",
            "    ----------------------------------------\n",
            "    Training:\n",
            "    Loss                      = 0.0016\n",
            "    Accuracy (Reference)      = 1.00%\n",
            "\n",
            "    Validation:\n",
            "    Loss                      = 0.3628\n",
            "    Accuracy (Reference)      = 0.89%\n",
            "    \n",
            "No improvement in val loss Counter = 3/10\n",
            "\n",
            "    Epoch (6/10):\n",
            "    ----------------------------------------\n",
            "    Training:\n",
            "    Loss                      = 0.0012\n",
            "    Accuracy (Reference)      = 1.00%\n",
            "\n",
            "    Validation:\n",
            "    Loss                      = 0.3312\n",
            "    Accuracy (Reference)      = 0.89%\n",
            "    \n",
            "No improvement in val loss Counter = 4/10\n",
            "\n",
            "    Epoch (7/10):\n",
            "    ----------------------------------------\n",
            "    Training:\n",
            "    Loss                      = 0.0009\n",
            "    Accuracy (Reference)      = 1.00%\n",
            "\n",
            "    Validation:\n",
            "    Loss                      = 0.2457\n",
            "    Accuracy (Reference)      = 0.91%\n",
            "    \n",
            "\n",
            "    Epoch (8/10):\n",
            "    ----------------------------------------\n",
            "    Training:\n",
            "    Loss                      = 0.0008\n",
            "    Accuracy (Reference)      = 1.00%\n",
            "\n",
            "    Validation:\n",
            "    Loss                      = 0.2414\n",
            "    Accuracy (Reference)      = 0.91%\n",
            "    \n",
            "\n",
            "    Epoch (9/10):\n",
            "    ----------------------------------------\n",
            "    Training:\n",
            "    Loss                      = 0.0007\n",
            "    Accuracy (Reference)      = 1.00%\n",
            "\n",
            "    Validation:\n",
            "    Loss                      = 0.1888\n",
            "    Accuracy (Reference)      = 0.92%\n",
            "    \n",
            "Model saved at /content/drive/MyDrive/Reference Model/model_Second Run_epoch_10.pth\n",
            "\n",
            "    Epoch (10/10):\n",
            "    ----------------------------------------\n",
            "    Training:\n",
            "    Loss                      = 0.0006\n",
            "    Accuracy (Reference)      = 1.00%\n",
            "\n",
            "    Validation:\n",
            "    Loss                      = 0.1999\n",
            "    Accuracy (Reference)      = 0.92%\n",
            "    \n",
            "No improvement in val loss Counter = 1/10\n"
          ]
        }
      ],
      "source": [
        "import os\n",
        "\n",
        "patience = 10\n",
        "best_val_loss = float('inf')\n",
        "counter = 0\n",
        "early_stop = False\n",
        "\n",
        "train_loss_history = []\n",
        "train_ref_acc_history = []\n",
        "\n",
        "validation_loss_history = []\n",
        "validation_ref_acc_history = []\n",
        "\n",
        "save_dir = f\"/content/drive/MyDrive/{info['dir_name']}\"\n",
        "os.makedirs(save_dir, exist_ok=True)\n",
        "\n",
        "for epoch in range(1, hyperparameters['epochs']+1):\n",
        "    if info['precision'] == 'FP16':\n",
        "      train_loss, train_accuracy_ref = train16(\n",
        "            model,\n",
        "            train_loader,\n",
        "            ce_ref,\n",
        "            optimizer,\n",
        "            scaler,\n",
        "            scheduler\n",
        "        )\n",
        "    else:\n",
        "      train_loss, train_accuracy_ref = train32(\n",
        "          model,\n",
        "          train_loader,\n",
        "          ce_ref,\n",
        "          optimizer\n",
        "      )\n",
        "\n",
        "    validation_loss, validation_accuracy_ref = validation(\n",
        "        model,\n",
        "        test_loader,\n",
        "        ce_ref\n",
        "    )\n",
        "\n",
        "    train_loss_history.append(train_loss)\n",
        "    train_ref_acc_history.append(train_accuracy_ref)\n",
        "\n",
        "    validation_loss_history.append(validation_loss)\n",
        "    validation_ref_acc_history.append(validation_accuracy_ref)\n",
        "\n",
        "    print(f\"\"\"\n",
        "    Epoch ({epoch}/{hyperparameters['epochs']}):\n",
        "    ----------------------------------------\n",
        "    Training:\n",
        "    Loss                      = {train_loss:.4f}\n",
        "    Accuracy (Reference)      = {train_accuracy_ref:.2f}%\n",
        "\n",
        "    Validation:\n",
        "    Loss                      = {validation_loss:.4f}\n",
        "    Accuracy (Reference)      = {validation_accuracy_ref:.2f}%\n",
        "    \"\"\")\n",
        "\n",
        "    if (epoch+1) % 10 == 0:\n",
        "      checkpoint_path = f\"{save_dir}/model_{info['run']}_epoch_{epoch+1}.pth\"\n",
        "      torch.save({\n",
        "          'epoch': epoch+1,\n",
        "          'model_state_dict': model.state_dict(),\n",
        "          'optimizer_state_dict': optimizer.state_dict(),\n",
        "          'Training Loss': train_loss,\n",
        "          'Training Accuracy Reference': train_accuracy_ref,\n",
        "          'Validation Loss': validation_loss,\n",
        "          'Validation Accuracy Reference': validation_accuracy_ref,\n",
        "      }, checkpoint_path)\n",
        "      print(f\"Model saved at {checkpoint_path}\")\n",
        "\n",
        "\n",
        "    if validation_loss < best_val_loss:\n",
        "        best_val_loss = validation_loss\n",
        "        counter = 0\n",
        "        continue\n",
        "    else:\n",
        "        counter += 1\n",
        "        print(f\"No improvement in val loss Counter = {counter}/{patience}\")\n",
        "        if counter >= patience:\n",
        "            print(\"Early stopping triggered!\")\n",
        "            early_stop = True\n",
        "            break"
      ]
    },
    {
      "cell_type": "code",
      "execution_count": 40,
      "id": "748bf437",
      "metadata": {
        "id": "748bf437"
      },
      "outputs": [],
      "source": [
        "def get_predictions_and_labels(model, loader):\n",
        "    model.eval()\n",
        "    all_y_true_ref = []\n",
        "\n",
        "    all_y_pred_ref = []\n",
        "\n",
        "    with torch.no_grad():\n",
        "        for x, y_ref in loader:\n",
        "            x = x.to(device)\n",
        "            y_ref = y_ref.to(device)\n",
        "\n",
        "            model_output = model(x)\n",
        "\n",
        "            # Extract y_ref_out from model output if it's a tuple\n",
        "            if isinstance(model_output, tuple):\n",
        "                y_ref_out = model_output[0]\n",
        "            else:\n",
        "                y_ref_out = model_output\n",
        "\n",
        "\n",
        "            _, pred_ref = torch.max(y_ref_out, 1)\n",
        "\n",
        "            all_y_true_ref.extend(y_ref.cpu().numpy())\n",
        "\n",
        "            all_y_pred_ref.extend(pred_ref.cpu().numpy())\n",
        "\n",
        "    return (\n",
        "        (all_y_true_ref, all_y_pred_ref)\n",
        "    )"
      ]
    },
    {
      "cell_type": "code",
      "execution_count": 41,
      "id": "f6fa320c",
      "metadata": {
        "colab": {
          "base_uri": "https://localhost:8080/"
        },
        "id": "f6fa320c",
        "outputId": "abba0ea4-740d-4b11-e3f3-084323b4b609"
      },
      "outputs": [
        {
          "output_type": "stream",
          "name": "stdout",
          "text": [
            "\n",
            "============================================================\n",
            "Classification Report Summary\n",
            "============================================================\n",
            "\n",
            "[1] Classification Report — Reference Label\n",
            "------------------------------------------------------------\n",
            "              precision    recall  f1-score   support\n",
            "\n",
            "           0       0.87      0.92      0.89      1796\n",
            "           1       0.82      1.00      0.90      1769\n",
            "           2       1.00      0.80      0.89      3248\n",
            "           3       0.95      1.00      0.98      3187\n",
            "\n",
            "    accuracy                           0.92     10000\n",
            "   macro avg       0.91      0.93      0.92     10000\n",
            "weighted avg       0.93      0.92      0.92     10000\n",
            "\n",
            "============================================================\n",
            "\n"
          ]
        }
      ],
      "source": [
        "from sklearn.metrics import classification_report\n",
        "\n",
        "(y_ref_true, y_ref_pred) = get_predictions_and_labels(model, test_loader)\n",
        "\n",
        "print(\"\\n\" + \"=\"*60)\n",
        "print(\"Classification Report Summary\")\n",
        "print(\"=\"*60)\n",
        "\n",
        "print(\"\\n[1] Classification Report — Reference Label\")\n",
        "print(\"-\" * 60)\n",
        "print(classification_report(y_ref_true, y_ref_pred))\n",
        "\n",
        "print(\"=\"*60 + \"\\n\")\n"
      ]
    },
    {
      "cell_type": "code",
      "execution_count": 42,
      "id": "a25ad7f9",
      "metadata": {
        "colab": {
          "base_uri": "https://localhost:8080/",
          "height": 1000
        },
        "id": "a25ad7f9",
        "outputId": "467678c9-a34b-4719-d10e-ee685d680269"
      },
      "outputs": [
        {
          "output_type": "display_data",
          "data": {
            "text/plain": [
              "<Figure size 1000x600 with 1 Axes>"
            ],
            "image/png": "[encoded data removed]"
          },
          "metadata": {}
        },
        {
          "output_type": "display_data",
          "data": {
            "text/plain": [
              "<Figure size 1000x600 with 1 Axes>"
            ],
            "image/png": "[encoded data removed]"
          },
          "metadata": {}
        }
      ],
      "source": [
        "import seaborn as sns\n",
        "import matplotlib.pyplot as plt\n",
        "import pandas as pd\n",
        "\n",
        "epochs = list(range(1, len(train_loss_history) + 1))\n",
        "\n",
        "data = {\n",
        "    'Epoch': epochs * 2,\n",
        "    'Loss': train_loss_history + validation_loss_history,\n",
        "    'Accuracy_Ref': train_ref_acc_history + validation_ref_acc_history,\n",
        "    'Set': ['Train'] * len(epochs) + ['Validation'] * len(epochs)\n",
        "}\n",
        "\n",
        "df = pd.DataFrame(data)\n",
        "\n",
        "sns.set(style=\"whitegrid\")\n",
        "\n",
        "plt.figure(figsize=(10, 6))\n",
        "sns.lineplot(data=df, x='Epoch', y='Loss', hue='Set', marker='o')\n",
        "plt.title(\"Training vs Validation Loss\")\n",
        "plt.ylabel(\"Loss\")\n",
        "plt.xlabel(\"Epoch\")\n",
        "plt.tight_layout()\n",
        "plt.show()\n",
        "\n",
        "plt.figure(figsize=(10, 6))\n",
        "sns.lineplot(data=df, x='Epoch', y='Accuracy_Ref', hue='Set', marker='o')\n",
        "plt.title(\"Reference Accuracy: Training vs Validation\")\n",
        "plt.ylabel(\"Accuracy (%)\")\n",
        "plt.xlabel(\"Epoch\")\n",
        "plt.tight_layout()\n",
        "plt.show()"
      ]
    },
    {
      "cell_type": "code",
      "execution_count": 42,
      "id": "KGa39q0IxU84",
      "metadata": {
        "id": "KGa39q0IxU84"
      },
      "outputs": [],
      "source": []
    }
  ],
  "metadata": {
    "accelerator": "GPU",
    "colab": {
      "gpuType": "L4",
      "machine_shape": "hm",
      "provenance": []
    },
    "kernelspec": {
      "display_name": "Python 3",
      "name": "python3"
    },
    "language_info": {
      "name": "python"
    }
  },
  "nbformat": 4,
  "nbformat_minor": 5
}