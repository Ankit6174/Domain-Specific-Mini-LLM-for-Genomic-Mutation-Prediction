{
  "cells": [
    {
      "cell_type": "code",
      "execution_count": null,
      "metadata": {
        "id": "pGcWf4F5JcMc"
      },
      "outputs": [],
      "source": [
        "hyperparameters = {\n",
        "    \"learning_rate\": 0.0001,\n",
        "    \"batch_size\": 256,\n",
        "    \"embed_dim\": 256,\n",
        "    \"num_heads\": 4,\n",
        "    \"num_layers\": 2,\n",
        "    \"dropout\": 0.1,\n",
        "    \"ff_dim\": 1024,\n",
        "    \"epochs\": 50\n",
        "}\n",
        "\n",
        "info = {\n",
        "    \"dataset_size\": \"500K\",\n",
        "    \"precision\": \"FP16\",\n",
        "    \"is_pre_training\": True,\n",
        "    \"model_name\": \"model_forth-run_epoch_140\",\n",
        "    \"dir_name\": \"dna-mutation-1M\"\n",
        "}"
      ]
    },
    {
      "cell_type": "code",
      "execution_count": 2,
      "metadata": {
        "colab": {
          "base_uri": "https://localhost:8080/"
        },
        "id": "nH3j5rWdaQ4c",
        "outputId": "01b13937-bca2-4c81-c6e3-7dbbbb9b9794"
      },
      "outputs": [
        {
          "name": "stdout",
          "output_type": "stream",
          "text": [
            "Mounted at /content/drive\n"
          ]
        }
      ],
      "source": [
        "from google.colab import drive\n",
        "drive.mount('/content/drive')"
      ]
    },
    {
      "cell_type": "code",
      "execution_count": 3,
      "metadata": {
        "colab": {
          "base_uri": "https://localhost:8080/"
        },
        "id": "V1v98WHCJoDO",
        "outputId": "2470e6e6-27ce-40e0-b499-61e44e2b6250"
      },
      "outputs": [
        {
          "data": {
            "text/plain": [
              "(1859483, 10)"
            ]
          },
          "execution_count": 3,
          "metadata": {},
          "output_type": "execute_result"
        }
      ],
      "source": [
        "import pandas as pd\n",
        "\n",
        "data_path = f\"/content/drive/MyDrive/dataset/data.csv\"\n",
        "\n",
        "fr_data = pd.read_csv(data_path)\n",
        "fr_data.shape"
      ]
    },
    {
      "cell_type": "code",
      "execution_count": 4,
      "metadata": {
        "colab": {
          "base_uri": "https://localhost:8080/",
          "height": 272
        },
        "id": "Zdm-sT9PvFHz",
        "outputId": "0aac52d8-9015-49c3-872d-aea0d25c111f"
      },
      "outputs": [
        {
          "data": {
            "text/html": [
              "<div>\n",
              "<style scoped>\n",
              "    .dataframe tbody tr th:only-of-type {\n",
              "        vertical-align: middle;\n",
              "    }\n",
              "\n",
              "    .dataframe tbody tr th {\n",
              "        vertical-align: top;\n",
              "    }\n",
              "\n",
              "    .dataframe thead th {\n",
              "        text-align: right;\n",
              "    }\n",
              "</style>\n",
              "<table border=\"1\" class=\"dataframe\">\n",
              "  <thead>\n",
              "    <tr style=\"text-align: right;\">\n",
              "      <th></th>\n",
              "      <th>count</th>\n",
              "    </tr>\n",
              "    <tr>\n",
              "      <th>label</th>\n",
              "      <th></th>\n",
              "    </tr>\n",
              "  </thead>\n",
              "  <tbody>\n",
              "    <tr>\n",
              "      <th>2</th>\n",
              "      <td>576885</td>\n",
              "    </tr>\n",
              "    <tr>\n",
              "      <th>1</th>\n",
              "      <td>317319</td>\n",
              "    </tr>\n",
              "    <tr>\n",
              "      <th>0</th>\n",
              "      <td>59551</td>\n",
              "    </tr>\n",
              "    <tr>\n",
              "      <th>4</th>\n",
              "      <td>24399</td>\n",
              "    </tr>\n",
              "    <tr>\n",
              "      <th>3</th>\n",
              "      <td>21846</td>\n",
              "    </tr>\n",
              "  </tbody>\n",
              "</table>\n",
              "</div><br><label><b>dtype:</b> int64</label>"
            ],
            "text/plain": [
              "label\n",
              "2    576885\n",
              "1    317319\n",
              "0     59551\n",
              "4     24399\n",
              "3     21846\n",
              "Name: count, dtype: int64"
            ]
          },
          "execution_count": 4,
          "metadata": {},
          "output_type": "execute_result"
        }
      ],
      "source": [
        "data = fr_data.sample(1000000)\n",
        "data['label'].value_counts()"
      ]
    },
    {
      "cell_type": "code",
      "execution_count": 5,
      "metadata": {
        "colab": {
          "base_uri": "https://localhost:8080/"
        },
        "id": "zbkaXim5vFHz",
        "outputId": "1e9b2f4f-3a88-46d6-d27a-4cabad9098d2"
      },
      "outputs": [
        {
          "data": {
            "text/plain": [
              "(1000000, 10)"
            ]
          },
          "execution_count": 5,
          "metadata": {},
          "output_type": "execute_result"
        }
      ],
      "source": [
        "data.shape"
      ]
    },
    {
      "cell_type": "code",
      "execution_count": 24,
      "metadata": {
        "id": "wR3jf-oAJ2PE"
      },
      "outputs": [],
      "source": [
        "x = data['sequence'].reset_index(drop=True)\n",
        "y = data['label'].reset_index(drop=True)"
      ]
    },
    {
      "cell_type": "code",
      "execution_count": 41,
      "metadata": {
        "id": "j-XikXuLJ2M1"
      },
      "outputs": [],
      "source": [
        "def get_codon(seq, k=3):\n",
        "    return [seq[i:i+k] for i in range(len(seq) - k + 1)]\n",
        "\n",
        "vocab = {'<PAD>': 0, '<UNK>': 1}\n",
        "\n",
        "for seq in data['sequence']:\n",
        "    for codons in get_codon(seq.lower()):\n",
        "        if codons not in vocab:\n",
        "            vocab[codons] = len(vocab)\n",
        "        else:\n",
        "            continue\n",
        "\n",
        "def get_tensor(text):\n",
        "    return [vocab.get(codons.lower(), vocab['<UNK>']) for codons in get_codon(text)]"
      ]
    },
    {
      "cell_type": "code",
      "execution_count": 42,
      "metadata": {
        "id": "3dzO0_F0J2Kw"
      },
      "outputs": [],
      "source": [
        "import torch\n",
        "from torch import nn, optim\n",
        "from torch.utils.data import Dataset, DataLoader, random_split\n",
        "\n",
        "class CustomDataset(Dataset):\n",
        "  def __init__(self, x, y):\n",
        "    self.x_frame = x\n",
        "    self.y_frame = y\n",
        "\n",
        "  def __len__(self):\n",
        "    return len(self.x_frame)\n",
        "\n",
        "  def __getitem__(self, index):\n",
        "    x = torch.tensor(get_tensor(self.x_frame[index]), dtype=torch.long)\n",
        "    y = torch.tensor(self.y_frame[index], dtype=torch.long)\n",
        "    return x, y"
      ]
    },
    {
      "cell_type": "code",
      "execution_count": 43,
      "metadata": {
        "id": "YxR8TknxJ2Io"
      },
      "outputs": [],
      "source": [
        "dataset = CustomDataset(x, y)"
      ]
    },
    {
      "cell_type": "code",
      "execution_count": 44,
      "metadata": {
        "id": "QF1Z099wJ2Gb"
      },
      "outputs": [],
      "source": [
        "train_size = int(0.8 * len(dataset))\n",
        "test_size = len(dataset) - train_size\n",
        "\n",
        "train_dataset, test_dataset = random_split(dataset, [train_size, test_size])"
      ]
    },
    {
      "cell_type": "code",
      "execution_count": 45,
      "metadata": {
        "id": "wOWyu19_J2EZ"
      },
      "outputs": [],
      "source": [
        "train_loader = DataLoader(train_dataset, batch_size=hyperparameters['batch_size'], shuffle=True)\n",
        "test_loader = DataLoader(test_dataset, batch_size=hyperparameters['batch_size'])"
      ]
    },
    {
      "cell_type": "code",
      "execution_count": 46,
      "metadata": {
        "id": "MJTZAUbQJ2Ca"
      },
      "outputs": [],
      "source": [
        "import math\n",
        "\n",
        "class PositionalEncoding(nn.Module):\n",
        "    def __init__(self, embed_dim, max_len=5000):\n",
        "        super().__init__()\n",
        "\n",
        "        pe = torch.zeros(max_len, embed_dim)\n",
        "        position = torch.arange(0, max_len).unsqueeze(1)\n",
        "\n",
        "        div_term = torch.exp((torch.arange(0, embed_dim, 2)) * (-math.log(10000.0) / embed_dim))\n",
        "\n",
        "        pe[:, 0::2] = torch.sin(position * div_term)\n",
        "        pe[:, 1::2] = torch.cos(position * div_term)\n",
        "\n",
        "        pe = pe.unsqueeze(0)\n",
        "        self.register_buffer('pe', pe)\n",
        "\n",
        "    def forward(self, x):\n",
        "        x = x + self.pe[:, :x.size(1), :].to(x.device)\n",
        "        return x\n",
        "\n",
        "class Transformer(nn.Module):\n",
        "    def __init__(self, embed_dim=512, num_heads=8, num_layers=6, ff_dim=2048, dropout=0.1, vocab_size=10000, max_len=5000):\n",
        "        super(Transformer, self).__init__()\n",
        "        self.embeddings = nn.Embedding(vocab_size, embed_dim)\n",
        "        self.position_encoding = PositionalEncoding(embed_dim=embed_dim, max_len=max_len)\n",
        "\n",
        "        encoder_layer = nn.TransformerEncoderLayer(\n",
        "            d_model=embed_dim,\n",
        "            nhead=num_heads,\n",
        "            dim_feedforward=ff_dim,\n",
        "            dropout=dropout,\n",
        "            batch_first=True\n",
        "        )\n",
        "        self.encoder = nn.TransformerEncoder(\n",
        "            encoder_layer=encoder_layer,\n",
        "            num_layers=num_layers\n",
        "        )\n",
        "\n",
        "        self.y_labels_out = nn.Linear(embed_dim, 5)\n",
        "\n",
        "    def forward(self, x):\n",
        "        x = self.embeddings(x)\n",
        "        x = self.position_encoding(x)\n",
        "\n",
        "        x = self.encoder(x)\n",
        "        x = x.mean(dim=1)\n",
        "\n",
        "        y_label_out = self.y_labels_out(x)\n",
        "        return y_label_out"
      ]
    },
    {
      "cell_type": "code",
      "execution_count": 47,
      "metadata": {
        "id": "3y4bHJVbJ2AQ"
      },
      "outputs": [],
      "source": [
        "model = Transformer(\n",
        "    embed_dim=hyperparameters['embed_dim'],\n",
        "    num_heads=hyperparameters['num_heads'],\n",
        "    num_layers=hyperparameters['num_layers'],\n",
        "    ff_dim=hyperparameters['ff_dim'],\n",
        "    dropout=hyperparameters['dropout'],\n",
        "    vocab_size=len(vocab),\n",
        "    max_len=200\n",
        ")"
      ]
    },
    {
      "cell_type": "code",
      "execution_count": 48,
      "metadata": {
        "id": "Ar1xzu7uxbul"
      },
      "outputs": [],
      "source": [
        "checkpoint = torch.load(f\"/content/drive/MyDrive/{info['dir_name']}/{info['model_name']}.pth\")"
      ]
    },
    {
      "cell_type": "code",
      "execution_count": 49,
      "metadata": {
        "colab": {
          "base_uri": "https://localhost:8080/"
        },
        "id": "QPqRDuhmxjxl",
        "outputId": "8410ef9e-f389-4214-f32b-81cbba18203e"
      },
      "outputs": [
        {
          "data": {
            "text/plain": [
              "<All keys matched successfully>"
            ]
          },
          "execution_count": 49,
          "metadata": {},
          "output_type": "execute_result"
        }
      ],
      "source": [
        "model.load_state_dict(checkpoint['model_state_dict'])"
      ]
    },
    {
      "cell_type": "code",
      "execution_count": 50,
      "metadata": {
        "colab": {
          "base_uri": "https://localhost:8080/"
        },
        "id": "q00nuF8HJ1-H",
        "outputId": "d995a39f-73c7-49dc-a9f7-e2ba74814c7b"
      },
      "outputs": [
        {
          "data": {
            "text/plain": [
              "Transformer(\n",
              "  (embeddings): Embedding(66, 256)\n",
              "  (position_encoding): PositionalEncoding()\n",
              "  (encoder): TransformerEncoder(\n",
              "    (layers): ModuleList(\n",
              "      (0-1): 2 x TransformerEncoderLayer(\n",
              "        (self_attn): MultiheadAttention(\n",
              "          (out_proj): NonDynamicallyQuantizableLinear(in_features=256, out_features=256, bias=True)\n",
              "        )\n",
              "        (linear1): Linear(in_features=256, out_features=1024, bias=True)\n",
              "        (dropout): Dropout(p=0.1, inplace=False)\n",
              "        (linear2): Linear(in_features=1024, out_features=256, bias=True)\n",
              "        (norm1): LayerNorm((256,), eps=1e-05, elementwise_affine=True)\n",
              "        (norm2): LayerNorm((256,), eps=1e-05, elementwise_affine=True)\n",
              "        (dropout1): Dropout(p=0.1, inplace=False)\n",
              "        (dropout2): Dropout(p=0.1, inplace=False)\n",
              "      )\n",
              "    )\n",
              "  )\n",
              "  (y_labels_out): Linear(in_features=256, out_features=5, bias=True)\n",
              ")"
            ]
          },
          "execution_count": 50,
          "metadata": {},
          "output_type": "execute_result"
        }
      ],
      "source": [
        "device = torch.device(\"cuda\" if torch.cuda.is_available() else \"cpu\")\n",
        "model.to(device)"
      ]
    },
    {
      "cell_type": "code",
      "execution_count": 51,
      "metadata": {
        "colab": {
          "base_uri": "https://localhost:8080/"
        },
        "id": "V2Qa9JHAKI1-",
        "outputId": "8478aa97-69bc-41fc-f5c5-d34482385d31"
      },
      "outputs": [
        {
          "data": {
            "text/plain": [
              "device(type='cuda')"
            ]
          },
          "execution_count": 51,
          "metadata": {},
          "output_type": "execute_result"
        }
      ],
      "source": [
        "device"
      ]
    },
    {
      "cell_type": "code",
      "execution_count": 52,
      "metadata": {
        "colab": {
          "base_uri": "https://localhost:8080/"
        },
        "id": "5_4lFoaqKIz4",
        "outputId": "5c67510c-9024-47d8-d778-17785f99be96"
      },
      "outputs": [
        {
          "name": "stdout",
          "output_type": "stream",
          "text": [
            "Total trainable parameters: 1597701\n"
          ]
        }
      ],
      "source": [
        "num_params = sum(p.numel() for p in model.parameters() if p.requires_grad)\n",
        "print(f\"Total trainable parameters: {num_params}\")"
      ]
    },
    {
      "cell_type": "code",
      "execution_count": 53,
      "metadata": {
        "colab": {
          "base_uri": "https://localhost:8080/"
        },
        "id": "tDYvfOC7KIxu",
        "outputId": "482212e5-2883-4e71-cf1e-07a0211d7e17"
      },
      "outputs": [
        {
          "name": "stdout",
          "output_type": "stream",
          "text": [
            "Optimizer loaded\n"
          ]
        },
        {
          "name": "stderr",
          "output_type": "stream",
          "text": [
            "/tmp/ipython-input-3077670767.py:5: FutureWarning: `torch.cuda.amp.GradScaler(args...)` is deprecated. Please use `torch.amp.GradScaler('cuda', args...)` instead.\n",
            "  scaler = torch.cuda.amp.GradScaler()\n"
          ]
        }
      ],
      "source": [
        "from transformers import get_linear_schedule_with_warmup\n",
        "\n",
        "ce = nn.CrossEntropyLoss()\n",
        "optimizer = torch.optim.Adam(model.parameters(), lr=hyperparameters['learning_rate'], weight_decay=1e-4)\n",
        "scaler = torch.cuda.amp.GradScaler()\n",
        "\n",
        "if info['is_pre_training']:\n",
        "  optimizer.load_state_dict(checkpoint['optimizer_state_dict'])\n",
        "  print(\"Optimizer loaded\")\n",
        "\n",
        "num_training_steps = len(train_loader) * hyperparameters['epochs']\n",
        "num_warmup_steps = 500\n",
        "\n",
        "scheduler = get_linear_schedule_with_warmup(\n",
        "    optimizer,\n",
        "    num_warmup_steps=num_warmup_steps,\n",
        "    num_training_steps=num_training_steps\n",
        ")"
      ]
    },
    {
      "cell_type": "code",
      "execution_count": 54,
      "metadata": {
        "id": "3YrLO_deKIvu"
      },
      "outputs": [],
      "source": [
        "def train32(model, loader, ce, optimizer):\n",
        "    model.train()\n",
        "\n",
        "    running_loss, correct, total = 0.0, 0, 0\n",
        "\n",
        "    for x, y in loader:\n",
        "        optimizer.zero_grad()\n",
        "\n",
        "        x = x.to(device)\n",
        "        y = y.to(device)\n",
        "\n",
        "        output = model(x)\n",
        "        loss = ce(output, y)\n",
        "\n",
        "        prediction = torch.argmax(output, dim=1)\n",
        "        correct += (prediction == y).sum().item()\n",
        "        total += len(x)\n",
        "\n",
        "        loss.backward()\n",
        "\n",
        "        optimizer.step()\n",
        "\n",
        "        running_loss += loss.item() * len(x)\n",
        "\n",
        "    accuracy = correct / total\n",
        "\n",
        "    return (\n",
        "        running_loss / len(loader.dataset),\n",
        "        accuracy\n",
        "    )\n",
        "\n",
        "def train16(model, loader, ce, optimizer, scaler, scheduler):\n",
        "    model.train()\n",
        "    running_loss, correct, total = 0.0, 0, 0\n",
        "\n",
        "    for x, y in loader:\n",
        "        optimizer.zero_grad()\n",
        "        x = x.to(device)\n",
        "        y = y.to(device)\n",
        "\n",
        "        with torch.cuda.amp.autocast(dtype=torch.float16):\n",
        "            output = model(x)\n",
        "            loss = ce(output, y)\n",
        "\n",
        "        prediction = torch.argmax(output, dim=1)\n",
        "        correct += (prediction == y).sum().item()\n",
        "        total += len(x)\n",
        "\n",
        "        scaler.scale(loss).backward()\n",
        "        scaler.step(optimizer)\n",
        "        scaler.update()\n",
        "\n",
        "        scheduler.step()\n",
        "\n",
        "        running_loss += loss.item() * len(x)\n",
        "\n",
        "    accuracy = correct / total\n",
        "    return (\n",
        "        running_loss / len(loader.dataset),\n",
        "        accuracy\n",
        "    )"
      ]
    },
    {
      "cell_type": "code",
      "execution_count": 55,
      "metadata": {
        "id": "hK6At-_VKItX"
      },
      "outputs": [],
      "source": [
        "def validation(model, loader, ce):\n",
        "    model.eval()\n",
        "\n",
        "    running_loss, correct, total = 0.0, 0, 0\n",
        "\n",
        "    with torch.no_grad():\n",
        "        for x, y in loader:\n",
        "            x = x.to(device)\n",
        "            y = y.to(device)\n",
        "\n",
        "            if info['precision'] == 'FP16':\n",
        "              with torch.cuda.amp.autocast(dtype=torch.float16):\n",
        "                  output = model(x)\n",
        "                  loss = ce(output, y)\n",
        "            else:\n",
        "              output = model(x)\n",
        "              loss = ce(output, y)\n",
        "\n",
        "            running_loss += loss.item() * len(x)\n",
        "\n",
        "            prediction = torch.argmax(output, dim=1)\n",
        "            correct += (prediction == y).sum().item()\n",
        "\n",
        "            total += len(x)\n",
        "\n",
        "    accuracy = correct / total\n",
        "\n",
        "    return (\n",
        "        running_loss / len(loader.dataset),\n",
        "        accuracy\n",
        "    )"
      ]
    },
    {
      "cell_type": "code",
      "execution_count": 57,
      "metadata": {
        "colab": {
          "base_uri": "https://localhost:8080/",
          "height": 1000
        },
        "id": "2mL_srk1KQNu",
        "outputId": "67a9e67c-b04a-483d-cc04-ab0e81fdac4a"
      },
      "outputs": [
        {
          "name": "stderr",
          "output_type": "stream",
          "text": [
            "/tmp/ipython-input-2163399810.py:41: FutureWarning: `torch.cuda.amp.autocast(args...)` is deprecated. Please use `torch.amp.autocast('cuda', args...)` instead.\n",
            "  with torch.cuda.amp.autocast(dtype=torch.float16):\n",
            "/tmp/ipython-input-260272857.py:12: FutureWarning: `torch.cuda.amp.autocast(args...)` is deprecated. Please use `torch.amp.autocast('cuda', args...)` instead.\n",
            "  with torch.cuda.amp.autocast(dtype=torch.float16):\n"
          ]
        },
        {
          "name": "stdout",
          "output_type": "stream",
          "text": [
            "Epoch (85/50): Train Loss = 0.7853, Valitation Loss = 0.7843, Train_acc = 0.7155, Val_acc = 0.7191\n",
            "Epoch (86/50): Train Loss = 0.7779, Valitation Loss = 0.7836, Train_acc = 0.7182, Val_acc = 0.7188\n",
            "Epoch (87/50): Train Loss = 0.7714, Valitation Loss = 0.7737, Train_acc = 0.7212, Val_acc = 0.7220\n",
            "Epoch (88/50): Train Loss = 0.7654, Valitation Loss = 0.7775, Train_acc = 0.7238, Val_acc = 0.7172\n",
            "No improvement in val loss Counter = 1/10\n",
            "Epoch (89/50): Train Loss = 0.7614, Valitation Loss = 0.7620, Train_acc = 0.7257, Val_acc = 0.7253\n",
            "Epoch (90/50): Train Loss = 0.7565, Valitation Loss = 0.7561, Train_acc = 0.7279, Val_acc = 0.7289\n",
            "Model saved at /content/drive/MyDrive/dna-mutation-500K/model_model_forth-run_epoch_140_epoch_90.pth\n",
            "Epoch (91/50): Train Loss = 0.7529, Valitation Loss = 0.7640, Train_acc = 0.7288, Val_acc = 0.7261\n",
            "No improvement in val loss Counter = 1/10\n",
            "Epoch (92/50): Train Loss = 0.7493, Valitation Loss = 0.7664, Train_acc = 0.7304, Val_acc = 0.7280\n",
            "No improvement in val loss Counter = 2/10\n",
            "Epoch (93/50): Train Loss = 0.7458, Valitation Loss = 0.7583, Train_acc = 0.7322, Val_acc = 0.7302\n",
            "No improvement in val loss Counter = 3/10\n",
            "Epoch (94/50): Train Loss = 0.7423, Valitation Loss = 0.7501, Train_acc = 0.7337, Val_acc = 0.7329\n",
            "Epoch (95/50): Train Loss = 0.7394, Valitation Loss = 0.7437, Train_acc = 0.7351, Val_acc = 0.7351\n",
            "Epoch (96/50): Train Loss = 0.7362, Valitation Loss = 0.7423, Train_acc = 0.7363, Val_acc = 0.7360\n",
            "Epoch (97/50): Train Loss = 0.7336, Valitation Loss = 0.7425, Train_acc = 0.7375, Val_acc = 0.7370\n",
            "No improvement in val loss Counter = 1/10\n",
            "Epoch (98/50): Train Loss = 0.7313, Valitation Loss = 0.7424, Train_acc = 0.7386, Val_acc = 0.7352\n",
            "No improvement in val loss Counter = 2/10\n",
            "Epoch (99/50): Train Loss = 0.7287, Valitation Loss = 0.7372, Train_acc = 0.7396, Val_acc = 0.7380\n",
            "Epoch (100/50): Train Loss = 0.7263, Valitation Loss = 0.7366, Train_acc = 0.7406, Val_acc = 0.7394\n",
            "Model saved at /content/drive/MyDrive/dna-mutation-500K/model_model_forth-run_epoch_140_epoch_100.pth\n",
            "Epoch (101/50): Train Loss = 0.7238, Valitation Loss = 0.7361, Train_acc = 0.7415, Val_acc = 0.7401\n",
            "Epoch (102/50): Train Loss = 0.7225, Valitation Loss = 0.7333, Train_acc = 0.7422, Val_acc = 0.7396\n",
            "Epoch (103/50): Train Loss = 0.7202, Valitation Loss = 0.7323, Train_acc = 0.7433, Val_acc = 0.7408\n",
            "Epoch (104/50): Train Loss = 0.7178, Valitation Loss = 0.7330, Train_acc = 0.7442, Val_acc = 0.7417\n",
            "No improvement in val loss Counter = 1/10\n",
            "Epoch (105/50): Train Loss = 0.7162, Valitation Loss = 0.7338, Train_acc = 0.7445, Val_acc = 0.7403\n",
            "No improvement in val loss Counter = 2/10\n",
            "Epoch (106/50): Train Loss = 0.7146, Valitation Loss = 0.7262, Train_acc = 0.7454, Val_acc = 0.7437\n",
            "Epoch (107/50): Train Loss = 0.7126, Valitation Loss = 0.7351, Train_acc = 0.7462, Val_acc = 0.7402\n",
            "No improvement in val loss Counter = 1/10\n",
            "Epoch (108/50): Train Loss = 0.7111, Valitation Loss = 0.7308, Train_acc = 0.7469, Val_acc = 0.7426\n",
            "No improvement in val loss Counter = 2/10\n",
            "Epoch (109/50): Train Loss = 0.7091, Valitation Loss = 0.7279, Train_acc = 0.7475, Val_acc = 0.7444\n",
            "No improvement in val loss Counter = 3/10\n",
            "Epoch (110/50): Train Loss = 0.7072, Valitation Loss = 0.7235, Train_acc = 0.7487, Val_acc = 0.7441\n",
            "Model saved at /content/drive/MyDrive/dna-mutation-500K/model_model_forth-run_epoch_140_epoch_110.pth\n",
            "Epoch (111/50): Train Loss = 0.7062, Valitation Loss = 0.7250, Train_acc = 0.7491, Val_acc = 0.7440\n",
            "No improvement in val loss Counter = 1/10\n",
            "Epoch (112/50): Train Loss = 0.7046, Valitation Loss = 0.7265, Train_acc = 0.7495, Val_acc = 0.7436\n",
            "No improvement in val loss Counter = 2/10\n",
            "Epoch (113/50): Train Loss = 0.7031, Valitation Loss = 0.7213, Train_acc = 0.7502, Val_acc = 0.7451\n",
            "Epoch (114/50): Train Loss = 0.7020, Valitation Loss = 0.7214, Train_acc = 0.7510, Val_acc = 0.7451\n",
            "No improvement in val loss Counter = 1/10\n",
            "Epoch (115/50): Train Loss = 0.7003, Valitation Loss = 0.7274, Train_acc = 0.7517, Val_acc = 0.7432\n",
            "No improvement in val loss Counter = 2/10\n",
            "Epoch (116/50): Train Loss = 0.6986, Valitation Loss = 0.7236, Train_acc = 0.7523, Val_acc = 0.7457\n",
            "No improvement in val loss Counter = 3/10\n",
            "Epoch (117/50): Train Loss = 0.6975, Valitation Loss = 0.7213, Train_acc = 0.7528, Val_acc = 0.7461\n",
            "No improvement in val loss Counter = 4/10\n",
            "Epoch (118/50): Train Loss = 0.6962, Valitation Loss = 0.7197, Train_acc = 0.7536, Val_acc = 0.7466\n",
            "Epoch (119/50): Train Loss = 0.6950, Valitation Loss = 0.7178, Train_acc = 0.7539, Val_acc = 0.7464\n",
            "Epoch (120/50): Train Loss = 0.6937, Valitation Loss = 0.7187, Train_acc = 0.7544, Val_acc = 0.7471\n",
            "Model saved at /content/drive/MyDrive/dna-mutation-500K/model_model_forth-run_epoch_140_epoch_120.pth\n",
            "No improvement in val loss Counter = 1/10\n",
            "Epoch (121/50): Train Loss = 0.6927, Valitation Loss = 0.7184, Train_acc = 0.7552, Val_acc = 0.7480\n",
            "No improvement in val loss Counter = 2/10\n",
            "Epoch (122/50): Train Loss = 0.6913, Valitation Loss = 0.7174, Train_acc = 0.7555, Val_acc = 0.7484\n",
            "Epoch (123/50): Train Loss = 0.6902, Valitation Loss = 0.7179, Train_acc = 0.7560, Val_acc = 0.7482\n",
            "No improvement in val loss Counter = 1/10\n",
            "Epoch (124/50): Train Loss = 0.6892, Valitation Loss = 0.7163, Train_acc = 0.7565, Val_acc = 0.7484\n",
            "Epoch (125/50): Train Loss = 0.6882, Valitation Loss = 0.7147, Train_acc = 0.7566, Val_acc = 0.7486\n",
            "Epoch (126/50): Train Loss = 0.6875, Valitation Loss = 0.7158, Train_acc = 0.7575, Val_acc = 0.7489\n",
            "No improvement in val loss Counter = 1/10\n",
            "Epoch (127/50): Train Loss = 0.6862, Valitation Loss = 0.7146, Train_acc = 0.7579, Val_acc = 0.7489\n",
            "Epoch (128/50): Train Loss = 0.6854, Valitation Loss = 0.7144, Train_acc = 0.7581, Val_acc = 0.7487\n",
            "Epoch (129/50): Train Loss = 0.6847, Valitation Loss = 0.7144, Train_acc = 0.7584, Val_acc = 0.7487\n",
            "No improvement in val loss Counter = 1/10\n",
            "Epoch (130/50): Train Loss = 0.6846, Valitation Loss = 0.7144, Train_acc = 0.7583, Val_acc = 0.7487\n",
            "Model saved at /content/drive/MyDrive/dna-mutation-500K/model_model_forth-run_epoch_140_epoch_130.pth\n",
            "No improvement in val loss Counter = 2/10\n",
            "Epoch (131/50): Train Loss = 0.6852, Valitation Loss = 0.7144, Train_acc = 0.7580, Val_acc = 0.7487\n",
            "No improvement in val loss Counter = 3/10\n"
          ]
        },
        {
          "ename": "KeyboardInterrupt",
          "evalue": "",
          "output_type": "error",
          "traceback": [
            "\u001b[0;31m---------------------------------------------------------------------------\u001b[0m",
            "\u001b[0;31mKeyboardInterrupt\u001b[0m                         Traceback (most recent call last)",
            "\u001b[0;32m/tmp/ipython-input-143041775.py\u001b[0m in \u001b[0;36m<cell line: 0>\u001b[0;34m()\u001b[0m\n\u001b[1;32m     11\u001b[0m \u001b[0;32mfor\u001b[0m \u001b[0mepoch\u001b[0m \u001b[0;32min\u001b[0m \u001b[0mrange\u001b[0m\u001b[0;34m(\u001b[0m\u001b[0;36m84\u001b[0m\u001b[0;34m,\u001b[0m \u001b[0;36m150\u001b[0m\u001b[0;34m)\u001b[0m\u001b[0;34m:\u001b[0m\u001b[0;34m\u001b[0m\u001b[0;34m\u001b[0m\u001b[0m\n\u001b[1;32m     12\u001b[0m     \u001b[0;32mif\u001b[0m \u001b[0minfo\u001b[0m\u001b[0;34m[\u001b[0m\u001b[0;34m'precision'\u001b[0m\u001b[0;34m]\u001b[0m \u001b[0;34m==\u001b[0m \u001b[0;34m'FP16'\u001b[0m\u001b[0;34m:\u001b[0m\u001b[0;34m\u001b[0m\u001b[0;34m\u001b[0m\u001b[0m\n\u001b[0;32m---> 13\u001b[0;31m       train_loss, train_acc = train16(\n\u001b[0m\u001b[1;32m     14\u001b[0m             \u001b[0mmodel\u001b[0m\u001b[0;34m,\u001b[0m\u001b[0;34m\u001b[0m\u001b[0;34m\u001b[0m\u001b[0m\n\u001b[1;32m     15\u001b[0m             \u001b[0mtrain_loader\u001b[0m\u001b[0;34m,\u001b[0m\u001b[0;34m\u001b[0m\u001b[0;34m\u001b[0m\u001b[0m\n",
            "\u001b[0;32m/tmp/ipython-input-2163399810.py\u001b[0m in \u001b[0;36mtrain16\u001b[0;34m(model, loader, ce, optimizer, scaler, scheduler)\u001b[0m\n\u001b[1;32m     34\u001b[0m     \u001b[0mrunning_loss\u001b[0m\u001b[0;34m,\u001b[0m \u001b[0mcorrect\u001b[0m\u001b[0;34m,\u001b[0m \u001b[0mtotal\u001b[0m \u001b[0;34m=\u001b[0m \u001b[0;36m0.0\u001b[0m\u001b[0;34m,\u001b[0m \u001b[0;36m0\u001b[0m\u001b[0;34m,\u001b[0m \u001b[0;36m0\u001b[0m\u001b[0;34m\u001b[0m\u001b[0;34m\u001b[0m\u001b[0m\n\u001b[1;32m     35\u001b[0m \u001b[0;34m\u001b[0m\u001b[0m\n\u001b[0;32m---> 36\u001b[0;31m     \u001b[0;32mfor\u001b[0m \u001b[0mx\u001b[0m\u001b[0;34m,\u001b[0m \u001b[0my\u001b[0m \u001b[0;32min\u001b[0m \u001b[0mloader\u001b[0m\u001b[0;34m:\u001b[0m\u001b[0;34m\u001b[0m\u001b[0;34m\u001b[0m\u001b[0m\n\u001b[0m\u001b[1;32m     37\u001b[0m         \u001b[0moptimizer\u001b[0m\u001b[0;34m.\u001b[0m\u001b[0mzero_grad\u001b[0m\u001b[0;34m(\u001b[0m\u001b[0;34m)\u001b[0m\u001b[0;34m\u001b[0m\u001b[0;34m\u001b[0m\u001b[0m\n\u001b[1;32m     38\u001b[0m         \u001b[0mx\u001b[0m \u001b[0;34m=\u001b[0m \u001b[0mx\u001b[0m\u001b[0;34m.\u001b[0m\u001b[0mto\u001b[0m\u001b[0;34m(\u001b[0m\u001b[0mdevice\u001b[0m\u001b[0;34m)\u001b[0m\u001b[0;34m\u001b[0m\u001b[0;34m\u001b[0m\u001b[0m\n",
            "\u001b[0;32m/usr/local/lib/python3.12/dist-packages/torch/utils/data/dataloader.py\u001b[0m in \u001b[0;36m__next__\u001b[0;34m(self)\u001b[0m\n\u001b[1;32m    732\u001b[0m                 \u001b[0;31m# TODO(https://github.com/pytorch/pytorch/issues/76750)\u001b[0m\u001b[0;34m\u001b[0m\u001b[0;34m\u001b[0m\u001b[0m\n\u001b[1;32m    733\u001b[0m                 \u001b[0mself\u001b[0m\u001b[0;34m.\u001b[0m\u001b[0m_reset\u001b[0m\u001b[0;34m(\u001b[0m\u001b[0;34m)\u001b[0m  \u001b[0;31m# type: ignore[call-arg]\u001b[0m\u001b[0;34m\u001b[0m\u001b[0;34m\u001b[0m\u001b[0m\n\u001b[0;32m--> 734\u001b[0;31m             \u001b[0mdata\u001b[0m \u001b[0;34m=\u001b[0m \u001b[0mself\u001b[0m\u001b[0;34m.\u001b[0m\u001b[0m_next_data\u001b[0m\u001b[0;34m(\u001b[0m\u001b[0;34m)\u001b[0m\u001b[0;34m\u001b[0m\u001b[0;34m\u001b[0m\u001b[0m\n\u001b[0m\u001b[1;32m    735\u001b[0m             \u001b[0mself\u001b[0m\u001b[0;34m.\u001b[0m\u001b[0m_num_yielded\u001b[0m \u001b[0;34m+=\u001b[0m \u001b[0;36m1\u001b[0m\u001b[0;34m\u001b[0m\u001b[0;34m\u001b[0m\u001b[0m\n\u001b[1;32m    736\u001b[0m             if (\n",
            "\u001b[0;32m/usr/local/lib/python3.12/dist-packages/torch/utils/data/dataloader.py\u001b[0m in \u001b[0;36m_next_data\u001b[0;34m(self)\u001b[0m\n\u001b[1;32m    788\u001b[0m     \u001b[0;32mdef\u001b[0m \u001b[0m_next_data\u001b[0m\u001b[0;34m(\u001b[0m\u001b[0mself\u001b[0m\u001b[0;34m)\u001b[0m\u001b[0;34m:\u001b[0m\u001b[0;34m\u001b[0m\u001b[0;34m\u001b[0m\u001b[0m\n\u001b[1;32m    789\u001b[0m         \u001b[0mindex\u001b[0m \u001b[0;34m=\u001b[0m \u001b[0mself\u001b[0m\u001b[0;34m.\u001b[0m\u001b[0m_next_index\u001b[0m\u001b[0;34m(\u001b[0m\u001b[0;34m)\u001b[0m  \u001b[0;31m# may raise StopIteration\u001b[0m\u001b[0;34m\u001b[0m\u001b[0;34m\u001b[0m\u001b[0m\n\u001b[0;32m--> 790\u001b[0;31m         \u001b[0mdata\u001b[0m \u001b[0;34m=\u001b[0m \u001b[0mself\u001b[0m\u001b[0;34m.\u001b[0m\u001b[0m_dataset_fetcher\u001b[0m\u001b[0;34m.\u001b[0m\u001b[0mfetch\u001b[0m\u001b[0;34m(\u001b[0m\u001b[0mindex\u001b[0m\u001b[0;34m)\u001b[0m  \u001b[0;31m# may raise StopIteration\u001b[0m\u001b[0;34m\u001b[0m\u001b[0;34m\u001b[0m\u001b[0m\n\u001b[0m\u001b[1;32m    791\u001b[0m         \u001b[0;32mif\u001b[0m \u001b[0mself\u001b[0m\u001b[0;34m.\u001b[0m\u001b[0m_pin_memory\u001b[0m\u001b[0;34m:\u001b[0m\u001b[0;34m\u001b[0m\u001b[0;34m\u001b[0m\u001b[0m\n\u001b[1;32m    792\u001b[0m             \u001b[0mdata\u001b[0m \u001b[0;34m=\u001b[0m \u001b[0m_utils\u001b[0m\u001b[0;34m.\u001b[0m\u001b[0mpin_memory\u001b[0m\u001b[0;34m.\u001b[0m\u001b[0mpin_memory\u001b[0m\u001b[0;34m(\u001b[0m\u001b[0mdata\u001b[0m\u001b[0;34m,\u001b[0m \u001b[0mself\u001b[0m\u001b[0;34m.\u001b[0m\u001b[0m_pin_memory_device\u001b[0m\u001b[0;34m)\u001b[0m\u001b[0;34m\u001b[0m\u001b[0;34m\u001b[0m\u001b[0m\n",
            "\u001b[0;32m/usr/local/lib/python3.12/dist-packages/torch/utils/data/_utils/fetch.py\u001b[0m in \u001b[0;36mfetch\u001b[0;34m(self, possibly_batched_index)\u001b[0m\n\u001b[1;32m     48\u001b[0m         \u001b[0;32mif\u001b[0m \u001b[0mself\u001b[0m\u001b[0;34m.\u001b[0m\u001b[0mauto_collation\u001b[0m\u001b[0;34m:\u001b[0m\u001b[0;34m\u001b[0m\u001b[0;34m\u001b[0m\u001b[0m\n\u001b[1;32m     49\u001b[0m             \u001b[0;32mif\u001b[0m \u001b[0mhasattr\u001b[0m\u001b[0;34m(\u001b[0m\u001b[0mself\u001b[0m\u001b[0;34m.\u001b[0m\u001b[0mdataset\u001b[0m\u001b[0;34m,\u001b[0m \u001b[0;34m\"__getitems__\"\u001b[0m\u001b[0;34m)\u001b[0m \u001b[0;32mand\u001b[0m \u001b[0mself\u001b[0m\u001b[0;34m.\u001b[0m\u001b[0mdataset\u001b[0m\u001b[0;34m.\u001b[0m\u001b[0m__getitems__\u001b[0m\u001b[0;34m:\u001b[0m\u001b[0;34m\u001b[0m\u001b[0;34m\u001b[0m\u001b[0m\n\u001b[0;32m---> 50\u001b[0;31m                 \u001b[0mdata\u001b[0m \u001b[0;34m=\u001b[0m \u001b[0mself\u001b[0m\u001b[0;34m.\u001b[0m\u001b[0mdataset\u001b[0m\u001b[0;34m.\u001b[0m\u001b[0m__getitems__\u001b[0m\u001b[0;34m(\u001b[0m\u001b[0mpossibly_batched_index\u001b[0m\u001b[0;34m)\u001b[0m\u001b[0;34m\u001b[0m\u001b[0;34m\u001b[0m\u001b[0m\n\u001b[0m\u001b[1;32m     51\u001b[0m             \u001b[0;32melse\u001b[0m\u001b[0;34m:\u001b[0m\u001b[0;34m\u001b[0m\u001b[0;34m\u001b[0m\u001b[0m\n\u001b[1;32m     52\u001b[0m                 \u001b[0mdata\u001b[0m \u001b[0;34m=\u001b[0m \u001b[0;34m[\u001b[0m\u001b[0mself\u001b[0m\u001b[0;34m.\u001b[0m\u001b[0mdataset\u001b[0m\u001b[0;34m[\u001b[0m\u001b[0midx\u001b[0m\u001b[0;34m]\u001b[0m \u001b[0;32mfor\u001b[0m \u001b[0midx\u001b[0m \u001b[0;32min\u001b[0m \u001b[0mpossibly_batched_index\u001b[0m\u001b[0;34m]\u001b[0m\u001b[0;34m\u001b[0m\u001b[0;34m\u001b[0m\u001b[0m\n",
            "\u001b[0;32m/usr/local/lib/python3.12/dist-packages/torch/utils/data/dataset.py\u001b[0m in \u001b[0;36m__getitems__\u001b[0;34m(self, indices)\u001b[0m\n\u001b[1;32m    414\u001b[0m             \u001b[0;32mreturn\u001b[0m \u001b[0mself\u001b[0m\u001b[0;34m.\u001b[0m\u001b[0mdataset\u001b[0m\u001b[0;34m.\u001b[0m\u001b[0m__getitems__\u001b[0m\u001b[0;34m(\u001b[0m\u001b[0;34m[\u001b[0m\u001b[0mself\u001b[0m\u001b[0;34m.\u001b[0m\u001b[0mindices\u001b[0m\u001b[0;34m[\u001b[0m\u001b[0midx\u001b[0m\u001b[0;34m]\u001b[0m \u001b[0;32mfor\u001b[0m \u001b[0midx\u001b[0m \u001b[0;32min\u001b[0m \u001b[0mindices\u001b[0m\u001b[0;34m]\u001b[0m\u001b[0;34m)\u001b[0m  \u001b[0;31m# type: ignore[attr-defined]\u001b[0m\u001b[0;34m\u001b[0m\u001b[0;34m\u001b[0m\u001b[0m\n\u001b[1;32m    415\u001b[0m         \u001b[0;32melse\u001b[0m\u001b[0;34m:\u001b[0m\u001b[0;34m\u001b[0m\u001b[0;34m\u001b[0m\u001b[0m\n\u001b[0;32m--> 416\u001b[0;31m             \u001b[0;32mreturn\u001b[0m \u001b[0;34m[\u001b[0m\u001b[0mself\u001b[0m\u001b[0;34m.\u001b[0m\u001b[0mdataset\u001b[0m\u001b[0;34m[\u001b[0m\u001b[0mself\u001b[0m\u001b[0;34m.\u001b[0m\u001b[0mindices\u001b[0m\u001b[0;34m[\u001b[0m\u001b[0midx\u001b[0m\u001b[0;34m]\u001b[0m\u001b[0;34m]\u001b[0m \u001b[0;32mfor\u001b[0m \u001b[0midx\u001b[0m \u001b[0;32min\u001b[0m \u001b[0mindices\u001b[0m\u001b[0;34m]\u001b[0m\u001b[0;34m\u001b[0m\u001b[0;34m\u001b[0m\u001b[0m\n\u001b[0m\u001b[1;32m    417\u001b[0m \u001b[0;34m\u001b[0m\u001b[0m\n\u001b[1;32m    418\u001b[0m     \u001b[0;32mdef\u001b[0m \u001b[0m__len__\u001b[0m\u001b[0;34m(\u001b[0m\u001b[0mself\u001b[0m\u001b[0;34m)\u001b[0m\u001b[0;34m:\u001b[0m\u001b[0;34m\u001b[0m\u001b[0;34m\u001b[0m\u001b[0m\n",
            "\u001b[0;32m/tmp/ipython-input-3579185275.py\u001b[0m in \u001b[0;36m__getitem__\u001b[0;34m(self, index)\u001b[0m\n\u001b[1;32m     12\u001b[0m \u001b[0;34m\u001b[0m\u001b[0m\n\u001b[1;32m     13\u001b[0m   \u001b[0;32mdef\u001b[0m \u001b[0m__getitem__\u001b[0m\u001b[0;34m(\u001b[0m\u001b[0mself\u001b[0m\u001b[0;34m,\u001b[0m \u001b[0mindex\u001b[0m\u001b[0;34m)\u001b[0m\u001b[0;34m:\u001b[0m\u001b[0;34m\u001b[0m\u001b[0;34m\u001b[0m\u001b[0m\n\u001b[0;32m---> 14\u001b[0;31m     \u001b[0mx\u001b[0m \u001b[0;34m=\u001b[0m \u001b[0mtorch\u001b[0m\u001b[0;34m.\u001b[0m\u001b[0mtensor\u001b[0m\u001b[0;34m(\u001b[0m\u001b[0mget_tensor\u001b[0m\u001b[0;34m(\u001b[0m\u001b[0mself\u001b[0m\u001b[0;34m.\u001b[0m\u001b[0mx_frame\u001b[0m\u001b[0;34m[\u001b[0m\u001b[0mindex\u001b[0m\u001b[0;34m]\u001b[0m\u001b[0;34m)\u001b[0m\u001b[0;34m,\u001b[0m \u001b[0mdtype\u001b[0m\u001b[0;34m=\u001b[0m\u001b[0mtorch\u001b[0m\u001b[0;34m.\u001b[0m\u001b[0mlong\u001b[0m\u001b[0;34m)\u001b[0m\u001b[0;34m\u001b[0m\u001b[0;34m\u001b[0m\u001b[0m\n\u001b[0m\u001b[1;32m     15\u001b[0m     \u001b[0my\u001b[0m \u001b[0;34m=\u001b[0m \u001b[0mtorch\u001b[0m\u001b[0;34m.\u001b[0m\u001b[0mtensor\u001b[0m\u001b[0;34m(\u001b[0m\u001b[0mself\u001b[0m\u001b[0;34m.\u001b[0m\u001b[0my_frame\u001b[0m\u001b[0;34m[\u001b[0m\u001b[0mindex\u001b[0m\u001b[0;34m]\u001b[0m\u001b[0;34m,\u001b[0m \u001b[0mdtype\u001b[0m\u001b[0;34m=\u001b[0m\u001b[0mtorch\u001b[0m\u001b[0;34m.\u001b[0m\u001b[0mlong\u001b[0m\u001b[0;34m)\u001b[0m\u001b[0;34m\u001b[0m\u001b[0;34m\u001b[0m\u001b[0m\n\u001b[1;32m     16\u001b[0m     \u001b[0;32mreturn\u001b[0m \u001b[0mx\u001b[0m\u001b[0;34m,\u001b[0m \u001b[0my\u001b[0m\u001b[0;34m\u001b[0m\u001b[0;34m\u001b[0m\u001b[0m\n",
            "\u001b[0;31mKeyboardInterrupt\u001b[0m: "
          ]
        }
      ],
      "source": [
        "import os\n",
        "\n",
        "patience = 10\n",
        "best_val_loss = float('inf')\n",
        "counter = 0\n",
        "early_stop = False\n",
        "\n",
        "save_dir = f\"/content/drive/MyDrive/{info['dir_name']}\"\n",
        "os.makedirs(save_dir, exist_ok=True)\n",
        "\n",
        "for epoch in range(84, 150):\n",
        "    if info['precision'] == 'FP16':\n",
        "      train_loss, train_acc = train16(\n",
        "            model,\n",
        "            train_loader,\n",
        "            ce,\n",
        "            optimizer,\n",
        "            scaler,\n",
        "            scheduler\n",
        "        )\n",
        "    else:\n",
        "      train_loss, train_acc = train32(\n",
        "          model,\n",
        "          train_loader,\n",
        "          ce,\n",
        "          optimizer\n",
        "      )\n",
        "\n",
        "    val_loss, val_acc = validation(\n",
        "        model,\n",
        "        test_loader,\n",
        "        ce\n",
        "    )\n",
        "\n",
        "    print(f\"Epoch ({epoch+1}/{hyperparameters['epochs']}): Train Loss = {train_loss:.4f}, Valitation Loss = {val_loss:.4f}, Train_acc = {train_acc:.4f}, Val_acc = {val_acc:.4f}\")\n",
        "\n",
        "    if (epoch+1) % 10 == 0:\n",
        "      checkpoint_path = f\"{save_dir}/model_{info['model_name']}_epoch_{epoch+1}.pth\"\n",
        "      torch.save({\n",
        "          'epoch': epoch+1,\n",
        "          'model_state_dict': model.state_dict(),\n",
        "          'optimizer_state_dict': optimizer.state_dict(),\n",
        "          'train_losses': train_loss,\n",
        "          'val_losses': val_loss\n",
        "      }, checkpoint_path)\n",
        "      print(f\"Model saved at {checkpoint_path}\")\n",
        "\n",
        "    if val_loss < best_val_loss:\n",
        "        best_val_loss = val_loss\n",
        "        counter = 0\n",
        "        continue\n",
        "    else:\n",
        "        counter += 1\n",
        "        print(f\"No improvement in val loss Counter = {counter}/{patience}\")\n",
        "        if counter >= patience:\n",
        "            print(\"Early stopping triggered!\")\n",
        "            early_stop = True\n",
        "            break"
      ]
    },
    {
      "cell_type": "code",
      "execution_count": 58,
      "metadata": {
        "colab": {
          "base_uri": "https://localhost:8080/"
        },
        "id": "iTgNsv_WKSKt",
        "outputId": "843b6874-5bd1-441e-ec42-f067a5efb97a"
      },
      "outputs": [
        {
          "name": "stdout",
          "output_type": "stream",
          "text": [
            "Classification Report for Label:\n",
            "              precision    recall  f1-score   support\n",
            "\n",
            "           0       0.45      0.08      0.13     11969\n",
            "           1       0.72      0.72      0.72     63391\n",
            "           2       0.77      0.88      0.83    115309\n",
            "           3       0.53      0.23      0.32      4436\n",
            "           4       0.38      0.07      0.12      4895\n",
            "\n",
            "    accuracy                           0.75    200000\n",
            "   macro avg       0.57      0.40      0.42    200000\n",
            "weighted avg       0.72      0.75      0.72    200000\n",
            "\n",
            "--------------------\n"
          ]
        }
      ],
      "source": [
        "from sklearn.metrics import classification_report\n",
        "\n",
        "def get_predictions_and_labels(model, loader):\n",
        "    model.eval()\n",
        "    all_y_true = []\n",
        "\n",
        "    all_y_pred = []\n",
        "\n",
        "    with torch.no_grad():\n",
        "        for x, y in loader:\n",
        "            x = x.to(device)\n",
        "            y = y.to(device)\n",
        "\n",
        "            output = model(x)\n",
        "\n",
        "            _, prediction = torch.max(output, 1)\n",
        "\n",
        "            all_y_true.extend(y.cpu().numpy())\n",
        "\n",
        "            all_y_pred.extend(prediction.cpu().numpy())\n",
        "\n",
        "    return (all_y_true, all_y_pred)\n",
        "\n",
        "y_true, y_pred = get_predictions_and_labels(model, test_loader)\n",
        "\n",
        "print(\"Classification Report for Label:\")\n",
        "print(classification_report(y_true, y_pred))\n",
        "print(\"-\"*20)"
      ]
    },
    {
      "cell_type": "code",
      "execution_count": 3,
      "metadata": {
        "colab": {
          "base_uri": "https://localhost:8080/",
          "height": 898
        },
        "id": "7-5hlNhuRa8U",
        "outputId": "13a2d61e-0ded-45f9-a5e8-4098da89d028"
      },
      "outputs": [
        {
          "data": {
            "image/png": "[encoded data removed]",
            "text/plain": [
              "<Figure size 1400x600 with 2 Axes>"
            ]
          },
          "metadata": {},
          "output_type": "display_data"
        }
      ],
      "source": [
        "import matplotlib.pyplot as plt\n",
        "\n",
        "# Existing data (33 epochs)\n",
        "train_loss = [1.0323, 0.9969, 0.9861, 0.9802, 0.9735, 0.9655, 0.9586, 0.9532, 0.9484, 0.9431,\n",
        "              0.9371, 0.9311, 0.9259, 0.9200, 0.9149, 0.9108, 0.9068, 0.9038, 0.9012, 0.8984,\n",
        "              0.8964, 0.8930, 0.8912, 0.8886, 0.8865, 0.8837, 0.8811, 0.8779, 0.8752, 0.8714,\n",
        "              0.8682, 0.8645, 0.8613]\n",
        "\n",
        "val_loss = [1.0027, 0.9846, 0.9824, 0.9761, 0.9694, 0.9577, 0.9522, 0.9510, 0.9445, 0.9406,\n",
        "            0.9336, 0.9260, 0.9250, 0.9158, 0.9175, 0.9073, 0.9073, 0.9002, 0.8983, 0.8974,\n",
        "            0.8995, 0.8957, 0.8911, 0.8895, 0.8912, 0.8890, 0.8839, 0.8811, 0.8817, 0.8733,\n",
        "            0.8712, 0.8681, 0.8668]\n",
        "\n",
        "train_acc = [0.5718, 0.5883, 0.5917, 0.5942, 0.5971, 0.6007, 0.6035, 0.6070, 0.6096, 0.6137,\n",
        "             0.6173, 0.6212, 0.6254, 0.6290, 0.6319, 0.6353, 0.6380, 0.6395, 0.6404, 0.6422,\n",
        "             0.6439, 0.6456, 0.6472, 0.6494, 0.6499, 0.6517, 0.6533, 0.6556, 0.6574, 0.6600,\n",
        "             0.6622, 0.6641, 0.6659]\n",
        "\n",
        "val_acc = [0.5863, 0.5926, 0.5948, 0.5948, 0.6003, 0.6035, 0.6063, 0.6090, 0.6132, 0.6165,\n",
        "           0.6211, 0.6246, 0.6267, 0.6322, 0.6339, 0.6362, 0.6365, 0.6420, 0.6432, 0.6427,\n",
        "           0.6420, 0.6440, 0.6467, 0.6478, 0.6468, 0.6502, 0.6515, 0.6540, 0.6518, 0.6579,\n",
        "           0.6595, 0.6622, 0.6626]\n",
        "\n",
        "# Additional data from epochs 85 to 144 (total 60 epochs)\n",
        "additional_train_loss = [\n",
        "    0.8766, 0.8734, 0.8660, 0.8588, 0.8499, 0.8415, 0.8339, 0.8269, 0.8206, 0.8153,\n",
        "    0.8093, 0.8046, 0.7991, 0.7964, 0.7918, 0.7879, 0.7847, 0.7811, 0.7772, 0.7744,\n",
        "    0.7717, 0.7684, 0.7658, 0.7629, 0.7608, 0.7582, 0.7559, 0.7541, 0.7516, 0.7491,\n",
        "    0.7475, 0.7459, 0.7437, 0.7419, 0.7412, 0.7383, 0.7375, 0.7359, 0.7341, 0.7324,\n",
        "    0.7309, 0.7299, 0.7289, 0.7279, 0.7260, 0.7250, 0.7238, 0.7229, 0.7217, 0.7210,\n",
        "    0.7205, 0.7205, 0.7205, 0.7206, 0.7203, 0.7202, 0.7201, 0.7204, 0.7202, 0.7201,\n",
        "    0.7853, 0.7779, 0.7714, 0.7654, 0.7614, 0.7565, 0.7529, 0.7493, 0.7458, 0.7423,\n",
        "    0.7394, 0.7362, 0.7336, 0.7313, 0.7287, 0.7263, 0.7238, 0.7225, 0.7202, 0.7178,\n",
        "    0.7162, 0.7146, 0.7126, 0.7111, 0.7091, 0.7072, 0.7062, 0.7046, 0.7031, 0.7020,\n",
        "    0.7003, 0.6986, 0.6975, 0.6962, 0.6950, 0.6937, 0.6927, 0.6913, 0.6902, 0.6892,\n",
        "    0.6882, 0.6875, 0.6862, 0.6854, 0.6847, 0.6846, 0.6852\n",
        "]\n",
        "\n",
        "additional_val_loss = [\n",
        "    0.8680, 0.8666, 0.8614, 0.8489, 0.8473, 0.8351, 0.8377, 0.8231, 0.8289, 0.8238,\n",
        "    0.8101, 0.8102, 0.8046, 0.8020, 0.8037, 0.8029, 0.7957, 0.7930, 0.7871, 0.7881,\n",
        "    0.7839, 0.7823, 0.7855, 0.7849, 0.7792, 0.7768, 0.7785, 0.7768, 0.7857, 0.7781,\n",
        "    0.7786, 0.7734, 0.7704, 0.7711, 0.7757, 0.7690, 0.7686, 0.7721, 0.7682, 0.7674,\n",
        "    0.7676, 0.7677, 0.7710, 0.7669, 0.7669, 0.7687, 0.7673, 0.7670, 0.7661, 0.7659,\n",
        "    0.7659, 0.7659, 0.7659, 0.7659, 0.7659, 0.7659, 0.7659, 0.7659, 0.7659, 0.7659,\n",
        "    0.7843, 0.7836, 0.7737, 0.7775, 0.7620, 0.7561, 0.7640, 0.7664, 0.7583, 0.7501,\n",
        "    0.7437, 0.7423, 0.7425, 0.7424, 0.7372, 0.7366, 0.7361, 0.7333, 0.7323, 0.7330,\n",
        "    0.7338, 0.7262, 0.7351, 0.7308, 0.7279, 0.7235, 0.7250, 0.7265, 0.7213, 0.7214,\n",
        "    0.7274, 0.7236, 0.7213, 0.7197, 0.7178, 0.7187, 0.7184, 0.7174, 0.7179, 0.7163,\n",
        "    0.7147, 0.7158, 0.7146, 0.7144, 0.7144, 0.7144, 0.7144\n",
        "]\n",
        "\n",
        "additional_train_acc = [\n",
        "    0.6569, 0.6589, 0.6636, 0.6688, 0.6752, 0.6810, 0.6859, 0.6899, 0.6944, 0.6976,\n",
        "    0.7009, 0.7041, 0.7071, 0.7093, 0.7112, 0.7138, 0.7148, 0.7174, 0.7191, 0.7206,\n",
        "    0.7216, 0.7236, 0.7244, 0.7262, 0.7273, 0.7289, 0.7294, 0.7305, 0.7316, 0.7328,\n",
        "    0.7336, 0.7335, 0.7352, 0.7360, 0.7363, 0.7373, 0.7381, 0.7388, 0.7393, 0.7406,\n",
        "    0.7412, 0.7414, 0.7420, 0.7428, 0.7434, 0.7437, 0.7445, 0.7448, 0.7455, 0.7457,\n",
        "    0.7457, 0.7458, 0.7460, 0.7460, 0.7461, 0.7464, 0.7461, 0.7461, 0.7458, 0.7463,\n",
        "    0.7155, 0.7182, 0.7212, 0.7238, 0.7257, 0.7279, 0.7288, 0.7304, 0.7322, 0.7337,\n",
        "    0.7351, 0.7363, 0.7375, 0.7386, 0.7396, 0.7406, 0.7415, 0.7422, 0.7433, 0.7442,\n",
        "    0.7445, 0.7454, 0.7462, 0.7469, 0.7475, 0.7487, 0.7491, 0.7495, 0.7502, 0.7510,\n",
        "    0.7517, 0.7523, 0.7528, 0.7536, 0.7539, 0.7544, 0.7552, 0.7555, 0.7560, 0.7565,\n",
        "    0.7566, 0.7575, 0.7579, 0.7581, 0.7584, 0.7583, 0.7580\n",
        "]\n",
        "\n",
        "additional_val_acc = [\n",
        "    0.6615, 0.6614, 0.6659, 0.6748, 0.6770, 0.6837, 0.6843, 0.6926, 0.6917, 0.6940,\n",
        "    0.7002, 0.7016, 0.7052, 0.7073, 0.7075, 0.7062, 0.7104, 0.7126, 0.7160, 0.7152,\n",
        "    0.7155, 0.7169, 0.7153, 0.7155, 0.7196, 0.7202, 0.7179, 0.7204, 0.7161, 0.7206,\n",
        "    0.7191, 0.7222, 0.7228, 0.7219, 0.7221, 0.7240, 0.7254, 0.7224, 0.7246, 0.7250,\n",
        "    0.7250, 0.7266, 0.7234, 0.7259, 0.7260, 0.7262, 0.7265, 0.7270, 0.7264, 0.7269,\n",
        "    0.7269, 0.7269, 0.7269, 0.7269, 0.7269, 0.7269, 0.7269, 0.7269, 0.7269, 0.7269,\n",
        "    0.7191, 0.7188, 0.7220, 0.7172, 0.7253, 0.7289, 0.7261, 0.7280, 0.7302, 0.7329,\n",
        "    0.7351, 0.7360, 0.7370, 0.7352, 0.7380, 0.7394, 0.7401, 0.7396, 0.7408, 0.7417,\n",
        "    0.7403, 0.7437, 0.7402, 0.7426, 0.7444, 0.7441, 0.7440, 0.7436, 0.7451, 0.7451,\n",
        "    0.7432, 0.7457, 0.7461, 0.7466, 0.7464, 0.7471, 0.7480, 0.7484, 0.7482, 0.7484,\n",
        "    0.7486, 0.7489, 0.7489, 0.7487, 0.7487, 0.7487, 0.7487\n",
        "]\n",
        "\n",
        "# Append additional values\n",
        "train_loss += additional_train_loss\n",
        "val_loss += additional_val_loss\n",
        "train_acc += additional_train_acc\n",
        "val_acc += additional_val_acc\n",
        "\n",
        "# Epochs\n",
        "epochs = list(range(1, len(train_loss) + 1))  # total epochs = 33 + 60 = 93\n",
        "\n",
        "# Plotting\n",
        "plt.figure(figsize=(14, 6))\n",
        "\n",
        "# Loss plot\n",
        "plt.subplot(1, 2, 1)\n",
        "plt.plot(epochs, train_loss, label='Train Loss', color='blue')\n",
        "plt.plot(epochs, val_loss, label='Validation Loss', color='orange')\n",
        "plt.title('Training vs Validation Loss')\n",
        "plt.xlabel('Epoch')\n",
        "plt.ylabel('Loss')\n",
        "plt.legend()\n",
        "plt.grid(True)\n",
        "\n",
        "# Accuracy plot\n",
        "plt.subplot(1, 2, 2)\n",
        "plt.plot(epochs, train_acc, label='Train Accuracy', color='green')\n",
        "plt.plot(epochs, val_acc, label='Validation Accuracy', color='red')\n",
        "plt.title('Training vs Validation Accuracy')\n",
        "plt.xlabel('Epoch')\n",
        "plt.ylabel('Accuracy')\n",
        "plt.legend()\n",
        "plt.grid(True)\n",
        "\n",
        "plt.tight_layout()\n",
        "plt.show()"
      ]
    },
    {
      "cell_type": "code",
      "execution_count": null,
      "metadata": {},
      "outputs": [],
      "source": []
    },
    {
      "cell_type": "code",
      "execution_count": null,
      "metadata": {
        "id": "LswWABw7gkDp"
      },
      "outputs": [],
      "source": []
    }
  ],
  "metadata": {
    "accelerator": "GPU",
    "colab": {
      "gpuType": "L4",
      "machine_shape": "hm",
      "provenance": []
    },
    "kernelspec": {
      "display_name": "Python 3",
      "name": "python3"
    },
    "language_info": {
      "codemirror_mode": {
        "name": "ipython",
        "version": 3
      },
      "file_extension": ".py",
      "mimetype": "text/x-python",
      "name": "python",
      "nbconvert_exporter": "python",
      "pygments_lexer": "ipython3",
      "version": "3.10.0"
    }
  },
  "nbformat": 4,
  "nbformat_minor": 0
}
