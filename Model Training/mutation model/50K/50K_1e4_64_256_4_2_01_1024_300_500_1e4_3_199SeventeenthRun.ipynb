{
  "cells": [
    {
      "cell_type": "code",
      "execution_count": 1,
      "metadata": {
        "id": "pGcWf4F5JcMc"
      },
      "outputs": [],
      "source": [
        "hyperparameters = {\n",
        "    \"learning_rate\": 1e-4,\n",
        "    \"batch_size\": 64,\n",
        "    \"embed_dim\": 256,\n",
        "    \"num_heads\": 4,\n",
        "    \"num_layers\": 2,\n",
        "    \"dropout\": 0.1,\n",
        "    \"ff_dim\": 1024,\n",
        "    \"epochs\": 300,\n",
        "    \"num_warmup_steps\": 500,\n",
        "    \"weight_decay\": 1e-4,\n",
        "    \"k-mers\": 3,\n",
        "    \"max_len\": 199\n",
        "}\n",
        "\n",
        "info = {\n",
        "    \"dataset_size\": \"50K\",\n",
        "    \"SMOTE\": {\n",
        "        \"isSmote\": True,\n",
        "        0: 16000,\n",
        "        3: 16000,\n",
        "        4: 16000,\n",
        "        1: 16000,\n",
        "    },\n",
        "    \"precision\": \"FP16\",\n",
        "    \"dir_name\": \"Mutation Model\",\n",
        "    \"run\": \"Seventeenth Run\",\n",
        "    \"loss\": {\n",
        "        \"type\": \"CB Weighted Cross Entropy Loss\",\n",
        "        \"alpha\": 0.75, # Removed\n",
        "        \"gamma\": 2\n",
        "    },\n",
        "    \"optimizer\": \"Adam\",\n",
        "    \"is_pre_training\": False\n",
        "}"
      ]
    },
    {
      "cell_type": "code",
      "execution_count": 2,
      "metadata": {
        "colab": {
          "base_uri": "https://localhost:8080/"
        },
        "id": "39nTODPl6tqB",
        "outputId": "764161ff-5206-44be-8d9e-a1b36a5c0684"
      },
      "outputs": [
        {
          "output_type": "stream",
          "name": "stdout",
          "text": [
            "Mounted at /content/drive\n"
          ]
        }
      ],
      "source": [
        "from google.colab import drive\n",
        "drive.mount('/content/drive')"
      ]
    },
    {
      "cell_type": "code",
      "execution_count": 3,
      "metadata": {
        "colab": {
          "base_uri": "https://localhost:8080/"
        },
        "id": "V1v98WHCJoDO",
        "outputId": "187fee1d-a70a-416e-ff66-73fa84f8e2da"
      },
      "outputs": [
        {
          "output_type": "execute_result",
          "data": {
            "text/plain": [
              "(50000, 10)"
            ]
          },
          "metadata": {},
          "execution_count": 3
        }
      ],
      "source": [
        "import pandas as pd\n",
        "\n",
        "data_path = f\"/content/drive/MyDrive/dataset/{info['dataset_size']}.csv\"\n",
        "\n",
        "data = pd.read_csv(data_path)\n",
        "data.shape"
      ]
    },
    {
      "cell_type": "code",
      "execution_count": 4,
      "metadata": {
        "colab": {
          "base_uri": "https://localhost:8080/",
          "height": 272
        },
        "id": "eqhNpoEKSZ3Q",
        "outputId": "710668f3-08b2-4056-af5b-8051f007c360"
      },
      "outputs": [
        {
          "output_type": "execute_result",
          "data": {
            "text/plain": [
              "label\n",
              "2    28892\n",
              "1    15847\n",
              "0     2911\n",
              "4     1223\n",
              "3     1127\n",
              "Name: count, dtype: int64"
            ],
            "text/html": [
              "<div>\n",
              "<style scoped>\n",
              "    .dataframe tbody tr th:only-of-type {\n",
              "        vertical-align: middle;\n",
              "    }\n",
              "\n",
              "    .dataframe tbody tr th {\n",
              "        vertical-align: top;\n",
              "    }\n",
              "\n",
              "    .dataframe thead th {\n",
              "        text-align: right;\n",
              "    }\n",
              "</style>\n",
              "<table border=\"1\" class=\"dataframe\">\n",
              "  <thead>\n",
              "    <tr style=\"text-align: right;\">\n",
              "      <th></th>\n",
              "      <th>count</th>\n",
              "    </tr>\n",
              "    <tr>\n",
              "      <th>label</th>\n",
              "      <th></th>\n",
              "    </tr>\n",
              "  </thead>\n",
              "  <tbody>\n",
              "    <tr>\n",
              "      <th>2</th>\n",
              "      <td>28892</td>\n",
              "    </tr>\n",
              "    <tr>\n",
              "      <th>1</th>\n",
              "      <td>15847</td>\n",
              "    </tr>\n",
              "    <tr>\n",
              "      <th>0</th>\n",
              "      <td>2911</td>\n",
              "    </tr>\n",
              "    <tr>\n",
              "      <th>4</th>\n",
              "      <td>1223</td>\n",
              "    </tr>\n",
              "    <tr>\n",
              "      <th>3</th>\n",
              "      <td>1127</td>\n",
              "    </tr>\n",
              "  </tbody>\n",
              "</table>\n",
              "</div><br><label><b>dtype:</b> int64</label>"
            ]
          },
          "metadata": {},
          "execution_count": 4
        }
      ],
      "source": [
        "data['label'].value_counts()"
      ]
    },
    {
      "cell_type": "code",
      "execution_count": 5,
      "metadata": {
        "id": "wR3jf-oAJ2PE"
      },
      "outputs": [],
      "source": [
        "y = data['label']"
      ]
    },
    {
      "cell_type": "code",
      "execution_count": 6,
      "metadata": {
        "id": "j-XikXuLJ2M1"
      },
      "outputs": [],
      "source": [
        "import pickle\n",
        "\n",
        "def get_codon(seq, k=hyperparameters['k-mers']):\n",
        "    return [seq[i:i+k] for i in range(len(seq) - k + 1)]\n",
        "\n",
        "vocab = {}\n",
        "\n",
        "for seq in data['sequence']:\n",
        "    for codons in get_codon(seq.lower()):\n",
        "        if codons not in vocab:\n",
        "            vocab[codons] = len(vocab)\n",
        "        else:\n",
        "            continue\n",
        "\n",
        "with open('vocab.pkl', 'wb') as f:\n",
        "    pickle.dump(vocab, f)\n",
        "\n",
        "def get_tensor(text):\n",
        "    return [vocab[codons.lower()] for codons in get_codon(text)]"
      ]
    },
    {
      "cell_type": "code",
      "source": [
        "import torch\n",
        "tokenized_sequences = [(torch.tensor(get_tensor(sq), dtype=torch.long)) for sq in data['sequence']]"
      ],
      "metadata": {
        "id": "eW7QRnEYxBMX"
      },
      "execution_count": 7,
      "outputs": []
    },
    {
      "cell_type": "code",
      "source": [
        "from imblearn.over_sampling import SMOTE\n",
        "import numpy as np\n",
        "\n",
        "smote = SMOTE(sampling_strategy = { 0: 16000, 1: 16000, 3: 16000, 4: 16000,}, random_state=42)"
      ],
      "metadata": {
        "id": "Fzf9aklCxBti"
      },
      "execution_count": 8,
      "outputs": []
    },
    {
      "cell_type": "code",
      "source": [
        "x_resampled, y_resampled = smote.fit_resample(tokenized_sequences, y)"
      ],
      "metadata": {
        "id": "XBIUNvvzxBrZ"
      },
      "execution_count": 9,
      "outputs": []
    },
    {
      "cell_type": "code",
      "source": [
        "from torch import nn, optim\n",
        "from torch.utils.data import Dataset, DataLoader, random_split\n",
        "\n",
        "class CustomDataset(Dataset):\n",
        "  def __init__(self, x, y):\n",
        "    self.x_frame = x\n",
        "    self.y_frame = y\n",
        "\n",
        "  def __len__(self):\n",
        "    return len(self.x_frame)\n",
        "\n",
        "  def __getitem__(self, index):\n",
        "    x = torch.tensor(self.x_frame[index], dtype=torch.long)\n",
        "    y = torch.tensor(self.y_frame[index], dtype=torch.long)\n",
        "    return x, y"
      ],
      "metadata": {
        "id": "dKMwMUZlxBpD"
      },
      "execution_count": 10,
      "outputs": []
    },
    {
      "cell_type": "code",
      "source": [
        "dataset = CustomDataset(x_resampled, y_resampled)"
      ],
      "metadata": {
        "id": "ZiWYCxl-xJEm"
      },
      "execution_count": 11,
      "outputs": []
    },
    {
      "cell_type": "code",
      "source": [
        "y_resampled.value_counts()"
      ],
      "metadata": {
        "id": "iX4_3wjIxLz8",
        "colab": {
          "base_uri": "https://localhost:8080/",
          "height": 272
        },
        "outputId": "d4ad2b33-407c-4a7f-f2c9-18634405d1a5"
      },
      "execution_count": 12,
      "outputs": [
        {
          "output_type": "execute_result",
          "data": {
            "text/plain": [
              "label\n",
              "2    28892\n",
              "1    16000\n",
              "0    16000\n",
              "3    16000\n",
              "4    16000\n",
              "Name: count, dtype: int64"
            ],
            "text/html": [
              "<div>\n",
              "<style scoped>\n",
              "    .dataframe tbody tr th:only-of-type {\n",
              "        vertical-align: middle;\n",
              "    }\n",
              "\n",
              "    .dataframe tbody tr th {\n",
              "        vertical-align: top;\n",
              "    }\n",
              "\n",
              "    .dataframe thead th {\n",
              "        text-align: right;\n",
              "    }\n",
              "</style>\n",
              "<table border=\"1\" class=\"dataframe\">\n",
              "  <thead>\n",
              "    <tr style=\"text-align: right;\">\n",
              "      <th></th>\n",
              "      <th>count</th>\n",
              "    </tr>\n",
              "    <tr>\n",
              "      <th>label</th>\n",
              "      <th></th>\n",
              "    </tr>\n",
              "  </thead>\n",
              "  <tbody>\n",
              "    <tr>\n",
              "      <th>2</th>\n",
              "      <td>28892</td>\n",
              "    </tr>\n",
              "    <tr>\n",
              "      <th>1</th>\n",
              "      <td>16000</td>\n",
              "    </tr>\n",
              "    <tr>\n",
              "      <th>0</th>\n",
              "      <td>16000</td>\n",
              "    </tr>\n",
              "    <tr>\n",
              "      <th>3</th>\n",
              "      <td>16000</td>\n",
              "    </tr>\n",
              "    <tr>\n",
              "      <th>4</th>\n",
              "      <td>16000</td>\n",
              "    </tr>\n",
              "  </tbody>\n",
              "</table>\n",
              "</div><br><label><b>dtype:</b> int64</label>"
            ]
          },
          "metadata": {},
          "execution_count": 12
        }
      ]
    },
    {
      "cell_type": "code",
      "execution_count": 13,
      "metadata": {
        "id": "YxR8TknxJ2Io"
      },
      "outputs": [],
      "source": [
        "dataset = CustomDataset(x_resampled, y_resampled)"
      ]
    },
    {
      "cell_type": "code",
      "execution_count": 14,
      "metadata": {
        "id": "QF1Z099wJ2Gb"
      },
      "outputs": [],
      "source": [
        "train_size = int(0.8 * len(dataset))\n",
        "test_size = len(dataset) - train_size\n",
        "\n",
        "train_dataset, test_dataset = random_split(dataset, [train_size, test_size])"
      ]
    },
    {
      "cell_type": "code",
      "execution_count": 15,
      "metadata": {
        "id": "2qHxLrY8aZEY"
      },
      "outputs": [],
      "source": [
        "train_loader = DataLoader(\n",
        "    train_dataset,\n",
        "    batch_size=hyperparameters['batch_size'],\n",
        "    shuffle=True\n",
        ")\n",
        "\n",
        "test_loader = DataLoader(test_dataset, batch_size=hyperparameters['batch_size'])"
      ]
    },
    {
      "cell_type": "code",
      "execution_count": 16,
      "metadata": {
        "id": "MJTZAUbQJ2Ca"
      },
      "outputs": [],
      "source": [
        "import math\n",
        "\n",
        "class PositionalEncoding(nn.Module):\n",
        "    def __init__(self, embed_dim, max_len=5000):\n",
        "        super().__init__()\n",
        "\n",
        "        pe = torch.zeros(max_len, embed_dim)\n",
        "        position = torch.arange(0, max_len).unsqueeze(1)\n",
        "\n",
        "        div_term = torch.exp((torch.arange(0, embed_dim, 2)) * (-math.log(10000.0) / embed_dim))\n",
        "\n",
        "        pe[:, 0::2] = torch.sin(position * div_term)\n",
        "        pe[:, 1::2] = torch.cos(position * div_term)\n",
        "\n",
        "        pe = pe.unsqueeze(0)\n",
        "        self.register_buffer('pe', pe)\n",
        "\n",
        "    def forward(self, x):\n",
        "        x = x + self.pe[:, :x.size(1), :].to(x.device)\n",
        "        return x\n",
        "\n",
        "class Transformer(nn.Module):\n",
        "    def __init__(self, embed_dim=512, num_heads=8, num_layers=6, ff_dim=2048, dropout=0.1, vocab_size=10000, max_len=5000):\n",
        "        super(Transformer, self).__init__()\n",
        "        self.embeddings = nn.Embedding(vocab_size, embed_dim)\n",
        "        self.position_encoding = PositionalEncoding(embed_dim=embed_dim, max_len=max_len)\n",
        "\n",
        "        encoder_layer = nn.TransformerEncoderLayer(\n",
        "            d_model=embed_dim,\n",
        "            nhead=num_heads,\n",
        "            dim_feedforward=ff_dim,\n",
        "            dropout=dropout,\n",
        "            batch_first=True\n",
        "        )\n",
        "        self.encoder = nn.TransformerEncoder(\n",
        "            encoder_layer=encoder_layer,\n",
        "            num_layers=num_layers\n",
        "        )\n",
        "\n",
        "        self.y_labels_out = nn.Linear(embed_dim, 5)\n",
        "\n",
        "    def forward(self, x):\n",
        "        x = self.embeddings(x)\n",
        "        x = self.position_encoding(x)\n",
        "\n",
        "        x = self.encoder(x)\n",
        "        x = x.mean(dim=1)\n",
        "\n",
        "        y_label_out = self.y_labels_out(x)\n",
        "        return y_label_out"
      ]
    },
    {
      "cell_type": "code",
      "execution_count": 17,
      "metadata": {
        "id": "3y4bHJVbJ2AQ"
      },
      "outputs": [],
      "source": [
        "model = Transformer(\n",
        "    embed_dim=hyperparameters['embed_dim'],\n",
        "    num_heads=hyperparameters['num_heads'],\n",
        "    num_layers=hyperparameters['num_layers'],\n",
        "    ff_dim=hyperparameters['ff_dim'],\n",
        "    dropout=hyperparameters['dropout'],\n",
        "    vocab_size=len(vocab),\n",
        "    max_len=hyperparameters['max_len']\n",
        ")"
      ]
    },
    {
      "cell_type": "code",
      "execution_count": 18,
      "metadata": {
        "id": "cTSxhHX13esJ"
      },
      "outputs": [],
      "source": [
        "if info['is_pre_training']:\n",
        "    checkpoint = torch.load(f\"/content/drive/MyDrive/{info['dir_name']}/modelThirteenth Run_epoch_60.pth\")\n",
        "\n",
        "    start_epoch = checkpoint['epoch']\n",
        "    model.load_state_dict(checkpoint['model_state_dict'])"
      ]
    },
    {
      "cell_type": "code",
      "execution_count": 19,
      "metadata": {
        "colab": {
          "base_uri": "https://localhost:8080/"
        },
        "id": "q00nuF8HJ1-H",
        "outputId": "20b390e5-588e-4f62-ab34-04490697a20b"
      },
      "outputs": [
        {
          "output_type": "execute_result",
          "data": {
            "text/plain": [
              "Transformer(\n",
              "  (embeddings): Embedding(64, 256)\n",
              "  (position_encoding): PositionalEncoding()\n",
              "  (encoder): TransformerEncoder(\n",
              "    (layers): ModuleList(\n",
              "      (0-1): 2 x TransformerEncoderLayer(\n",
              "        (self_attn): MultiheadAttention(\n",
              "          (out_proj): NonDynamicallyQuantizableLinear(in_features=256, out_features=256, bias=True)\n",
              "        )\n",
              "        (linear1): Linear(in_features=256, out_features=1024, bias=True)\n",
              "        (dropout): Dropout(p=0.1, inplace=False)\n",
              "        (linear2): Linear(in_features=1024, out_features=256, bias=True)\n",
              "        (norm1): LayerNorm((256,), eps=1e-05, elementwise_affine=True)\n",
              "        (norm2): LayerNorm((256,), eps=1e-05, elementwise_affine=True)\n",
              "        (dropout1): Dropout(p=0.1, inplace=False)\n",
              "        (dropout2): Dropout(p=0.1, inplace=False)\n",
              "      )\n",
              "    )\n",
              "  )\n",
              "  (y_labels_out): Linear(in_features=256, out_features=5, bias=True)\n",
              ")"
            ]
          },
          "metadata": {},
          "execution_count": 19
        }
      ],
      "source": [
        "device = torch.device(\"cuda\" if torch.cuda.is_available() else \"cpu\")\n",
        "model.to(device)"
      ]
    },
    {
      "cell_type": "code",
      "execution_count": 20,
      "metadata": {
        "colab": {
          "base_uri": "https://localhost:8080/"
        },
        "id": "V2Qa9JHAKI1-",
        "outputId": "e7cb8b2b-265a-413b-eb11-50698a76761d"
      },
      "outputs": [
        {
          "output_type": "execute_result",
          "data": {
            "text/plain": [
              "device(type='cuda')"
            ]
          },
          "metadata": {},
          "execution_count": 20
        }
      ],
      "source": [
        "device"
      ]
    },
    {
      "cell_type": "code",
      "execution_count": 21,
      "metadata": {
        "colab": {
          "base_uri": "https://localhost:8080/"
        },
        "id": "5_4lFoaqKIz4",
        "outputId": "fbd3005c-ac5a-4e4d-d350-7c408d09426f"
      },
      "outputs": [
        {
          "output_type": "stream",
          "name": "stdout",
          "text": [
            "Total trainable parameters: 1597189\n"
          ]
        }
      ],
      "source": [
        "num_params = sum(p.numel() for p in model.parameters() if p.requires_grad)\n",
        "print(f\"Total trainable parameters: {num_params}\")"
      ]
    },
    {
      "cell_type": "code",
      "execution_count": 22,
      "metadata": {
        "colab": {
          "base_uri": "https://localhost:8080/"
        },
        "id": "Le4cXoIAz28a",
        "outputId": "e4f7e409-0468-40d3-d021-d5faacfb2dd2"
      },
      "outputs": [
        {
          "output_type": "stream",
          "name": "stdout",
          "text": [
            "Class-Balanced Weights: tensor([0.8132, 0.2583, 0.2175, 1.9269, 1.7841], device='cuda:0')\n"
          ]
        }
      ],
      "source": [
        "import numpy as np\n",
        "\n",
        "def get_cb_weights(labels, num_classes, beta=0.9999):\n",
        "    labels = np.array(labels)\n",
        "    class_counts = np.bincount(labels, minlength=num_classes)\n",
        "\n",
        "    effective_num = 1.0 - np.power(beta, class_counts)\n",
        "    effective_num = np.where(effective_num == 0, 1e-8, effective_num)\n",
        "\n",
        "    weights = (1.0 - beta) / effective_num\n",
        "    weights = weights / np.sum(weights) * num_classes\n",
        "\n",
        "    return torch.tensor(weights, dtype=torch.float32)\n",
        "\n",
        "labels = data['label'].values\n",
        "num_classes = 5\n",
        "\n",
        "cb_weights = get_cb_weights(labels, num_classes, beta=0.9999).to(device)\n",
        "\n",
        "print(\"Class-Balanced Weights:\", cb_weights)"
      ]
    },
    {
      "cell_type": "code",
      "execution_count": 23,
      "metadata": {
        "colab": {
          "base_uri": "https://localhost:8080/"
        },
        "id": "CzD3mebp3HZh",
        "outputId": "a11c6820-78cc-4501-a94e-f4e6cf635465"
      },
      "outputs": [
        {
          "output_type": "stream",
          "name": "stderr",
          "text": [
            "/tmp/ipython-input-79376820.py:6: FutureWarning: `torch.cuda.amp.GradScaler(args...)` is deprecated. Please use `torch.amp.GradScaler('cuda', args...)` instead.\n",
            "  scaler = torch.cuda.amp.GradScaler()\n"
          ]
        }
      ],
      "source": [
        "from transformers import get_linear_schedule_with_warmup\n",
        "\n",
        "ce = nn.CrossEntropyLoss(weight=cb_weights)\n",
        "# ce = nn.CrossEntropyLoss()\n",
        "optimizer = torch.optim.Adam(model.parameters(), lr=hyperparameters['learning_rate'], weight_decay=hyperparameters[\"weight_decay\"])\n",
        "scaler = torch.cuda.amp.GradScaler()\n",
        "\n",
        "if info['is_pre_training']:\n",
        "  optimizer.load_state_dict(checkpoint['optimizer_state_dict'])\n",
        "  print(\"Optimizer loaded\")\n",
        "\n",
        "num_training_steps = len(train_loader) * hyperparameters['epochs']\n",
        "num_warmup_steps = hyperparameters[\"num_warmup_steps\"]\n",
        "\n",
        "scheduler = get_linear_schedule_with_warmup(\n",
        "    optimizer,\n",
        "    num_warmup_steps=num_warmup_steps,\n",
        "    num_training_steps=num_training_steps\n",
        ")"
      ]
    },
    {
      "cell_type": "code",
      "execution_count": 24,
      "metadata": {
        "id": "3YrLO_deKIvu"
      },
      "outputs": [],
      "source": [
        "def train32(model, loader, ce, optimizer):\n",
        "    model.train()\n",
        "\n",
        "    running_loss, correct, total = 0.0, 0, 0\n",
        "\n",
        "    for x, y in loader:\n",
        "        optimizer.zero_grad()\n",
        "\n",
        "        x = x.to(device)\n",
        "        y = y.to(device)\n",
        "\n",
        "        output = model(x)\n",
        "        loss = ce(output, y)\n",
        "\n",
        "        prediction = torch.argmax(output, dim=1)\n",
        "        correct += (prediction == y).sum().item()\n",
        "        total += len(x)\n",
        "\n",
        "        loss.backward()\n",
        "\n",
        "        optimizer.step()\n",
        "\n",
        "        running_loss += loss.item() * len(x)\n",
        "\n",
        "    accuracy = correct / total\n",
        "\n",
        "    return (\n",
        "        running_loss / len(loader.dataset),\n",
        "        accuracy\n",
        "    )\n",
        "\n",
        "def train16(model, loader, ce, optimizer, scaler, scheduler):\n",
        "    model.train()\n",
        "    running_loss, correct, total = 0.0, 0, 0\n",
        "\n",
        "    for x, y in loader:\n",
        "        optimizer.zero_grad()\n",
        "        x = x.to(device)\n",
        "        y = y.to(device)\n",
        "\n",
        "        with torch.cuda.amp.autocast(dtype=torch.float16):\n",
        "            output = model(x)\n",
        "            loss = ce(output, y)\n",
        "\n",
        "        prediction = torch.argmax(output, dim=1)\n",
        "        correct += (prediction == y).sum().item()\n",
        "        total += len(x)\n",
        "\n",
        "        scaler.scale(loss).backward()\n",
        "        scaler.step(optimizer)\n",
        "        scaler.update()\n",
        "\n",
        "        scheduler.step()\n",
        "\n",
        "        running_loss += loss.item() * len(x)\n",
        "\n",
        "    accuracy = correct / total\n",
        "    return (\n",
        "        running_loss / len(loader.dataset),\n",
        "        accuracy\n",
        "    )"
      ]
    },
    {
      "cell_type": "code",
      "execution_count": 25,
      "metadata": {
        "id": "hK6At-_VKItX"
      },
      "outputs": [],
      "source": [
        "def validation(model, loader, ce):\n",
        "    model.eval()\n",
        "\n",
        "    running_loss, correct, total = 0.0, 0, 0\n",
        "\n",
        "    with torch.no_grad():\n",
        "        for x, y in loader:\n",
        "            x = x.to(device)\n",
        "            y = y.to(device)\n",
        "\n",
        "            if info['precision'] == 'FP16':\n",
        "              with torch.cuda.amp.autocast(dtype=torch.float16):\n",
        "                  output = model(x)\n",
        "                  loss = ce(output, y)\n",
        "            else:\n",
        "              output = model(x)\n",
        "              loss = ce(output, y)\n",
        "\n",
        "            running_loss += loss.item() * len(x)\n",
        "\n",
        "            prediction = torch.argmax(output, dim=1)\n",
        "            correct += (prediction == y).sum().item()\n",
        "\n",
        "            total += len(x)\n",
        "\n",
        "    accuracy = correct / total\n",
        "\n",
        "    return (\n",
        "        running_loss / len(loader.dataset),\n",
        "        accuracy\n",
        "    )"
      ]
    },
    {
      "cell_type": "code",
      "execution_count": 26,
      "metadata": {
        "colab": {
          "base_uri": "https://localhost:8080/"
        },
        "id": "2mL_srk1KQNu",
        "outputId": "fb1f6ee4-00f6-46ca-cfe1-69a1dadcdcd0"
      },
      "outputs": [
        {
          "output_type": "stream",
          "name": "stderr",
          "text": [
            "/tmp/ipython-input-2163399810.py:41: FutureWarning: `torch.cuda.amp.autocast(args...)` is deprecated. Please use `torch.amp.autocast('cuda', args...)` instead.\n",
            "  with torch.cuda.amp.autocast(dtype=torch.float16):\n",
            "/tmp/ipython-input-260272857.py:12: FutureWarning: `torch.cuda.amp.autocast(args...)` is deprecated. Please use `torch.amp.autocast('cuda', args...)` instead.\n",
            "  with torch.cuda.amp.autocast(dtype=torch.float16):\n"
          ]
        },
        {
          "output_type": "stream",
          "name": "stdout",
          "text": [
            "Epoch (1/300): Train Loss = 1.2192, Valitation Loss = 1.1510, Train_acc = 0.3630, Val_acc = 0.4504\n",
            "Epoch (2/300): Train Loss = 1.1371, Valitation Loss = 1.1422, Train_acc = 0.4598, Val_acc = 0.4980\n",
            "Epoch (3/300): Train Loss = 1.1095, Valitation Loss = 1.1109, Train_acc = 0.4868, Val_acc = 0.4728\n",
            "Epoch (4/300): Train Loss = 1.0855, Valitation Loss = 1.0775, Train_acc = 0.5011, Val_acc = 0.5160\n",
            "Epoch (5/300): Train Loss = 1.0616, Valitation Loss = 1.0861, Train_acc = 0.5121, Val_acc = 0.5012\n",
            "No improvement in val loss Counter = 1/10\n",
            "Epoch (6/300): Train Loss = 1.0357, Valitation Loss = 1.0483, Train_acc = 0.5214, Val_acc = 0.5019\n",
            "Epoch (7/300): Train Loss = 1.0091, Valitation Loss = 1.0306, Train_acc = 0.5265, Val_acc = 0.5267\n",
            "Epoch (8/300): Train Loss = 0.9855, Valitation Loss = 1.0168, Train_acc = 0.5304, Val_acc = 0.5042\n",
            "Epoch (9/300): Train Loss = 0.9628, Valitation Loss = 0.9829, Train_acc = 0.5344, Val_acc = 0.5167\n",
            "Epoch (10/300): Train Loss = 0.9423, Valitation Loss = 0.9773, Train_acc = 0.5415, Val_acc = 0.5321\n",
            "Model saved at /content/drive/MyDrive/Mutation Model/modelSeventeenth Run_epoch_10.pth\n",
            "Epoch (11/300): Train Loss = 0.9222, Valitation Loss = 0.9766, Train_acc = 0.5471, Val_acc = 0.5483\n",
            "Epoch (12/300): Train Loss = 0.9034, Valitation Loss = 0.9576, Train_acc = 0.5553, Val_acc = 0.5470\n",
            "Epoch (13/300): Train Loss = 0.8848, Valitation Loss = 0.9433, Train_acc = 0.5562, Val_acc = 0.5378\n",
            "Epoch (14/300): Train Loss = 0.8690, Valitation Loss = 0.9416, Train_acc = 0.5615, Val_acc = 0.5099\n",
            "Epoch (15/300): Train Loss = 0.8503, Valitation Loss = 0.9544, Train_acc = 0.5678, Val_acc = 0.5563\n",
            "No improvement in val loss Counter = 1/10\n",
            "Epoch (16/300): Train Loss = 0.8346, Valitation Loss = 0.9550, Train_acc = 0.5714, Val_acc = 0.5418\n",
            "No improvement in val loss Counter = 2/10\n",
            "Epoch (17/300): Train Loss = 0.8182, Valitation Loss = 0.9234, Train_acc = 0.5751, Val_acc = 0.5600\n",
            "Epoch (18/300): Train Loss = 0.7988, Valitation Loss = 0.9319, Train_acc = 0.5797, Val_acc = 0.5594\n",
            "No improvement in val loss Counter = 1/10\n",
            "Epoch (19/300): Train Loss = 0.7884, Valitation Loss = 0.9610, Train_acc = 0.5824, Val_acc = 0.5511\n",
            "No improvement in val loss Counter = 2/10\n",
            "Epoch (20/300): Train Loss = 0.7738, Valitation Loss = 0.9325, Train_acc = 0.5863, Val_acc = 0.5662\n",
            "Model saved at /content/drive/MyDrive/Mutation Model/modelSeventeenth Run_epoch_20.pth\n",
            "No improvement in val loss Counter = 3/10\n",
            "Epoch (21/300): Train Loss = 0.7555, Valitation Loss = 0.9211, Train_acc = 0.5907, Val_acc = 0.5622\n",
            "Epoch (22/300): Train Loss = 0.7425, Valitation Loss = 0.9244, Train_acc = 0.5930, Val_acc = 0.5542\n",
            "No improvement in val loss Counter = 1/10\n",
            "Epoch (23/300): Train Loss = 0.7274, Valitation Loss = 0.9018, Train_acc = 0.5984, Val_acc = 0.5502\n",
            "Epoch (24/300): Train Loss = 0.7124, Valitation Loss = 0.9084, Train_acc = 0.6026, Val_acc = 0.5522\n",
            "No improvement in val loss Counter = 1/10\n",
            "Epoch (25/300): Train Loss = 0.6992, Valitation Loss = 0.9231, Train_acc = 0.6042, Val_acc = 0.5569\n",
            "No improvement in val loss Counter = 2/10\n",
            "Epoch (26/300): Train Loss = 0.6867, Valitation Loss = 0.9236, Train_acc = 0.6079, Val_acc = 0.5625\n",
            "No improvement in val loss Counter = 3/10\n",
            "Epoch (27/300): Train Loss = 0.6675, Valitation Loss = 0.9221, Train_acc = 0.6135, Val_acc = 0.5698\n",
            "No improvement in val loss Counter = 4/10\n",
            "Epoch (28/300): Train Loss = 0.6574, Valitation Loss = 0.9263, Train_acc = 0.6151, Val_acc = 0.5610\n",
            "No improvement in val loss Counter = 5/10\n",
            "Epoch (29/300): Train Loss = 0.6416, Valitation Loss = 0.9502, Train_acc = 0.6189, Val_acc = 0.5514\n",
            "No improvement in val loss Counter = 6/10\n",
            "Epoch (30/300): Train Loss = 0.6325, Valitation Loss = 0.9519, Train_acc = 0.6217, Val_acc = 0.5373\n",
            "Model saved at /content/drive/MyDrive/Mutation Model/modelSeventeenth Run_epoch_30.pth\n",
            "No improvement in val loss Counter = 7/10\n",
            "Epoch (31/300): Train Loss = 0.6158, Valitation Loss = 0.9697, Train_acc = 0.6260, Val_acc = 0.5733\n",
            "No improvement in val loss Counter = 8/10\n",
            "Epoch (32/300): Train Loss = 0.6085, Valitation Loss = 0.9321, Train_acc = 0.6288, Val_acc = 0.5548\n",
            "No improvement in val loss Counter = 9/10\n",
            "Epoch (33/300): Train Loss = 0.5958, Valitation Loss = 0.9578, Train_acc = 0.6321, Val_acc = 0.5487\n",
            "No improvement in val loss Counter = 10/10\n",
            "Early stopping triggered!\n"
          ]
        }
      ],
      "source": [
        "import os\n",
        "\n",
        "patience = 10\n",
        "best_val_loss = float('inf')\n",
        "counter = 0\n",
        "early_stop = False\n",
        "\n",
        "train_loss_history = []\n",
        "train_acc_history = []\n",
        "\n",
        "val_loss_history = []\n",
        "val_acc_history = []\n",
        "\n",
        "save_dir = f\"/content/drive/MyDrive/{info['dir_name']}\"\n",
        "os.makedirs(save_dir, exist_ok=True)\n",
        "\n",
        "for epoch in range(1, hyperparameters['epochs']+1):\n",
        "    if info['precision'] == 'FP16':\n",
        "      current_train_loss, current_train_acc = train16(\n",
        "            model,\n",
        "            train_loader,\n",
        "            ce,\n",
        "            optimizer,\n",
        "            scaler,\n",
        "            scheduler\n",
        "        )\n",
        "    else:\n",
        "      current_train_loss, current_train_acc = train32(\n",
        "          model,\n",
        "          train_loader,\n",
        "          ce,\n",
        "          optimizer\n",
        "      )\n",
        "\n",
        "    current_val_loss, current_val_acc = validation(\n",
        "        model,\n",
        "        test_loader,\n",
        "        ce\n",
        "    )\n",
        "\n",
        "    train_loss_history.append(current_train_loss)\n",
        "    train_acc_history.append(current_train_acc)\n",
        "\n",
        "    val_loss_history.append(current_val_loss)\n",
        "    val_acc_history.append(current_val_acc)\n",
        "\n",
        "    print(f\"Epoch ({epoch}/{hyperparameters['epochs']}): Train Loss = {current_train_loss:.4f}, Valitation Loss = {current_val_loss:.4f}, Train_acc = {current_train_acc:.4f}, Val_acc = {current_val_acc:.4f}\")\n",
        "\n",
        "    if epoch % 10 == 0:\n",
        "      checkpoint_path = f\"{save_dir}/model{info['run']}_epoch_{epoch}.pth\"\n",
        "      torch.save({\n",
        "          'epoch': epoch,\n",
        "          'model_state_dict': model.state_dict(),\n",
        "          'optimizer_state_dict': optimizer.state_dict(),\n",
        "          'train_losses': train_loss_history,\n",
        "          'val_losses': val_loss_history,\n",
        "          'train_acc': train_acc_history,\n",
        "          'val_acc': val_acc_history\n",
        "      }, checkpoint_path)\n",
        "      print(f\"Model saved at {checkpoint_path}\")\n",
        "\n",
        "    if current_val_loss < best_val_loss:\n",
        "        best_val_loss = current_val_loss\n",
        "        counter = 0\n",
        "        continue\n",
        "    else:\n",
        "        counter += 1\n",
        "        print(f\"No improvement in val loss Counter = {counter}/{patience}\")\n",
        "        if counter >= patience:\n",
        "            print(\"Early stopping triggered!\")\n",
        "            early_stop = True\n",
        "            break"
      ]
    },
    {
      "cell_type": "code",
      "execution_count": 27,
      "metadata": {
        "id": "fchAhqxA5bKy"
      },
      "outputs": [],
      "source": [
        "def get_predictions_and_labels(model, loader):\n",
        "    model.eval()\n",
        "    all_y_true = []\n",
        "    all_y_pred = []\n",
        "\n",
        "    with torch.no_grad():\n",
        "        for x, y in loader:\n",
        "            x = x.to(device)\n",
        "            y = y.to(device)\n",
        "\n",
        "            yout = model(x)\n",
        "\n",
        "            _, pred_mut = torch.max(yout, 1)\n",
        "\n",
        "            all_y_true.extend(y.cpu().numpy())\n",
        "            all_y_pred.extend(pred_mut.cpu().numpy())\n",
        "\n",
        "    return (\n",
        "        (all_y_true, all_y_pred)\n",
        "    )"
      ]
    },
    {
      "cell_type": "code",
      "execution_count": 28,
      "metadata": {
        "id": "-Ild1bHo5XY4",
        "colab": {
          "base_uri": "https://localhost:8080/"
        },
        "outputId": "c287fb52-bbe4-4f0a-eb12-ec5755d774b6"
      },
      "outputs": [
        {
          "output_type": "stream",
          "name": "stdout",
          "text": [
            "\n",
            "============================================================\n",
            "Classification Report Summary\n",
            "============================================================\n",
            "\n",
            "[1] Classification Report — Mutation Label\n",
            "------------------------------------------------------------\n",
            "              precision    recall  f1-score   support\n",
            "\n",
            "           0       0.71      0.31      0.43      3237\n",
            "           1       0.43      0.11      0.17      3219\n",
            "           2       0.60      0.71      0.65      5774\n",
            "           3       0.51      0.72      0.60      3170\n",
            "           4       0.48      0.77      0.59      3179\n",
            "\n",
            "    accuracy                           0.55     18579\n",
            "   macro avg       0.55      0.52      0.49     18579\n",
            "weighted avg       0.56      0.55      0.51     18579\n",
            "\n",
            "============================================================\n",
            "\n"
          ]
        }
      ],
      "source": [
        "from sklearn.metrics import classification_report\n",
        "\n",
        "(y_true, y_pred) = get_predictions_and_labels(model, test_loader)\n",
        "\n",
        "print(\"\\n\" + \"=\"*60)\n",
        "print(\"Classification Report Summary\")\n",
        "print(\"=\"*60)\n",
        "\n",
        "print(\"\\n[1] Classification Report — Mutation Label\")\n",
        "print(\"-\" * 60)\n",
        "print(classification_report(y_true, y_pred))\n",
        "\n",
        "print(\"=\"*60 + \"\\n\")\n"
      ]
    },
    {
      "cell_type": "code",
      "execution_count": 29,
      "metadata": {
        "id": "HZh0OCyv5RrR",
        "colab": {
          "base_uri": "https://localhost:8080/",
          "height": 470
        },
        "outputId": "0095adde-e005-4eee-bb90-2164ca8fce71"
      },
      "outputs": [
        {
          "output_type": "execute_result",
          "data": {
            "text/plain": [
              "<sklearn.metrics._plot.confusion_matrix.ConfusionMatrixDisplay at 0x78692cfb5640>"
            ]
          },
          "metadata": {},
          "execution_count": 29
        },
        {
          "output_type": "display_data",
          "data": {
            "text/plain": [
              "<Figure size 640x480 with 2 Axes>"
            ],
            "image/png": "[encoded data removed]"
          },
          "metadata": {}
        }
      ],
      "source": [
        "from sklearn.metrics import confusion_matrix, ConfusionMatrixDisplay\n",
        "\n",
        "cm = confusion_matrix(y_true, y_pred)\n",
        "disp = ConfusionMatrixDisplay(confusion_matrix=cm)\n",
        "disp.plot(xticks_rotation=45)"
      ]
    },
    {
      "cell_type": "code",
      "execution_count": 30,
      "metadata": {
        "id": "uiqFXZj3KsP6",
        "colab": {
          "base_uri": "https://localhost:8080/",
          "height": 953
        },
        "outputId": "c97cf4c8-8ec6-46a2-fd13-531ff2f1959b"
      },
      "outputs": [
        {
          "output_type": "display_data",
          "data": {
            "text/plain": [
              "<Figure size 1000x500 with 1 Axes>"
            ],
            "image/png": "[encoded data removed]"
          },
          "metadata": {}
        },
        {
          "output_type": "display_data",
          "data": {
            "text/plain": [
              "<Figure size 1000x500 with 1 Axes>"
            ],
            "image/png": "[encoded data removed]"
          },
          "metadata": {}
        }
      ],
      "source": [
        "import matplotlib.pyplot as plt\n",
        "\n",
        "plt.figure(figsize=(10, 5))\n",
        "plt.plot(train_loss_history, label='Train Loss')\n",
        "plt.plot(val_loss_history, label='Validation Loss')\n",
        "plt.title('Training vs Validation Loss')\n",
        "plt.xlabel('Epoch')\n",
        "plt.ylabel('Loss')\n",
        "plt.legend()\n",
        "plt.grid(True)\n",
        "plt.show()\n",
        "\n",
        "plt.figure(figsize=(10, 5))\n",
        "plt.plot(train_acc_history, label='Train Accuracy')\n",
        "plt.plot(val_acc_history, label='Validation Accuracy')\n",
        "plt.title('Training vs Validation Accuracy')\n",
        "plt.xlabel('Epoch')\n",
        "plt.ylabel('Accuracy')\n",
        "plt.legend()\n",
        "plt.grid(True)\n",
        "plt.show()"
      ]
    },
    {
      "cell_type": "code",
      "execution_count": 30,
      "metadata": {
        "id": "E7zwemA67uJQ"
      },
      "outputs": [],
      "source": []
    }
  ],
  "metadata": {
    "accelerator": "GPU",
    "colab": {
      "gpuType": "L4",
      "machine_shape": "hm",
      "provenance": []
    },
    "kernelspec": {
      "display_name": "Python 3",
      "name": "python3"
    },
    "language_info": {
      "codemirror_mode": {
        "name": "ipython",
        "version": 3
      },
      "file_extension": ".py",
      "mimetype": "text/x-python",
      "name": "python",
      "nbconvert_exporter": "python",
      "pygments_lexer": "ipython3",
      "version": "3.10.0"
    }
  },
  "nbformat": 4,
  "nbformat_minor": 0
}