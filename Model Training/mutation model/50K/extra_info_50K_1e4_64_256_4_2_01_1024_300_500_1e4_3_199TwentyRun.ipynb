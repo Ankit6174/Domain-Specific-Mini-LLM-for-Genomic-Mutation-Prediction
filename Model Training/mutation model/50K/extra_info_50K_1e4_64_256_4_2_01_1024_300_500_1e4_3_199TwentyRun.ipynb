{
  "cells": [
    {
      "cell_type": "code",
      "execution_count": 1,
      "id": "d213b597",
      "metadata": {
        "id": "d213b597"
      },
      "outputs": [],
      "source": [
        "hyperparameters = {\n",
        "    \"learning_rate\": 1e-4,\n",
        "    \"batch_size\": 64,\n",
        "    \"embed_dim\": 256,\n",
        "    \"num_heads\": 4,\n",
        "    \"num_layers\": 2,\n",
        "    \"dropout\": 0.1,\n",
        "    \"ff_dim\": 1024,\n",
        "    \"epochs\": 300,\n",
        "    \"num_warmup_steps\": 500,\n",
        "    \"weight_decay\": 1e-4,\n",
        "    \"k-mers\": 3,\n",
        "    \"max_len\": 199\n",
        "}\n",
        "\n",
        "info = {\n",
        "    \"dataset_size\": \"50K\",\n",
        "    \"precision\": \"FP16\",\n",
        "    \"dir_name\": \"Mutation Model\",\n",
        "    \"run\": \"Twenty Run\",\n",
        "    \"loss\": {\n",
        "        \"type\": \"CB Weighted Cross Entropy Loss\",\n",
        "        \"alpha\": 0.75, # Removed\n",
        "        \"gamma\": 2\n",
        "    },\n",
        "    \"optimizer\": \"Adam\",\n",
        "    \"is_pre_training\": False\n",
        "}"
      ]
    },
    {
      "cell_type": "code",
      "execution_count": 2,
      "id": "3yVyWzc0P7HU",
      "metadata": {
        "colab": {
          "base_uri": "https://localhost:8080/"
        },
        "id": "3yVyWzc0P7HU",
        "outputId": "dc58cbc0-e80c-47ea-a134-891a74132326"
      },
      "outputs": [
        {
          "name": "stdout",
          "output_type": "stream",
          "text": [
            "Mounted at /content/drive\n"
          ]
        }
      ],
      "source": [
        "from google.colab import drive\n",
        "drive.mount('/content/drive')"
      ]
    },
    {
      "cell_type": "code",
      "execution_count": 18,
      "id": "259090b3",
      "metadata": {
        "colab": {
          "base_uri": "https://localhost:8080/"
        },
        "id": "259090b3",
        "outputId": "d02f50ca-524a-41f4-9aa9-0f257684d0ce"
      },
      "outputs": [
        {
          "data": {
            "text/plain": [
              "(50000, 10)"
            ]
          },
          "execution_count": 18,
          "metadata": {},
          "output_type": "execute_result"
        }
      ],
      "source": [
        "import pandas as pd\n",
        "\n",
        "data_path = f\"/content/drive/MyDrive/dataset/{info['dataset_size']}.csv\"\n",
        "\n",
        "data = pd.read_csv(data_path)\n",
        "data.shape\n",
        "\n",
        "# import pandas as pd\n",
        "\n",
        "# df = pd.read_csv(\"../../../Dataset/data.csv\")"
      ]
    },
    {
      "cell_type": "code",
      "execution_count": 19,
      "id": "6Q6dH7i4QcbB",
      "metadata": {
        "colab": {
          "base_uri": "https://localhost:8080/",
          "height": 272
        },
        "id": "6Q6dH7i4QcbB",
        "outputId": "bcb488eb-55d8-4a2b-bacb-f62f628c5543"
      },
      "outputs": [
        {
          "data": {
            "text/html": [
              "<div>\n",
              "<style scoped>\n",
              "    .dataframe tbody tr th:only-of-type {\n",
              "        vertical-align: middle;\n",
              "    }\n",
              "\n",
              "    .dataframe tbody tr th {\n",
              "        vertical-align: top;\n",
              "    }\n",
              "\n",
              "    .dataframe thead th {\n",
              "        text-align: right;\n",
              "    }\n",
              "</style>\n",
              "<table border=\"1\" class=\"dataframe\">\n",
              "  <thead>\n",
              "    <tr style=\"text-align: right;\">\n",
              "      <th></th>\n",
              "      <th>count</th>\n",
              "    </tr>\n",
              "    <tr>\n",
              "      <th>label</th>\n",
              "      <th></th>\n",
              "    </tr>\n",
              "  </thead>\n",
              "  <tbody>\n",
              "    <tr>\n",
              "      <th>2</th>\n",
              "      <td>28892</td>\n",
              "    </tr>\n",
              "    <tr>\n",
              "      <th>1</th>\n",
              "      <td>15847</td>\n",
              "    </tr>\n",
              "    <tr>\n",
              "      <th>0</th>\n",
              "      <td>2911</td>\n",
              "    </tr>\n",
              "    <tr>\n",
              "      <th>4</th>\n",
              "      <td>1223</td>\n",
              "    </tr>\n",
              "    <tr>\n",
              "      <th>3</th>\n",
              "      <td>1127</td>\n",
              "    </tr>\n",
              "  </tbody>\n",
              "</table>\n",
              "</div><br><label><b>dtype:</b> int64</label>"
            ],
            "text/plain": [
              "label\n",
              "2    28892\n",
              "1    15847\n",
              "0     2911\n",
              "4     1223\n",
              "3     1127\n",
              "Name: count, dtype: int64"
            ]
          },
          "execution_count": 19,
          "metadata": {},
          "output_type": "execute_result"
        }
      ],
      "source": [
        "data['label'].value_counts()"
      ]
    },
    {
      "cell_type": "code",
      "execution_count": 20,
      "id": "Ozf_YjLyP7HW",
      "metadata": {
        "id": "Ozf_YjLyP7HW"
      },
      "outputs": [],
      "source": [
        "# data = df.sample(50000).reset_index(drop=True)"
      ]
    },
    {
      "cell_type": "code",
      "execution_count": 21,
      "id": "5fb59214",
      "metadata": {
        "id": "5fb59214"
      },
      "outputs": [],
      "source": [
        "def gc_content(seq):\n",
        "    seq = seq.upper()\n",
        "    gc = seq.count('G') + seq.count('C')\n",
        "    return gc / len(seq)"
      ]
    },
    {
      "cell_type": "code",
      "execution_count": 22,
      "id": "936da3a5",
      "metadata": {
        "id": "936da3a5"
      },
      "outputs": [],
      "source": [
        "data['gc_content'] = data['sequence'].apply(gc_content)"
      ]
    },
    {
      "cell_type": "code",
      "execution_count": 23,
      "id": "76a62e03",
      "metadata": {
        "id": "76a62e03"
      },
      "outputs": [],
      "source": [
        "def is_cpg_site(row):\n",
        "    seq = row['sequence'].upper()\n",
        "    pos = row['mutation_pos']\n",
        "\n",
        "    if pos < len(seq)-1 and seq[pos] == 'C' and seq[pos+1] == 'G':\n",
        "        return 1\n",
        "\n",
        "    if pos > 0 and seq[pos-1] == 'C' and seq[pos] == 'G':\n",
        "        return 1\n",
        "    return 0"
      ]
    },
    {
      "cell_type": "code",
      "execution_count": 24,
      "id": "5a429c86",
      "metadata": {
        "id": "5a429c86"
      },
      "outputs": [],
      "source": [
        "data['cpg_flag'] = data.apply(is_cpg_site, axis=1)"
      ]
    },
    {
      "cell_type": "code",
      "execution_count": 25,
      "id": "31868aa0",
      "metadata": {
        "id": "31868aa0"
      },
      "outputs": [],
      "source": [
        "data['norm_pos'] = data['mutation_pos'] / len(data['sequence'])"
      ]
    },
    {
      "cell_type": "code",
      "execution_count": 26,
      "id": "3cb009be",
      "metadata": {
        "id": "3cb009be"
      },
      "outputs": [],
      "source": [
        "data = pd.get_dummies(data, columns=['mutation_type'])"
      ]
    },
    {
      "cell_type": "code",
      "execution_count": 27,
      "id": "7516a31c",
      "metadata": {
        "id": "7516a31c"
      },
      "outputs": [],
      "source": [
        "def get_codon(seq, k=hyperparameters['k-mers']):\n",
        "    return [seq[i:i+k] for i in range(len(seq) - k + 1)]\n",
        "\n",
        "vocab = {}\n",
        "\n",
        "for seq in data['sequence']:\n",
        "    for codons in get_codon(seq.lower()):\n",
        "        if codons not in vocab:\n",
        "            vocab[codons] = len(vocab)\n",
        "        else:\n",
        "            continue\n",
        "\n",
        "def get_tensor(text):\n",
        "    return [vocab[codons.lower()] for codons in get_codon(text)]"
      ]
    },
    {
      "cell_type": "code",
      "execution_count": 28,
      "id": "6b0b6d8a",
      "metadata": {
        "id": "6b0b6d8a"
      },
      "outputs": [],
      "source": [
        "x = data['sequence']\n",
        "y = data['label']\n",
        "gc_content = data['gc_content']\n",
        "cpg_flag = data['cpg_flag']\n",
        "norm_pos = data['norm_pos']\n",
        "mut_type_df = data.iloc[:, 12:]"
      ]
    },
    {
      "cell_type": "code",
      "execution_count": null,
      "id": "3794f7b0",
      "metadata": {
        "id": "3794f7b0"
      },
      "outputs": [],
      "source": [
        "import torch\n",
        "from torch import nn, optim\n",
        "from torch.utils.data import Dataset, DataLoader, random_split\n",
        "\n",
        "class CustomDataset(Dataset):\n",
        "  def __init__(self, x, y, gc_content, cpg_flag, norm_pos, mut_type_df):\n",
        "    self.x_frame = x\n",
        "    self.y_frame = y\n",
        "    self.gc_content = gc_content\n",
        "    self.cpg_flag = cpg_flag\n",
        "    self.norm_pos = norm_pos\n",
        "    self.mut_type_df = mut_type_df\n",
        "\n",
        "  def __len__(self):\n",
        "    return len(self.x_frame)\n",
        "\n",
        "  def __getitem__(self, index):\n",
        "      x_tensor = get_tensor(self.x_frame[index])\n",
        "      seq_x = torch.tensor(x_tensor, dtype=torch.long)\n",
        "\n",
        "      features = [\n",
        "        self.gc_content[index],\n",
        "        self.cpg_flag[index],\n",
        "        self.norm_pos[index]\n",
        "      ] + self.mut_type_df.loc[index].astype(float).tolist()\n",
        "\n",
        "      features_x = torch.tensor(features, dtype=torch.float32)\n",
        "\n",
        "      y = torch.tensor(self.y_frame[index], dtype=torch.long)\n",
        "\n",
        "      return seq_x, features_x, y"
      ]
    },
    {
      "cell_type": "code",
      "execution_count": 30,
      "id": "c1984db6",
      "metadata": {
        "id": "c1984db6"
      },
      "outputs": [],
      "source": [
        "dataset = CustomDataset(x, y, gc_content, cpg_flag, norm_pos, mut_type_df)"
      ]
    },
    {
      "cell_type": "code",
      "execution_count": 31,
      "id": "9de32eb4",
      "metadata": {
        "id": "9de32eb4"
      },
      "outputs": [],
      "source": [
        "train_size = int(0.8 * len(dataset))\n",
        "test_size = len(dataset) - train_size\n",
        "\n",
        "train_dataset, test_dataset = random_split(dataset, [train_size, test_size])"
      ]
    },
    {
      "cell_type": "code",
      "execution_count": 32,
      "id": "c235422d",
      "metadata": {
        "id": "c235422d"
      },
      "outputs": [],
      "source": [
        "train_loader = DataLoader(train_dataset, batch_size=hyperparameters['batch_size'], shuffle=True, num_workers=0)\n",
        "test_loader = DataLoader(test_dataset, batch_size=hyperparameters['batch_size'], num_workers=0)"
      ]
    },
    {
      "cell_type": "code",
      "execution_count": 33,
      "id": "HxCukRWiP7Hc",
      "metadata": {
        "id": "HxCukRWiP7Hc"
      },
      "outputs": [],
      "source": [
        "import math\n",
        "\n",
        "class PositionalEncoding(nn.Module):\n",
        "    def __init__(self, embed_dim, max_len=5000):\n",
        "        super().__init__()\n",
        "\n",
        "        pe = torch.zeros(max_len, embed_dim)\n",
        "        position = torch.arange(0, max_len).unsqueeze(1)\n",
        "\n",
        "        div_term = torch.exp((torch.arange(0, embed_dim, 2)) * (-math.log(10000.0) / embed_dim))\n",
        "\n",
        "        pe[:, 0::2] = torch.sin(position * div_term)\n",
        "        pe[:, 1::2] = torch.cos(position * div_term)\n",
        "\n",
        "        pe = pe.unsqueeze(0)\n",
        "        self.register_buffer('pe', pe)\n",
        "\n",
        "    def forward(self, x):\n",
        "        x = x + self.pe[:, :x.size(1), :].to(x.device)\n",
        "        return x\n",
        "\n",
        "class Transformer(nn.Module):\n",
        "    def __init__(self, embed_dim=512, num_heads=8, num_layers=6, ff_dim=2048, dropout=0.1, vocab_size=10000, max_len=5000, num_extra_features=15):\n",
        "        super(Transformer, self).__init__()\n",
        "        self.embeddings = nn.Embedding(vocab_size, embed_dim)\n",
        "        self.position_encoding = PositionalEncoding(embed_dim=embed_dim, max_len=max_len)\n",
        "\n",
        "        encoder_layer = nn.TransformerEncoderLayer(\n",
        "            d_model=embed_dim,\n",
        "            nhead=num_heads,\n",
        "            dim_feedforward=ff_dim,\n",
        "            dropout=dropout,\n",
        "            batch_first=True\n",
        "        )\n",
        "        self.encoder = nn.TransformerEncoder(\n",
        "            encoder_layer=encoder_layer,\n",
        "            num_layers=num_layers\n",
        "        )\n",
        "\n",
        "        self.y_labels_out = nn.Linear(embed_dim + num_extra_features, 5)\n",
        "\n",
        "    def forward(self, seq_x, features_x):\n",
        "        seq_x = self.embeddings(seq_x)\n",
        "        seq_x = self.position_encoding(seq_x)\n",
        "        seq_x = self.encoder(seq_x)\n",
        "        seq_x = seq_x.mean(dim=1)\n",
        "\n",
        "        combined_x = torch.cat((seq_x, features_x), dim=1)\n",
        "        y_label_out = self.y_labels_out(combined_x)\n",
        "\n",
        "        return y_label_out"
      ]
    },
    {
      "cell_type": "code",
      "execution_count": 34,
      "id": "_chjfHpkW9Lj",
      "metadata": {
        "id": "_chjfHpkW9Lj"
      },
      "outputs": [],
      "source": [
        "num_extra_features = 3 + mut_type_df.shape[1]"
      ]
    },
    {
      "cell_type": "code",
      "execution_count": 35,
      "id": "lsX_PawPP7Hd",
      "metadata": {
        "id": "lsX_PawPP7Hd"
      },
      "outputs": [],
      "source": [
        "model = Transformer(\n",
        "    embed_dim=hyperparameters['embed_dim'],\n",
        "    num_heads=hyperparameters['num_heads'],\n",
        "    num_layers=hyperparameters['num_layers'],\n",
        "    ff_dim=hyperparameters['ff_dim'],\n",
        "    dropout=hyperparameters['dropout'],\n",
        "    vocab_size=len(vocab),\n",
        "    max_len=hyperparameters['max_len'],\n",
        "    num_extra_features=num_extra_features\n",
        ")"
      ]
    },
    {
      "cell_type": "code",
      "execution_count": 36,
      "id": "EbEoytC7P7Hd",
      "metadata": {
        "id": "EbEoytC7P7Hd"
      },
      "outputs": [],
      "source": [
        "if info['is_pre_training']:\n",
        "    checkpoint = torch.load(f\"{info['dir_name']}/{info['run']}/checkpoint.pth\")\n",
        "\n",
        "    model.load_state_dict(checkpoint['model_state_dict'])"
      ]
    },
    {
      "cell_type": "code",
      "execution_count": 37,
      "id": "-X2T735mP7Hd",
      "metadata": {
        "colab": {
          "base_uri": "https://localhost:8080/"
        },
        "id": "-X2T735mP7Hd",
        "outputId": "2fd69fd6-ab07-4fc7-ed3d-e570e47c455a"
      },
      "outputs": [
        {
          "data": {
            "text/plain": [
              "Transformer(\n",
              "  (embeddings): Embedding(64, 256)\n",
              "  (position_encoding): PositionalEncoding()\n",
              "  (encoder): TransformerEncoder(\n",
              "    (layers): ModuleList(\n",
              "      (0-1): 2 x TransformerEncoderLayer(\n",
              "        (self_attn): MultiheadAttention(\n",
              "          (out_proj): NonDynamicallyQuantizableLinear(in_features=256, out_features=256, bias=True)\n",
              "        )\n",
              "        (linear1): Linear(in_features=256, out_features=1024, bias=True)\n",
              "        (dropout): Dropout(p=0.1, inplace=False)\n",
              "        (linear2): Linear(in_features=1024, out_features=256, bias=True)\n",
              "        (norm1): LayerNorm((256,), eps=1e-05, elementwise_affine=True)\n",
              "        (norm2): LayerNorm((256,), eps=1e-05, elementwise_affine=True)\n",
              "        (dropout1): Dropout(p=0.1, inplace=False)\n",
              "        (dropout2): Dropout(p=0.1, inplace=False)\n",
              "      )\n",
              "    )\n",
              "  )\n",
              "  (y_labels_out): Linear(in_features=271, out_features=5, bias=True)\n",
              ")"
            ]
          },
          "execution_count": 37,
          "metadata": {},
          "output_type": "execute_result"
        }
      ],
      "source": [
        "device = torch.device(\"cuda\" if torch.cuda.is_available() else \"cpu\")\n",
        "model.to(device)"
      ]
    },
    {
      "cell_type": "code",
      "execution_count": 38,
      "id": "fea65a53",
      "metadata": {
        "colab": {
          "base_uri": "https://localhost:8080/"
        },
        "id": "fea65a53",
        "outputId": "4c158a69-36b5-4b6b-f80a-4a201b9b60c0"
      },
      "outputs": [
        {
          "data": {
            "text/plain": [
              "device(type='cuda')"
            ]
          },
          "execution_count": 38,
          "metadata": {},
          "output_type": "execute_result"
        }
      ],
      "source": [
        "device"
      ]
    },
    {
      "cell_type": "code",
      "execution_count": 39,
      "id": "fba2146a",
      "metadata": {
        "colab": {
          "base_uri": "https://localhost:8080/"
        },
        "id": "fba2146a",
        "outputId": "34c41dba-ff3f-403c-8b64-da6e7e9d8b58"
      },
      "outputs": [
        {
          "name": "stdout",
          "output_type": "stream",
          "text": [
            "Total trainable parameters: 1597264\n"
          ]
        }
      ],
      "source": [
        "num_params = sum(p.numel() for p in model.parameters() if p.requires_grad)\n",
        "print(f\"Total trainable parameters: {num_params}\")"
      ]
    },
    {
      "cell_type": "code",
      "execution_count": 40,
      "id": "27903baf",
      "metadata": {
        "colab": {
          "base_uri": "https://localhost:8080/"
        },
        "id": "27903baf",
        "outputId": "44ed3b9c-7da1-424a-a678-fe6977aca827"
      },
      "outputs": [
        {
          "name": "stdout",
          "output_type": "stream",
          "text": [
            "Class-Balanced Weights: tensor([0.8132, 0.2583, 0.2175, 1.9269, 1.7841], device='cuda:0')\n"
          ]
        }
      ],
      "source": [
        "import numpy as np\n",
        "\n",
        "def get_cb_weights(labels, num_classes, beta=0.9999):\n",
        "    labels = np.array(labels)\n",
        "    class_counts = np.bincount(labels, minlength=num_classes)\n",
        "\n",
        "    effective_num = 1.0 - np.power(beta, class_counts)\n",
        "    effective_num = np.where(effective_num == 0, 1e-8, effective_num)\n",
        "\n",
        "    weights = (1.0 - beta) / effective_num\n",
        "    weights = weights / np.sum(weights) * num_classes\n",
        "\n",
        "    return torch.tensor(weights, dtype=torch.float32)\n",
        "\n",
        "labels = data['label'].values\n",
        "num_classes = 5\n",
        "\n",
        "cb_weights = get_cb_weights(labels, num_classes, beta=0.9999).to(device)\n",
        "\n",
        "print(\"Class-Balanced Weights:\", cb_weights)"
      ]
    },
    {
      "cell_type": "code",
      "execution_count": null,
      "id": "0f412dc3",
      "metadata": {
        "colab": {
          "base_uri": "https://localhost:8080/"
        },
        "id": "0f412dc3",
        "outputId": "87d9d948-858c-4d10-b234-c4179ba7b800"
      },
      "outputs": [
        {
          "name": "stderr",
          "output_type": "stream",
          "text": [
            "/tmp/ipython-input-2886689895.py:5: FutureWarning: `torch.cuda.amp.GradScaler(args...)` is deprecated. Please use `torch.amp.GradScaler('cuda', args...)` instead.\n",
            "  scaler = torch.cuda.amp.GradScaler()\n"
          ]
        }
      ],
      "source": [
        "from transformers import get_linear_schedule_with_warmup\n",
        "\n",
        "ce = nn.CrossEntropyLoss(weight=cb_weights)\n",
        "optimizer = optim.Adam(model.parameters(), lr=hyperparameters['learning_rate'], weight_decay=hyperparameters[\"weight_decay\"])\n",
        "scaler = torch.cuda.amp.GradScaler()\n",
        "\n",
        "if info['is_pre_training']:\n",
        "  optimizer.load_state_dict(checkpoint['optimizer_state_dict'])\n",
        "  print(\"Optimizer loaded\")\n",
        "\n",
        "num_training_steps = len(train_loader) * hyperparameters['epochs']\n",
        "num_warmup_steps = hyperparameters[\"num_warmup_steps\"]\n",
        "\n",
        "scheduler = get_linear_schedule_with_warmup(\n",
        "    optimizer,\n",
        "    num_warmup_steps=num_warmup_steps,\n",
        "    num_training_steps=num_training_steps\n",
        ")"
      ]
    },
    {
      "cell_type": "code",
      "execution_count": 42,
      "id": "2f1c89e4",
      "metadata": {
        "id": "2f1c89e4"
      },
      "outputs": [],
      "source": [
        "def train32(model, loader, ce, optimizer):\n",
        "    model.train()\n",
        "\n",
        "    running_loss, correct, total = 0.0, 0, 0\n",
        "\n",
        "    for seq_x, features_x, y in loader:\n",
        "        optimizer.zero_grad()\n",
        "\n",
        "        seq_x = seq_x.to(device)\n",
        "        features_x = features_x.to(device)\n",
        "        y = y.to(device)\n",
        "\n",
        "        output = model(seq_x, features_x)\n",
        "        loss = ce(output, y)\n",
        "\n",
        "        prediction = torch.argmax(output, dim=1)\n",
        "        correct += (prediction == y).sum().item()\n",
        "        total += len(y)\n",
        "\n",
        "        loss.backward()\n",
        "\n",
        "        optimizer.step()\n",
        "\n",
        "        running_loss += loss.item() * len(y)\n",
        "\n",
        "    accuracy = correct / total\n",
        "\n",
        "    return (\n",
        "        running_loss / len(loader.dataset),\n",
        "        accuracy\n",
        "    )\n",
        "\n",
        "def train16(model, loader, ce, optimizer, scaler, scheduler):\n",
        "    model.train()\n",
        "    running_loss, correct, total = 0.0, 0, 0\n",
        "\n",
        "    for seq_x, features_x, y in loader:\n",
        "        optimizer.zero_grad()\n",
        "\n",
        "        seq_x = seq_x.to(device)\n",
        "        features_x = features_x.to(device)\n",
        "        y = y.to(device)\n",
        "\n",
        "        with torch.amp.autocast(device_type=\"cuda\", dtype=torch.float16):\n",
        "            output = model(seq_x, features_x)\n",
        "            loss = ce(output, y)\n",
        "\n",
        "        prediction = torch.argmax(output, dim=1)\n",
        "        correct += (prediction == y).sum().item()\n",
        "        total += len(y)\n",
        "\n",
        "        scaler.scale(loss).backward()\n",
        "        scaler.step(optimizer)\n",
        "        scaler.update()\n",
        "\n",
        "        scheduler.step()\n",
        "\n",
        "        running_loss += loss.item() * len(y)\n",
        "\n",
        "    accuracy = correct / total\n",
        "    return (\n",
        "        running_loss / len(loader.dataset),\n",
        "        accuracy\n",
        "    )"
      ]
    },
    {
      "cell_type": "code",
      "execution_count": 43,
      "id": "ff9a6fc1",
      "metadata": {
        "id": "ff9a6fc1"
      },
      "outputs": [],
      "source": [
        "def validation(model, loader, ce):\n",
        "    model.eval()\n",
        "\n",
        "    running_loss, correct, total = 0.0, 0, 0\n",
        "\n",
        "    with torch.no_grad():\n",
        "        for seq_x, features_x, y in loader:\n",
        "            seq_x = seq_x.to(device)\n",
        "            features_x = features_x.to(device)\n",
        "            y = y.to(device)\n",
        "\n",
        "            if info['precision'] == 'FP16':\n",
        "              with torch.amp.autocast(device_type=\"cuda\", dtype=torch.float16):\n",
        "                  output = model(seq_x, features_x)\n",
        "                  loss = ce(output, y)\n",
        "            else:\n",
        "              output = model(seq_x, features_x)\n",
        "              loss = ce(output, y)\n",
        "\n",
        "            running_loss += loss.item() * len(y)\n",
        "\n",
        "            prediction = torch.argmax(output, dim=1)\n",
        "            correct += (prediction == y).sum().item()\n",
        "\n",
        "            total += len(y)\n",
        "\n",
        "    accuracy = correct / total\n",
        "\n",
        "    return (\n",
        "        running_loss / len(loader.dataset),\n",
        "        accuracy\n",
        "    )"
      ]
    },
    {
      "cell_type": "code",
      "execution_count": 44,
      "id": "7ab1af98",
      "metadata": {
        "colab": {
          "base_uri": "https://localhost:8080/"
        },
        "id": "7ab1af98",
        "outputId": "b776f1c2-8c67-4457-ff90-c42984d88d78"
      },
      "outputs": [
        {
          "name": "stdout",
          "output_type": "stream",
          "text": [
            "Epoch (1/300): Train Loss = 1.5121, Valitation Loss = 1.5052, Train_acc = 0.5610, Val_acc = 0.5694\n",
            "Epoch (2/300): Train Loss = 1.4924, Valitation Loss = 1.5008, Train_acc = 0.5756, Val_acc = 0.5663\n",
            "Epoch (3/300): Train Loss = 1.4766, Valitation Loss = 1.4700, Train_acc = 0.5716, Val_acc = 0.5712\n",
            "Epoch (4/300): Train Loss = 1.4438, Valitation Loss = 1.4560, Train_acc = 0.5633, Val_acc = 0.5497\n",
            "Epoch (5/300): Train Loss = 1.4246, Valitation Loss = 1.4489, Train_acc = 0.5563, Val_acc = 0.5123\n",
            "Epoch (6/300): Train Loss = 1.4106, Valitation Loss = 1.4511, Train_acc = 0.5526, Val_acc = 0.5430\n",
            "No improvement in val loss Counter = 1/10\n",
            "Epoch (7/300): Train Loss = 1.4012, Valitation Loss = 1.4265, Train_acc = 0.5505, Val_acc = 0.5435\n",
            "Epoch (8/300): Train Loss = 1.3913, Valitation Loss = 1.4343, Train_acc = 0.5513, Val_acc = 0.5308\n",
            "No improvement in val loss Counter = 1/10\n",
            "Epoch (9/300): Train Loss = 1.3815, Valitation Loss = 1.4326, Train_acc = 0.5517, Val_acc = 0.5449\n",
            "No improvement in val loss Counter = 2/10\n",
            "Epoch (10/300): Train Loss = 1.3749, Valitation Loss = 1.4202, Train_acc = 0.5495, Val_acc = 0.5461\n",
            "Model saved at /content/drive/MyDrive/Mutation Model/modelSixteenth Run_epoch_10.pth\n",
            "Epoch (11/300): Train Loss = 1.3673, Valitation Loss = 1.4481, Train_acc = 0.5513, Val_acc = 0.5205\n",
            "No improvement in val loss Counter = 1/10\n",
            "Epoch (12/300): Train Loss = 1.3573, Valitation Loss = 1.4199, Train_acc = 0.5521, Val_acc = 0.5207\n",
            "Epoch (13/300): Train Loss = 1.3510, Valitation Loss = 1.4175, Train_acc = 0.5486, Val_acc = 0.5401\n",
            "Epoch (14/300): Train Loss = 1.3412, Valitation Loss = 1.4220, Train_acc = 0.5472, Val_acc = 0.5233\n",
            "No improvement in val loss Counter = 1/10\n",
            "Epoch (15/300): Train Loss = 1.3316, Valitation Loss = 1.4268, Train_acc = 0.5477, Val_acc = 0.5570\n",
            "No improvement in val loss Counter = 2/10\n",
            "Epoch (16/300): Train Loss = 1.3212, Valitation Loss = 1.4289, Train_acc = 0.5476, Val_acc = 0.5473\n",
            "No improvement in val loss Counter = 3/10\n",
            "Epoch (17/300): Train Loss = 1.3067, Valitation Loss = 1.4561, Train_acc = 0.5470, Val_acc = 0.5268\n",
            "No improvement in val loss Counter = 4/10\n",
            "Epoch (18/300): Train Loss = 1.2946, Valitation Loss = 1.4508, Train_acc = 0.5432, Val_acc = 0.5261\n",
            "No improvement in val loss Counter = 5/10\n",
            "Epoch (19/300): Train Loss = 1.2774, Valitation Loss = 1.4572, Train_acc = 0.5426, Val_acc = 0.5084\n",
            "No improvement in val loss Counter = 6/10\n",
            "Epoch (20/300): Train Loss = 1.2627, Valitation Loss = 1.4669, Train_acc = 0.5404, Val_acc = 0.5370\n",
            "Model saved at /content/drive/MyDrive/Mutation Model/modelSixteenth Run_epoch_20.pth\n",
            "No improvement in val loss Counter = 7/10\n",
            "Epoch (21/300): Train Loss = 1.2511, Valitation Loss = 1.4947, Train_acc = 0.5399, Val_acc = 0.5155\n",
            "No improvement in val loss Counter = 8/10\n",
            "Epoch (22/300): Train Loss = 1.2313, Valitation Loss = 1.4910, Train_acc = 0.5394, Val_acc = 0.5382\n",
            "No improvement in val loss Counter = 9/10\n",
            "Epoch (23/300): Train Loss = 1.2186, Valitation Loss = 1.5888, Train_acc = 0.5393, Val_acc = 0.5214\n",
            "No improvement in val loss Counter = 10/10\n",
            "Early stopping triggered!\n"
          ]
        }
      ],
      "source": [
        "import os\n",
        "\n",
        "patience = 10\n",
        "best_val_loss = float('inf')\n",
        "counter = 0\n",
        "early_stop = False\n",
        "\n",
        "train_loss_history = []\n",
        "train_acc_history = []\n",
        "\n",
        "val_loss_history = []\n",
        "val_acc_history = []\n",
        "\n",
        "save_dir = f\"/content/drive/MyDrive/{info['dir_name']}\"\n",
        "os.makedirs(save_dir, exist_ok=True)\n",
        "\n",
        "for epoch in range(1, hyperparameters['epochs']+1):\n",
        "    if info['precision'] == 'FP16':\n",
        "      current_train_loss, current_train_acc = train16(\n",
        "            model,\n",
        "            train_loader,\n",
        "            ce,\n",
        "            optimizer,\n",
        "            scaler,\n",
        "            scheduler\n",
        "        )\n",
        "    else:\n",
        "      current_train_loss, current_train_acc = train32(\n",
        "          model,\n",
        "          train_loader,\n",
        "          ce,\n",
        "          optimizer\n",
        "      )\n",
        "\n",
        "    current_val_loss, current_val_acc = validation(\n",
        "        model,\n",
        "        test_loader,\n",
        "        ce\n",
        "    )\n",
        "\n",
        "    train_loss_history.append(current_train_loss)\n",
        "    train_acc_history.append(current_train_acc)\n",
        "\n",
        "    val_loss_history.append(current_val_loss)\n",
        "    val_acc_history.append(current_val_acc)\n",
        "\n",
        "    print(f\"Epoch ({epoch}/{hyperparameters['epochs']}): Train Loss = {current_train_loss:.4f}, Valitation Loss = {current_val_loss:.4f}, Train_acc = {current_train_acc:.4f}, Val_acc = {current_val_acc:.4f}\")\n",
        "\n",
        "    if epoch % 10 == 0:\n",
        "      checkpoint_path = f\"{save_dir}/model{info['run']}_epoch_{epoch}.pth\"\n",
        "      torch.save({\n",
        "          'epoch': epoch,\n",
        "          'model_state_dict': model.state_dict(),\n",
        "          'optimizer_state_dict': optimizer.state_dict(),\n",
        "          'train_losses': train_loss_history,\n",
        "          'val_losses': val_loss_history,\n",
        "          'train_acc': train_acc_history,\n",
        "          'val_acc': val_acc_history\n",
        "      }, checkpoint_path)\n",
        "      print(f\"Model saved at {checkpoint_path}\")\n",
        "\n",
        "    if current_val_loss < best_val_loss:\n",
        "        best_val_loss = current_val_loss\n",
        "        counter = 0\n",
        "        continue\n",
        "    else:\n",
        "        counter += 1\n",
        "        print(f\"No improvement in val loss Counter = {counter}/{patience}\")\n",
        "        if counter >= patience:\n",
        "            print(\"Early stopping triggered!\")\n",
        "            early_stop = True\n",
        "            break"
      ]
    },
    {
      "cell_type": "code",
      "execution_count": 45,
      "id": "d06202ae",
      "metadata": {
        "id": "d06202ae"
      },
      "outputs": [],
      "source": [
        "def get_predictions_and_labels(model, loader):\n",
        "    model.eval()\n",
        "    all_y_true = []\n",
        "    all_y_pred = []\n",
        "\n",
        "    with torch.no_grad():\n",
        "        for seq_x, features_x, y in loader:\n",
        "            seq_x = seq_x.to(device)\n",
        "            features_x = features_x.to(device)\n",
        "            y = y.to(device)\n",
        "\n",
        "            yout = model(seq_x, features_x)\n",
        "\n",
        "            _, pred_mut = torch.max(yout, 1)\n",
        "\n",
        "            all_y_true.extend(y.cpu().numpy())\n",
        "            all_y_pred.extend(pred_mut.cpu().numpy())\n",
        "\n",
        "    return (\n",
        "        (all_y_true, all_y_pred)\n",
        "    )"
      ]
    },
    {
      "cell_type": "code",
      "execution_count": 46,
      "id": "cd1efe32",
      "metadata": {
        "colab": {
          "base_uri": "https://localhost:8080/"
        },
        "id": "cd1efe32",
        "outputId": "e9d54019-a78c-42ba-89cd-df0b2cb752d3"
      },
      "outputs": [
        {
          "name": "stdout",
          "output_type": "stream",
          "text": [
            "\n",
            "============================================================\n",
            "Classification Report Summary\n",
            "============================================================\n",
            "\n",
            "[1] Classification Report — Mutation Label\n",
            "------------------------------------------------------------\n",
            "              precision    recall  f1-score   support\n",
            "\n",
            "           0       0.16      0.11      0.13       627\n",
            "           1       0.53      0.12      0.19      3222\n",
            "           2       0.60      0.82      0.69      5693\n",
            "           3       0.09      0.23      0.13       222\n",
            "           4       0.07      0.17      0.10       236\n",
            "\n",
            "    accuracy                           0.52     10000\n",
            "   macro avg       0.29      0.29      0.25     10000\n",
            "weighted avg       0.53      0.52      0.47     10000\n",
            "\n",
            "============================================================\n",
            "\n"
          ]
        }
      ],
      "source": [
        "from sklearn.metrics import classification_report\n",
        "\n",
        "(y_true, y_pred) = get_predictions_and_labels(model, test_loader)\n",
        "\n",
        "print(\"\\n\" + \"=\"*60)\n",
        "print(\"Classification Report Summary\")\n",
        "print(\"=\"*60)\n",
        "\n",
        "print(\"\\n[1] Classification Report — Mutation Label\")\n",
        "print(\"-\" * 60)\n",
        "print(classification_report(y_true, y_pred))\n",
        "\n",
        "print(\"=\"*60 + \"\\n\")"
      ]
    },
    {
      "cell_type": "code",
      "execution_count": 47,
      "id": "4d2daae2",
      "metadata": {
        "colab": {
          "base_uri": "https://localhost:8080/",
          "height": 470
        },
        "id": "4d2daae2",
        "outputId": "1974f921-5a71-4484-b19a-9f309f3f4993"
      },
      "outputs": [
        {
          "data": {
            "text/plain": [
              "<sklearn.metrics._plot.confusion_matrix.ConfusionMatrixDisplay at 0x7ef4daa76720>"
            ]
          },
          "execution_count": 47,
          "metadata": {},
          "output_type": "execute_result"
        },
        {
          "data": {
            "image/png": "[encoded data removed]",
            "text/plain": [
              "<Figure size 640x480 with 2 Axes>"
            ]
          },
          "metadata": {},
          "output_type": "display_data"
        }
      ],
      "source": [
        "from sklearn.metrics import confusion_matrix, ConfusionMatrixDisplay\n",
        "\n",
        "cm = confusion_matrix(y_true, y_pred)\n",
        "disp = ConfusionMatrixDisplay(confusion_matrix=cm)\n",
        "disp.plot(xticks_rotation=45)"
      ]
    },
    {
      "cell_type": "code",
      "execution_count": 48,
      "id": "35a787e6",
      "metadata": {
        "colab": {
          "base_uri": "https://localhost:8080/",
          "height": 948
        },
        "id": "35a787e6",
        "outputId": "5c3f7f5c-8907-47ff-9be6-cef91d1412c3"
      },
      "outputs": [
        {
          "data": {
            "image/png": "[encoded data removed]",
            "text/plain": [
              "<Figure size 1000x500 with 1 Axes>"
            ]
          },
          "metadata": {},
          "output_type": "display_data"
        },
        {
          "data": {
            "image/png": "[encoded data removed]",
            "text/plain": [
              "<Figure size 1000x500 with 1 Axes>"
            ]
          },
          "metadata": {},
          "output_type": "display_data"
        }
      ],
      "source": [
        "import matplotlib.pyplot as plt\n",
        "\n",
        "plt.figure(figsize=(10, 5))\n",
        "plt.plot(train_loss_history, label='Train Loss')\n",
        "plt.plot(val_loss_history, label='Validation Loss')\n",
        "plt.title('Training vs Validation Loss')\n",
        "plt.xlabel('Epoch')\n",
        "plt.ylabel('Loss')\n",
        "plt.legend()\n",
        "plt.grid(True)\n",
        "plt.show()\n",
        "\n",
        "plt.figure(figsize=(10, 5))\n",
        "plt.plot(train_acc_history, label='Train Accuracy')\n",
        "plt.plot(val_acc_history, label='Validation Accuracy')\n",
        "plt.title('Training vs Validation Accuracy')\n",
        "plt.xlabel('Epoch')\n",
        "plt.ylabel('Accuracy')\n",
        "plt.legend()\n",
        "plt.grid(True)\n",
        "plt.show()"
      ]
    },
    {
      "cell_type": "code",
      "execution_count": 48,
      "id": "wBVbg9shWaEE",
      "metadata": {
        "id": "wBVbg9shWaEE"
      },
      "outputs": [],
      "source": []
    }
  ],
  "metadata": {
    "accelerator": "GPU",
    "colab": {
      "gpuType": "L4",
      "machine_shape": "hm",
      "provenance": []
    },
    "kernelspec": {
      "display_name": "Python 3",
      "name": "python3"
    },
    "language_info": {
      "codemirror_mode": {
        "name": "ipython",
        "version": 3
      },
      "file_extension": ".py",
      "mimetype": "text/x-python",
      "name": "python",
      "nbconvert_exporter": "python",
      "pygments_lexer": "ipython3",
      "version": "3.10.0"
    }
  },
  "nbformat": 4,
  "nbformat_minor": 5
}
