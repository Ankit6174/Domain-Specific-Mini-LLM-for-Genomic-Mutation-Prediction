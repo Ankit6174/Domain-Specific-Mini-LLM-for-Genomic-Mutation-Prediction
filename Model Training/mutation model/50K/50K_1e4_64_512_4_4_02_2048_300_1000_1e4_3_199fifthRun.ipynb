{
  "cells": [
    {
      "cell_type": "code",
      "execution_count": 19,
      "metadata": {
        "id": "pGcWf4F5JcMc"
      },
      "outputs": [],
      "source": [
        "hyperparameters = {\n",
        "    \"learning_rate\": 1e-4,\n",
        "    \"batch_size\": 64,\n",
        "    \"embed_dim\": 512,\n",
        "    \"num_heads\": 4,\n",
        "    \"num_layers\": 4,\n",
        "    \"dropout\": 0.3,\n",
        "    \"ff_dim\": 2048,\n",
        "    \"epochs\": 300,\n",
        "    \"num_warmup_steps\": 1000,\n",
        "    \"weight_decay\": 1e-4,\n",
        "    \"k-mers\": 3,\n",
        "    \"max_len\": 199\n",
        "}\n",
        "\n",
        "info = {\n",
        "    \"dataset_size\": \"50K\",\n",
        "    \"precision\": \"FP16\",\n",
        "    \"dir_name\": \"Mutation Model\",\n",
        "    \"run\": \"Fifth Run\",\n",
        "    \"loss\": {\n",
        "        \"type\": \"Focal Loss\",\n",
        "        \"alpha\": 0.75,\n",
        "        \"gamma\": 3\n",
        "    },\n",
        "    \"optimizer\": \"Adam\",\n",
        "    \"is_pre_training\": False\n",
        "}"
      ]
    },
    {
      "cell_type": "code",
      "source": [
        "from google.colab import drive\n",
        "drive.mount('/content/drive')"
      ],
      "metadata": {
        "colab": {
          "base_uri": "https://localhost:8080/"
        },
        "id": "39nTODPl6tqB",
        "outputId": "70ad93f1-4fa7-431f-f295-5a117eaa9635"
      },
      "execution_count": 2,
      "outputs": [
        {
          "output_type": "stream",
          "name": "stdout",
          "text": [
            "Mounted at /content/drive\n"
          ]
        }
      ]
    },
    {
      "cell_type": "code",
      "execution_count": 3,
      "metadata": {
        "colab": {
          "base_uri": "https://localhost:8080/"
        },
        "id": "V1v98WHCJoDO",
        "outputId": "a13c294c-5f6b-41a6-dfd5-9e1130212f40"
      },
      "outputs": [
        {
          "output_type": "execute_result",
          "data": {
            "text/plain": [
              "(50000, 10)"
            ]
          },
          "metadata": {},
          "execution_count": 3
        }
      ],
      "source": [
        "import pandas as pd\n",
        "\n",
        "data_path = f\"/content/drive/MyDrive/dataset/{info['dataset_size']}.csv\"\n",
        "\n",
        "data = pd.read_csv(data_path)\n",
        "data.shape"
      ]
    },
    {
      "cell_type": "code",
      "execution_count": 4,
      "metadata": {
        "id": "wR3jf-oAJ2PE"
      },
      "outputs": [],
      "source": [
        "x = data['sequence']\n",
        "y = data['label']"
      ]
    },
    {
      "cell_type": "code",
      "execution_count": 5,
      "metadata": {
        "id": "j-XikXuLJ2M1"
      },
      "outputs": [],
      "source": [
        "def get_codon(seq, k=hyperparameters['k-mers']):\n",
        "    return [seq[i:i+k] for i in range(len(seq) - k + 1)]\n",
        "\n",
        "vocab = {}\n",
        "\n",
        "for seq in data['sequence']:\n",
        "    for codons in get_codon(seq.lower()):\n",
        "        if codons not in vocab:\n",
        "            vocab[codons] = len(vocab)\n",
        "        else:\n",
        "            continue\n",
        "\n",
        "def get_tensor(text):\n",
        "    return [vocab[codons.lower()] for codons in get_codon(text)]"
      ]
    },
    {
      "cell_type": "code",
      "execution_count": 6,
      "metadata": {
        "id": "3dzO0_F0J2Kw"
      },
      "outputs": [],
      "source": [
        "import torch\n",
        "from torch import nn, optim\n",
        "from torch.utils.data import Dataset, DataLoader, random_split\n",
        "\n",
        "class CustomDataset(Dataset):\n",
        "  def __init__(self, x, y):\n",
        "    self.x_frame = x\n",
        "    self.y_frame = y\n",
        "\n",
        "  def __len__(self):\n",
        "    return len(self.x_frame)\n",
        "\n",
        "  def __getitem__(self, index):\n",
        "    x = torch.tensor(get_tensor(self.x_frame[index]), dtype=torch.long)\n",
        "    y = torch.tensor(self.y_frame[index], dtype=torch.long)\n",
        "    return x, y"
      ]
    },
    {
      "cell_type": "code",
      "execution_count": 7,
      "metadata": {
        "id": "YxR8TknxJ2Io"
      },
      "outputs": [],
      "source": [
        "dataset = CustomDataset(x, y)"
      ]
    },
    {
      "cell_type": "code",
      "execution_count": 8,
      "metadata": {
        "id": "QF1Z099wJ2Gb"
      },
      "outputs": [],
      "source": [
        "train_size = int(0.8 * len(dataset))\n",
        "test_size = len(dataset) - train_size\n",
        "\n",
        "train_dataset, test_dataset = random_split(dataset, [train_size, test_size])"
      ]
    },
    {
      "cell_type": "code",
      "execution_count": 9,
      "metadata": {
        "id": "wOWyu19_J2EZ"
      },
      "outputs": [],
      "source": [
        "train_loader = DataLoader(train_dataset, batch_size=hyperparameters['batch_size'], shuffle=True)\n",
        "test_loader = DataLoader(test_dataset, batch_size=hyperparameters['batch_size'])"
      ]
    },
    {
      "cell_type": "code",
      "execution_count": 10,
      "metadata": {
        "id": "MJTZAUbQJ2Ca"
      },
      "outputs": [],
      "source": [
        "import math\n",
        "\n",
        "class PositionalEncoding(nn.Module):\n",
        "    def __init__(self, embed_dim, max_len=5000):\n",
        "        super().__init__()\n",
        "\n",
        "        pe = torch.zeros(max_len, embed_dim)\n",
        "        position = torch.arange(0, max_len).unsqueeze(1)\n",
        "\n",
        "        div_term = torch.exp((torch.arange(0, embed_dim, 2)) * (-math.log(10000.0) / embed_dim))\n",
        "\n",
        "        pe[:, 0::2] = torch.sin(position * div_term)\n",
        "        pe[:, 1::2] = torch.cos(position * div_term)\n",
        "\n",
        "        pe = pe.unsqueeze(0)\n",
        "        self.register_buffer('pe', pe)\n",
        "\n",
        "    def forward(self, x):\n",
        "        x = x + self.pe[:, :x.size(1), :].to(x.device)\n",
        "        return x\n",
        "\n",
        "class Transformer(nn.Module):\n",
        "    def __init__(self, embed_dim=512, num_heads=8, num_layers=6, ff_dim=2048, dropout=0.1, vocab_size=10000, max_len=5000):\n",
        "        super(Transformer, self).__init__()\n",
        "        self.embeddings = nn.Embedding(vocab_size, embed_dim)\n",
        "        self.position_encoding = PositionalEncoding(embed_dim=embed_dim, max_len=max_len)\n",
        "\n",
        "        encoder_layer = nn.TransformerEncoderLayer(\n",
        "            d_model=embed_dim,\n",
        "            nhead=num_heads,\n",
        "            dim_feedforward=ff_dim,\n",
        "            dropout=dropout,\n",
        "            batch_first=True\n",
        "        )\n",
        "        self.encoder = nn.TransformerEncoder(\n",
        "            encoder_layer=encoder_layer,\n",
        "            num_layers=num_layers\n",
        "        )\n",
        "\n",
        "        self.y_labels_out = nn.Linear(embed_dim, 5)\n",
        "\n",
        "    def forward(self, x):\n",
        "        x = self.embeddings(x)\n",
        "        x = self.position_encoding(x)\n",
        "\n",
        "        x = self.encoder(x)\n",
        "        x = x.mean(dim=1)\n",
        "\n",
        "        y_label_out = self.y_labels_out(x)\n",
        "        return y_label_out"
      ]
    },
    {
      "cell_type": "code",
      "execution_count": 11,
      "metadata": {
        "id": "3y4bHJVbJ2AQ"
      },
      "outputs": [],
      "source": [
        "model = Transformer(\n",
        "    embed_dim=hyperparameters['embed_dim'],\n",
        "    num_heads=hyperparameters['num_heads'],\n",
        "    num_layers=hyperparameters['num_layers'],\n",
        "    ff_dim=hyperparameters['ff_dim'],\n",
        "    dropout=hyperparameters['dropout'],\n",
        "    vocab_size=len(vocab),\n",
        "    max_len=hyperparameters['max_len']\n",
        ")"
      ]
    },
    {
      "cell_type": "code",
      "source": [
        "if info['is_pre_training']:\n",
        "    checkpoint = torch.load(f\"{info['dir_name']}/{info['run']}/checkpoint.pth\")\n",
        "\n",
        "    model.load_state_dict(checkpoint['model_state_dict'])"
      ],
      "metadata": {
        "id": "cTSxhHX13esJ"
      },
      "execution_count": 12,
      "outputs": []
    },
    {
      "cell_type": "code",
      "execution_count": 13,
      "metadata": {
        "colab": {
          "base_uri": "https://localhost:8080/"
        },
        "id": "q00nuF8HJ1-H",
        "outputId": "2bd4bb3d-43a5-4cf3-a36a-1117c85a4f98"
      },
      "outputs": [
        {
          "output_type": "execute_result",
          "data": {
            "text/plain": [
              "Transformer(\n",
              "  (embeddings): Embedding(64, 512)\n",
              "  (position_encoding): PositionalEncoding()\n",
              "  (encoder): TransformerEncoder(\n",
              "    (layers): ModuleList(\n",
              "      (0-3): 4 x TransformerEncoderLayer(\n",
              "        (self_attn): MultiheadAttention(\n",
              "          (out_proj): NonDynamicallyQuantizableLinear(in_features=512, out_features=512, bias=True)\n",
              "        )\n",
              "        (linear1): Linear(in_features=512, out_features=2048, bias=True)\n",
              "        (dropout): Dropout(p=0.3, inplace=False)\n",
              "        (linear2): Linear(in_features=2048, out_features=512, bias=True)\n",
              "        (norm1): LayerNorm((512,), eps=1e-05, elementwise_affine=True)\n",
              "        (norm2): LayerNorm((512,), eps=1e-05, elementwise_affine=True)\n",
              "        (dropout1): Dropout(p=0.3, inplace=False)\n",
              "        (dropout2): Dropout(p=0.3, inplace=False)\n",
              "      )\n",
              "    )\n",
              "  )\n",
              "  (y_labels_out): Linear(in_features=512, out_features=5, bias=True)\n",
              ")"
            ]
          },
          "metadata": {},
          "execution_count": 13
        }
      ],
      "source": [
        "device = torch.device(\"cuda\" if torch.cuda.is_available() else \"cpu\")\n",
        "model.to(device)"
      ]
    },
    {
      "cell_type": "code",
      "execution_count": 14,
      "metadata": {
        "colab": {
          "base_uri": "https://localhost:8080/"
        },
        "id": "V2Qa9JHAKI1-",
        "outputId": "65afabd5-cb0e-4c15-b4b7-e6d775021239"
      },
      "outputs": [
        {
          "output_type": "execute_result",
          "data": {
            "text/plain": [
              "device(type='cuda')"
            ]
          },
          "metadata": {},
          "execution_count": 14
        }
      ],
      "source": [
        "device"
      ]
    },
    {
      "cell_type": "code",
      "execution_count": 15,
      "metadata": {
        "colab": {
          "base_uri": "https://localhost:8080/"
        },
        "id": "5_4lFoaqKIz4",
        "outputId": "cbf659ce-ae7b-423a-e3e6-7199ab53b24a"
      },
      "outputs": [
        {
          "output_type": "stream",
          "name": "stdout",
          "text": [
            "Total trainable parameters: 12644869\n"
          ]
        }
      ],
      "source": [
        "num_params = sum(p.numel() for p in model.parameters() if p.requires_grad)\n",
        "print(f\"Total trainable parameters: {num_params}\")"
      ]
    },
    {
      "cell_type": "code",
      "source": [
        "class_counts = data['label'].value_counts().sort_index().values\n",
        "weights = 1. / torch.tensor(class_counts, dtype=torch.float)\n",
        "weights = weights / weights.sum()\n",
        "weights = weights.to(device)"
      ],
      "metadata": {
        "id": "YkfejgLk-qEC"
      },
      "execution_count": 16,
      "outputs": []
    },
    {
      "cell_type": "code",
      "source": [
        "import torch.nn.functional as F\n",
        "\n",
        "class FocalLoss(nn.Module):\n",
        "    def __init__(self, alpha=0.25, gamma=2, weight=None, reduction='mean'):\n",
        "        super(FocalLoss, self).__init__()\n",
        "        self.alpha = alpha\n",
        "        self.gamma = gamma\n",
        "        self.weight = weight\n",
        "        self.reduction = reduction\n",
        "\n",
        "    def forward(self, inputs, targets):\n",
        "        ce_loss = F.cross_entropy(inputs, targets, weight=self.weight, reduction='none')\n",
        "\n",
        "        probs = torch.softmax(inputs, dim=-1)\n",
        "\n",
        "        probs_for_class = probs.gather(1, targets.unsqueeze(1))\n",
        "\n",
        "        focal_loss = self.alpha * (1 - probs_for_class) ** self.gamma * ce_loss\n",
        "\n",
        "        if self.reduction == 'mean':\n",
        "            return focal_loss.mean()\n",
        "        elif self.reduction == 'sum':\n",
        "            return focal_loss.sum()\n",
        "        else:\n",
        "            return focal_loss"
      ],
      "metadata": {
        "id": "9VJClQiUF4Z5"
      },
      "execution_count": 17,
      "outputs": []
    },
    {
      "cell_type": "code",
      "source": [
        "from transformers import get_linear_schedule_with_warmup\n",
        "\n",
        "ce = FocalLoss(alpha=info['loss']['alpha'], gamma=info['loss']['gamma'], weight=weights)\n",
        "optimizer = torch.optim.Adam(model.parameters(), lr=hyperparameters['learning_rate'], weight_decay=hyperparameters[\"weight_decay\"])\n",
        "scaler = torch.cuda.amp.GradScaler()\n",
        "\n",
        "if info['is_pre_training']:\n",
        "  optimizer.load_state_dict(checkpoint['optimizer_state_dict'])\n",
        "  print(\"Optimizer loaded\")\n",
        "\n",
        "num_training_steps = len(train_loader) * hyperparameters['epochs']\n",
        "num_warmup_steps = hyperparameters[\"num_warmup_steps\"]\n",
        "\n",
        "scheduler = get_linear_schedule_with_warmup(\n",
        "    optimizer,\n",
        "    num_warmup_steps=num_warmup_steps,\n",
        "    num_training_steps=num_training_steps\n",
        ")"
      ],
      "metadata": {
        "colab": {
          "base_uri": "https://localhost:8080/"
        },
        "id": "CzD3mebp3HZh",
        "outputId": "715e4d79-d050-457f-8826-461e2ae07195"
      },
      "execution_count": 20,
      "outputs": [
        {
          "output_type": "stream",
          "name": "stderr",
          "text": [
            "/tmp/ipython-input-3510149251.py:5: FutureWarning: `torch.cuda.amp.GradScaler(args...)` is deprecated. Please use `torch.amp.GradScaler('cuda', args...)` instead.\n",
            "  scaler = torch.cuda.amp.GradScaler()\n"
          ]
        }
      ]
    },
    {
      "cell_type": "code",
      "execution_count": 21,
      "metadata": {
        "id": "3YrLO_deKIvu"
      },
      "outputs": [],
      "source": [
        "def train32(model, loader, ce, optimizer):\n",
        "    model.train()\n",
        "\n",
        "    running_loss, correct, total = 0.0, 0, 0\n",
        "\n",
        "    for x, y in loader:\n",
        "        optimizer.zero_grad()\n",
        "\n",
        "        x = x.to(device)\n",
        "        y = y.to(device)\n",
        "\n",
        "        output = model(x)\n",
        "        loss = ce(output, y)\n",
        "\n",
        "        prediction = torch.argmax(output, dim=1)\n",
        "        correct += (prediction == y).sum().item()\n",
        "        total += len(x)\n",
        "\n",
        "        loss.backward()\n",
        "\n",
        "        optimizer.step()\n",
        "\n",
        "        running_loss += loss.item() * len(x)\n",
        "\n",
        "    accuracy = correct / total\n",
        "\n",
        "    return (\n",
        "        running_loss / len(loader.dataset),\n",
        "        accuracy\n",
        "    )\n",
        "\n",
        "def train16(model, loader, ce, optimizer, scaler, scheduler):\n",
        "    model.train()\n",
        "    running_loss, correct, total = 0.0, 0, 0\n",
        "\n",
        "    for x, y in loader:\n",
        "        optimizer.zero_grad()\n",
        "        x = x.to(device)\n",
        "        y = y.to(device)\n",
        "\n",
        "        with torch.cuda.amp.autocast(dtype=torch.float16):\n",
        "            output = model(x)\n",
        "            loss = ce(output, y)\n",
        "\n",
        "        prediction = torch.argmax(output, dim=1)\n",
        "        correct += (prediction == y).sum().item()\n",
        "        total += len(x)\n",
        "\n",
        "        scaler.scale(loss).backward()\n",
        "        scaler.step(optimizer)\n",
        "        scaler.update()\n",
        "\n",
        "        scheduler.step()\n",
        "\n",
        "        running_loss += loss.item() * len(x)\n",
        "\n",
        "    accuracy = correct / total\n",
        "    return (\n",
        "        running_loss / len(loader.dataset),\n",
        "        accuracy\n",
        "    )"
      ]
    },
    {
      "cell_type": "code",
      "execution_count": 22,
      "metadata": {
        "id": "hK6At-_VKItX"
      },
      "outputs": [],
      "source": [
        "def validation(model, loader, ce):\n",
        "    model.eval()\n",
        "\n",
        "    running_loss, correct, total = 0.0, 0, 0\n",
        "\n",
        "    with torch.no_grad():\n",
        "        for x, y in loader:\n",
        "            x = x.to(device)\n",
        "            y = y.to(device)\n",
        "\n",
        "            if info['precision'] == 'FP16':\n",
        "              with torch.cuda.amp.autocast(dtype=torch.float16):\n",
        "                  output = model(x)\n",
        "                  loss = ce(output, y)\n",
        "            else:\n",
        "              output = model(x)\n",
        "              loss = ce(output, y)\n",
        "\n",
        "            running_loss += loss.item() * len(x)\n",
        "\n",
        "            prediction = torch.argmax(output, dim=1)\n",
        "            correct += (prediction == y).sum().item()\n",
        "\n",
        "            total += len(x)\n",
        "\n",
        "    accuracy = correct / total\n",
        "\n",
        "    return (\n",
        "        running_loss / len(loader.dataset),\n",
        "        accuracy\n",
        "    )"
      ]
    },
    {
      "cell_type": "code",
      "execution_count": 23,
      "metadata": {
        "colab": {
          "base_uri": "https://localhost:8080/"
        },
        "id": "2mL_srk1KQNu",
        "outputId": "d1158887-82f0-4721-f62d-d39ac393309c"
      },
      "outputs": [
        {
          "output_type": "stream",
          "name": "stderr",
          "text": [
            "/tmp/ipython-input-2163399810.py:41: FutureWarning: `torch.cuda.amp.autocast(args...)` is deprecated. Please use `torch.amp.autocast('cuda', args...)` instead.\n",
            "  with torch.cuda.amp.autocast(dtype=torch.float16):\n",
            "/tmp/ipython-input-260272857.py:12: FutureWarning: `torch.cuda.amp.autocast(args...)` is deprecated. Please use `torch.amp.autocast('cuda', args...)` instead.\n",
            "  with torch.cuda.amp.autocast(dtype=torch.float16):\n"
          ]
        },
        {
          "output_type": "stream",
          "name": "stdout",
          "text": [
            "Epoch (1/300): Train Loss = 0.0200, Valitation Loss = 0.0192, Train_acc = 0.5572, Val_acc = 0.5495\n",
            "Epoch (2/300): Train Loss = 0.0196, Valitation Loss = 0.0186, Train_acc = 0.5709, Val_acc = 0.5776\n",
            "Epoch (3/300): Train Loss = 0.0193, Valitation Loss = 0.0185, Train_acc = 0.5730, Val_acc = 0.5784\n",
            "Epoch (4/300): Train Loss = 0.0191, Valitation Loss = 0.0187, Train_acc = 0.5776, Val_acc = 0.5784\n",
            "No improvement in val loss Counter = 1/10\n",
            "Epoch (5/300): Train Loss = 0.0190, Valitation Loss = 0.0185, Train_acc = 0.5771, Val_acc = 0.5784\n",
            "Epoch (6/300): Train Loss = 0.0191, Valitation Loss = 0.0185, Train_acc = 0.5777, Val_acc = 0.5784\n",
            "No improvement in val loss Counter = 1/10\n",
            "Epoch (7/300): Train Loss = 0.0191, Valitation Loss = 0.0186, Train_acc = 0.5777, Val_acc = 0.5784\n",
            "No improvement in val loss Counter = 2/10\n",
            "Epoch (8/300): Train Loss = 0.0190, Valitation Loss = 0.0186, Train_acc = 0.5777, Val_acc = 0.5784\n",
            "No improvement in val loss Counter = 3/10\n",
            "Epoch (9/300): Train Loss = 0.0191, Valitation Loss = 0.0185, Train_acc = 0.5777, Val_acc = 0.5784\n",
            "No improvement in val loss Counter = 4/10\n",
            "Epoch (10/300): Train Loss = 0.0191, Valitation Loss = 0.0187, Train_acc = 0.5777, Val_acc = 0.5784\n",
            "Model saved at /content/drive/MyDrive/Mutation Model/modelFifth Run_epoch_10.pth\n",
            "No improvement in val loss Counter = 5/10\n",
            "Epoch (11/300): Train Loss = 0.0191, Valitation Loss = 0.0185, Train_acc = 0.5777, Val_acc = 0.5784\n",
            "No improvement in val loss Counter = 6/10\n",
            "Epoch (12/300): Train Loss = 0.0191, Valitation Loss = 0.0186, Train_acc = 0.5777, Val_acc = 0.5784\n",
            "No improvement in val loss Counter = 7/10\n",
            "Epoch (13/300): Train Loss = 0.0191, Valitation Loss = 0.0185, Train_acc = 0.5777, Val_acc = 0.5784\n",
            "No improvement in val loss Counter = 8/10\n",
            "Epoch (14/300): Train Loss = 0.0191, Valitation Loss = 0.0186, Train_acc = 0.5777, Val_acc = 0.5784\n",
            "No improvement in val loss Counter = 9/10\n",
            "Epoch (15/300): Train Loss = 0.0190, Valitation Loss = 0.0186, Train_acc = 0.5777, Val_acc = 0.5784\n",
            "No improvement in val loss Counter = 10/10\n",
            "Early stopping triggered!\n"
          ]
        }
      ],
      "source": [
        "import os\n",
        "\n",
        "patience = 10\n",
        "best_val_loss = float('inf')\n",
        "counter = 0\n",
        "early_stop = False\n",
        "\n",
        "train_loss_history = []\n",
        "train_acc_history = []\n",
        "\n",
        "val_loss_history = []\n",
        "val_acc_history = []\n",
        "\n",
        "save_dir = f\"/content/drive/MyDrive/{info['dir_name']}\"\n",
        "os.makedirs(save_dir, exist_ok=True)\n",
        "\n",
        "for epoch in range(1, hyperparameters['epochs']+1):\n",
        "    if info['precision'] == 'FP16':\n",
        "      current_train_loss, current_train_acc = train16(\n",
        "            model,\n",
        "            train_loader,\n",
        "            ce,\n",
        "            optimizer,\n",
        "            scaler,\n",
        "            scheduler\n",
        "        )\n",
        "    else:\n",
        "      current_train_loss, current_train_acc = train32(\n",
        "          model,\n",
        "          train_loader,\n",
        "          ce,\n",
        "          optimizer\n",
        "      )\n",
        "\n",
        "    current_val_loss, current_val_acc = validation(\n",
        "        model,\n",
        "        test_loader,\n",
        "        ce\n",
        "    )\n",
        "\n",
        "    train_loss_history.append(current_train_loss)\n",
        "    train_acc_history.append(current_train_acc)\n",
        "\n",
        "    val_loss_history.append(current_val_loss)\n",
        "    val_acc_history.append(current_val_acc)\n",
        "\n",
        "    print(f\"Epoch ({epoch}/{hyperparameters['epochs']}): Train Loss = {current_train_loss:.4f}, Valitation Loss = {current_val_loss:.4f}, Train_acc = {current_train_acc:.4f}, Val_acc = {current_val_acc:.4f}\")\n",
        "\n",
        "    if epoch % 10 == 0:\n",
        "      checkpoint_path = f\"{save_dir}/model{info['run']}_epoch_{epoch}.pth\"\n",
        "      torch.save({\n",
        "          'epoch': epoch,\n",
        "          'model_state_dict': model.state_dict(),\n",
        "          'optimizer_state_dict': optimizer.state_dict(),\n",
        "          'train_losses': train_loss_history,\n",
        "          'val_losses': val_loss_history,\n",
        "          'train_acc': train_acc_history,\n",
        "          'val_acc': val_acc_history\n",
        "      }, checkpoint_path)\n",
        "      print(f\"Model saved at {checkpoint_path}\")\n",
        "\n",
        "    if current_val_loss < best_val_loss:\n",
        "        best_val_loss = current_val_loss\n",
        "        counter = 0\n",
        "        continue\n",
        "    else:\n",
        "        counter += 1\n",
        "        print(f\"No improvement in val loss Counter = {counter}/{patience}\")\n",
        "        if counter >= patience:\n",
        "            print(\"Early stopping triggered!\")\n",
        "            early_stop = True\n",
        "            break"
      ]
    },
    {
      "cell_type": "code",
      "source": [
        "def get_predictions_and_labels(model, loader):\n",
        "    model.eval()\n",
        "    all_y_true = []\n",
        "    all_y_pred = []\n",
        "\n",
        "    with torch.no_grad():\n",
        "        for x, y in loader:\n",
        "            x = x.to(device)\n",
        "            y = y.to(device)\n",
        "\n",
        "            yout = model(x)\n",
        "\n",
        "            _, pred_mut = torch.max(yout, 1)\n",
        "\n",
        "            all_y_true.extend(y.cpu().numpy())\n",
        "            all_y_pred.extend(pred_mut.cpu().numpy())\n",
        "\n",
        "    return (\n",
        "        (all_y_true, all_y_pred)\n",
        "    )"
      ],
      "metadata": {
        "id": "fchAhqxA5bKy"
      },
      "execution_count": 24,
      "outputs": []
    },
    {
      "cell_type": "code",
      "source": [
        "from sklearn.metrics import classification_report\n",
        "\n",
        "(y_true, y_pred) = get_predictions_and_labels(model, test_loader)\n",
        "\n",
        "print(\"\\n\" + \"=\"*60)\n",
        "print(\"Classification Report Summary\")\n",
        "print(\"=\"*60)\n",
        "\n",
        "print(\"\\n[1] Classification Report — Mutation Label\")\n",
        "print(\"-\" * 60)\n",
        "print(classification_report(y_true, y_pred))\n",
        "\n",
        "print(\"=\"*60 + \"\\n\")\n"
      ],
      "metadata": {
        "colab": {
          "base_uri": "https://localhost:8080/"
        },
        "id": "-Ild1bHo5XY4",
        "outputId": "7deaad56-1bd4-4fb4-b83d-71bb1c39c906"
      },
      "execution_count": 25,
      "outputs": [
        {
          "output_type": "stream",
          "name": "stdout",
          "text": [
            "\n",
            "============================================================\n",
            "Classification Report Summary\n",
            "============================================================\n",
            "\n",
            "[1] Classification Report — Mutation Label\n",
            "------------------------------------------------------------\n",
            "              precision    recall  f1-score   support\n",
            "\n",
            "           0       0.00      0.00      0.00       601\n",
            "           1       0.00      0.00      0.00      3169\n",
            "           2       0.58      1.00      0.73      5784\n",
            "           3       0.00      0.00      0.00       223\n",
            "           4       0.00      0.00      0.00       223\n",
            "\n",
            "    accuracy                           0.58     10000\n",
            "   macro avg       0.12      0.20      0.15     10000\n",
            "weighted avg       0.33      0.58      0.42     10000\n",
            "\n",
            "============================================================\n",
            "\n"
          ]
        },
        {
          "output_type": "stream",
          "name": "stderr",
          "text": [
            "/usr/local/lib/python3.12/dist-packages/sklearn/metrics/_classification.py:1565: UndefinedMetricWarning: Precision is ill-defined and being set to 0.0 in labels with no predicted samples. Use `zero_division` parameter to control this behavior.\n",
            "  _warn_prf(average, modifier, f\"{metric.capitalize()} is\", len(result))\n",
            "/usr/local/lib/python3.12/dist-packages/sklearn/metrics/_classification.py:1565: UndefinedMetricWarning: Precision is ill-defined and being set to 0.0 in labels with no predicted samples. Use `zero_division` parameter to control this behavior.\n",
            "  _warn_prf(average, modifier, f\"{metric.capitalize()} is\", len(result))\n",
            "/usr/local/lib/python3.12/dist-packages/sklearn/metrics/_classification.py:1565: UndefinedMetricWarning: Precision is ill-defined and being set to 0.0 in labels with no predicted samples. Use `zero_division` parameter to control this behavior.\n",
            "  _warn_prf(average, modifier, f\"{metric.capitalize()} is\", len(result))\n"
          ]
        }
      ]
    },
    {
      "cell_type": "code",
      "source": [
        "from sklearn.metrics import confusion_matrix, ConfusionMatrixDisplay\n",
        "\n",
        "cm = confusion_matrix(y_true, y_pred)\n",
        "disp = ConfusionMatrixDisplay(confusion_matrix=cm)\n",
        "disp.plot(xticks_rotation=45)"
      ],
      "metadata": {
        "colab": {
          "base_uri": "https://localhost:8080/",
          "height": 470
        },
        "id": "HZh0OCyv5RrR",
        "outputId": "818e6b3a-ae5b-4d1f-ef87-7c5ccbcde57f"
      },
      "execution_count": 26,
      "outputs": [
        {
          "output_type": "execute_result",
          "data": {
            "text/plain": [
              "<sklearn.metrics._plot.confusion_matrix.ConfusionMatrixDisplay at 0x7bdb07a38ce0>"
            ]
          },
          "metadata": {},
          "execution_count": 26
        },
        {
          "output_type": "display_data",
          "data": {
            "text/plain": [
              "<Figure size 640x480 with 2 Axes>"
            ],
            "image/png": "[encoded data removed]"
          },
          "metadata": {}
        }
      ]
    },
    {
      "cell_type": "code",
      "execution_count": 27,
      "metadata": {
        "colab": {
          "base_uri": "https://localhost:8080/",
          "height": 935
        },
        "id": "uiqFXZj3KsP6",
        "outputId": "e30220d9-d34a-4fb4-ca28-af9c6ca481f9"
      },
      "outputs": [
        {
          "output_type": "display_data",
          "data": {
            "text/plain": [
              "<Figure size 1000x500 with 1 Axes>"
            ],
            "image/png": "[encoded data removed]"
          },
          "metadata": {}
        },
        {
          "output_type": "display_data",
          "data": {
            "text/plain": [
              "<Figure size 1000x500 with 1 Axes>"
            ],
            "image/png": "[encoded data removed]"
          },
          "metadata": {}
        }
      ],
      "source": [
        "import matplotlib.pyplot as plt\n",
        "\n",
        "plt.figure(figsize=(10, 5))\n",
        "plt.plot(train_loss_history, label='Train Loss', marker='o')\n",
        "plt.plot(val_loss_history, label='Validation Loss', marker='o')\n",
        "plt.title('Training vs Validation Loss')\n",
        "plt.xlabel('Epoch')\n",
        "plt.ylabel('Loss')\n",
        "plt.legend()\n",
        "plt.grid(True)\n",
        "plt.show()\n",
        "\n",
        "plt.figure(figsize=(10, 5))\n",
        "plt.plot(train_acc_history, label='Train Accuracy', marker='o')\n",
        "plt.plot(val_acc_history, label='Validation Accuracy', marker='o')\n",
        "plt.title('Training vs Validation Accuracy')\n",
        "plt.xlabel('Epoch')\n",
        "plt.ylabel('Accuracy')\n",
        "plt.legend()\n",
        "plt.grid(True)\n",
        "plt.show()"
      ]
    },
    {
      "cell_type": "code",
      "source": [],
      "metadata": {
        "id": "E7zwemA67uJQ"
      },
      "execution_count": 27,
      "outputs": []
    }
  ],
  "metadata": {
    "colab": {
      "provenance": [],
      "machine_shape": "hm",
      "gpuType": "L4"
    },
    "kernelspec": {
      "display_name": "Python 3",
      "name": "python3"
    },
    "language_info": {
      "codemirror_mode": {
        "name": "ipython",
        "version": 3
      },
      "file_extension": ".py",
      "mimetype": "text/x-python",
      "name": "python",
      "nbconvert_exporter": "python",
      "pygments_lexer": "ipython3",
      "version": "3.10.0"
    },
    "accelerator": "GPU"
  },
  "nbformat": 4,
  "nbformat_minor": 0
}