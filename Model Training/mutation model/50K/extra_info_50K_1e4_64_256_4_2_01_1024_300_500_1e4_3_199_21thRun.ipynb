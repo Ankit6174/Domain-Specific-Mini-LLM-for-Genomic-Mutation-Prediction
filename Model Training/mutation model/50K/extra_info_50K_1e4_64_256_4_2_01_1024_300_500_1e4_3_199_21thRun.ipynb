{
  "cells": [
    {
      "cell_type": "code",
      "execution_count": 1,
      "id": "d213b597",
      "metadata": {
        "id": "d213b597"
      },
      "outputs": [],
      "source": [
        "hyperparameters = {\n",
        "    \"learning_rate\": 1e-4,\n",
        "    \"batch_size\": 64,\n",
        "    \"embed_dim\": 256,\n",
        "    \"num_heads\": 4,\n",
        "    \"num_layers\": 2,\n",
        "    \"dropout\": 0.1,\n",
        "    \"ff_dim\": 1024,\n",
        "    \"epochs\": 300,\n",
        "    \"num_warmup_steps\": 500,\n",
        "    \"weight_decay\": 1e-4,\n",
        "    \"num_extra_features\": 6 + 12 + 12,\n",
        "    \"k-mers\": 3,\n",
        "    \"max_len\": 199\n",
        "}\n",
        "\n",
        "info = {\n",
        "    \"dataset_size\": \"50K\",\n",
        "    \"precision\": \"FP16\",\n",
        "    \"dir_name\": \"Mutation Model\",\n",
        "    \"run\": \"21th Run\",\n",
        "    \"loss\": {\n",
        "        \"type\": \"CB Weighted Cross Entropy Loss\",\n",
        "        \"alpha\": 0.75, # Removed\n",
        "        \"gamma\": 2\n",
        "    },\n",
        "    \"optimizer\": \"Adam\",\n",
        "    \"is_pre_training\": False\n",
        "}"
      ]
    },
    {
      "cell_type": "code",
      "execution_count": 2,
      "metadata": {
        "colab": {
          "base_uri": "https://localhost:8080/"
        },
        "id": "3yVyWzc0P7HU",
        "outputId": "8d1ffcef-e819-41bf-e856-9178a1600f6d"
      },
      "outputs": [
        {
          "output_type": "stream",
          "name": "stdout",
          "text": [
            "Mounted at /content/drive\n"
          ]
        }
      ],
      "source": [
        "from google.colab import drive\n",
        "drive.mount('/content/drive')"
      ],
      "id": "3yVyWzc0P7HU"
    },
    {
      "cell_type": "code",
      "execution_count": 3,
      "id": "259090b3",
      "metadata": {
        "colab": {
          "base_uri": "https://localhost:8080/"
        },
        "id": "259090b3",
        "outputId": "a651af93-5129-4bb8-8c63-ef6ed30b04bf"
      },
      "outputs": [
        {
          "output_type": "execute_result",
          "data": {
            "text/plain": [
              "(50000, 10)"
            ]
          },
          "metadata": {},
          "execution_count": 3
        }
      ],
      "source": [
        "import pandas as pd\n",
        "\n",
        "data_path = f\"/content/drive/MyDrive/dataset/{info['dataset_size']}.csv\"\n",
        "\n",
        "data = pd.read_csv(data_path)\n",
        "data.shape"
      ]
    },
    {
      "cell_type": "code",
      "execution_count": 4,
      "id": "5fb59214",
      "metadata": {
        "id": "5fb59214"
      },
      "outputs": [],
      "source": [
        "def gc_content(seq):\n",
        "    seq = seq.upper()\n",
        "    gc = seq.count('G') + seq.count('C')\n",
        "    return gc / len(seq)\n",
        "\n",
        "data['gc_content'] = data['sequence'].apply(gc_content)"
      ]
    },
    {
      "cell_type": "code",
      "source": [
        "def at_content(seq):\n",
        "    seq = seq.upper()\n",
        "    return (seq.count('A') + seq.count('T')) / len(seq)\n",
        "\n",
        "data['at_content'] = data['sequence'].apply(at_content)"
      ],
      "metadata": {
        "id": "JsldfSEZwGPw"
      },
      "id": "JsldfSEZwGPw",
      "execution_count": 5,
      "outputs": []
    },
    {
      "cell_type": "code",
      "execution_count": 6,
      "id": "76a62e03",
      "metadata": {
        "id": "76a62e03"
      },
      "outputs": [],
      "source": [
        "def is_cpg_site(row):\n",
        "    seq = row['sequence'].upper()\n",
        "    pos = row['mutation_pos']\n",
        "\n",
        "    if pos < len(seq)-1 and seq[pos] == 'C' and seq[pos+1] == 'G':\n",
        "        return 1\n",
        "\n",
        "    if pos > 0 and seq[pos-1] == 'C' and seq[pos] == 'G':\n",
        "        return 1\n",
        "    return 0\n",
        "\n",
        "data['cpg_flag'] = data.apply(is_cpg_site, axis=1)"
      ]
    },
    {
      "cell_type": "code",
      "source": [
        "from collections import Counter\n",
        "import numpy as np\n",
        "\n",
        "def sequence_entropy(seq):\n",
        "    counts = Counter(seq)\n",
        "    total = len(seq)\n",
        "    probs = [count / total for count in counts.values()]\n",
        "    return -sum(p * np.log2(p) for p in probs)\n",
        "\n",
        "data['sequence_entropy'] = data['sequence'].apply(sequence_entropy)"
      ],
      "metadata": {
        "id": "fjasp6RxwbVM"
      },
      "id": "fjasp6RxwbVM",
      "execution_count": 7,
      "outputs": []
    },
    {
      "cell_type": "code",
      "source": [
        "def is_transition(ref, alt):\n",
        "    transitions = {('A','G'), ('G','A'), ('C','T'), ('T','C')}\n",
        "    return 1 if (ref, alt) in transitions else 0"
      ],
      "metadata": {
        "id": "yjm6GoXEwbOT"
      },
      "id": "yjm6GoXEwbOT",
      "execution_count": 8,
      "outputs": []
    },
    {
      "cell_type": "code",
      "source": [
        "transition = []\n",
        "\n",
        "for ref, alt in zip(data['ref'].tolist(), data['alt'].tolist()):\n",
        "    transition.append(is_transition(ref, alt))\n",
        "\n",
        "data['transition'] = transition"
      ],
      "metadata": {
        "id": "2ukxU0BFwbLw"
      },
      "id": "2ukxU0BFwbLw",
      "execution_count": 9,
      "outputs": []
    },
    {
      "cell_type": "code",
      "source": [
        "# Human genome chromosome lengths (GRCh38)\n",
        "chrom_lengths = {\n",
        "    'chr1': 248956422,\n",
        "    'chr2': 242193529,\n",
        "    'chr3': 198295559,\n",
        "    'chr4': 190214555,\n",
        "    'chr5': 181538259,\n",
        "    'chr6': 170805979,\n",
        "    'chr7': 159345973,\n",
        "    'chr8': 145138636,\n",
        "    'chr9': 138394717,\n",
        "    'chr10': 133797422,\n",
        "    'chr11': 135086622,\n",
        "    'chr12': 133275309,\n",
        "    'chr13': 114364328,\n",
        "    'chr14': 107043718,\n",
        "    'chr15': 101991189,\n",
        "    'chr16': 90338345,\n",
        "    'chr17': 83257441,\n",
        "    'chr18': 80373285,\n",
        "    'chr19': 58617616,\n",
        "    'chr20': 64444167,\n",
        "    'chr21': 46709983,\n",
        "    'chr22': 50818468,\n",
        "}\n",
        "\n",
        "# Function to normalize genomic position\n",
        "def normalized_genomic_pos(row):\n",
        "    chrom = row['chrom']\n",
        "    chrom_length = chrom_lengths.get(chrom, 1)  # Default 1 to avoid division by zero\n",
        "    return row['genomic_pos'] / chrom_length\n",
        "\n",
        "# Apply normalization\n",
        "data['genomic_pos_norm'] = data.apply(normalized_genomic_pos, axis=1)"
      ],
      "metadata": {
        "id": "MNCOKNKjwiKQ"
      },
      "id": "MNCOKNKjwiKQ",
      "execution_count": 10,
      "outputs": []
    },
    {
      "cell_type": "code",
      "execution_count": 11,
      "id": "3cb009be",
      "metadata": {
        "id": "3cb009be"
      },
      "outputs": [],
      "source": [
        "data = pd.get_dummies(data, columns=['mutation_type'])"
      ]
    },
    {
      "cell_type": "code",
      "source": [
        "data = pd.get_dummies(data, columns=['chrom'])"
      ],
      "metadata": {
        "id": "uqa9zO5PwlNA"
      },
      "id": "uqa9zO5PwlNA",
      "execution_count": 12,
      "outputs": []
    },
    {
      "cell_type": "code",
      "source": [
        "data.head()"
      ],
      "metadata": {
        "colab": {
          "base_uri": "https://localhost:8080/",
          "height": 256
        },
        "id": "tlSDM5Lmxgma",
        "outputId": "8dffd740-8188-4a9e-d80c-f7850a866a0d"
      },
      "id": "tlSDM5Lmxgma",
      "execution_count": 13,
      "outputs": [
        {
          "output_type": "execute_result",
          "data": {
            "text/plain": [
              "                                            sequence  label  mutation_pos ref  \\\n",
              "0  GGAACAGCTTATTCGTCCTCACCTTCTCCTTCAGACTCTCCTGTGC...      1           101   G   \n",
              "1  GGCGGGCACCGTGGGCCGCCTGTGCAACAAGAGCAGCGCCGGCTCG...      2           101   C   \n",
              "2  AATTAATTGCTAAATTATTTTCTTTAATAGTGAAGAAATTGCCTTT...      2           101   G   \n",
              "3  CTGGGTGGCGAAGGGGTTTGTGCATAAGGACCAGGGACAGCATTTT...      0           101   G   \n",
              "4  ACACTGTCAACCTGGACTCTCATCTGCTTCGGATCTAGGGCCTTGG...      1           101   C   \n",
              "\n",
              "  alt  genomic_pos                                       context_left  \\\n",
              "0   A     13922185  GGAACAGCTTATTCGTCCTCACCTTCTCCTTCAGACTCTCCTGTGC...   \n",
              "1   T    218893179  GGCGGGCACCGTGGGCCGCCTGTGCAACAAGAGCAGCGCCGGCTCG...   \n",
              "2   A     94483240  AATTAATTGCTAAATTATTTTCTTTAATAGTGAAGAAATTGCCTTT...   \n",
              "3   A     11240523  CTGGGTGGCGAAGGGGTTTGTGCATAAGGACCAGGGACAGCATTTT...   \n",
              "4   T     32053831  ACACTGTCAACCTGGACTCTCATCTGCTTCGGATCTAGGGCCTTGG...   \n",
              "\n",
              "                                       context_right  gc_content  at_content  \\\n",
              "0  TTAGCTGCGTCCTGAAGGCCCTCGAGCTCGCCCCAGCCATGGCTCG...    0.562189    0.437811   \n",
              "1  GCAGCGAGCGCTGCCACTGCCGCTTCCACTGGTGCTGTTTCGTGGT...    0.696517    0.303483   \n",
              "2  TAAGATAACACACTTGAGGTTCATGTGTTTATGGAAAGGGTTTTTT...    0.348259    0.651741   \n",
              "3  TAGAGCACTGCAGTGAGGGCAGGGCTGAGGGGAAGGAAACAAGTCA...    0.522388    0.477612   \n",
              "4  AAGACCATCTTCCCAAATGGATCAGCTGCAGAGGACGGAAGACTTA...    0.487562    0.512438   \n",
              "\n",
              "   ...  chrom_chr11  chrom_chr12  chrom_chr2  chrom_chr3  chrom_chr4  \\\n",
              "0  ...        False        False       False       False       False   \n",
              "1  ...        False        False        True       False       False   \n",
              "2  ...        False        False       False       False       False   \n",
              "3  ...        False        False       False       False       False   \n",
              "4  ...        False        False       False       False       False   \n",
              "\n",
              "   chrom_chr5  chrom_chr6  chrom_chr7  chrom_chr8  chrom_chr9  \n",
              "0        True       False       False       False       False  \n",
              "1       False       False       False       False       False  \n",
              "2       False       False       False       False       False  \n",
              "3       False       False       False       False       False  \n",
              "4        True       False       False       False       False  \n",
              "\n",
              "[5 rows x 38 columns]"
            ],
            "text/html": [
              "\n",
              "  <div id=\"df-3a11fe86-182a-4f72-9e7f-9e18d0779aa0\" class=\"colab-df-container\">\n",
              "    <div>\n",
              "<style scoped>\n",
              "    .dataframe tbody tr th:only-of-type {\n",
              "        vertical-align: middle;\n",
              "    }\n",
              "\n",
              "    .dataframe tbody tr th {\n",
              "        vertical-align: top;\n",
              "    }\n",
              "\n",
              "    .dataframe thead th {\n",
              "        text-align: right;\n",
              "    }\n",
              "</style>\n",
              "<table border=\"1\" class=\"dataframe\">\n",
              "  <thead>\n",
              "    <tr style=\"text-align: right;\">\n",
              "      <th></th>\n",
              "      <th>sequence</th>\n",
              "      <th>label</th>\n",
              "      <th>mutation_pos</th>\n",
              "      <th>ref</th>\n",
              "      <th>alt</th>\n",
              "      <th>genomic_pos</th>\n",
              "      <th>context_left</th>\n",
              "      <th>context_right</th>\n",
              "      <th>gc_content</th>\n",
              "      <th>at_content</th>\n",
              "      <th>...</th>\n",
              "      <th>chrom_chr11</th>\n",
              "      <th>chrom_chr12</th>\n",
              "      <th>chrom_chr2</th>\n",
              "      <th>chrom_chr3</th>\n",
              "      <th>chrom_chr4</th>\n",
              "      <th>chrom_chr5</th>\n",
              "      <th>chrom_chr6</th>\n",
              "      <th>chrom_chr7</th>\n",
              "      <th>chrom_chr8</th>\n",
              "      <th>chrom_chr9</th>\n",
              "    </tr>\n",
              "  </thead>\n",
              "  <tbody>\n",
              "    <tr>\n",
              "      <th>0</th>\n",
              "      <td>GGAACAGCTTATTCGTCCTCACCTTCTCCTTCAGACTCTCCTGTGC...</td>\n",
              "      <td>1</td>\n",
              "      <td>101</td>\n",
              "      <td>G</td>\n",
              "      <td>A</td>\n",
              "      <td>13922185</td>\n",
              "      <td>GGAACAGCTTATTCGTCCTCACCTTCTCCTTCAGACTCTCCTGTGC...</td>\n",
              "      <td>TTAGCTGCGTCCTGAAGGCCCTCGAGCTCGCCCCAGCCATGGCTCG...</td>\n",
              "      <td>0.562189</td>\n",
              "      <td>0.437811</td>\n",
              "      <td>...</td>\n",
              "      <td>False</td>\n",
              "      <td>False</td>\n",
              "      <td>False</td>\n",
              "      <td>False</td>\n",
              "      <td>False</td>\n",
              "      <td>True</td>\n",
              "      <td>False</td>\n",
              "      <td>False</td>\n",
              "      <td>False</td>\n",
              "      <td>False</td>\n",
              "    </tr>\n",
              "    <tr>\n",
              "      <th>1</th>\n",
              "      <td>GGCGGGCACCGTGGGCCGCCTGTGCAACAAGAGCAGCGCCGGCTCG...</td>\n",
              "      <td>2</td>\n",
              "      <td>101</td>\n",
              "      <td>C</td>\n",
              "      <td>T</td>\n",
              "      <td>218893179</td>\n",
              "      <td>GGCGGGCACCGTGGGCCGCCTGTGCAACAAGAGCAGCGCCGGCTCG...</td>\n",
              "      <td>GCAGCGAGCGCTGCCACTGCCGCTTCCACTGGTGCTGTTTCGTGGT...</td>\n",
              "      <td>0.696517</td>\n",
              "      <td>0.303483</td>\n",
              "      <td>...</td>\n",
              "      <td>False</td>\n",
              "      <td>False</td>\n",
              "      <td>True</td>\n",
              "      <td>False</td>\n",
              "      <td>False</td>\n",
              "      <td>False</td>\n",
              "      <td>False</td>\n",
              "      <td>False</td>\n",
              "      <td>False</td>\n",
              "      <td>False</td>\n",
              "    </tr>\n",
              "    <tr>\n",
              "      <th>2</th>\n",
              "      <td>AATTAATTGCTAAATTATTTTCTTTAATAGTGAAGAAATTGCCTTT...</td>\n",
              "      <td>2</td>\n",
              "      <td>101</td>\n",
              "      <td>G</td>\n",
              "      <td>A</td>\n",
              "      <td>94483240</td>\n",
              "      <td>AATTAATTGCTAAATTATTTTCTTTAATAGTGAAGAAATTGCCTTT...</td>\n",
              "      <td>TAAGATAACACACTTGAGGTTCATGTGTTTATGGAAAGGGTTTTTT...</td>\n",
              "      <td>0.348259</td>\n",
              "      <td>0.651741</td>\n",
              "      <td>...</td>\n",
              "      <td>False</td>\n",
              "      <td>False</td>\n",
              "      <td>False</td>\n",
              "      <td>False</td>\n",
              "      <td>False</td>\n",
              "      <td>False</td>\n",
              "      <td>False</td>\n",
              "      <td>False</td>\n",
              "      <td>False</td>\n",
              "      <td>False</td>\n",
              "    </tr>\n",
              "    <tr>\n",
              "      <th>3</th>\n",
              "      <td>CTGGGTGGCGAAGGGGTTTGTGCATAAGGACCAGGGACAGCATTTT...</td>\n",
              "      <td>0</td>\n",
              "      <td>101</td>\n",
              "      <td>G</td>\n",
              "      <td>A</td>\n",
              "      <td>11240523</td>\n",
              "      <td>CTGGGTGGCGAAGGGGTTTGTGCATAAGGACCAGGGACAGCATTTT...</td>\n",
              "      <td>TAGAGCACTGCAGTGAGGGCAGGGCTGAGGGGAAGGAAACAAGTCA...</td>\n",
              "      <td>0.522388</td>\n",
              "      <td>0.477612</td>\n",
              "      <td>...</td>\n",
              "      <td>False</td>\n",
              "      <td>False</td>\n",
              "      <td>False</td>\n",
              "      <td>False</td>\n",
              "      <td>False</td>\n",
              "      <td>False</td>\n",
              "      <td>False</td>\n",
              "      <td>False</td>\n",
              "      <td>False</td>\n",
              "      <td>False</td>\n",
              "    </tr>\n",
              "    <tr>\n",
              "      <th>4</th>\n",
              "      <td>ACACTGTCAACCTGGACTCTCATCTGCTTCGGATCTAGGGCCTTGG...</td>\n",
              "      <td>1</td>\n",
              "      <td>101</td>\n",
              "      <td>C</td>\n",
              "      <td>T</td>\n",
              "      <td>32053831</td>\n",
              "      <td>ACACTGTCAACCTGGACTCTCATCTGCTTCGGATCTAGGGCCTTGG...</td>\n",
              "      <td>AAGACCATCTTCCCAAATGGATCAGCTGCAGAGGACGGAAGACTTA...</td>\n",
              "      <td>0.487562</td>\n",
              "      <td>0.512438</td>\n",
              "      <td>...</td>\n",
              "      <td>False</td>\n",
              "      <td>False</td>\n",
              "      <td>False</td>\n",
              "      <td>False</td>\n",
              "      <td>False</td>\n",
              "      <td>True</td>\n",
              "      <td>False</td>\n",
              "      <td>False</td>\n",
              "      <td>False</td>\n",
              "      <td>False</td>\n",
              "    </tr>\n",
              "  </tbody>\n",
              "</table>\n",
              "<p>5 rows × 38 columns</p>\n",
              "</div>\n",
              "    <div class=\"colab-df-buttons\">\n",
              "\n",
              "  <div class=\"colab-df-container\">\n",
              "    <button class=\"colab-df-convert\" onclick=\"convertToInteractive('df-3a11fe86-182a-4f72-9e7f-9e18d0779aa0')\"\n",
              "            title=\"Convert this dataframe to an interactive table.\"\n",
              "            style=\"display:none;\">\n",
              "\n",
              "  <svg xmlns=\"http://www.w3.org/2000/svg\" height=\"24px\" viewBox=\"0 -960 960 960\">\n",
              "    <path d=\"M120-120v-720h720v720H120Zm60-500h600v-160H180v160Zm220 220h160v-160H400v160Zm0 220h160v-160H400v160ZM180-400h160v-160H180v160Zm440 0h160v-160H620v160ZM180-180h160v-160H180v160Zm440 0h160v-160H620v160Z\"/>\n",
              "  </svg>\n",
              "    </button>\n",
              "\n",
              "  <style>\n",
              "    .colab-df-container {\n",
              "      display:flex;\n",
              "      gap: 12px;\n",
              "    }\n",
              "\n",
              "    .colab-df-convert {\n",
              "      background-color: #E8F0FE;\n",
              "      border: none;\n",
              "      border-radius: 50%;\n",
              "      cursor: pointer;\n",
              "      display: none;\n",
              "      fill: #1967D2;\n",
              "      height: 32px;\n",
              "      padding: 0 0 0 0;\n",
              "      width: 32px;\n",
              "    }\n",
              "\n",
              "    .colab-df-convert:hover {\n",
              "      background-color: #E2EBFA;\n",
              "      box-shadow: 0px 1px 2px rgba(60, 64, 67, 0.3), 0px 1px 3px 1px rgba(60, 64, 67, 0.15);\n",
              "      fill: #174EA6;\n",
              "    }\n",
              "\n",
              "    .colab-df-buttons div {\n",
              "      margin-bottom: 4px;\n",
              "    }\n",
              "\n",
              "    [theme=dark] .colab-df-convert {\n",
              "      background-color: #3B4455;\n",
              "      fill: #D2E3FC;\n",
              "    }\n",
              "\n",
              "    [theme=dark] .colab-df-convert:hover {\n",
              "      background-color: #434B5C;\n",
              "      box-shadow: 0px 1px 3px 1px rgba(0, 0, 0, 0.15);\n",
              "      filter: drop-shadow(0px 1px 2px rgba(0, 0, 0, 0.3));\n",
              "      fill: #FFFFFF;\n",
              "    }\n",
              "  </style>\n",
              "\n",
              "    <script>\n",
              "      const buttonEl =\n",
              "        document.querySelector('#df-3a11fe86-182a-4f72-9e7f-9e18d0779aa0 button.colab-df-convert');\n",
              "      buttonEl.style.display =\n",
              "        google.colab.kernel.accessAllowed ? 'block' : 'none';\n",
              "\n",
              "      async function convertToInteractive(key) {\n",
              "        const element = document.querySelector('#df-3a11fe86-182a-4f72-9e7f-9e18d0779aa0');\n",
              "        const dataTable =\n",
              "          await google.colab.kernel.invokeFunction('convertToInteractive',\n",
              "                                                    [key], {});\n",
              "        if (!dataTable) return;\n",
              "\n",
              "        const docLinkHtml = 'Like what you see? Visit the ' +\n",
              "          '<a target=\"_blank\" href=https://colab.research.google.com/notebooks/data_table.ipynb>data table notebook</a>'\n",
              "          + ' to learn more about interactive tables.';\n",
              "        element.innerHTML = '';\n",
              "        dataTable['output_type'] = 'display_data';\n",
              "        await google.colab.output.renderOutput(dataTable, element);\n",
              "        const docLink = document.createElement('div');\n",
              "        docLink.innerHTML = docLinkHtml;\n",
              "        element.appendChild(docLink);\n",
              "      }\n",
              "    </script>\n",
              "  </div>\n",
              "\n",
              "\n",
              "    <div id=\"df-3d3a8355-76df-4d55-9e9c-00fd531ee78e\">\n",
              "      <button class=\"colab-df-quickchart\" onclick=\"quickchart('df-3d3a8355-76df-4d55-9e9c-00fd531ee78e')\"\n",
              "                title=\"Suggest charts\"\n",
              "                style=\"display:none;\">\n",
              "\n",
              "<svg xmlns=\"http://www.w3.org/2000/svg\" height=\"24px\"viewBox=\"0 0 24 24\"\n",
              "     width=\"24px\">\n",
              "    <g>\n",
              "        <path d=\"M19 3H5c-1.1 0-2 .9-2 2v14c0 1.1.9 2 2 2h14c1.1 0 2-.9 2-2V5c0-1.1-.9-2-2-2zM9 17H7v-7h2v7zm4 0h-2V7h2v10zm4 0h-2v-4h2v4z\"/>\n",
              "    </g>\n",
              "</svg>\n",
              "      </button>\n",
              "\n",
              "<style>\n",
              "  .colab-df-quickchart {\n",
              "      --bg-color: #E8F0FE;\n",
              "      --fill-color: #1967D2;\n",
              "      --hover-bg-color: #E2EBFA;\n",
              "      --hover-fill-color: #174EA6;\n",
              "      --disabled-fill-color: #AAA;\n",
              "      --disabled-bg-color: #DDD;\n",
              "  }\n",
              "\n",
              "  [theme=dark] .colab-df-quickchart {\n",
              "      --bg-color: #3B4455;\n",
              "      --fill-color: #D2E3FC;\n",
              "      --hover-bg-color: #434B5C;\n",
              "      --hover-fill-color: #FFFFFF;\n",
              "      --disabled-bg-color: #3B4455;\n",
              "      --disabled-fill-color: #666;\n",
              "  }\n",
              "\n",
              "  .colab-df-quickchart {\n",
              "    background-color: var(--bg-color);\n",
              "    border: none;\n",
              "    border-radius: 50%;\n",
              "    cursor: pointer;\n",
              "    display: none;\n",
              "    fill: var(--fill-color);\n",
              "    height: 32px;\n",
              "    padding: 0;\n",
              "    width: 32px;\n",
              "  }\n",
              "\n",
              "  .colab-df-quickchart:hover {\n",
              "    background-color: var(--hover-bg-color);\n",
              "    box-shadow: 0 1px 2px rgba(60, 64, 67, 0.3), 0 1px 3px 1px rgba(60, 64, 67, 0.15);\n",
              "    fill: var(--button-hover-fill-color);\n",
              "  }\n",
              "\n",
              "  .colab-df-quickchart-complete:disabled,\n",
              "  .colab-df-quickchart-complete:disabled:hover {\n",
              "    background-color: var(--disabled-bg-color);\n",
              "    fill: var(--disabled-fill-color);\n",
              "    box-shadow: none;\n",
              "  }\n",
              "\n",
              "  .colab-df-spinner {\n",
              "    border: 2px solid var(--fill-color);\n",
              "    border-color: transparent;\n",
              "    border-bottom-color: var(--fill-color);\n",
              "    animation:\n",
              "      spin 1s steps(1) infinite;\n",
              "  }\n",
              "\n",
              "  @keyframes spin {\n",
              "    0% {\n",
              "      border-color: transparent;\n",
              "      border-bottom-color: var(--fill-color);\n",
              "      border-left-color: var(--fill-color);\n",
              "    }\n",
              "    20% {\n",
              "      border-color: transparent;\n",
              "      border-left-color: var(--fill-color);\n",
              "      border-top-color: var(--fill-color);\n",
              "    }\n",
              "    30% {\n",
              "      border-color: transparent;\n",
              "      border-left-color: var(--fill-color);\n",
              "      border-top-color: var(--fill-color);\n",
              "      border-right-color: var(--fill-color);\n",
              "    }\n",
              "    40% {\n",
              "      border-color: transparent;\n",
              "      border-right-color: var(--fill-color);\n",
              "      border-top-color: var(--fill-color);\n",
              "    }\n",
              "    60% {\n",
              "      border-color: transparent;\n",
              "      border-right-color: var(--fill-color);\n",
              "    }\n",
              "    80% {\n",
              "      border-color: transparent;\n",
              "      border-right-color: var(--fill-color);\n",
              "      border-bottom-color: var(--fill-color);\n",
              "    }\n",
              "    90% {\n",
              "      border-color: transparent;\n",
              "      border-bottom-color: var(--fill-color);\n",
              "    }\n",
              "  }\n",
              "</style>\n",
              "\n",
              "      <script>\n",
              "        async function quickchart(key) {\n",
              "          const quickchartButtonEl =\n",
              "            document.querySelector('#' + key + ' button');\n",
              "          quickchartButtonEl.disabled = true;  // To prevent multiple clicks.\n",
              "          quickchartButtonEl.classList.add('colab-df-spinner');\n",
              "          try {\n",
              "            const charts = await google.colab.kernel.invokeFunction(\n",
              "                'suggestCharts', [key], {});\n",
              "          } catch (error) {\n",
              "            console.error('Error during call to suggestCharts:', error);\n",
              "          }\n",
              "          quickchartButtonEl.classList.remove('colab-df-spinner');\n",
              "          quickchartButtonEl.classList.add('colab-df-quickchart-complete');\n",
              "        }\n",
              "        (() => {\n",
              "          let quickchartButtonEl =\n",
              "            document.querySelector('#df-3d3a8355-76df-4d55-9e9c-00fd531ee78e button');\n",
              "          quickchartButtonEl.style.display =\n",
              "            google.colab.kernel.accessAllowed ? 'block' : 'none';\n",
              "        })();\n",
              "      </script>\n",
              "    </div>\n",
              "\n",
              "    </div>\n",
              "  </div>\n"
            ],
            "application/vnd.google.colaboratory.intrinsic+json": {
              "type": "dataframe",
              "variable_name": "data"
            }
          },
          "metadata": {},
          "execution_count": 13
        }
      ]
    },
    {
      "cell_type": "code",
      "execution_count": 14,
      "id": "6b0b6d8a",
      "metadata": {
        "id": "6b0b6d8a"
      },
      "outputs": [],
      "source": [
        "x = data['sequence']\n",
        "y = data['label']\n",
        "gc_content = data['gc_content']\n",
        "at_content = data['at_content']\n",
        "cpg_flag = data['cpg_flag']\n",
        "sequence_entropy = data['sequence_entropy']\n",
        "transition = data['transition']\n",
        "genomic_pos_norm = data['genomic_pos_norm']\n",
        "mut_type_df = data.iloc[:, 14:26]\n",
        "chrom_df = data.iloc[:, 26:]"
      ]
    },
    {
      "cell_type": "code",
      "execution_count": 15,
      "id": "7516a31c",
      "metadata": {
        "id": "7516a31c"
      },
      "outputs": [],
      "source": [
        "def get_codon(seq, k=hyperparameters['k-mers']):\n",
        "    return [seq[i:i+k] for i in range(len(seq) - k + 1)]\n",
        "\n",
        "vocab = {}\n",
        "\n",
        "for seq in data['sequence']:\n",
        "    for codons in get_codon(seq.lower()):\n",
        "        if codons not in vocab:\n",
        "            vocab[codons] = len(vocab)\n",
        "        else:\n",
        "            continue\n",
        "\n",
        "def get_tensor(text):\n",
        "    return [vocab[codons.lower()] for codons in get_codon(text)]"
      ]
    },
    {
      "cell_type": "code",
      "execution_count": 16,
      "id": "3794f7b0",
      "metadata": {
        "id": "3794f7b0"
      },
      "outputs": [],
      "source": [
        "import torch\n",
        "from torch import nn, optim\n",
        "from torch.utils.data import Dataset, DataLoader, random_split\n",
        "\n",
        "class CustomDataset(Dataset):\n",
        "  def __init__(\n",
        "    self,\n",
        "    x,\n",
        "    y,\n",
        "    gc_content,\n",
        "    at_content,\n",
        "    cpg_flag,\n",
        "    sequence_entropy,\n",
        "    transition,\n",
        "    genomic_pos_norm,\n",
        "    mut_type_df,\n",
        "    chrom_df\n",
        "    ):\n",
        "    self.x_frame = x\n",
        "    self.y_frame = y\n",
        "    self.gc_content_frame = gc_content\n",
        "    self.at_content_frame = at_content\n",
        "    self.cpg_flag_frame = cpg_flag\n",
        "    self.sequence_entropy_frame = sequence_entropy\n",
        "    self.transition_frame = transition\n",
        "    self.genomic_pos_norm_frame = genomic_pos_norm\n",
        "    self.mut_type_df_frame = mut_type_df\n",
        "    self.chrom_df_frame = chrom_df\n",
        "\n",
        "  def __len__(self):\n",
        "    return len(self.x_frame)\n",
        "\n",
        "  def __getitem__(self, index):\n",
        "      x_tensor = get_tensor(self.x_frame[index])\n",
        "      seq_x = torch.tensor(x_tensor, dtype=torch.long)\n",
        "\n",
        "      features = [\n",
        "        self.gc_content_frame[index],\n",
        "        self.at_content_frame[index],\n",
        "        self.cpg_flag_frame[index],\n",
        "        self.sequence_entropy_frame[index],\n",
        "        self.transition_frame[index],\n",
        "        self.genomic_pos_norm_frame[index]\n",
        "      ] + self.mut_type_df_frame.loc[index].astype(float).tolist() + self.chrom_df_frame.loc[index].astype(float).tolist()\n",
        "\n",
        "      features_x = torch.tensor(features, dtype=torch.float16)\n",
        "\n",
        "      y = torch.tensor(self.y_frame[index], dtype=torch.long)\n",
        "\n",
        "      return seq_x, features_x, y"
      ]
    },
    {
      "cell_type": "code",
      "execution_count": 17,
      "id": "c1984db6",
      "metadata": {
        "id": "c1984db6"
      },
      "outputs": [],
      "source": [
        "dataset = CustomDataset(\n",
        "    x,\n",
        "    y,\n",
        "    gc_content,\n",
        "    at_content,\n",
        "    cpg_flag,\n",
        "    sequence_entropy,\n",
        "    transition,\n",
        "    genomic_pos_norm,\n",
        "    mut_type_df,\n",
        "    chrom_df\n",
        ")"
      ]
    },
    {
      "cell_type": "code",
      "execution_count": 18,
      "id": "9de32eb4",
      "metadata": {
        "id": "9de32eb4"
      },
      "outputs": [],
      "source": [
        "train_size = int(0.8 * len(dataset))\n",
        "test_size = len(dataset) - train_size\n",
        "\n",
        "train_dataset, test_dataset = random_split(dataset, [train_size, test_size])"
      ]
    },
    {
      "cell_type": "code",
      "execution_count": 19,
      "id": "c235422d",
      "metadata": {
        "id": "c235422d"
      },
      "outputs": [],
      "source": [
        "train_loader = DataLoader(train_dataset, batch_size=hyperparameters['batch_size'], shuffle=True, num_workers=0)\n",
        "test_loader = DataLoader(test_dataset, batch_size=hyperparameters['batch_size'], num_workers=0)"
      ]
    },
    {
      "cell_type": "code",
      "execution_count": 20,
      "metadata": {
        "id": "HxCukRWiP7Hc"
      },
      "outputs": [],
      "source": [
        "import math\n",
        "\n",
        "class PositionalEncoding(nn.Module):\n",
        "    def __init__(self, embed_dim, max_len=5000):\n",
        "        super().__init__()\n",
        "\n",
        "        pe = torch.zeros(max_len, embed_dim)\n",
        "        position = torch.arange(0, max_len).unsqueeze(1)\n",
        "\n",
        "        div_term = torch.exp((torch.arange(0, embed_dim, 2)) * (-math.log(10000.0) / embed_dim))\n",
        "\n",
        "        pe[:, 0::2] = torch.sin(position * div_term)\n",
        "        pe[:, 1::2] = torch.cos(position * div_term)\n",
        "\n",
        "        pe = pe.unsqueeze(0)\n",
        "        self.register_buffer('pe', pe)\n",
        "\n",
        "    def forward(self, x):\n",
        "        x = x + self.pe[:, :x.size(1), :].to(x.device)\n",
        "        return x\n",
        "\n",
        "class Transformer(nn.Module):\n",
        "    def __init__(self, embed_dim=512, num_heads=8, num_layers=6, ff_dim=2048, dropout=0.1, vocab_size=10000, max_len=5000, num_extra_features=15):\n",
        "        super(Transformer, self).__init__()\n",
        "        self.embeddings = nn.Embedding(vocab_size, embed_dim)\n",
        "        self.position_encoding = PositionalEncoding(embed_dim=embed_dim, max_len=max_len)\n",
        "\n",
        "        encoder_layer = nn.TransformerEncoderLayer(\n",
        "            d_model=embed_dim,\n",
        "            nhead=num_heads,\n",
        "            dim_feedforward=ff_dim,\n",
        "            dropout=dropout,\n",
        "            batch_first=True\n",
        "        )\n",
        "        self.encoder = nn.TransformerEncoder(\n",
        "            encoder_layer=encoder_layer,\n",
        "            num_layers=num_layers\n",
        "        )\n",
        "\n",
        "        self.y_labels_out = nn.Linear(embed_dim + num_extra_features, 5)\n",
        "\n",
        "    def forward(self, seq_x, features_x):\n",
        "        seq_x = self.embeddings(seq_x)\n",
        "        seq_x = self.position_encoding(seq_x)\n",
        "        seq_x = self.encoder(seq_x)\n",
        "        seq_x = seq_x.mean(dim=1)\n",
        "\n",
        "        combined_x = torch.cat((seq_x, features_x), dim=1)\n",
        "        y_label_out = self.y_labels_out(combined_x)\n",
        "\n",
        "        return y_label_out"
      ],
      "id": "HxCukRWiP7Hc"
    },
    {
      "cell_type": "code",
      "execution_count": 21,
      "metadata": {
        "id": "lsX_PawPP7Hd"
      },
      "outputs": [],
      "source": [
        "model = Transformer(\n",
        "    embed_dim=hyperparameters['embed_dim'],\n",
        "    num_heads=hyperparameters['num_heads'],\n",
        "    num_layers=hyperparameters['num_layers'],\n",
        "    ff_dim=hyperparameters['ff_dim'],\n",
        "    dropout=hyperparameters['dropout'],\n",
        "    vocab_size=len(vocab),\n",
        "    max_len=hyperparameters['max_len'],\n",
        "    num_extra_features=hyperparameters['num_extra_features']\n",
        ")"
      ],
      "id": "lsX_PawPP7Hd"
    },
    {
      "cell_type": "code",
      "execution_count": 22,
      "metadata": {
        "id": "EbEoytC7P7Hd"
      },
      "outputs": [],
      "source": [
        "if info['is_pre_training']:\n",
        "    checkpoint = torch.load(f\"{info['dir_name']}/{info['run']}/checkpoint.pth\")\n",
        "\n",
        "    model.load_state_dict(checkpoint['model_state_dict'])"
      ],
      "id": "EbEoytC7P7Hd"
    },
    {
      "cell_type": "code",
      "execution_count": 23,
      "metadata": {
        "colab": {
          "base_uri": "https://localhost:8080/"
        },
        "id": "-X2T735mP7Hd",
        "outputId": "57ecd09f-61d4-46cc-8b9f-99730ef6e8c1"
      },
      "outputs": [
        {
          "output_type": "execute_result",
          "data": {
            "text/plain": [
              "Transformer(\n",
              "  (embeddings): Embedding(64, 256)\n",
              "  (position_encoding): PositionalEncoding()\n",
              "  (encoder): TransformerEncoder(\n",
              "    (layers): ModuleList(\n",
              "      (0-1): 2 x TransformerEncoderLayer(\n",
              "        (self_attn): MultiheadAttention(\n",
              "          (out_proj): NonDynamicallyQuantizableLinear(in_features=256, out_features=256, bias=True)\n",
              "        )\n",
              "        (linear1): Linear(in_features=256, out_features=1024, bias=True)\n",
              "        (dropout): Dropout(p=0.1, inplace=False)\n",
              "        (linear2): Linear(in_features=1024, out_features=256, bias=True)\n",
              "        (norm1): LayerNorm((256,), eps=1e-05, elementwise_affine=True)\n",
              "        (norm2): LayerNorm((256,), eps=1e-05, elementwise_affine=True)\n",
              "        (dropout1): Dropout(p=0.1, inplace=False)\n",
              "        (dropout2): Dropout(p=0.1, inplace=False)\n",
              "      )\n",
              "    )\n",
              "  )\n",
              "  (y_labels_out): Linear(in_features=286, out_features=5, bias=True)\n",
              ")"
            ]
          },
          "metadata": {},
          "execution_count": 23
        }
      ],
      "source": [
        "device = torch.device(\"cuda\" if torch.cuda.is_available() else \"cpu\")\n",
        "model.to(device)"
      ],
      "id": "-X2T735mP7Hd"
    },
    {
      "cell_type": "code",
      "execution_count": 24,
      "id": "fea65a53",
      "metadata": {
        "colab": {
          "base_uri": "https://localhost:8080/"
        },
        "id": "fea65a53",
        "outputId": "bb6e509a-b2f2-420a-dc01-36c660dbf106"
      },
      "outputs": [
        {
          "output_type": "execute_result",
          "data": {
            "text/plain": [
              "device(type='cuda')"
            ]
          },
          "metadata": {},
          "execution_count": 24
        }
      ],
      "source": [
        "device"
      ]
    },
    {
      "cell_type": "code",
      "execution_count": 25,
      "id": "fba2146a",
      "metadata": {
        "colab": {
          "base_uri": "https://localhost:8080/"
        },
        "id": "fba2146a",
        "outputId": "08d1c780-5eb8-4997-f758-a9380aea795f"
      },
      "outputs": [
        {
          "output_type": "stream",
          "name": "stdout",
          "text": [
            "Total trainable parameters: 1597339\n"
          ]
        }
      ],
      "source": [
        "num_params = sum(p.numel() for p in model.parameters() if p.requires_grad)\n",
        "print(f\"Total trainable parameters: {num_params}\")"
      ]
    },
    {
      "cell_type": "code",
      "execution_count": 26,
      "id": "27903baf",
      "metadata": {
        "colab": {
          "base_uri": "https://localhost:8080/"
        },
        "id": "27903baf",
        "outputId": "45d1ec76-ffb6-4ace-9a17-b5de83505de1"
      },
      "outputs": [
        {
          "output_type": "stream",
          "name": "stdout",
          "text": [
            "Class-Balanced Weights: tensor([0.8132, 0.2583, 0.2175, 1.9269, 1.7841], device='cuda:0')\n"
          ]
        }
      ],
      "source": [
        "import numpy as np\n",
        "\n",
        "def get_cb_weights(labels, num_classes, beta=0.9999):\n",
        "    labels = np.array(labels)\n",
        "    class_counts = np.bincount(labels, minlength=num_classes)\n",
        "\n",
        "    effective_num = 1.0 - np.power(beta, class_counts)\n",
        "    effective_num = np.where(effective_num == 0, 1e-8, effective_num)\n",
        "\n",
        "    weights = (1.0 - beta) / effective_num\n",
        "    weights = weights / np.sum(weights) * num_classes\n",
        "\n",
        "    return torch.tensor(weights, dtype=torch.float32)\n",
        "\n",
        "labels = data['label'].values\n",
        "num_classes = 5\n",
        "\n",
        "cb_weights = get_cb_weights(labels, num_classes, beta=0.9999).to(device)\n",
        "\n",
        "print(\"Class-Balanced Weights:\", cb_weights)"
      ]
    },
    {
      "cell_type": "code",
      "execution_count": 27,
      "id": "0f412dc3",
      "metadata": {
        "colab": {
          "base_uri": "https://localhost:8080/"
        },
        "id": "0f412dc3",
        "outputId": "056915c9-b63d-4d15-edbc-a88228e0871a"
      },
      "outputs": [
        {
          "output_type": "stream",
          "name": "stderr",
          "text": [
            "/tmp/ipython-input-2886689895.py:5: FutureWarning: `torch.cuda.amp.GradScaler(args...)` is deprecated. Please use `torch.amp.GradScaler('cuda', args...)` instead.\n",
            "  scaler = torch.cuda.amp.GradScaler()\n"
          ]
        }
      ],
      "source": [
        "from transformers import get_linear_schedule_with_warmup\n",
        "\n",
        "ce = nn.CrossEntropyLoss(weight=cb_weights)\n",
        "optimizer = torch.optim.Adam(model.parameters(), lr=hyperparameters['learning_rate'], weight_decay=hyperparameters[\"weight_decay\"])\n",
        "scaler = torch.cuda.amp.GradScaler()\n",
        "\n",
        "if info['is_pre_training']:\n",
        "  optimizer.load_state_dict(checkpoint['optimizer_state_dict'])\n",
        "  print(\"Optimizer loaded\")\n",
        "\n",
        "num_training_steps = len(train_loader) * hyperparameters['epochs']\n",
        "num_warmup_steps = hyperparameters[\"num_warmup_steps\"]\n",
        "\n",
        "scheduler = get_linear_schedule_with_warmup(\n",
        "    optimizer,\n",
        "    num_warmup_steps=num_warmup_steps,\n",
        "    num_training_steps=num_training_steps\n",
        ")"
      ]
    },
    {
      "cell_type": "code",
      "execution_count": 28,
      "id": "2f1c89e4",
      "metadata": {
        "id": "2f1c89e4"
      },
      "outputs": [],
      "source": [
        "def train32(model, loader, ce, optimizer):\n",
        "    model.train()\n",
        "\n",
        "    running_loss, correct, total = 0.0, 0, 0\n",
        "\n",
        "    for seq_x, features_x, y in loader:\n",
        "        optimizer.zero_grad()\n",
        "\n",
        "        seq_x = seq_x.to(device)\n",
        "        features_x = features_x.to(device)\n",
        "        y = y.to(device)\n",
        "\n",
        "        output = model(seq_x, features_x)\n",
        "        loss = ce(output, y)\n",
        "\n",
        "        prediction = torch.argmax(output, dim=1)\n",
        "        correct += (prediction == y).sum().item()\n",
        "        total += len(y)\n",
        "\n",
        "        loss.backward()\n",
        "\n",
        "        optimizer.step()\n",
        "\n",
        "        running_loss += loss.item() * len(y)\n",
        "\n",
        "    accuracy = correct / total\n",
        "\n",
        "    return (\n",
        "        running_loss / len(loader.dataset),\n",
        "        accuracy\n",
        "    )\n",
        "\n",
        "def train16(model, loader, ce, optimizer, scaler, scheduler):\n",
        "    model.train()\n",
        "    running_loss, correct, total = 0.0, 0, 0\n",
        "\n",
        "    for seq_x, features_x, y in loader:\n",
        "        optimizer.zero_grad()\n",
        "\n",
        "        seq_x = seq_x.to(device)\n",
        "        features_x = features_x.to(device)\n",
        "        y = y.to(device)\n",
        "\n",
        "        with torch.amp.autocast(device_type=\"cuda\", dtype=torch.float16):\n",
        "            output = model(seq_x, features_x)\n",
        "            loss = ce(output, y)\n",
        "\n",
        "        prediction = torch.argmax(output, dim=1)\n",
        "        correct += (prediction == y).sum().item()\n",
        "        total += len(y)\n",
        "\n",
        "        scaler.scale(loss).backward()\n",
        "        scaler.step(optimizer)\n",
        "        scaler.update()\n",
        "\n",
        "        scheduler.step()\n",
        "\n",
        "        running_loss += loss.item() * len(y)\n",
        "\n",
        "    accuracy = correct / total\n",
        "    return (\n",
        "        running_loss / len(loader.dataset),\n",
        "        accuracy\n",
        "    )"
      ]
    },
    {
      "cell_type": "code",
      "execution_count": 29,
      "id": "ff9a6fc1",
      "metadata": {
        "id": "ff9a6fc1"
      },
      "outputs": [],
      "source": [
        "def validation(model, loader, ce):\n",
        "    model.eval()\n",
        "\n",
        "    running_loss, correct, total = 0.0, 0, 0\n",
        "\n",
        "    with torch.no_grad():\n",
        "        for seq_x, features_x, y in loader:\n",
        "            seq_x = seq_x.to(device)\n",
        "            features_x = features_x.to(device)\n",
        "            y = y.to(device)\n",
        "\n",
        "            if info['precision'] == 'FP16':\n",
        "              with torch.amp.autocast(device_type=\"cuda\", dtype=torch.float16):\n",
        "                  output = model(seq_x, features_x)\n",
        "                  loss = ce(output, y)\n",
        "            else:\n",
        "              output = model(seq_x, features_x)\n",
        "              loss = ce(output, y)\n",
        "\n",
        "            running_loss += loss.item() * len(y)\n",
        "\n",
        "            prediction = torch.argmax(output, dim=1)\n",
        "            correct += (prediction == y).sum().item()\n",
        "\n",
        "            total += len(y)\n",
        "\n",
        "    accuracy = correct / total\n",
        "\n",
        "    return (\n",
        "        running_loss / len(loader.dataset),\n",
        "        accuracy\n",
        "    )"
      ]
    },
    {
      "cell_type": "code",
      "execution_count": 30,
      "id": "7ab1af98",
      "metadata": {
        "colab": {
          "base_uri": "https://localhost:8080/"
        },
        "id": "7ab1af98",
        "outputId": "83f99fdc-2c45-4d03-99ef-642b53a3de9d"
      },
      "outputs": [
        {
          "output_type": "stream",
          "name": "stdout",
          "text": [
            "Epoch (1/300): Train Loss = 1.5155, Valitation Loss = 1.4917, Train_acc = 0.5491, Val_acc = 0.5721\n",
            "Epoch (2/300): Train Loss = 1.4895, Valitation Loss = 1.4739, Train_acc = 0.5739, Val_acc = 0.5668\n",
            "Epoch (3/300): Train Loss = 1.4621, Valitation Loss = 1.4480, Train_acc = 0.5622, Val_acc = 0.5472\n",
            "Epoch (4/300): Train Loss = 1.4370, Valitation Loss = 1.4377, Train_acc = 0.5572, Val_acc = 0.5638\n",
            "Epoch (5/300): Train Loss = 1.4214, Valitation Loss = 1.4220, Train_acc = 0.5537, Val_acc = 0.5488\n",
            "Epoch (6/300): Train Loss = 1.4075, Valitation Loss = 1.4153, Train_acc = 0.5521, Val_acc = 0.5601\n",
            "Epoch (7/300): Train Loss = 1.3968, Valitation Loss = 1.4132, Train_acc = 0.5534, Val_acc = 0.5474\n",
            "Epoch (8/300): Train Loss = 1.3889, Valitation Loss = 1.4106, Train_acc = 0.5516, Val_acc = 0.5665\n",
            "Epoch (9/300): Train Loss = 1.3793, Valitation Loss = 1.4134, Train_acc = 0.5520, Val_acc = 0.5382\n",
            "No improvement in val loss Counter = 1/10\n",
            "Epoch (10/300): Train Loss = 1.3708, Valitation Loss = 1.4035, Train_acc = 0.5545, Val_acc = 0.5368\n",
            "Model saved at /content/drive/MyDrive/Mutation Model/model21th Run_epoch_10.pth\n",
            "Epoch (11/300): Train Loss = 1.3645, Valitation Loss = 1.4052, Train_acc = 0.5491, Val_acc = 0.5490\n",
            "No improvement in val loss Counter = 1/10\n",
            "Epoch (12/300): Train Loss = 1.3533, Valitation Loss = 1.4232, Train_acc = 0.5541, Val_acc = 0.4641\n",
            "No improvement in val loss Counter = 2/10\n",
            "Epoch (13/300): Train Loss = 1.3443, Valitation Loss = 1.4099, Train_acc = 0.5500, Val_acc = 0.4940\n",
            "No improvement in val loss Counter = 3/10\n",
            "Epoch (14/300): Train Loss = 1.3341, Valitation Loss = 1.4394, Train_acc = 0.5492, Val_acc = 0.5713\n",
            "No improvement in val loss Counter = 4/10\n",
            "Epoch (15/300): Train Loss = 1.3232, Valitation Loss = 1.3996, Train_acc = 0.5489, Val_acc = 0.5441\n",
            "Epoch (16/300): Train Loss = 1.3043, Valitation Loss = 1.4182, Train_acc = 0.5507, Val_acc = 0.5326\n",
            "No improvement in val loss Counter = 1/10\n",
            "Epoch (17/300): Train Loss = 1.2930, Valitation Loss = 1.4283, Train_acc = 0.5479, Val_acc = 0.5487\n",
            "No improvement in val loss Counter = 2/10\n",
            "Epoch (18/300): Train Loss = 1.2772, Valitation Loss = 1.4356, Train_acc = 0.5459, Val_acc = 0.4900\n",
            "No improvement in val loss Counter = 3/10\n",
            "Epoch (19/300): Train Loss = 1.2587, Valitation Loss = 1.4351, Train_acc = 0.5458, Val_acc = 0.5012\n",
            "No improvement in val loss Counter = 4/10\n",
            "Epoch (20/300): Train Loss = 1.2395, Valitation Loss = 1.4762, Train_acc = 0.5445, Val_acc = 0.5269\n",
            "Model saved at /content/drive/MyDrive/Mutation Model/model21th Run_epoch_20.pth\n",
            "No improvement in val loss Counter = 5/10\n",
            "Epoch (21/300): Train Loss = 1.2166, Valitation Loss = 1.4974, Train_acc = 0.5447, Val_acc = 0.5079\n",
            "No improvement in val loss Counter = 6/10\n",
            "Epoch (22/300): Train Loss = 1.1957, Valitation Loss = 1.4744, Train_acc = 0.5424, Val_acc = 0.5126\n",
            "No improvement in val loss Counter = 7/10\n",
            "Epoch (23/300): Train Loss = 1.1739, Valitation Loss = 1.5576, Train_acc = 0.5438, Val_acc = 0.4385\n",
            "No improvement in val loss Counter = 8/10\n",
            "Epoch (24/300): Train Loss = 1.1586, Valitation Loss = 1.5395, Train_acc = 0.5426, Val_acc = 0.5069\n",
            "No improvement in val loss Counter = 9/10\n",
            "Epoch (25/300): Train Loss = 1.1346, Valitation Loss = 1.5727, Train_acc = 0.5433, Val_acc = 0.4885\n",
            "No improvement in val loss Counter = 10/10\n",
            "Early stopping triggered!\n"
          ]
        }
      ],
      "source": [
        "import os\n",
        "\n",
        "patience = 10\n",
        "best_val_loss = float('inf')\n",
        "counter = 0\n",
        "early_stop = False\n",
        "\n",
        "train_loss_history = []\n",
        "train_acc_history = []\n",
        "\n",
        "val_loss_history = []\n",
        "val_acc_history = []\n",
        "\n",
        "save_dir = f\"/content/drive/MyDrive/{info['dir_name']}\"\n",
        "os.makedirs(save_dir, exist_ok=True)\n",
        "\n",
        "for epoch in range(1, hyperparameters['epochs']+1):\n",
        "    if info['precision'] == 'FP16':\n",
        "      current_train_loss, current_train_acc = train16(\n",
        "            model,\n",
        "            train_loader,\n",
        "            ce,\n",
        "            optimizer,\n",
        "            scaler,\n",
        "            scheduler\n",
        "        )\n",
        "    else:\n",
        "      current_train_loss, current_train_acc = train32(\n",
        "          model,\n",
        "          train_loader,\n",
        "          ce,\n",
        "          optimizer\n",
        "      )\n",
        "\n",
        "    current_val_loss, current_val_acc = validation(\n",
        "        model,\n",
        "        test_loader,\n",
        "        ce\n",
        "    )\n",
        "\n",
        "    train_loss_history.append(current_train_loss)\n",
        "    train_acc_history.append(current_train_acc)\n",
        "\n",
        "    val_loss_history.append(current_val_loss)\n",
        "    val_acc_history.append(current_val_acc)\n",
        "\n",
        "    print(f\"Epoch ({epoch}/{hyperparameters['epochs']}): Train Loss = {current_train_loss:.4f}, Valitation Loss = {current_val_loss:.4f}, Train_acc = {current_train_acc:.4f}, Val_acc = {current_val_acc:.4f}\")\n",
        "\n",
        "    if epoch % 10 == 0:\n",
        "      checkpoint_path = f\"{save_dir}/model{info['run']}_epoch_{epoch}.pth\"\n",
        "      torch.save({\n",
        "          'epoch': epoch,\n",
        "          'model_state_dict': model.state_dict(),\n",
        "          'optimizer_state_dict': optimizer.state_dict(),\n",
        "          'train_losses': train_loss_history,\n",
        "          'val_losses': val_loss_history,\n",
        "          'train_acc': train_acc_history,\n",
        "          'val_acc': val_acc_history\n",
        "      }, checkpoint_path)\n",
        "      print(f\"Model saved at {checkpoint_path}\")\n",
        "\n",
        "    if current_val_loss < best_val_loss:\n",
        "        best_val_loss = current_val_loss\n",
        "        counter = 0\n",
        "        continue\n",
        "    else:\n",
        "        counter += 1\n",
        "        print(f\"No improvement in val loss Counter = {counter}/{patience}\")\n",
        "        if counter >= patience:\n",
        "            print(\"Early stopping triggered!\")\n",
        "            early_stop = True\n",
        "            break"
      ]
    },
    {
      "cell_type": "code",
      "execution_count": 31,
      "id": "d06202ae",
      "metadata": {
        "id": "d06202ae"
      },
      "outputs": [],
      "source": [
        "def get_predictions_and_labels(model, loader):\n",
        "    model.eval()\n",
        "    all_y_true = []\n",
        "    all_y_pred = []\n",
        "\n",
        "    with torch.no_grad():\n",
        "        for seq_x, features_x, y in loader:\n",
        "            seq_x = seq_x.to(device)\n",
        "            features_x = features_x.to(device)\n",
        "            y = y.to(device)\n",
        "\n",
        "            yout = model(seq_x, features_x)\n",
        "\n",
        "            _, pred_mut = torch.max(yout, 1)\n",
        "\n",
        "            all_y_true.extend(y.cpu().numpy())\n",
        "            all_y_pred.extend(pred_mut.cpu().numpy())\n",
        "\n",
        "    return (\n",
        "        (all_y_true, all_y_pred)\n",
        "    )"
      ]
    },
    {
      "cell_type": "code",
      "execution_count": 32,
      "id": "cd1efe32",
      "metadata": {
        "colab": {
          "base_uri": "https://localhost:8080/"
        },
        "id": "cd1efe32",
        "outputId": "85d4bf4b-5af5-4c1a-c4c4-97e8c7c5fa07"
      },
      "outputs": [
        {
          "output_type": "stream",
          "name": "stdout",
          "text": [
            "\n",
            "============================================================\n",
            "Classification Report Summary\n",
            "============================================================\n",
            "\n",
            "[1] Classification Report — Mutation Label\n",
            "------------------------------------------------------------\n",
            "              precision    recall  f1-score   support\n",
            "\n",
            "           0       0.14      0.15      0.14       573\n",
            "           1       0.51      0.15      0.23      3234\n",
            "           2       0.62      0.74      0.67      5721\n",
            "           3       0.06      0.22      0.10       223\n",
            "           4       0.07      0.24      0.11       249\n",
            "\n",
            "    accuracy                           0.49     10000\n",
            "   macro avg       0.28      0.30      0.25     10000\n",
            "weighted avg       0.53      0.49      0.47     10000\n",
            "\n",
            "============================================================\n",
            "\n"
          ]
        }
      ],
      "source": [
        "from sklearn.metrics import classification_report\n",
        "\n",
        "(y_true, y_pred) = get_predictions_and_labels(model, test_loader)\n",
        "\n",
        "print(\"\\n\" + \"=\"*60)\n",
        "print(\"Classification Report Summary\")\n",
        "print(\"=\"*60)\n",
        "\n",
        "print(\"\\n[1] Classification Report — Mutation Label\")\n",
        "print(\"-\" * 60)\n",
        "print(classification_report(y_true, y_pred))\n",
        "\n",
        "print(\"=\"*60 + \"\\n\")"
      ]
    },
    {
      "cell_type": "code",
      "execution_count": 33,
      "id": "4d2daae2",
      "metadata": {
        "colab": {
          "base_uri": "https://localhost:8080/",
          "height": 469
        },
        "id": "4d2daae2",
        "outputId": "c1744837-d13f-48e9-b7a2-a28863b07431"
      },
      "outputs": [
        {
          "output_type": "execute_result",
          "data": {
            "text/plain": [
              "<sklearn.metrics._plot.confusion_matrix.ConfusionMatrixDisplay at 0x7d02ca5bcb00>"
            ]
          },
          "metadata": {},
          "execution_count": 33
        },
        {
          "output_type": "display_data",
          "data": {
            "text/plain": [
              "<Figure size 640x480 with 2 Axes>"
            ],
            "image/png": "[encoded data removed]"
          },
          "metadata": {}
        }
      ],
      "source": [
        "from sklearn.metrics import confusion_matrix, ConfusionMatrixDisplay\n",
        "\n",
        "cm = confusion_matrix(y_true, y_pred)\n",
        "disp = ConfusionMatrixDisplay(confusion_matrix=cm)\n",
        "disp.plot(xticks_rotation=45)"
      ]
    },
    {
      "cell_type": "code",
      "execution_count": 34,
      "id": "35a787e6",
      "metadata": {
        "colab": {
          "base_uri": "https://localhost:8080/",
          "height": 957
        },
        "id": "35a787e6",
        "outputId": "008e798b-8906-487b-f8ee-324c6ee59ece"
      },
      "outputs": [
        {
          "output_type": "display_data",
          "data": {
            "text/plain": [
              "<Figure size 1000x500 with 1 Axes>"
            ],
            "image/png": "[encoded data removed]"
          },
          "metadata": {}
        },
        {
          "output_type": "display_data",
          "data": {
            "text/plain": [
              "<Figure size 1000x500 with 1 Axes>"
            ],
            "image/png": "[encoded data removed]"
          },
          "metadata": {}
        }
      ],
      "source": [
        "import matplotlib.pyplot as plt\n",
        "\n",
        "plt.figure(figsize=(10, 5))\n",
        "plt.plot(train_loss_history, label='Train Loss')\n",
        "plt.plot(val_loss_history, label='Validation Loss')\n",
        "plt.title('Training vs Validation Loss')\n",
        "plt.xlabel('Epoch')\n",
        "plt.ylabel('Loss')\n",
        "plt.legend()\n",
        "plt.grid(True)\n",
        "plt.show()\n",
        "\n",
        "plt.figure(figsize=(10, 5))\n",
        "plt.plot(train_acc_history, label='Train Accuracy')\n",
        "plt.plot(val_acc_history, label='Validation Accuracy')\n",
        "plt.title('Training vs Validation Accuracy')\n",
        "plt.xlabel('Epoch')\n",
        "plt.ylabel('Accuracy')\n",
        "plt.legend()\n",
        "plt.grid(True)\n",
        "plt.show()"
      ]
    },
    {
      "cell_type": "code",
      "source": [],
      "metadata": {
        "id": "wBVbg9shWaEE"
      },
      "id": "wBVbg9shWaEE",
      "execution_count": null,
      "outputs": []
    }
  ],
  "metadata": {
    "kernelspec": {
      "display_name": "Python 3",
      "name": "python3"
    },
    "language_info": {
      "codemirror_mode": {
        "name": "ipython",
        "version": 3
      },
      "file_extension": ".py",
      "mimetype": "text/x-python",
      "name": "python",
      "nbconvert_exporter": "python",
      "pygments_lexer": "ipython3",
      "version": "3.10.0"
    },
    "colab": {
      "provenance": [],
      "machine_shape": "hm",
      "gpuType": "L4"
    },
    "accelerator": "GPU"
  },
  "nbformat": 4,
  "nbformat_minor": 5
}