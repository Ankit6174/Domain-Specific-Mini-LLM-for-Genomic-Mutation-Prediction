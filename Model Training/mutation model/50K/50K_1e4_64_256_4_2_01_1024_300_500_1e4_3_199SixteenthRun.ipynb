{
  "cells": [
    {
      "cell_type": "code",
      "execution_count": null,
      "metadata": {
        "id": "pGcWf4F5JcMc"
      },
      "outputs": [],
      "source": [
        "hyperparameters = {\n",
        "    \"learning_rate\": 1e-4,\n",
        "    \"batch_size\": 64,\n",
        "    \"embed_dim\": 256,\n",
        "    \"num_heads\": 4,\n",
        "    \"num_layers\": 2,\n",
        "    \"dropout\": 0.1,\n",
        "    \"ff_dim\": 1024,\n",
        "    \"epochs\": 300,\n",
        "    \"num_warmup_steps\": 500,\n",
        "    \"weight_decay\": 1e-4,\n",
        "    \"k-mers\": 3,\n",
        "    \"max_len\": 199\n",
        "}\n",
        "\n",
        "info = {\n",
        "    \"dataset_size\": \"50K\",\n",
        "    \"SMOTE\": {\n",
        "        \"isSmote\": True,\n",
        "        0: 15000,\n",
        "        3: 15000,\n",
        "        4: 15000\n",
        "    },\n",
        "    \"precision\": \"FP16\",\n",
        "    \"dir_name\": \"Mutation Model\",\n",
        "    \"run\": \"Sixteenth Run\",\n",
        "    \"loss\": {\n",
        "        \"type\": \"CB Weighted Cross Entropy Loss\",\n",
        "        \"alpha\": 0.75, # Removed\n",
        "        \"gamma\": 2\n",
        "    },\n",
        "    \"optimizer\": \"Adam\",\n",
        "    \"is_pre_training\": False\n",
        "}"
      ]
    },
    {
      "cell_type": "code",
      "execution_count": 2,
      "metadata": {
        "colab": {
          "base_uri": "https://localhost:8080/"
        },
        "id": "39nTODPl6tqB",
        "outputId": "0287cfe1-c7e4-4441-eeb7-194903d601ba"
      },
      "outputs": [
        {
          "name": "stdout",
          "output_type": "stream",
          "text": [
            "Mounted at /content/drive\n"
          ]
        }
      ],
      "source": [
        "from google.colab import drive\n",
        "drive.mount('/content/drive')"
      ]
    },
    {
      "cell_type": "code",
      "execution_count": 3,
      "metadata": {
        "colab": {
          "base_uri": "https://localhost:8080/"
        },
        "id": "V1v98WHCJoDO",
        "outputId": "175e4230-381a-46ec-9ded-2950eed7f7c3"
      },
      "outputs": [
        {
          "data": {
            "text/plain": [
              "(50000, 10)"
            ]
          },
          "execution_count": 3,
          "metadata": {},
          "output_type": "execute_result"
        }
      ],
      "source": [
        "import pandas as pd\n",
        "\n",
        "data_path = f\"/content/drive/MyDrive/dataset/{info['dataset_size']}.csv\"\n",
        "\n",
        "data = pd.read_csv(data_path)\n",
        "data.shape"
      ]
    },
    {
      "cell_type": "code",
      "execution_count": 4,
      "metadata": {
        "colab": {
          "base_uri": "https://localhost:8080/",
          "height": 272
        },
        "id": "eqhNpoEKSZ3Q",
        "outputId": "7cd7586a-e5f3-41ed-dd24-3d0ccdc78d61"
      },
      "outputs": [
        {
          "data": {
            "text/html": [
              "<div>\n",
              "<style scoped>\n",
              "    .dataframe tbody tr th:only-of-type {\n",
              "        vertical-align: middle;\n",
              "    }\n",
              "\n",
              "    .dataframe tbody tr th {\n",
              "        vertical-align: top;\n",
              "    }\n",
              "\n",
              "    .dataframe thead th {\n",
              "        text-align: right;\n",
              "    }\n",
              "</style>\n",
              "<table border=\"1\" class=\"dataframe\">\n",
              "  <thead>\n",
              "    <tr style=\"text-align: right;\">\n",
              "      <th></th>\n",
              "      <th>count</th>\n",
              "    </tr>\n",
              "    <tr>\n",
              "      <th>label</th>\n",
              "      <th></th>\n",
              "    </tr>\n",
              "  </thead>\n",
              "  <tbody>\n",
              "    <tr>\n",
              "      <th>2</th>\n",
              "      <td>28892</td>\n",
              "    </tr>\n",
              "    <tr>\n",
              "      <th>1</th>\n",
              "      <td>15847</td>\n",
              "    </tr>\n",
              "    <tr>\n",
              "      <th>0</th>\n",
              "      <td>2911</td>\n",
              "    </tr>\n",
              "    <tr>\n",
              "      <th>4</th>\n",
              "      <td>1223</td>\n",
              "    </tr>\n",
              "    <tr>\n",
              "      <th>3</th>\n",
              "      <td>1127</td>\n",
              "    </tr>\n",
              "  </tbody>\n",
              "</table>\n",
              "</div><br><label><b>dtype:</b> int64</label>"
            ],
            "text/plain": [
              "label\n",
              "2    28892\n",
              "1    15847\n",
              "0     2911\n",
              "4     1223\n",
              "3     1127\n",
              "Name: count, dtype: int64"
            ]
          },
          "execution_count": 4,
          "metadata": {},
          "output_type": "execute_result"
        }
      ],
      "source": [
        "data['label'].value_counts()"
      ]
    },
    {
      "cell_type": "code",
      "execution_count": 5,
      "metadata": {
        "id": "wR3jf-oAJ2PE"
      },
      "outputs": [],
      "source": [
        "y = data['label']"
      ]
    },
    {
      "cell_type": "code",
      "execution_count": 6,
      "metadata": {
        "id": "j-XikXuLJ2M1"
      },
      "outputs": [],
      "source": [
        "import pickle\n",
        "\n",
        "def get_codon(seq, k=hyperparameters['k-mers']):\n",
        "    return [seq[i:i+k] for i in range(len(seq) - k + 1)]\n",
        "\n",
        "vocab = {}\n",
        "\n",
        "for seq in data['sequence']:\n",
        "    for codons in get_codon(seq.lower()):\n",
        "        if codons not in vocab:\n",
        "            vocab[codons] = len(vocab)\n",
        "        else:\n",
        "            continue\n",
        "\n",
        "with open('vocab.pkl', 'wb') as f:\n",
        "    pickle.dump(vocab, f)\n",
        "\n",
        "def get_tensor(text):\n",
        "    return [vocab[codons.lower()] for codons in get_codon(text)]"
      ]
    },
    {
      "cell_type": "code",
      "execution_count": 7,
      "metadata": {
        "id": "eW7QRnEYxBMX"
      },
      "outputs": [],
      "source": [
        "import torch\n",
        "tokenized_sequences = [(torch.tensor(get_tensor(sq), dtype=torch.long)) for sq in data['sequence']]"
      ]
    },
    {
      "cell_type": "code",
      "execution_count": 8,
      "metadata": {
        "id": "Fzf9aklCxBti"
      },
      "outputs": [],
      "source": [
        "from imblearn.over_sampling import SMOTE\n",
        "import numpy as np\n",
        "\n",
        "smote = SMOTE(sampling_strategy = {0:15000, 3:15000, 4:15000}, random_state=42)"
      ]
    },
    {
      "cell_type": "code",
      "execution_count": 9,
      "metadata": {
        "id": "XBIUNvvzxBrZ"
      },
      "outputs": [],
      "source": [
        "x_resampled, y_resampled = smote.fit_resample(tokenized_sequences, y)"
      ]
    },
    {
      "cell_type": "code",
      "execution_count": 10,
      "metadata": {
        "id": "dKMwMUZlxBpD"
      },
      "outputs": [],
      "source": [
        "from torch import nn, optim\n",
        "from torch.utils.data import Dataset, DataLoader, random_split\n",
        "\n",
        "class CustomDataset(Dataset):\n",
        "  def __init__(self, x, y):\n",
        "    self.x_frame = x\n",
        "    self.y_frame = y\n",
        "\n",
        "  def __len__(self):\n",
        "    return len(self.x_frame)\n",
        "\n",
        "  def __getitem__(self, index):\n",
        "    x = torch.tensor(self.x_frame[index], dtype=torch.long)\n",
        "    y = torch.tensor(self.y_frame[index], dtype=torch.long)\n",
        "    return x, y"
      ]
    },
    {
      "cell_type": "code",
      "execution_count": 11,
      "metadata": {
        "id": "ZiWYCxl-xJEm"
      },
      "outputs": [],
      "source": [
        "dataset = CustomDataset(x_resampled, y_resampled)"
      ]
    },
    {
      "cell_type": "code",
      "execution_count": 12,
      "metadata": {
        "colab": {
          "base_uri": "https://localhost:8080/",
          "height": 272
        },
        "id": "iX4_3wjIxLz8",
        "outputId": "317e9d99-a55c-4605-8d1b-7b79ac1d9f68"
      },
      "outputs": [
        {
          "data": {
            "text/html": [
              "<div>\n",
              "<style scoped>\n",
              "    .dataframe tbody tr th:only-of-type {\n",
              "        vertical-align: middle;\n",
              "    }\n",
              "\n",
              "    .dataframe tbody tr th {\n",
              "        vertical-align: top;\n",
              "    }\n",
              "\n",
              "    .dataframe thead th {\n",
              "        text-align: right;\n",
              "    }\n",
              "</style>\n",
              "<table border=\"1\" class=\"dataframe\">\n",
              "  <thead>\n",
              "    <tr style=\"text-align: right;\">\n",
              "      <th></th>\n",
              "      <th>count</th>\n",
              "    </tr>\n",
              "    <tr>\n",
              "      <th>label</th>\n",
              "      <th></th>\n",
              "    </tr>\n",
              "  </thead>\n",
              "  <tbody>\n",
              "    <tr>\n",
              "      <th>2</th>\n",
              "      <td>28892</td>\n",
              "    </tr>\n",
              "    <tr>\n",
              "      <th>1</th>\n",
              "      <td>15847</td>\n",
              "    </tr>\n",
              "    <tr>\n",
              "      <th>0</th>\n",
              "      <td>15000</td>\n",
              "    </tr>\n",
              "    <tr>\n",
              "      <th>3</th>\n",
              "      <td>15000</td>\n",
              "    </tr>\n",
              "    <tr>\n",
              "      <th>4</th>\n",
              "      <td>15000</td>\n",
              "    </tr>\n",
              "  </tbody>\n",
              "</table>\n",
              "</div><br><label><b>dtype:</b> int64</label>"
            ],
            "text/plain": [
              "label\n",
              "2    28892\n",
              "1    15847\n",
              "0    15000\n",
              "3    15000\n",
              "4    15000\n",
              "Name: count, dtype: int64"
            ]
          },
          "execution_count": 12,
          "metadata": {},
          "output_type": "execute_result"
        }
      ],
      "source": [
        "y_resampled.value_counts()"
      ]
    },
    {
      "cell_type": "code",
      "execution_count": 13,
      "metadata": {
        "id": "YxR8TknxJ2Io"
      },
      "outputs": [],
      "source": [
        "dataset = CustomDataset(x_resampled, y_resampled)"
      ]
    },
    {
      "cell_type": "code",
      "execution_count": 14,
      "metadata": {
        "id": "QF1Z099wJ2Gb"
      },
      "outputs": [],
      "source": [
        "train_size = int(0.8 * len(dataset))\n",
        "test_size = len(dataset) - train_size\n",
        "\n",
        "train_dataset, test_dataset = random_split(dataset, [train_size, test_size])"
      ]
    },
    {
      "cell_type": "code",
      "execution_count": 15,
      "metadata": {
        "id": "2qHxLrY8aZEY"
      },
      "outputs": [],
      "source": [
        "train_loader = DataLoader(\n",
        "    train_dataset,\n",
        "    batch_size=hyperparameters['batch_size'],\n",
        "    shuffle=True\n",
        ")\n",
        "\n",
        "test_loader = DataLoader(test_dataset, batch_size=hyperparameters['batch_size'])"
      ]
    },
    {
      "cell_type": "code",
      "execution_count": 16,
      "metadata": {
        "id": "MJTZAUbQJ2Ca"
      },
      "outputs": [],
      "source": [
        "import math\n",
        "\n",
        "class PositionalEncoding(nn.Module):\n",
        "    def __init__(self, embed_dim, max_len=5000):\n",
        "        super().__init__()\n",
        "\n",
        "        pe = torch.zeros(max_len, embed_dim)\n",
        "        position = torch.arange(0, max_len).unsqueeze(1)\n",
        "\n",
        "        div_term = torch.exp((torch.arange(0, embed_dim, 2)) * (-math.log(10000.0) / embed_dim))\n",
        "\n",
        "        pe[:, 0::2] = torch.sin(position * div_term)\n",
        "        pe[:, 1::2] = torch.cos(position * div_term)\n",
        "\n",
        "        pe = pe.unsqueeze(0)\n",
        "        self.register_buffer('pe', pe)\n",
        "\n",
        "    def forward(self, x):\n",
        "        x = x + self.pe[:, :x.size(1), :].to(x.device)\n",
        "        return x\n",
        "\n",
        "class Transformer(nn.Module):\n",
        "    def __init__(self, embed_dim=512, num_heads=8, num_layers=6, ff_dim=2048, dropout=0.1, vocab_size=10000, max_len=5000):\n",
        "        super(Transformer, self).__init__()\n",
        "        self.embeddings = nn.Embedding(vocab_size, embed_dim)\n",
        "        self.position_encoding = PositionalEncoding(embed_dim=embed_dim, max_len=max_len)\n",
        "\n",
        "        encoder_layer = nn.TransformerEncoderLayer(\n",
        "            d_model=embed_dim,\n",
        "            nhead=num_heads,\n",
        "            dim_feedforward=ff_dim,\n",
        "            dropout=dropout,\n",
        "            batch_first=True\n",
        "        )\n",
        "        self.encoder = nn.TransformerEncoder(\n",
        "            encoder_layer=encoder_layer,\n",
        "            num_layers=num_layers\n",
        "        )\n",
        "\n",
        "        self.y_labels_out = nn.Linear(embed_dim, 5)\n",
        "\n",
        "    def forward(self, x):\n",
        "        x = self.embeddings(x)\n",
        "        x = self.position_encoding(x)\n",
        "\n",
        "        x = self.encoder(x)\n",
        "        x = x.mean(dim=1)\n",
        "\n",
        "        y_label_out = self.y_labels_out(x)\n",
        "        return y_label_out"
      ]
    },
    {
      "cell_type": "code",
      "execution_count": 17,
      "metadata": {
        "id": "3y4bHJVbJ2AQ"
      },
      "outputs": [],
      "source": [
        "model = Transformer(\n",
        "    embed_dim=hyperparameters['embed_dim'],\n",
        "    num_heads=hyperparameters['num_heads'],\n",
        "    num_layers=hyperparameters['num_layers'],\n",
        "    ff_dim=hyperparameters['ff_dim'],\n",
        "    dropout=hyperparameters['dropout'],\n",
        "    vocab_size=len(vocab),\n",
        "    max_len=hyperparameters['max_len']\n",
        ")"
      ]
    },
    {
      "cell_type": "code",
      "execution_count": 18,
      "metadata": {
        "id": "cTSxhHX13esJ"
      },
      "outputs": [],
      "source": [
        "if info['is_pre_training']:\n",
        "    checkpoint = torch.load(f\"/content/drive/MyDrive/{info['dir_name']}/modelThirteenth Run_epoch_60.pth\")\n",
        "\n",
        "    start_epoch = checkpoint['epoch']\n",
        "    model.load_state_dict(checkpoint['model_state_dict'])"
      ]
    },
    {
      "cell_type": "code",
      "execution_count": 19,
      "metadata": {
        "colab": {
          "base_uri": "https://localhost:8080/"
        },
        "id": "q00nuF8HJ1-H",
        "outputId": "fbb195d7-74b3-443f-c0d5-d9aaa97fc108"
      },
      "outputs": [
        {
          "data": {
            "text/plain": [
              "Transformer(\n",
              "  (embeddings): Embedding(64, 256)\n",
              "  (position_encoding): PositionalEncoding()\n",
              "  (encoder): TransformerEncoder(\n",
              "    (layers): ModuleList(\n",
              "      (0-1): 2 x TransformerEncoderLayer(\n",
              "        (self_attn): MultiheadAttention(\n",
              "          (out_proj): NonDynamicallyQuantizableLinear(in_features=256, out_features=256, bias=True)\n",
              "        )\n",
              "        (linear1): Linear(in_features=256, out_features=1024, bias=True)\n",
              "        (dropout): Dropout(p=0.1, inplace=False)\n",
              "        (linear2): Linear(in_features=1024, out_features=256, bias=True)\n",
              "        (norm1): LayerNorm((256,), eps=1e-05, elementwise_affine=True)\n",
              "        (norm2): LayerNorm((256,), eps=1e-05, elementwise_affine=True)\n",
              "        (dropout1): Dropout(p=0.1, inplace=False)\n",
              "        (dropout2): Dropout(p=0.1, inplace=False)\n",
              "      )\n",
              "    )\n",
              "  )\n",
              "  (y_labels_out): Linear(in_features=256, out_features=5, bias=True)\n",
              ")"
            ]
          },
          "execution_count": 19,
          "metadata": {},
          "output_type": "execute_result"
        }
      ],
      "source": [
        "device = torch.device(\"cuda\" if torch.cuda.is_available() else \"cpu\")\n",
        "model.to(device)"
      ]
    },
    {
      "cell_type": "code",
      "execution_count": 20,
      "metadata": {
        "colab": {
          "base_uri": "https://localhost:8080/"
        },
        "id": "V2Qa9JHAKI1-",
        "outputId": "5541d718-dc1f-4863-f420-2e32230cd359"
      },
      "outputs": [
        {
          "data": {
            "text/plain": [
              "device(type='cuda')"
            ]
          },
          "execution_count": 20,
          "metadata": {},
          "output_type": "execute_result"
        }
      ],
      "source": [
        "device"
      ]
    },
    {
      "cell_type": "code",
      "execution_count": 21,
      "metadata": {
        "colab": {
          "base_uri": "https://localhost:8080/"
        },
        "id": "5_4lFoaqKIz4",
        "outputId": "1595991f-7e94-45b9-c49e-8f0984821d3f"
      },
      "outputs": [
        {
          "name": "stdout",
          "output_type": "stream",
          "text": [
            "Total trainable parameters: 1597189\n"
          ]
        }
      ],
      "source": [
        "num_params = sum(p.numel() for p in model.parameters() if p.requires_grad)\n",
        "print(f\"Total trainable parameters: {num_params}\")"
      ]
    },
    {
      "cell_type": "code",
      "execution_count": 22,
      "metadata": {
        "colab": {
          "base_uri": "https://localhost:8080/"
        },
        "id": "Le4cXoIAz28a",
        "outputId": "4647a6e3-6c57-4738-f8ba-5a78407eb817"
      },
      "outputs": [
        {
          "name": "stdout",
          "output_type": "stream",
          "text": [
            "Class-Balanced Weights: tensor([0.8132, 0.2583, 0.2175, 1.9269, 1.7841], device='cuda:0')\n"
          ]
        }
      ],
      "source": [
        "import numpy as np\n",
        "\n",
        "def get_cb_weights(labels, num_classes, beta=0.9999):\n",
        "    labels = np.array(labels)\n",
        "    class_counts = np.bincount(labels, minlength=num_classes)\n",
        "\n",
        "    effective_num = 1.0 - np.power(beta, class_counts)\n",
        "    effective_num = np.where(effective_num == 0, 1e-8, effective_num)\n",
        "\n",
        "    weights = (1.0 - beta) / effective_num\n",
        "    weights = weights / np.sum(weights) * num_classes\n",
        "\n",
        "    return torch.tensor(weights, dtype=torch.float32)\n",
        "\n",
        "labels = data['label'].values\n",
        "num_classes = 5\n",
        "\n",
        "cb_weights = get_cb_weights(labels, num_classes, beta=0.9999).to(device)\n",
        "\n",
        "print(\"Class-Balanced Weights:\", cb_weights)"
      ]
    },
    {
      "cell_type": "code",
      "execution_count": 23,
      "metadata": {
        "colab": {
          "base_uri": "https://localhost:8080/"
        },
        "id": "CzD3mebp3HZh",
        "outputId": "c035799c-6af5-4ad0-f3ce-a4242ff3588a"
      },
      "outputs": [
        {
          "name": "stderr",
          "output_type": "stream",
          "text": [
            "/tmp/ipython-input-79376820.py:6: FutureWarning: `torch.cuda.amp.GradScaler(args...)` is deprecated. Please use `torch.amp.GradScaler('cuda', args...)` instead.\n",
            "  scaler = torch.cuda.amp.GradScaler()\n"
          ]
        }
      ],
      "source": [
        "from transformers import get_linear_schedule_with_warmup\n",
        "\n",
        "ce = nn.CrossEntropyLoss(weight=cb_weights)\n",
        "# ce = nn.CrossEntropyLoss()\n",
        "optimizer = torch.optim.Adam(model.parameters(), lr=hyperparameters['learning_rate'], weight_decay=hyperparameters[\"weight_decay\"])\n",
        "scaler = torch.cuda.amp.GradScaler()\n",
        "\n",
        "if info['is_pre_training']:\n",
        "  optimizer.load_state_dict(checkpoint['optimizer_state_dict'])\n",
        "  print(\"Optimizer loaded\")\n",
        "\n",
        "num_training_steps = len(train_loader) * hyperparameters['epochs']\n",
        "num_warmup_steps = hyperparameters[\"num_warmup_steps\"]\n",
        "\n",
        "scheduler = get_linear_schedule_with_warmup(\n",
        "    optimizer,\n",
        "    num_warmup_steps=num_warmup_steps,\n",
        "    num_training_steps=num_training_steps\n",
        ")"
      ]
    },
    {
      "cell_type": "code",
      "execution_count": 24,
      "metadata": {
        "id": "3YrLO_deKIvu"
      },
      "outputs": [],
      "source": [
        "def train32(model, loader, ce, optimizer):\n",
        "    model.train()\n",
        "\n",
        "    running_loss, correct, total = 0.0, 0, 0\n",
        "\n",
        "    for x, y in loader:\n",
        "        optimizer.zero_grad()\n",
        "\n",
        "        x = x.to(device)\n",
        "        y = y.to(device)\n",
        "\n",
        "        output = model(x)\n",
        "        loss = ce(output, y)\n",
        "\n",
        "        prediction = torch.argmax(output, dim=1)\n",
        "        correct += (prediction == y).sum().item()\n",
        "        total += len(x)\n",
        "\n",
        "        loss.backward()\n",
        "\n",
        "        optimizer.step()\n",
        "\n",
        "        running_loss += loss.item() * len(x)\n",
        "\n",
        "    accuracy = correct / total\n",
        "\n",
        "    return (\n",
        "        running_loss / len(loader.dataset),\n",
        "        accuracy\n",
        "    )\n",
        "\n",
        "def train16(model, loader, ce, optimizer, scaler, scheduler):\n",
        "    model.train()\n",
        "    running_loss, correct, total = 0.0, 0, 0\n",
        "\n",
        "    for x, y in loader:\n",
        "        optimizer.zero_grad()\n",
        "        x = x.to(device)\n",
        "        y = y.to(device)\n",
        "\n",
        "        with torch.cuda.amp.autocast(dtype=torch.float16):\n",
        "            output = model(x)\n",
        "            loss = ce(output, y)\n",
        "\n",
        "        prediction = torch.argmax(output, dim=1)\n",
        "        correct += (prediction == y).sum().item()\n",
        "        total += len(x)\n",
        "\n",
        "        scaler.scale(loss).backward()\n",
        "        scaler.step(optimizer)\n",
        "        scaler.update()\n",
        "\n",
        "        scheduler.step()\n",
        "\n",
        "        running_loss += loss.item() * len(x)\n",
        "\n",
        "    accuracy = correct / total\n",
        "    return (\n",
        "        running_loss / len(loader.dataset),\n",
        "        accuracy\n",
        "    )"
      ]
    },
    {
      "cell_type": "code",
      "execution_count": 25,
      "metadata": {
        "id": "hK6At-_VKItX"
      },
      "outputs": [],
      "source": [
        "def validation(model, loader, ce):\n",
        "    model.eval()\n",
        "\n",
        "    running_loss, correct, total = 0.0, 0, 0\n",
        "\n",
        "    with torch.no_grad():\n",
        "        for x, y in loader:\n",
        "            x = x.to(device)\n",
        "            y = y.to(device)\n",
        "\n",
        "            if info['precision'] == 'FP16':\n",
        "              with torch.cuda.amp.autocast(dtype=torch.float16):\n",
        "                  output = model(x)\n",
        "                  loss = ce(output, y)\n",
        "            else:\n",
        "              output = model(x)\n",
        "              loss = ce(output, y)\n",
        "\n",
        "            running_loss += loss.item() * len(x)\n",
        "\n",
        "            prediction = torch.argmax(output, dim=1)\n",
        "            correct += (prediction == y).sum().item()\n",
        "\n",
        "            total += len(x)\n",
        "\n",
        "    accuracy = correct / total\n",
        "\n",
        "    return (\n",
        "        running_loss / len(loader.dataset),\n",
        "        accuracy\n",
        "    )"
      ]
    },
    {
      "cell_type": "code",
      "execution_count": 26,
      "metadata": {
        "colab": {
          "base_uri": "https://localhost:8080/"
        },
        "id": "2mL_srk1KQNu",
        "outputId": "12cb8de7-13e5-446c-f2fd-f7ddd752d01f"
      },
      "outputs": [
        {
          "name": "stderr",
          "output_type": "stream",
          "text": [
            "/tmp/ipython-input-2163399810.py:41: FutureWarning: `torch.cuda.amp.autocast(args...)` is deprecated. Please use `torch.amp.autocast('cuda', args...)` instead.\n",
            "  with torch.cuda.amp.autocast(dtype=torch.float16):\n",
            "/tmp/ipython-input-260272857.py:12: FutureWarning: `torch.cuda.amp.autocast(args...)` is deprecated. Please use `torch.amp.autocast('cuda', args...)` instead.\n",
            "  with torch.cuda.amp.autocast(dtype=torch.float16):\n"
          ]
        },
        {
          "name": "stdout",
          "output_type": "stream",
          "text": [
            "Epoch (0/300): Train Loss = 1.2232, Valitation Loss = 1.1498, Train_acc = 0.3623, Val_acc = 0.4513\n",
            "Model saved at /content/drive/MyDrive/Mutation Model/modelSixteenth Run_epoch_0.pth\n",
            "Epoch (1/300): Train Loss = 1.1427, Valitation Loss = 1.1484, Train_acc = 0.4604, Val_acc = 0.4641\n",
            "Epoch (2/300): Train Loss = 1.1197, Valitation Loss = 1.1312, Train_acc = 0.4804, Val_acc = 0.4906\n",
            "Epoch (3/300): Train Loss = 1.0997, Valitation Loss = 1.0899, Train_acc = 0.4972, Val_acc = 0.5092\n",
            "Epoch (4/300): Train Loss = 1.0805, Valitation Loss = 1.0734, Train_acc = 0.5049, Val_acc = 0.4930\n",
            "Epoch (5/300): Train Loss = 1.0607, Valitation Loss = 1.0551, Train_acc = 0.5096, Val_acc = 0.5260\n",
            "Epoch (6/300): Train Loss = 1.0399, Valitation Loss = 1.0484, Train_acc = 0.5130, Val_acc = 0.5297\n",
            "Epoch (7/300): Train Loss = 1.0189, Valitation Loss = 1.0318, Train_acc = 0.5188, Val_acc = 0.5100\n",
            "Epoch (8/300): Train Loss = 0.9990, Valitation Loss = 1.0251, Train_acc = 0.5235, Val_acc = 0.5040\n",
            "Epoch (9/300): Train Loss = 0.9766, Valitation Loss = 1.0126, Train_acc = 0.5287, Val_acc = 0.5247\n",
            "Epoch (10/300): Train Loss = 0.9584, Valitation Loss = 1.0020, Train_acc = 0.5324, Val_acc = 0.5441\n",
            "Model saved at /content/drive/MyDrive/Mutation Model/modelSixteenth Run_epoch_10.pth\n",
            "Epoch (11/300): Train Loss = 0.9375, Valitation Loss = 1.0103, Train_acc = 0.5398, Val_acc = 0.5251\n",
            "No improvement in val loss Counter = 1/10\n",
            "Epoch (12/300): Train Loss = 0.9181, Valitation Loss = 0.9854, Train_acc = 0.5430, Val_acc = 0.5390\n",
            "Epoch (13/300): Train Loss = 0.8986, Valitation Loss = 0.9804, Train_acc = 0.5476, Val_acc = 0.5158\n",
            "Epoch (14/300): Train Loss = 0.8807, Valitation Loss = 0.9671, Train_acc = 0.5515, Val_acc = 0.5023\n",
            "Epoch (15/300): Train Loss = 0.8603, Valitation Loss = 0.9524, Train_acc = 0.5590, Val_acc = 0.5490\n",
            "Epoch (16/300): Train Loss = 0.8417, Valitation Loss = 0.9463, Train_acc = 0.5629, Val_acc = 0.5588\n",
            "Epoch (17/300): Train Loss = 0.8230, Valitation Loss = 0.9517, Train_acc = 0.5674, Val_acc = 0.5314\n",
            "No improvement in val loss Counter = 1/10\n",
            "Epoch (18/300): Train Loss = 0.8114, Valitation Loss = 0.9386, Train_acc = 0.5691, Val_acc = 0.5584\n",
            "Epoch (19/300): Train Loss = 0.7939, Valitation Loss = 0.9494, Train_acc = 0.5745, Val_acc = 0.5612\n",
            "No improvement in val loss Counter = 1/10\n",
            "Epoch (20/300): Train Loss = 0.7789, Valitation Loss = 0.9470, Train_acc = 0.5784, Val_acc = 0.5516\n",
            "Model saved at /content/drive/MyDrive/Mutation Model/modelSixteenth Run_epoch_20.pth\n",
            "No improvement in val loss Counter = 2/10\n",
            "Epoch (21/300): Train Loss = 0.7613, Valitation Loss = 1.0778, Train_acc = 0.5801, Val_acc = 0.5254\n",
            "No improvement in val loss Counter = 3/10\n",
            "Epoch (22/300): Train Loss = 0.7459, Valitation Loss = 0.9502, Train_acc = 0.5857, Val_acc = 0.5428\n",
            "No improvement in val loss Counter = 4/10\n",
            "Epoch (23/300): Train Loss = 0.7281, Valitation Loss = 0.9605, Train_acc = 0.5916, Val_acc = 0.5282\n",
            "No improvement in val loss Counter = 5/10\n",
            "Epoch (24/300): Train Loss = 0.7155, Valitation Loss = 0.9747, Train_acc = 0.5937, Val_acc = 0.5569\n",
            "No improvement in val loss Counter = 6/10\n",
            "Epoch (25/300): Train Loss = 0.7005, Valitation Loss = 0.9620, Train_acc = 0.5979, Val_acc = 0.5614\n",
            "No improvement in val loss Counter = 7/10\n",
            "Epoch (26/300): Train Loss = 0.6884, Valitation Loss = 0.9656, Train_acc = 0.6012, Val_acc = 0.5600\n",
            "No improvement in val loss Counter = 8/10\n",
            "Epoch (27/300): Train Loss = 0.6770, Valitation Loss = 0.9902, Train_acc = 0.6045, Val_acc = 0.5439\n",
            "No improvement in val loss Counter = 9/10\n",
            "Epoch (28/300): Train Loss = 0.6656, Valitation Loss = 0.9351, Train_acc = 0.6068, Val_acc = 0.5687\n",
            "Epoch (29/300): Train Loss = 0.6448, Valitation Loss = 1.0121, Train_acc = 0.6138, Val_acc = 0.5460\n",
            "No improvement in val loss Counter = 1/10\n",
            "Epoch (30/300): Train Loss = 0.6350, Valitation Loss = 0.9874, Train_acc = 0.6152, Val_acc = 0.5748\n",
            "Model saved at /content/drive/MyDrive/Mutation Model/modelSixteenth Run_epoch_30.pth\n",
            "No improvement in val loss Counter = 2/10\n",
            "Epoch (31/300): Train Loss = 0.6196, Valitation Loss = 1.0007, Train_acc = 0.6200, Val_acc = 0.5474\n",
            "No improvement in val loss Counter = 3/10\n",
            "Epoch (32/300): Train Loss = 0.6102, Valitation Loss = 0.9733, Train_acc = 0.6222, Val_acc = 0.5576\n",
            "No improvement in val loss Counter = 4/10\n",
            "Epoch (33/300): Train Loss = 0.5969, Valitation Loss = 0.9787, Train_acc = 0.6259, Val_acc = 0.5361\n",
            "No improvement in val loss Counter = 5/10\n",
            "Epoch (34/300): Train Loss = 0.5852, Valitation Loss = 1.0515, Train_acc = 0.6268, Val_acc = 0.5550\n",
            "No improvement in val loss Counter = 6/10\n",
            "Epoch (35/300): Train Loss = 0.5747, Valitation Loss = 1.0817, Train_acc = 0.6310, Val_acc = 0.5746\n",
            "No improvement in val loss Counter = 7/10\n",
            "Epoch (36/300): Train Loss = 0.5622, Valitation Loss = 1.0084, Train_acc = 0.6347, Val_acc = 0.5490\n",
            "No improvement in val loss Counter = 8/10\n",
            "Epoch (37/300): Train Loss = 0.5553, Valitation Loss = 0.9945, Train_acc = 0.6370, Val_acc = 0.5428\n",
            "No improvement in val loss Counter = 9/10\n",
            "Epoch (38/300): Train Loss = 0.5421, Valitation Loss = 0.9988, Train_acc = 0.6408, Val_acc = 0.5623\n",
            "No improvement in val loss Counter = 10/10\n",
            "Early stopping triggered!\n"
          ]
        }
      ],
      "source": [
        "import os\n",
        "\n",
        "patience = 10\n",
        "best_val_loss = float('inf')\n",
        "counter = 0\n",
        "early_stop = False\n",
        "\n",
        "train_loss_history = []\n",
        "train_acc_history = []\n",
        "\n",
        "val_loss_history = []\n",
        "val_acc_history = []\n",
        "\n",
        "save_dir = f\"/content/drive/MyDrive/{info['dir_name']}\"\n",
        "os.makedirs(save_dir, exist_ok=True)\n",
        "\n",
        "for epoch in range(1, hyperparameters['epochs']+1):\n",
        "    if info['precision'] == 'FP16':\n",
        "      current_train_loss, current_train_acc = train16(\n",
        "            model,\n",
        "            train_loader,\n",
        "            ce,\n",
        "            optimizer,\n",
        "            scaler,\n",
        "            scheduler\n",
        "        )\n",
        "    else:\n",
        "      current_train_loss, current_train_acc = train32(\n",
        "          model,\n",
        "          train_loader,\n",
        "          ce,\n",
        "          optimizer\n",
        "      )\n",
        "\n",
        "    current_val_loss, current_val_acc = validation(\n",
        "        model,\n",
        "        test_loader,\n",
        "        ce\n",
        "    )\n",
        "\n",
        "    train_loss_history.append(current_train_loss)\n",
        "    train_acc_history.append(current_train_acc)\n",
        "\n",
        "    val_loss_history.append(current_val_loss)\n",
        "    val_acc_history.append(current_val_acc)\n",
        "\n",
        "    print(f\"Epoch ({epoch}/{hyperparameters['epochs']}): Train Loss = {current_train_loss:.4f}, Valitation Loss = {current_val_loss:.4f}, Train_acc = {current_train_acc:.4f}, Val_acc = {current_val_acc:.4f}\")\n",
        "\n",
        "    if epoch % 10 == 0:\n",
        "      checkpoint_path = f\"{save_dir}/model{info['run']}_epoch_{epoch}.pth\"\n",
        "      torch.save({\n",
        "          'epoch': epoch,\n",
        "          'model_state_dict': model.state_dict(),\n",
        "          'optimizer_state_dict': optimizer.state_dict(),\n",
        "          'train_losses': train_loss_history,\n",
        "          'val_losses': val_loss_history,\n",
        "          'train_acc': train_acc_history,\n",
        "          'val_acc': val_acc_history\n",
        "      }, checkpoint_path)\n",
        "      print(f\"Model saved at {checkpoint_path}\")\n",
        "\n",
        "    if current_val_loss < best_val_loss:\n",
        "        best_val_loss = current_val_loss\n",
        "        counter = 0\n",
        "        continue\n",
        "    else:\n",
        "        counter += 1\n",
        "        print(f\"No improvement in val loss Counter = {counter}/{patience}\")\n",
        "        if counter >= patience:\n",
        "            print(\"Early stopping triggered!\")\n",
        "            early_stop = True\n",
        "            break"
      ]
    },
    {
      "cell_type": "code",
      "execution_count": 27,
      "metadata": {
        "id": "fchAhqxA5bKy"
      },
      "outputs": [],
      "source": [
        "def get_predictions_and_labels(model, loader):\n",
        "    model.eval()\n",
        "    all_y_true = []\n",
        "    all_y_pred = []\n",
        "\n",
        "    with torch.no_grad():\n",
        "        for x, y in loader:\n",
        "            x = x.to(device)\n",
        "            y = y.to(device)\n",
        "\n",
        "            yout = model(x)\n",
        "\n",
        "            _, pred_mut = torch.max(yout, 1)\n",
        "\n",
        "            all_y_true.extend(y.cpu().numpy())\n",
        "            all_y_pred.extend(pred_mut.cpu().numpy())\n",
        "\n",
        "    return (\n",
        "        (all_y_true, all_y_pred)\n",
        "    )"
      ]
    },
    {
      "cell_type": "code",
      "execution_count": 28,
      "metadata": {
        "colab": {
          "base_uri": "https://localhost:8080/"
        },
        "id": "-Ild1bHo5XY4",
        "outputId": "83a91303-70cf-4043-d691-53e5971d1d54"
      },
      "outputs": [
        {
          "name": "stdout",
          "output_type": "stream",
          "text": [
            "\n",
            "============================================================\n",
            "Classification Report Summary\n",
            "============================================================\n",
            "\n",
            "[1] Classification Report — Mutation Label\n",
            "------------------------------------------------------------\n",
            "              precision    recall  f1-score   support\n",
            "\n",
            "           0       0.65      0.34      0.45      2947\n",
            "           1       0.51      0.06      0.11      3134\n",
            "           2       0.61      0.77      0.68      5918\n",
            "           3       0.47      0.79      0.59      2967\n",
            "           4       0.56      0.67      0.61      2982\n",
            "\n",
            "    accuracy                           0.56     17948\n",
            "   macro avg       0.56      0.53      0.49     17948\n",
            "weighted avg       0.57      0.56      0.52     17948\n",
            "\n",
            "============================================================\n",
            "\n"
          ]
        }
      ],
      "source": [
        "from sklearn.metrics import classification_report\n",
        "\n",
        "(y_true, y_pred) = get_predictions_and_labels(model, test_loader)\n",
        "\n",
        "print(\"\\n\" + \"=\"*60)\n",
        "print(\"Classification Report Summary\")\n",
        "print(\"=\"*60)\n",
        "\n",
        "print(\"\\n[1] Classification Report — Mutation Label\")\n",
        "print(\"-\" * 60)\n",
        "print(classification_report(y_true, y_pred))\n",
        "\n",
        "print(\"=\"*60 + \"\\n\")\n"
      ]
    },
    {
      "cell_type": "code",
      "execution_count": 29,
      "metadata": {
        "colab": {
          "base_uri": "https://localhost:8080/",
          "height": 470
        },
        "id": "HZh0OCyv5RrR",
        "outputId": "e5739098-b3cf-41f8-e7d4-0a5699dac36a"
      },
      "outputs": [
        {
          "data": {
            "text/plain": [
              "<sklearn.metrics._plot.confusion_matrix.ConfusionMatrixDisplay at 0x7d5695c7d640>"
            ]
          },
          "execution_count": 29,
          "metadata": {},
          "output_type": "execute_result"
        },
        {
          "data": {
            "image/png": "[encoded data removed]",
            "text/plain": [
              "<Figure size 640x480 with 2 Axes>"
            ]
          },
          "metadata": {},
          "output_type": "display_data"
        }
      ],
      "source": [
        "from sklearn.metrics import confusion_matrix, ConfusionMatrixDisplay\n",
        "\n",
        "cm = confusion_matrix(y_true, y_pred)\n",
        "disp = ConfusionMatrixDisplay(confusion_matrix=cm)\n",
        "disp.plot(xticks_rotation=45)"
      ]
    },
    {
      "cell_type": "code",
      "execution_count": 30,
      "metadata": {
        "colab": {
          "base_uri": "https://localhost:8080/",
          "height": 953
        },
        "id": "uiqFXZj3KsP6",
        "outputId": "8ebe4bf8-8b53-42de-c644-11502cb41c9c"
      },
      "outputs": [
        {
          "data": {
            "image/png": "[encoded data removed]",
            "text/plain": [
              "<Figure size 1000x500 with 1 Axes>"
            ]
          },
          "metadata": {},
          "output_type": "display_data"
        },
        {
          "data": {
            "image/png": "[encoded data removed]",
            "text/plain": [
              "<Figure size 1000x500 with 1 Axes>"
            ]
          },
          "metadata": {},
          "output_type": "display_data"
        }
      ],
      "source": [
        "import matplotlib.pyplot as plt\n",
        "\n",
        "plt.figure(figsize=(10, 5))\n",
        "plt.plot(train_loss_history, label='Train Loss')\n",
        "plt.plot(val_loss_history, label='Validation Loss')\n",
        "plt.title('Training vs Validation Loss')\n",
        "plt.xlabel('Epoch')\n",
        "plt.ylabel('Loss')\n",
        "plt.legend()\n",
        "plt.grid(True)\n",
        "plt.show()\n",
        "\n",
        "plt.figure(figsize=(10, 5))\n",
        "plt.plot(train_acc_history, label='Train Accuracy')\n",
        "plt.plot(val_acc_history, label='Validation Accuracy')\n",
        "plt.title('Training vs Validation Accuracy')\n",
        "plt.xlabel('Epoch')\n",
        "plt.ylabel('Accuracy')\n",
        "plt.legend()\n",
        "plt.grid(True)\n",
        "plt.show()"
      ]
    },
    {
      "cell_type": "code",
      "execution_count": 30,
      "metadata": {
        "id": "E7zwemA67uJQ"
      },
      "outputs": [],
      "source": []
    }
  ],
  "metadata": {
    "accelerator": "GPU",
    "colab": {
      "gpuType": "L4",
      "machine_shape": "hm",
      "provenance": []
    },
    "kernelspec": {
      "display_name": "Python 3",
      "name": "python3"
    },
    "language_info": {
      "codemirror_mode": {
        "name": "ipython",
        "version": 3
      },
      "file_extension": ".py",
      "mimetype": "text/x-python",
      "name": "python",
      "nbconvert_exporter": "python",
      "pygments_lexer": "ipython3",
      "version": "3.10.0"
    }
  },
  "nbformat": 4,
  "nbformat_minor": 0
}
