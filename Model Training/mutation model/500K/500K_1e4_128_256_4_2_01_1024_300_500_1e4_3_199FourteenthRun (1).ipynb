{
  "cells": [
    {
      "cell_type": "code",
      "execution_count": null,
      "metadata": {
        "id": "pGcWf4F5JcMc"
      },
      "outputs": [],
      "source": [
        "hyperparameters = {\n",
        "    \"learning_rate\": 1e-4,\n",
        "    \"batch_size\": 256,\n",
        "    \"embed_dim\": 256,\n",
        "    \"num_heads\": 4,\n",
        "    \"num_layers\": 2,\n",
        "    \"dropout\": 0.1,\n",
        "    \"ff_dim\": 1024,\n",
        "    \"epochs\": 300,\n",
        "    \"num_warmup_steps\": 1000,\n",
        "    \"weight_decay\": 1e-4,\n",
        "    \"k-mers\": 3,\n",
        "    \"max_len\": 199\n",
        "}\n",
        "\n",
        "info = {\n",
        "    \"dataset_size\": \"500K\",\n",
        "    \"precision\": \"FP16\",\n",
        "    \"dir_name\": \"Mutation Model\",\n",
        "    \"run\": \"Fourteenth Run\",\n",
        "    \"loss\": {\n",
        "        \"type\": \"CB Weighted Cross Entropy Loss\",\n",
        "        \"alpha\": 0.75, # Removed\n",
        "        \"gamma\": 2\n",
        "    },\n",
        "    \"optimizer\": \"Adam\",\n",
        "    \"is_pre_training\": True\n",
        "}"
      ]
    },
    {
      "cell_type": "code",
      "execution_count": null,
      "metadata": {
        "colab": {
          "base_uri": "https://localhost:8080/"
        },
        "id": "39nTODPl6tqB",
        "outputId": "6e116e77-e871-4813-eb08-28b91405e626"
      },
      "outputs": [
        {
          "output_type": "stream",
          "name": "stdout",
          "text": [
            "Mounted at /content/drive\n"
          ]
        }
      ],
      "source": [
        "from google.colab import drive\n",
        "drive.mount('/content/drive')"
      ]
    },
    {
      "cell_type": "code",
      "execution_count": null,
      "metadata": {
        "colab": {
          "base_uri": "https://localhost:8080/"
        },
        "id": "V1v98WHCJoDO",
        "outputId": "2de3508a-5dc5-49bf-82e2-5fc1ed0a3d9e"
      },
      "outputs": [
        {
          "output_type": "execute_result",
          "data": {
            "text/plain": [
              "(500000, 10)"
            ]
          },
          "metadata": {},
          "execution_count": 3
        }
      ],
      "source": [
        "import pandas as pd\n",
        "\n",
        "data_path = f\"/content/drive/MyDrive/dataset/{info['dataset_size']}.csv\"\n",
        "\n",
        "data = pd.read_csv(data_path)\n",
        "data.shape"
      ]
    },
    {
      "cell_type": "code",
      "execution_count": null,
      "metadata": {
        "colab": {
          "base_uri": "https://localhost:8080/",
          "height": 272
        },
        "id": "eqhNpoEKSZ3Q",
        "outputId": "a6057b51-bf4b-4d00-a8e4-7147a43876d1"
      },
      "outputs": [
        {
          "output_type": "execute_result",
          "data": {
            "text/plain": [
              "label\n",
              "2    288414\n",
              "1    158833\n",
              "0     29578\n",
              "4     12230\n",
              "3     10945\n",
              "Name: count, dtype: int64"
            ],
            "text/html": [
              "<div>\n",
              "<style scoped>\n",
              "    .dataframe tbody tr th:only-of-type {\n",
              "        vertical-align: middle;\n",
              "    }\n",
              "\n",
              "    .dataframe tbody tr th {\n",
              "        vertical-align: top;\n",
              "    }\n",
              "\n",
              "    .dataframe thead th {\n",
              "        text-align: right;\n",
              "    }\n",
              "</style>\n",
              "<table border=\"1\" class=\"dataframe\">\n",
              "  <thead>\n",
              "    <tr style=\"text-align: right;\">\n",
              "      <th></th>\n",
              "      <th>count</th>\n",
              "    </tr>\n",
              "    <tr>\n",
              "      <th>label</th>\n",
              "      <th></th>\n",
              "    </tr>\n",
              "  </thead>\n",
              "  <tbody>\n",
              "    <tr>\n",
              "      <th>2</th>\n",
              "      <td>288414</td>\n",
              "    </tr>\n",
              "    <tr>\n",
              "      <th>1</th>\n",
              "      <td>158833</td>\n",
              "    </tr>\n",
              "    <tr>\n",
              "      <th>0</th>\n",
              "      <td>29578</td>\n",
              "    </tr>\n",
              "    <tr>\n",
              "      <th>4</th>\n",
              "      <td>12230</td>\n",
              "    </tr>\n",
              "    <tr>\n",
              "      <th>3</th>\n",
              "      <td>10945</td>\n",
              "    </tr>\n",
              "  </tbody>\n",
              "</table>\n",
              "</div><br><label><b>dtype:</b> int64</label>"
            ]
          },
          "metadata": {},
          "execution_count": 4
        }
      ],
      "source": [
        "data['label'].value_counts()"
      ]
    },
    {
      "cell_type": "code",
      "execution_count": null,
      "metadata": {
        "id": "wR3jf-oAJ2PE"
      },
      "outputs": [],
      "source": [
        "x = data['sequence']\n",
        "y = data['label']"
      ]
    },
    {
      "cell_type": "code",
      "execution_count": null,
      "metadata": {
        "id": "j-XikXuLJ2M1"
      },
      "outputs": [],
      "source": [
        "import pickle\n",
        "\n",
        "def get_codon(seq, k=hyperparameters['k-mers']):\n",
        "    return [seq[i:i+k] for i in range(len(seq) - k + 1)]\n",
        "\n",
        "vocab = {}\n",
        "\n",
        "for seq in data['sequence']:\n",
        "    for codons in get_codon(seq.lower()):\n",
        "        if codons not in vocab:\n",
        "            vocab[codons] = len(vocab)\n",
        "        else:\n",
        "            continue\n",
        "\n",
        "with open('vocab.pkl', 'wb') as f:\n",
        "    pickle.dump(vocab, f)\n",
        "\n",
        "def get_tensor(text):\n",
        "    return [vocab[codons.lower()] for codons in get_codon(text)]"
      ]
    },
    {
      "cell_type": "code",
      "execution_count": null,
      "metadata": {
        "id": "3dzO0_F0J2Kw"
      },
      "outputs": [],
      "source": [
        "import torch\n",
        "from torch import nn, optim\n",
        "from torch.utils.data import Dataset, DataLoader, random_split\n",
        "\n",
        "class CustomDataset(Dataset):\n",
        "  def __init__(self, x, y):\n",
        "    self.x_frame = x\n",
        "    self.y_frame = y\n",
        "\n",
        "  def __len__(self):\n",
        "    return len(self.x_frame)\n",
        "\n",
        "  def __getitem__(self, index):\n",
        "    x = torch.tensor(get_tensor(self.x_frame[index]), dtype=torch.long)\n",
        "    y = torch.tensor(self.y_frame[index], dtype=torch.long)\n",
        "    return x, y"
      ]
    },
    {
      "cell_type": "code",
      "execution_count": null,
      "metadata": {
        "id": "YxR8TknxJ2Io"
      },
      "outputs": [],
      "source": [
        "dataset = CustomDataset(x, y)"
      ]
    },
    {
      "cell_type": "code",
      "execution_count": null,
      "metadata": {
        "id": "QF1Z099wJ2Gb"
      },
      "outputs": [],
      "source": [
        "train_size = int(0.8 * len(dataset))\n",
        "test_size = len(dataset) - train_size\n",
        "\n",
        "train_dataset, test_dataset = random_split(dataset, [train_size, test_size])"
      ]
    },
    {
      "cell_type": "code",
      "execution_count": null,
      "metadata": {
        "id": "2qHxLrY8aZEY"
      },
      "outputs": [],
      "source": [
        "train_loader = DataLoader(\n",
        "    train_dataset,\n",
        "    batch_size=hyperparameters['batch_size'],\n",
        "    # sampler=sampler\n",
        "    shuffle=True\n",
        ")\n",
        "\n",
        "test_loader = DataLoader(test_dataset, batch_size=hyperparameters['batch_size'])"
      ]
    },
    {
      "cell_type": "code",
      "execution_count": null,
      "metadata": {
        "id": "MJTZAUbQJ2Ca"
      },
      "outputs": [],
      "source": [
        "import math\n",
        "\n",
        "class PositionalEncoding(nn.Module):\n",
        "    def __init__(self, embed_dim, max_len=5000):\n",
        "        super().__init__()\n",
        "\n",
        "        pe = torch.zeros(max_len, embed_dim)\n",
        "        position = torch.arange(0, max_len).unsqueeze(1)\n",
        "\n",
        "        div_term = torch.exp((torch.arange(0, embed_dim, 2)) * (-math.log(10000.0) / embed_dim))\n",
        "\n",
        "        pe[:, 0::2] = torch.sin(position * div_term)\n",
        "        pe[:, 1::2] = torch.cos(position * div_term)\n",
        "\n",
        "        pe = pe.unsqueeze(0)\n",
        "        self.register_buffer('pe', pe)\n",
        "\n",
        "    def forward(self, x):\n",
        "        x = x + self.pe[:, :x.size(1), :].to(x.device)\n",
        "        return x\n",
        "\n",
        "class Transformer(nn.Module):\n",
        "    def __init__(self, embed_dim=512, num_heads=8, num_layers=6, ff_dim=2048, dropout=0.1, vocab_size=10000, max_len=5000):\n",
        "        super(Transformer, self).__init__()\n",
        "        self.embeddings = nn.Embedding(vocab_size, embed_dim)\n",
        "        self.position_encoding = PositionalEncoding(embed_dim=embed_dim, max_len=max_len)\n",
        "\n",
        "        encoder_layer = nn.TransformerEncoderLayer(\n",
        "            d_model=embed_dim,\n",
        "            nhead=num_heads,\n",
        "            dim_feedforward=ff_dim,\n",
        "            dropout=dropout,\n",
        "            batch_first=True\n",
        "        )\n",
        "        self.encoder = nn.TransformerEncoder(\n",
        "            encoder_layer=encoder_layer,\n",
        "            num_layers=num_layers\n",
        "        )\n",
        "\n",
        "        self.y_labels_out = nn.Linear(embed_dim, 5)\n",
        "\n",
        "    def forward(self, x):\n",
        "        x = self.embeddings(x)\n",
        "        x = self.position_encoding(x)\n",
        "\n",
        "        x = self.encoder(x)\n",
        "        x = x.mean(dim=1)\n",
        "\n",
        "        y_label_out = self.y_labels_out(x)\n",
        "        return y_label_out"
      ]
    },
    {
      "cell_type": "code",
      "execution_count": null,
      "metadata": {
        "id": "3y4bHJVbJ2AQ"
      },
      "outputs": [],
      "source": [
        "model = Transformer(\n",
        "    embed_dim=hyperparameters['embed_dim'],\n",
        "    num_heads=hyperparameters['num_heads'],\n",
        "    num_layers=hyperparameters['num_layers'],\n",
        "    ff_dim=hyperparameters['ff_dim'],\n",
        "    dropout=hyperparameters['dropout'],\n",
        "    vocab_size=len(vocab),\n",
        "    max_len=hyperparameters['max_len']\n",
        ")"
      ]
    },
    {
      "cell_type": "code",
      "execution_count": null,
      "metadata": {
        "id": "cTSxhHX13esJ"
      },
      "outputs": [],
      "source": [
        "if info['is_pre_training']:\n",
        "    checkpoint = torch.load(f\"/content/drive/MyDrive/{info['dir_name']}/modelThirteenth Run_epoch_60.pth\")\n",
        "\n",
        "    start_epoch = checkpoint['epoch']\n",
        "    model.load_state_dict(checkpoint['model_state_dict'])"
      ]
    },
    {
      "cell_type": "code",
      "execution_count": null,
      "metadata": {
        "colab": {
          "base_uri": "https://localhost:8080/"
        },
        "id": "q00nuF8HJ1-H",
        "outputId": "fe314fee-d7be-44ee-9668-5b1e632cbb20"
      },
      "outputs": [
        {
          "output_type": "execute_result",
          "data": {
            "text/plain": [
              "Transformer(\n",
              "  (embeddings): Embedding(64, 256)\n",
              "  (position_encoding): PositionalEncoding()\n",
              "  (encoder): TransformerEncoder(\n",
              "    (layers): ModuleList(\n",
              "      (0-1): 2 x TransformerEncoderLayer(\n",
              "        (self_attn): MultiheadAttention(\n",
              "          (out_proj): NonDynamicallyQuantizableLinear(in_features=256, out_features=256, bias=True)\n",
              "        )\n",
              "        (linear1): Linear(in_features=256, out_features=1024, bias=True)\n",
              "        (dropout): Dropout(p=0.1, inplace=False)\n",
              "        (linear2): Linear(in_features=1024, out_features=256, bias=True)\n",
              "        (norm1): LayerNorm((256,), eps=1e-05, elementwise_affine=True)\n",
              "        (norm2): LayerNorm((256,), eps=1e-05, elementwise_affine=True)\n",
              "        (dropout1): Dropout(p=0.1, inplace=False)\n",
              "        (dropout2): Dropout(p=0.1, inplace=False)\n",
              "      )\n",
              "    )\n",
              "  )\n",
              "  (y_labels_out): Linear(in_features=256, out_features=5, bias=True)\n",
              ")"
            ]
          },
          "metadata": {},
          "execution_count": 14
        }
      ],
      "source": [
        "device = torch.device(\"cuda\" if torch.cuda.is_available() else \"cpu\")\n",
        "model.to(device)"
      ]
    },
    {
      "cell_type": "code",
      "execution_count": null,
      "metadata": {
        "colab": {
          "base_uri": "https://localhost:8080/"
        },
        "id": "V2Qa9JHAKI1-",
        "outputId": "8e1e0d0e-77ce-4053-c723-bd81daea6d86"
      },
      "outputs": [
        {
          "output_type": "execute_result",
          "data": {
            "text/plain": [
              "device(type='cuda')"
            ]
          },
          "metadata": {},
          "execution_count": 15
        }
      ],
      "source": [
        "device"
      ]
    },
    {
      "cell_type": "code",
      "execution_count": null,
      "metadata": {
        "colab": {
          "base_uri": "https://localhost:8080/"
        },
        "id": "5_4lFoaqKIz4",
        "outputId": "ba3ac6c1-5744-4e89-a383-46516935ad6e"
      },
      "outputs": [
        {
          "output_type": "stream",
          "name": "stdout",
          "text": [
            "Total trainable parameters: 1597189\n"
          ]
        }
      ],
      "source": [
        "num_params = sum(p.numel() for p in model.parameters() if p.requires_grad)\n",
        "print(f\"Total trainable parameters: {num_params}\")"
      ]
    },
    {
      "cell_type": "code",
      "execution_count": null,
      "metadata": {
        "colab": {
          "base_uri": "https://localhost:8080/"
        },
        "id": "Le4cXoIAz28a",
        "outputId": "1fc31a4f-03e8-43fb-b96b-35d1c03a841f"
      },
      "outputs": [
        {
          "output_type": "stream",
          "name": "stdout",
          "text": [
            "Class-Balanced Weights: tensor([0.8827, 0.8368, 0.8368, 1.2578, 1.1859], device='cuda:0')\n"
          ]
        }
      ],
      "source": [
        "import numpy as np\n",
        "\n",
        "def get_cb_weights(labels, num_classes, beta=0.9999):\n",
        "    labels = np.array(labels)\n",
        "    class_counts = np.bincount(labels, minlength=num_classes)\n",
        "\n",
        "    effective_num = 1.0 - np.power(beta, class_counts)\n",
        "    effective_num = np.where(effective_num == 0, 1e-8, effective_num)\n",
        "\n",
        "    weights = (1.0 - beta) / effective_num\n",
        "    weights = weights / np.sum(weights) * num_classes\n",
        "\n",
        "    return torch.tensor(weights, dtype=torch.float32)\n",
        "\n",
        "labels = data['label'].values\n",
        "num_classes = 5\n",
        "\n",
        "cb_weights = get_cb_weights(labels, num_classes, beta=0.9999).to(device)\n",
        "\n",
        "print(\"Class-Balanced Weights:\", cb_weights)"
      ]
    },
    {
      "cell_type": "code",
      "execution_count": null,
      "metadata": {
        "colab": {
          "base_uri": "https://localhost:8080/"
        },
        "id": "CzD3mebp3HZh",
        "outputId": "f19bfc48-5b86-49cc-c74b-4a5347f644d6"
      },
      "outputs": [
        {
          "output_type": "stream",
          "name": "stdout",
          "text": [
            "Optimizer loaded\n"
          ]
        },
        {
          "output_type": "stream",
          "name": "stderr",
          "text": [
            "/tmp/ipython-input-2886689895.py:5: FutureWarning: `torch.cuda.amp.GradScaler(args...)` is deprecated. Please use `torch.amp.GradScaler('cuda', args...)` instead.\n",
            "  scaler = torch.cuda.amp.GradScaler()\n"
          ]
        }
      ],
      "source": [
        "from transformers import get_linear_schedule_with_warmup\n",
        "\n",
        "ce = nn.CrossEntropyLoss(weight=cb_weights)\n",
        "optimizer = torch.optim.Adam(model.parameters(), lr=hyperparameters['learning_rate'], weight_decay=hyperparameters[\"weight_decay\"])\n",
        "scaler = torch.cuda.amp.GradScaler()\n",
        "\n",
        "if info['is_pre_training']:\n",
        "  optimizer.load_state_dict(checkpoint['optimizer_state_dict'])\n",
        "  print(\"Optimizer loaded\")\n",
        "\n",
        "num_training_steps = len(train_loader) * hyperparameters['epochs']\n",
        "num_warmup_steps = hyperparameters[\"num_warmup_steps\"]\n",
        "\n",
        "scheduler = get_linear_schedule_with_warmup(\n",
        "    optimizer,\n",
        "    num_warmup_steps=num_warmup_steps,\n",
        "    num_training_steps=num_training_steps\n",
        ")"
      ]
    },
    {
      "cell_type": "code",
      "execution_count": null,
      "metadata": {
        "id": "3YrLO_deKIvu"
      },
      "outputs": [],
      "source": [
        "def train32(model, loader, ce, optimizer):\n",
        "    model.train()\n",
        "\n",
        "    running_loss, correct, total = 0.0, 0, 0\n",
        "\n",
        "    for x, y in loader:\n",
        "        optimizer.zero_grad()\n",
        "\n",
        "        x = x.to(device)\n",
        "        y = y.to(device)\n",
        "\n",
        "        output = model(x)\n",
        "        loss = ce(output, y)\n",
        "\n",
        "        prediction = torch.argmax(output, dim=1)\n",
        "        correct += (prediction == y).sum().item()\n",
        "        total += len(x)\n",
        "\n",
        "        loss.backward()\n",
        "\n",
        "        optimizer.step()\n",
        "\n",
        "        running_loss += loss.item() * len(x)\n",
        "\n",
        "    accuracy = correct / total\n",
        "\n",
        "    return (\n",
        "        running_loss / len(loader.dataset),\n",
        "        accuracy\n",
        "    )\n",
        "\n",
        "def train16(model, loader, ce, optimizer, scaler, scheduler):\n",
        "    model.train()\n",
        "    running_loss, correct, total = 0.0, 0, 0\n",
        "\n",
        "    for x, y in loader:\n",
        "        optimizer.zero_grad()\n",
        "        x = x.to(device)\n",
        "        y = y.to(device)\n",
        "\n",
        "        with torch.cuda.amp.autocast(dtype=torch.float16):\n",
        "            output = model(x)\n",
        "            loss = ce(output, y)\n",
        "\n",
        "        prediction = torch.argmax(output, dim=1)\n",
        "        correct += (prediction == y).sum().item()\n",
        "        total += len(x)\n",
        "\n",
        "        scaler.scale(loss).backward()\n",
        "        scaler.step(optimizer)\n",
        "        scaler.update()\n",
        "\n",
        "        scheduler.step()\n",
        "\n",
        "        running_loss += loss.item() * len(x)\n",
        "\n",
        "    accuracy = correct / total\n",
        "    return (\n",
        "        running_loss / len(loader.dataset),\n",
        "        accuracy\n",
        "    )"
      ]
    },
    {
      "cell_type": "code",
      "execution_count": null,
      "metadata": {
        "id": "hK6At-_VKItX"
      },
      "outputs": [],
      "source": [
        "def validation(model, loader, ce):\n",
        "    model.eval()\n",
        "\n",
        "    running_loss, correct, total = 0.0, 0, 0\n",
        "\n",
        "    with torch.no_grad():\n",
        "        for x, y in loader:\n",
        "            x = x.to(device)\n",
        "            y = y.to(device)\n",
        "\n",
        "            if info['precision'] == 'FP16':\n",
        "              with torch.cuda.amp.autocast(dtype=torch.float16):\n",
        "                  output = model(x)\n",
        "                  loss = ce(output, y)\n",
        "            else:\n",
        "              output = model(x)\n",
        "              loss = ce(output, y)\n",
        "\n",
        "            running_loss += loss.item() * len(x)\n",
        "\n",
        "            prediction = torch.argmax(output, dim=1)\n",
        "            correct += (prediction == y).sum().item()\n",
        "\n",
        "            total += len(x)\n",
        "\n",
        "    accuracy = correct / total\n",
        "\n",
        "    return (\n",
        "        running_loss / len(loader.dataset),\n",
        "        accuracy\n",
        "    )"
      ]
    },
    {
      "cell_type": "code",
      "execution_count": 21,
      "metadata": {
        "colab": {
          "base_uri": "https://localhost:8080/",
          "height": 1000
        },
        "id": "2mL_srk1KQNu",
        "outputId": "fca8055a-f220-4b59-b9ca-08bff8e7faeb"
      },
      "outputs": [
        {
          "metadata": {
            "tags": null
          },
          "name": "stderr",
          "output_type": "stream",
          "text": [
            "/tmp/ipython-input-2163399810.py:41: FutureWarning: `torch.cuda.amp.autocast(args...)` is deprecated. Please use `torch.amp.autocast('cuda', args...)` instead.\n",
            "  with torch.cuda.amp.autocast(dtype=torch.float16):\n",
            "/tmp/ipython-input-260272857.py:12: FutureWarning: `torch.cuda.amp.autocast(args...)` is deprecated. Please use `torch.amp.autocast('cuda', args...)` instead.\n",
            "  with torch.cuda.amp.autocast(dtype=torch.float16):\n"
          ]
        },
        {
          "output_type": "stream",
          "name": "stdout",
          "text": [
            "Epoch (60/300): Train Loss = 1.0824, Valitation Loss = 1.0557, Train_acc = 0.5719, Val_acc = 0.5772\n",
            "Model saved at /content/drive/MyDrive/Mutation Model/modelFourteenth Run_epoch_60.pth\n",
            "Epoch (61/300): Train Loss = 1.0502, Valitation Loss = 1.0483, Train_acc = 0.5807, Val_acc = 0.5809\n",
            "Epoch (62/300): Train Loss = 1.0378, Valitation Loss = 1.0335, Train_acc = 0.5856, Val_acc = 0.5899\n",
            "Epoch (63/300): Train Loss = 1.0265, Valitation Loss = 1.0180, Train_acc = 0.5917, Val_acc = 0.5980\n",
            "Epoch (64/300): Train Loss = 1.0135, Valitation Loss = 1.0039, Train_acc = 0.6004, Val_acc = 0.6097\n",
            "Epoch (65/300): Train Loss = 1.0013, Valitation Loss = 0.9939, Train_acc = 0.6105, Val_acc = 0.6158\n",
            "Epoch (66/300): Train Loss = 0.9942, Valitation Loss = 0.9875, Train_acc = 0.6150, Val_acc = 0.6187\n",
            "Epoch (67/300): Train Loss = 0.9899, Valitation Loss = 0.9832, Train_acc = 0.6175, Val_acc = 0.6220\n",
            "Epoch (68/300): Train Loss = 0.9856, Valitation Loss = 0.9899, Train_acc = 0.6204, Val_acc = 0.6195\n",
            "No improvement in val loss Counter = 1/10\n",
            "Epoch (69/300): Train Loss = 0.9830, Valitation Loss = 0.9884, Train_acc = 0.6224, Val_acc = 0.6151\n",
            "No improvement in val loss Counter = 2/10\n",
            "Epoch (70/300): Train Loss = 0.9805, Valitation Loss = 0.9785, Train_acc = 0.6237, Val_acc = 0.6260\n",
            "Model saved at /content/drive/MyDrive/Mutation Model/modelFourteenth Run_epoch_70.pth\n",
            "Epoch (71/300): Train Loss = 0.9786, Valitation Loss = 0.9797, Train_acc = 0.6245, Val_acc = 0.6282\n",
            "No improvement in val loss Counter = 1/10\n",
            "Epoch (72/300): Train Loss = 0.9763, Valitation Loss = 0.9907, Train_acc = 0.6270, Val_acc = 0.6175\n",
            "No improvement in val loss Counter = 2/10\n",
            "Epoch (73/300): Train Loss = 0.9744, Valitation Loss = 0.9761, Train_acc = 0.6276, Val_acc = 0.6262\n",
            "Epoch (74/300): Train Loss = 0.9730, Valitation Loss = 0.9867, Train_acc = 0.6287, Val_acc = 0.6239\n",
            "No improvement in val loss Counter = 1/10\n",
            "Epoch (75/300): Train Loss = 0.9714, Valitation Loss = 0.9740, Train_acc = 0.6294, Val_acc = 0.6273\n",
            "Epoch (76/300): Train Loss = 0.9697, Valitation Loss = 0.9680, Train_acc = 0.6304, Val_acc = 0.6339\n",
            "Epoch (77/300): Train Loss = 0.9685, Valitation Loss = 0.9686, Train_acc = 0.6315, Val_acc = 0.6328\n",
            "No improvement in val loss Counter = 1/10\n",
            "Epoch (78/300): Train Loss = 0.9664, Valitation Loss = 0.9691, Train_acc = 0.6325, Val_acc = 0.6320\n",
            "No improvement in val loss Counter = 2/10\n",
            "Epoch (79/300): Train Loss = 0.9648, Valitation Loss = 0.9670, Train_acc = 0.6335, Val_acc = 0.6342\n",
            "Epoch (80/300): Train Loss = 0.9640, Valitation Loss = 0.9710, Train_acc = 0.6343, Val_acc = 0.6325\n",
            "Model saved at /content/drive/MyDrive/Mutation Model/modelFourteenth Run_epoch_80.pth\n",
            "No improvement in val loss Counter = 1/10\n",
            "Epoch (81/300): Train Loss = 0.9616, Valitation Loss = 0.9632, Train_acc = 0.6360, Val_acc = 0.6362\n",
            "Epoch (82/300): Train Loss = 0.9603, Valitation Loss = 0.9592, Train_acc = 0.6374, Val_acc = 0.6390\n",
            "Epoch (83/300): Train Loss = 0.9593, Valitation Loss = 0.9613, Train_acc = 0.6379, Val_acc = 0.6383\n",
            "No improvement in val loss Counter = 1/10\n",
            "Epoch (84/300): Train Loss = 0.9575, Valitation Loss = 0.9612, Train_acc = 0.6388, Val_acc = 0.6359\n",
            "No improvement in val loss Counter = 2/10\n",
            "Epoch (85/300): Train Loss = 0.9555, Valitation Loss = 0.9685, Train_acc = 0.6402, Val_acc = 0.6355\n",
            "No improvement in val loss Counter = 3/10\n",
            "Epoch (86/300): Train Loss = 0.9547, Valitation Loss = 0.9552, Train_acc = 0.6410, Val_acc = 0.6412\n",
            "Epoch (87/300): Train Loss = 0.9534, Valitation Loss = 0.9652, Train_acc = 0.6420, Val_acc = 0.6379\n",
            "No improvement in val loss Counter = 1/10\n",
            "Epoch (88/300): Train Loss = 0.9526, Valitation Loss = 0.9548, Train_acc = 0.6429, Val_acc = 0.6416\n",
            "Epoch (89/300): Train Loss = 0.9516, Valitation Loss = 0.9519, Train_acc = 0.6439, Val_acc = 0.6431\n",
            "Epoch (90/300): Train Loss = 0.9495, Valitation Loss = 0.9535, Train_acc = 0.6447, Val_acc = 0.6434\n",
            "Model saved at /content/drive/MyDrive/Mutation Model/modelFourteenth Run_epoch_90.pth\n",
            "No improvement in val loss Counter = 1/10\n",
            "Epoch (91/300): Train Loss = 0.9482, Valitation Loss = 0.9559, Train_acc = 0.6455, Val_acc = 0.6429\n",
            "No improvement in val loss Counter = 2/10\n",
            "Epoch (92/300): Train Loss = 0.9468, Valitation Loss = 0.9536, Train_acc = 0.6462, Val_acc = 0.6420\n",
            "No improvement in val loss Counter = 3/10\n",
            "Epoch (93/300): Train Loss = 0.9461, Valitation Loss = 0.9466, Train_acc = 0.6467, Val_acc = 0.6452\n",
            "Epoch (94/300): Train Loss = 0.9444, Valitation Loss = 0.9450, Train_acc = 0.6472, Val_acc = 0.6464\n",
            "Epoch (95/300): Train Loss = 0.9432, Valitation Loss = 0.9447, Train_acc = 0.6476, Val_acc = 0.6452\n",
            "Epoch (96/300): Train Loss = 0.9417, Valitation Loss = 0.9404, Train_acc = 0.6491, Val_acc = 0.6490\n",
            "Epoch (97/300): Train Loss = 0.9391, Valitation Loss = 0.9384, Train_acc = 0.6497, Val_acc = 0.6503\n",
            "Epoch (98/300): Train Loss = 0.9385, Valitation Loss = 0.9412, Train_acc = 0.6502, Val_acc = 0.6492\n",
            "No improvement in val loss Counter = 1/10\n",
            "Epoch (99/300): Train Loss = 0.9380, Valitation Loss = 0.9376, Train_acc = 0.6507, Val_acc = 0.6501\n",
            "Epoch (100/300): Train Loss = 0.9366, Valitation Loss = 0.9364, Train_acc = 0.6513, Val_acc = 0.6519\n",
            "Model saved at /content/drive/MyDrive/Mutation Model/modelFourteenth Run_epoch_100.pth\n",
            "Epoch (101/300): Train Loss = 0.9348, Valitation Loss = 0.9493, Train_acc = 0.6525, Val_acc = 0.6474\n",
            "No improvement in val loss Counter = 1/10\n",
            "Epoch (102/300): Train Loss = 0.9336, Valitation Loss = 0.9381, Train_acc = 0.6538, Val_acc = 0.6498\n",
            "No improvement in val loss Counter = 2/10\n",
            "Epoch (103/300): Train Loss = 0.9319, Valitation Loss = 0.9403, Train_acc = 0.6541, Val_acc = 0.6487\n",
            "No improvement in val loss Counter = 3/10\n",
            "Epoch (104/300): Train Loss = 0.9313, Valitation Loss = 0.9304, Train_acc = 0.6548, Val_acc = 0.6550\n",
            "Epoch (105/300): Train Loss = 0.9303, Valitation Loss = 0.9413, Train_acc = 0.6551, Val_acc = 0.6513\n",
            "No improvement in val loss Counter = 1/10\n",
            "Epoch (106/300): Train Loss = 0.9296, Valitation Loss = 0.9440, Train_acc = 0.6555, Val_acc = 0.6481\n",
            "No improvement in val loss Counter = 2/10\n",
            "Epoch (107/300): Train Loss = 0.9284, Valitation Loss = 0.9326, Train_acc = 0.6559, Val_acc = 0.6538\n",
            "No improvement in val loss Counter = 3/10\n",
            "Epoch (108/300): Train Loss = 0.9274, Valitation Loss = 0.9331, Train_acc = 0.6569, Val_acc = 0.6531\n",
            "No improvement in val loss Counter = 4/10\n",
            "Epoch (109/300): Train Loss = 0.9268, Valitation Loss = 0.9299, Train_acc = 0.6566, Val_acc = 0.6547\n",
            "Epoch (110/300): Train Loss = 0.9264, Valitation Loss = 0.9279, Train_acc = 0.6570, Val_acc = 0.6555\n",
            "Model saved at /content/drive/MyDrive/Mutation Model/modelFourteenth Run_epoch_110.pth\n",
            "Epoch (111/300): Train Loss = 0.9241, Valitation Loss = 0.9288, Train_acc = 0.6580, Val_acc = 0.6572\n",
            "No improvement in val loss Counter = 1/10\n",
            "Epoch (112/300): Train Loss = 0.9236, Valitation Loss = 0.9340, Train_acc = 0.6585, Val_acc = 0.6565\n",
            "No improvement in val loss Counter = 2/10\n",
            "Epoch (113/300): Train Loss = 0.9231, Valitation Loss = 0.9353, Train_acc = 0.6586, Val_acc = 0.6523\n",
            "No improvement in val loss Counter = 3/10\n",
            "Epoch (114/300): Train Loss = 0.9215, Valitation Loss = 0.9330, Train_acc = 0.6602, Val_acc = 0.6546\n",
            "No improvement in val loss Counter = 4/10\n",
            "Epoch (115/300): Train Loss = 0.9214, Valitation Loss = 0.9250, Train_acc = 0.6605, Val_acc = 0.6578\n",
            "Epoch (116/300): Train Loss = 0.9202, Valitation Loss = 0.9226, Train_acc = 0.6605, Val_acc = 0.6596\n",
            "Epoch (117/300): Train Loss = 0.9194, Valitation Loss = 0.9337, Train_acc = 0.6609, Val_acc = 0.6516\n",
            "No improvement in val loss Counter = 1/10\n",
            "Epoch (118/300): Train Loss = 0.9192, Valitation Loss = 0.9224, Train_acc = 0.6615, Val_acc = 0.6592\n",
            "Epoch (119/300): Train Loss = 0.9180, Valitation Loss = 0.9292, Train_acc = 0.6614, Val_acc = 0.6575\n",
            "No improvement in val loss Counter = 1/10\n",
            "Epoch (120/300): Train Loss = 0.9180, Valitation Loss = 0.9233, Train_acc = 0.6618, Val_acc = 0.6600\n",
            "Model saved at /content/drive/MyDrive/Mutation Model/modelFourteenth Run_epoch_120.pth\n",
            "No improvement in val loss Counter = 2/10\n",
            "Epoch (121/300): Train Loss = 0.9171, Valitation Loss = 0.9169, Train_acc = 0.6628, Val_acc = 0.6630\n",
            "Epoch (122/300): Train Loss = 0.9166, Valitation Loss = 0.9309, Train_acc = 0.6623, Val_acc = 0.6552\n",
            "No improvement in val loss Counter = 1/10\n",
            "Epoch (123/300): Train Loss = 0.9155, Valitation Loss = 0.9244, Train_acc = 0.6630, Val_acc = 0.6594\n",
            "No improvement in val loss Counter = 2/10\n",
            "Epoch (124/300): Train Loss = 0.9154, Valitation Loss = 0.9258, Train_acc = 0.6632, Val_acc = 0.6572\n",
            "No improvement in val loss Counter = 3/10\n",
            "Epoch (125/300): Train Loss = 0.9138, Valitation Loss = 0.9227, Train_acc = 0.6641, Val_acc = 0.6620\n",
            "No improvement in val loss Counter = 4/10\n",
            "Epoch (126/300): Train Loss = 0.9140, Valitation Loss = 0.9239, Train_acc = 0.6643, Val_acc = 0.6584\n",
            "No improvement in val loss Counter = 5/10\n",
            "Epoch (127/300): Train Loss = 0.9133, Valitation Loss = 0.9217, Train_acc = 0.6637, Val_acc = 0.6610\n",
            "No improvement in val loss Counter = 6/10\n",
            "Epoch (128/300): Train Loss = 0.9125, Valitation Loss = 0.9196, Train_acc = 0.6651, Val_acc = 0.6632\n",
            "No improvement in val loss Counter = 7/10\n",
            "Epoch (129/300): Train Loss = 0.9119, Valitation Loss = 0.9199, Train_acc = 0.6652, Val_acc = 0.6612\n",
            "No improvement in val loss Counter = 8/10\n",
            "Epoch (130/300): Train Loss = 0.9113, Valitation Loss = 0.9169, Train_acc = 0.6655, Val_acc = 0.6632\n",
            "Model saved at /content/drive/MyDrive/Mutation Model/modelFourteenth Run_epoch_130.pth\n",
            "No improvement in val loss Counter = 9/10\n",
            "Epoch (131/300): Train Loss = 0.9107, Valitation Loss = 0.9139, Train_acc = 0.6662, Val_acc = 0.6649\n"
          ]
        },
        {
          "output_type": "error",
          "ename": "KeyboardInterrupt",
          "evalue": "",
          "traceback": [
            "\u001b[0;31m---------------------------------------------------------------------------\u001b[0m",
            "\u001b[0;31mKeyboardInterrupt\u001b[0m                         Traceback (most recent call last)",
            "\u001b[0;32m/tmp/ipython-input-1598608469.py\u001b[0m in \u001b[0;36m<cell line: 0>\u001b[0;34m()\u001b[0m\n\u001b[1;32m     17\u001b[0m \u001b[0;32mfor\u001b[0m \u001b[0mepoch\u001b[0m \u001b[0;32min\u001b[0m \u001b[0mrange\u001b[0m\u001b[0;34m(\u001b[0m\u001b[0mstart_epoch\u001b[0m\u001b[0;34m,\u001b[0m \u001b[0mhyperparameters\u001b[0m\u001b[0;34m[\u001b[0m\u001b[0;34m'epochs'\u001b[0m\u001b[0;34m]\u001b[0m\u001b[0;34m+\u001b[0m\u001b[0;36m1\u001b[0m\u001b[0;34m)\u001b[0m\u001b[0;34m:\u001b[0m\u001b[0;34m\u001b[0m\u001b[0;34m\u001b[0m\u001b[0m\n\u001b[1;32m     18\u001b[0m     \u001b[0;32mif\u001b[0m \u001b[0minfo\u001b[0m\u001b[0;34m[\u001b[0m\u001b[0;34m'precision'\u001b[0m\u001b[0;34m]\u001b[0m \u001b[0;34m==\u001b[0m \u001b[0;34m'FP16'\u001b[0m\u001b[0;34m:\u001b[0m\u001b[0;34m\u001b[0m\u001b[0;34m\u001b[0m\u001b[0m\n\u001b[0;32m---> 19\u001b[0;31m       current_train_loss, current_train_acc = train16(\n\u001b[0m\u001b[1;32m     20\u001b[0m             \u001b[0mmodel\u001b[0m\u001b[0;34m,\u001b[0m\u001b[0;34m\u001b[0m\u001b[0;34m\u001b[0m\u001b[0m\n\u001b[1;32m     21\u001b[0m             \u001b[0mtrain_loader\u001b[0m\u001b[0;34m,\u001b[0m\u001b[0;34m\u001b[0m\u001b[0;34m\u001b[0m\u001b[0m\n",
            "\u001b[0;32m/tmp/ipython-input-2163399810.py\u001b[0m in \u001b[0;36mtrain16\u001b[0;34m(model, loader, ce, optimizer, scaler, scheduler)\u001b[0m\n\u001b[1;32m     44\u001b[0m \u001b[0;34m\u001b[0m\u001b[0m\n\u001b[1;32m     45\u001b[0m         \u001b[0mprediction\u001b[0m \u001b[0;34m=\u001b[0m \u001b[0mtorch\u001b[0m\u001b[0;34m.\u001b[0m\u001b[0margmax\u001b[0m\u001b[0;34m(\u001b[0m\u001b[0moutput\u001b[0m\u001b[0;34m,\u001b[0m \u001b[0mdim\u001b[0m\u001b[0;34m=\u001b[0m\u001b[0;36m1\u001b[0m\u001b[0;34m)\u001b[0m\u001b[0;34m\u001b[0m\u001b[0;34m\u001b[0m\u001b[0m\n\u001b[0;32m---> 46\u001b[0;31m         \u001b[0mcorrect\u001b[0m \u001b[0;34m+=\u001b[0m \u001b[0;34m(\u001b[0m\u001b[0mprediction\u001b[0m \u001b[0;34m==\u001b[0m \u001b[0my\u001b[0m\u001b[0;34m)\u001b[0m\u001b[0;34m.\u001b[0m\u001b[0msum\u001b[0m\u001b[0;34m(\u001b[0m\u001b[0;34m)\u001b[0m\u001b[0;34m.\u001b[0m\u001b[0mitem\u001b[0m\u001b[0;34m(\u001b[0m\u001b[0;34m)\u001b[0m\u001b[0;34m\u001b[0m\u001b[0;34m\u001b[0m\u001b[0m\n\u001b[0m\u001b[1;32m     47\u001b[0m         \u001b[0mtotal\u001b[0m \u001b[0;34m+=\u001b[0m \u001b[0mlen\u001b[0m\u001b[0;34m(\u001b[0m\u001b[0mx\u001b[0m\u001b[0;34m)\u001b[0m\u001b[0;34m\u001b[0m\u001b[0;34m\u001b[0m\u001b[0m\n\u001b[1;32m     48\u001b[0m \u001b[0;34m\u001b[0m\u001b[0m\n",
            "\u001b[0;31mKeyboardInterrupt\u001b[0m: "
          ]
        }
      ],
      "source": [
        "import os\n",
        "\n",
        "patience = 10\n",
        "best_val_loss = float('inf')\n",
        "counter = 0\n",
        "early_stop = False\n",
        "\n",
        "train_loss_history = []\n",
        "train_acc_history = []\n",
        "\n",
        "val_loss_history = []\n",
        "val_acc_history = []\n",
        "\n",
        "save_dir = f\"/content/drive/MyDrive/{info['dir_name']}\"\n",
        "os.makedirs(save_dir, exist_ok=True)\n",
        "\n",
        "for epoch in range(start_epoch, hyperparameters['epochs']+1):\n",
        "    if info['precision'] == 'FP16':\n",
        "      current_train_loss, current_train_acc = train16(\n",
        "            model,\n",
        "            train_loader,\n",
        "            ce,\n",
        "            optimizer,\n",
        "            scaler,\n",
        "            scheduler\n",
        "        )\n",
        "    else:\n",
        "      current_train_loss, current_train_acc = train32(\n",
        "          model,\n",
        "          train_loader,\n",
        "          ce,\n",
        "          optimizer\n",
        "      )\n",
        "\n",
        "    current_val_loss, current_val_acc = validation(\n",
        "        model,\n",
        "        test_loader,\n",
        "        ce\n",
        "    )\n",
        "\n",
        "    train_loss_history.append(current_train_loss)\n",
        "    train_acc_history.append(current_train_acc)\n",
        "\n",
        "    val_loss_history.append(current_val_loss)\n",
        "    val_acc_history.append(current_val_acc)\n",
        "\n",
        "    print(f\"Epoch ({epoch}/{hyperparameters['epochs']}): Train Loss = {current_train_loss:.4f}, Valitation Loss = {current_val_loss:.4f}, Train_acc = {current_train_acc:.4f}, Val_acc = {current_val_acc:.4f}\")\n",
        "\n",
        "    if epoch % 10 == 0:\n",
        "      checkpoint_path = f\"{save_dir}/model{info['run']}_epoch_{epoch}.pth\"\n",
        "      torch.save({\n",
        "          'epoch': epoch,\n",
        "          'model_state_dict': model.state_dict(),\n",
        "          'optimizer_state_dict': optimizer.state_dict(),\n",
        "          'train_losses': train_loss_history,\n",
        "          'val_losses': val_loss_history,\n",
        "          'train_acc': train_acc_history,\n",
        "          'val_acc': val_acc_history\n",
        "      }, checkpoint_path)\n",
        "      print(f\"Model saved at {checkpoint_path}\")\n",
        "\n",
        "    if current_val_loss < best_val_loss:\n",
        "        best_val_loss = current_val_loss\n",
        "        counter = 0\n",
        "        continue\n",
        "    else:\n",
        "        counter += 1\n",
        "        print(f\"No improvement in val loss Counter = {counter}/{patience}\")\n",
        "        if counter >= patience:\n",
        "            print(\"Early stopping triggered!\")\n",
        "            early_stop = True\n",
        "            break"
      ]
    },
    {
      "cell_type": "code",
      "execution_count": 22,
      "metadata": {
        "id": "fchAhqxA5bKy"
      },
      "outputs": [],
      "source": [
        "def get_predictions_and_labels(model, loader):\n",
        "    model.eval()\n",
        "    all_y_true = []\n",
        "    all_y_pred = []\n",
        "\n",
        "    with torch.no_grad():\n",
        "        for x, y in loader:\n",
        "            x = x.to(device)\n",
        "            y = y.to(device)\n",
        "\n",
        "            yout = model(x)\n",
        "\n",
        "            _, pred_mut = torch.max(yout, 1)\n",
        "\n",
        "            all_y_true.extend(y.cpu().numpy())\n",
        "            all_y_pred.extend(pred_mut.cpu().numpy())\n",
        "\n",
        "    return (\n",
        "        (all_y_true, all_y_pred)\n",
        "    )"
      ]
    },
    {
      "cell_type": "code",
      "execution_count": 23,
      "metadata": {
        "id": "-Ild1bHo5XY4",
        "colab": {
          "base_uri": "https://localhost:8080/"
        },
        "outputId": "1817e333-b7be-40ec-c3c9-04aa0c5333da"
      },
      "outputs": [
        {
          "output_type": "stream",
          "name": "stdout",
          "text": [
            "\n",
            "============================================================\n",
            "Classification Report Summary\n",
            "============================================================\n",
            "\n",
            "[1] Classification Report — Mutation Label\n",
            "------------------------------------------------------------\n",
            "              precision    recall  f1-score   support\n",
            "\n",
            "           0       0.50      0.02      0.04      5986\n",
            "           1       0.64      0.44      0.52     31733\n",
            "           2       0.67      0.90      0.77     57684\n",
            "           3       0.44      0.21      0.28      2162\n",
            "           4       0.14      0.00      0.00      2435\n",
            "\n",
            "    accuracy                           0.66    100000\n",
            "   macro avg       0.48      0.31      0.32    100000\n",
            "weighted avg       0.63      0.66      0.62    100000\n",
            "\n",
            "============================================================\n",
            "\n"
          ]
        }
      ],
      "source": [
        "from sklearn.metrics import classification_report\n",
        "\n",
        "(y_true, y_pred) = get_predictions_and_labels(model, test_loader)\n",
        "\n",
        "print(\"\\n\" + \"=\"*60)\n",
        "print(\"Classification Report Summary\")\n",
        "print(\"=\"*60)\n",
        "\n",
        "print(\"\\n[1] Classification Report — Mutation Label\")\n",
        "print(\"-\" * 60)\n",
        "print(classification_report(y_true, y_pred))\n",
        "\n",
        "print(\"=\"*60 + \"\\n\")\n"
      ]
    },
    {
      "cell_type": "code",
      "execution_count": 24,
      "metadata": {
        "id": "HZh0OCyv5RrR",
        "colab": {
          "base_uri": "https://localhost:8080/",
          "height": 470
        },
        "outputId": "3a500ae1-8bb9-4d25-a411-3e82d16c9a58"
      },
      "outputs": [
        {
          "output_type": "execute_result",
          "data": {
            "text/plain": [
              "<sklearn.metrics._plot.confusion_matrix.ConfusionMatrixDisplay at 0x7be7e1b57a70>"
            ]
          },
          "metadata": {},
          "execution_count": 24
        },
        {
          "output_type": "display_data",
          "data": {
            "text/plain": [
              "<Figure size 640x480 with 2 Axes>"
            ],
            "image/png": "[encoded data removed]"
          },
          "metadata": {}
        }
      ],
      "source": [
        "from sklearn.metrics import confusion_matrix, ConfusionMatrixDisplay\n",
        "\n",
        "cm = confusion_matrix(y_true, y_pred)\n",
        "disp = ConfusionMatrixDisplay(confusion_matrix=cm)\n",
        "disp.plot(xticks_rotation=45)"
      ]
    },
    {
      "cell_type": "code",
      "execution_count": 25,
      "metadata": {
        "id": "uiqFXZj3KsP6",
        "colab": {
          "base_uri": "https://localhost:8080/",
          "height": 944
        },
        "outputId": "9626c11c-e6a8-4368-fe0f-c30a54b64f0e"
      },
      "outputs": [
        {
          "output_type": "display_data",
          "data": {
            "text/plain": [
              "<Figure size 1000x500 with 1 Axes>"
            ],
            "image/png": "[encoded data removed]"
          },
          "metadata": {}
        },
        {
          "output_type": "display_data",
          "data": {
            "text/plain": [
              "<Figure size 1000x500 with 1 Axes>"
            ],
            "image/png": "[encoded data removed]"
          },
          "metadata": {}
        }
      ],
      "source": [
        "import matplotlib.pyplot as plt\n",
        "\n",
        "plt.figure(figsize=(10, 5))\n",
        "plt.plot(train_loss_history, label='Train Loss', marker='o')\n",
        "plt.plot(val_loss_history, label='Validation Loss', marker='o')\n",
        "plt.title('Training vs Validation Loss')\n",
        "plt.xlabel('Epoch')\n",
        "plt.ylabel('Loss')\n",
        "plt.legend()\n",
        "plt.grid(True)\n",
        "plt.show()\n",
        "\n",
        "plt.figure(figsize=(10, 5))\n",
        "plt.plot(train_acc_history, label='Train Accuracy', marker='o')\n",
        "plt.plot(val_acc_history, label='Validation Accuracy', marker='o')\n",
        "plt.title('Training vs Validation Accuracy')\n",
        "plt.xlabel('Epoch')\n",
        "plt.ylabel('Accuracy')\n",
        "plt.legend()\n",
        "plt.grid(True)\n",
        "plt.show()"
      ]
    },
    {
      "cell_type": "code",
      "execution_count": null,
      "metadata": {
        "id": "E7zwemA67uJQ"
      },
      "outputs": [],
      "source": []
    }
  ],
  "metadata": {
    "accelerator": "GPU",
    "colab": {
      "gpuType": "L4",
      "machine_shape": "hm",
      "provenance": []
    },
    "kernelspec": {
      "display_name": "Python 3",
      "name": "python3"
    },
    "language_info": {
      "codemirror_mode": {
        "name": "ipython",
        "version": 3
      },
      "file_extension": ".py",
      "mimetype": "text/x-python",
      "name": "python",
      "nbconvert_exporter": "python",
      "pygments_lexer": "ipython3",
      "version": "3.10.0"
    }
  },
  "nbformat": 4,
  "nbformat_minor": 0
}