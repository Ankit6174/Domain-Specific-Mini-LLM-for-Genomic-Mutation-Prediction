{
  "cells": [
    {
      "cell_type": "code",
      "execution_count": 2,
      "metadata": {
        "id": "pGcWf4F5JcMc"
      },
      "outputs": [],
      "source": [
        "hyperparameters = {\n",
        "    \"learning_rate\": 1e-4,\n",
        "    \"batch_size\": 128,\n",
        "    \"embed_dim\": 256,\n",
        "    \"num_heads\": 4,\n",
        "    \"num_layers\": 2,\n",
        "    \"dropout\": 0.1,\n",
        "    \"ff_dim\": 1024,\n",
        "    \"epochs\": 300,\n",
        "    \"num_warmup_steps\": 500,\n",
        "    \"weight_decay\": 1e-4,\n",
        "    \"k-mers\": 3,\n",
        "    \"max_len\": 199\n",
        "}\n",
        "\n",
        "info = {\n",
        "    \"dataset_size\": \"500K\",\n",
        "    \"precision\": \"FP16\",\n",
        "    \"dir_name\": \"Mutation Model\",\n",
        "    \"run\": \"Thirteenth Run\",\n",
        "    \"loss\": {\n",
        "        \"type\": \"Focal Loss\",\n",
        "        \"alpha\": 0.75, # Removed\n",
        "        \"gamma\": 2\n",
        "    },\n",
        "    \"optimizer\": \"Adam\",\n",
        "    \"is_pre_training\": False\n",
        "}"
      ]
    },
    {
      "cell_type": "code",
      "source": [
        "from google.colab import drive\n",
        "drive.mount('/content/drive')"
      ],
      "metadata": {
        "colab": {
          "base_uri": "https://localhost:8080/"
        },
        "id": "39nTODPl6tqB",
        "outputId": "69e2513d-5127-4a8b-9e5f-9397d39fe0e5"
      },
      "execution_count": 3,
      "outputs": [
        {
          "output_type": "stream",
          "name": "stdout",
          "text": [
            "Mounted at /content/drive\n"
          ]
        }
      ]
    },
    {
      "cell_type": "code",
      "execution_count": 4,
      "metadata": {
        "colab": {
          "base_uri": "https://localhost:8080/"
        },
        "id": "V1v98WHCJoDO",
        "outputId": "f7eaf393-91e4-4f3e-aa3d-f0eb1069d484"
      },
      "outputs": [
        {
          "output_type": "execute_result",
          "data": {
            "text/plain": [
              "(500000, 10)"
            ]
          },
          "metadata": {},
          "execution_count": 4
        }
      ],
      "source": [
        "import pandas as pd\n",
        "\n",
        "data_path = f\"/content/drive/MyDrive/dataset/{info['dataset_size']}.csv\"\n",
        "\n",
        "data_ori = pd.read_csv(data_path)\n",
        "data_ori.shape"
      ]
    },
    {
      "cell_type": "code",
      "source": [
        "data_ori['label'].value_counts()"
      ],
      "metadata": {
        "colab": {
          "base_uri": "https://localhost:8080/",
          "height": 272
        },
        "id": "eqhNpoEKSZ3Q",
        "outputId": "1bfaa159-0088-4e01-cd97-7656c8ed8d01"
      },
      "execution_count": 5,
      "outputs": [
        {
          "output_type": "execute_result",
          "data": {
            "text/plain": [
              "label\n",
              "2    288414\n",
              "1    158833\n",
              "0     29578\n",
              "4     12230\n",
              "3     10945\n",
              "Name: count, dtype: int64"
            ],
            "text/html": [
              "<div>\n",
              "<style scoped>\n",
              "    .dataframe tbody tr th:only-of-type {\n",
              "        vertical-align: middle;\n",
              "    }\n",
              "\n",
              "    .dataframe tbody tr th {\n",
              "        vertical-align: top;\n",
              "    }\n",
              "\n",
              "    .dataframe thead th {\n",
              "        text-align: right;\n",
              "    }\n",
              "</style>\n",
              "<table border=\"1\" class=\"dataframe\">\n",
              "  <thead>\n",
              "    <tr style=\"text-align: right;\">\n",
              "      <th></th>\n",
              "      <th>count</th>\n",
              "    </tr>\n",
              "    <tr>\n",
              "      <th>label</th>\n",
              "      <th></th>\n",
              "    </tr>\n",
              "  </thead>\n",
              "  <tbody>\n",
              "    <tr>\n",
              "      <th>2</th>\n",
              "      <td>288414</td>\n",
              "    </tr>\n",
              "    <tr>\n",
              "      <th>1</th>\n",
              "      <td>158833</td>\n",
              "    </tr>\n",
              "    <tr>\n",
              "      <th>0</th>\n",
              "      <td>29578</td>\n",
              "    </tr>\n",
              "    <tr>\n",
              "      <th>4</th>\n",
              "      <td>12230</td>\n",
              "    </tr>\n",
              "    <tr>\n",
              "      <th>3</th>\n",
              "      <td>10945</td>\n",
              "    </tr>\n",
              "  </tbody>\n",
              "</table>\n",
              "</div><br><label><b>dtype:</b> int64</label>"
            ]
          },
          "metadata": {},
          "execution_count": 5
        }
      ]
    },
    {
      "cell_type": "code",
      "source": [
        "data_0 = data_ori[data_ori['label'] == 0].sample(20000)\n",
        "data_1 = data_ori[data_ori['label'] == 1].sample(30000)\n",
        "data_2 = data_ori[data_ori['label'] == 2].sample(30000)\n",
        "data_3 = data_ori[data_ori['label'] == 3].sample(10000)\n",
        "data_4 = data_ori[data_ori['label'] == 4].sample(12000)"
      ],
      "metadata": {
        "id": "gu-9qM2-SNO7"
      },
      "execution_count": 6,
      "outputs": []
    },
    {
      "cell_type": "code",
      "source": [
        "data = pd.concat([data_0, data_1, data_2, data_3, data_4], axis=0).reset_index(drop=True)"
      ],
      "metadata": {
        "id": "o6EP2cyQSlXX"
      },
      "execution_count": 7,
      "outputs": []
    },
    {
      "cell_type": "code",
      "execution_count": 8,
      "metadata": {
        "id": "wR3jf-oAJ2PE"
      },
      "outputs": [],
      "source": [
        "x = data['sequence']\n",
        "y = data['label']"
      ]
    },
    {
      "cell_type": "code",
      "execution_count": 9,
      "metadata": {
        "id": "j-XikXuLJ2M1"
      },
      "outputs": [],
      "source": [
        "def get_codon(seq, k=hyperparameters['k-mers']):\n",
        "    return [seq[i:i+k] for i in range(len(seq) - k + 1)]\n",
        "\n",
        "vocab = {}\n",
        "\n",
        "for seq in data['sequence']:\n",
        "    for codons in get_codon(seq.lower()):\n",
        "        if codons not in vocab:\n",
        "            vocab[codons] = len(vocab)\n",
        "        else:\n",
        "            continue\n",
        "\n",
        "def get_tensor(text):\n",
        "    return [vocab[codons.lower()] for codons in get_codon(text)]"
      ]
    },
    {
      "cell_type": "code",
      "execution_count": 10,
      "metadata": {
        "id": "3dzO0_F0J2Kw"
      },
      "outputs": [],
      "source": [
        "import torch\n",
        "from torch import nn, optim\n",
        "from torch.utils.data import Dataset, DataLoader, random_split\n",
        "\n",
        "class CustomDataset(Dataset):\n",
        "  def __init__(self, x, y):\n",
        "    self.x_frame = x\n",
        "    self.y_frame = y\n",
        "\n",
        "  def __len__(self):\n",
        "    return len(self.x_frame)\n",
        "\n",
        "  def __getitem__(self, index):\n",
        "    x = torch.tensor(get_tensor(self.x_frame[index]), dtype=torch.long)\n",
        "    y = torch.tensor(self.y_frame[index], dtype=torch.long)\n",
        "    return x, y"
      ]
    },
    {
      "cell_type": "code",
      "execution_count": 11,
      "metadata": {
        "id": "YxR8TknxJ2Io"
      },
      "outputs": [],
      "source": [
        "dataset = CustomDataset(x, y)"
      ]
    },
    {
      "cell_type": "code",
      "execution_count": 12,
      "metadata": {
        "id": "QF1Z099wJ2Gb"
      },
      "outputs": [],
      "source": [
        "train_size = int(0.8 * len(dataset))\n",
        "test_size = len(dataset) - train_size\n",
        "\n",
        "train_dataset, test_dataset = random_split(dataset, [train_size, test_size])"
      ]
    },
    {
      "cell_type": "code",
      "source": [
        "# train_labels = [y for x, y in train_dataset]\n",
        "# class_counts = torch.bincount(torch.tensor(train_labels))\n",
        "# class_weights = 1. / class_counts.float()\n",
        "# sample_weights = torch.tensor([class_weights[t] for t in train_labels])\n",
        "\n",
        "# sampler = torch.utils.data.WeightedRandomSampler(\n",
        "#     weights=sample_weights,\n",
        "#     num_samples=len(sample_weights),\n",
        "#     replacement=True\n",
        "# )\n",
        "\n",
        "train_loader = DataLoader(\n",
        "    train_dataset,\n",
        "    batch_size=hyperparameters['batch_size'],\n",
        "    # sampler=sampler\n",
        "    shuffle=True\n",
        ")\n",
        "\n",
        "test_loader = DataLoader(test_dataset, batch_size=hyperparameters['batch_size'])"
      ],
      "metadata": {
        "id": "2qHxLrY8aZEY"
      },
      "execution_count": 13,
      "outputs": []
    },
    {
      "cell_type": "code",
      "execution_count": 14,
      "metadata": {
        "id": "MJTZAUbQJ2Ca"
      },
      "outputs": [],
      "source": [
        "import math\n",
        "\n",
        "class PositionalEncoding(nn.Module):\n",
        "    def __init__(self, embed_dim, max_len=5000):\n",
        "        super().__init__()\n",
        "\n",
        "        pe = torch.zeros(max_len, embed_dim)\n",
        "        position = torch.arange(0, max_len).unsqueeze(1)\n",
        "\n",
        "        div_term = torch.exp((torch.arange(0, embed_dim, 2)) * (-math.log(10000.0) / embed_dim))\n",
        "\n",
        "        pe[:, 0::2] = torch.sin(position * div_term)\n",
        "        pe[:, 1::2] = torch.cos(position * div_term)\n",
        "\n",
        "        pe = pe.unsqueeze(0)\n",
        "        self.register_buffer('pe', pe)\n",
        "\n",
        "    def forward(self, x):\n",
        "        x = x + self.pe[:, :x.size(1), :].to(x.device)\n",
        "        return x\n",
        "\n",
        "class Transformer(nn.Module):\n",
        "    def __init__(self, embed_dim=512, num_heads=8, num_layers=6, ff_dim=2048, dropout=0.1, vocab_size=10000, max_len=5000):\n",
        "        super(Transformer, self).__init__()\n",
        "        self.embeddings = nn.Embedding(vocab_size, embed_dim)\n",
        "        self.position_encoding = PositionalEncoding(embed_dim=embed_dim, max_len=max_len)\n",
        "\n",
        "        encoder_layer = nn.TransformerEncoderLayer(\n",
        "            d_model=embed_dim,\n",
        "            nhead=num_heads,\n",
        "            dim_feedforward=ff_dim,\n",
        "            dropout=dropout,\n",
        "            batch_first=True\n",
        "        )\n",
        "        self.encoder = nn.TransformerEncoder(\n",
        "            encoder_layer=encoder_layer,\n",
        "            num_layers=num_layers\n",
        "        )\n",
        "\n",
        "        self.y_labels_out = nn.Linear(embed_dim, 5)\n",
        "\n",
        "    def forward(self, x):\n",
        "        x = self.embeddings(x)\n",
        "        x = self.position_encoding(x)\n",
        "\n",
        "        x = self.encoder(x)\n",
        "        x = x.mean(dim=1)\n",
        "\n",
        "        y_label_out = self.y_labels_out(x)\n",
        "        return y_label_out"
      ]
    },
    {
      "cell_type": "code",
      "execution_count": 15,
      "metadata": {
        "id": "3y4bHJVbJ2AQ"
      },
      "outputs": [],
      "source": [
        "model = Transformer(\n",
        "    embed_dim=hyperparameters['embed_dim'],\n",
        "    num_heads=hyperparameters['num_heads'],\n",
        "    num_layers=hyperparameters['num_layers'],\n",
        "    ff_dim=hyperparameters['ff_dim'],\n",
        "    dropout=hyperparameters['dropout'],\n",
        "    vocab_size=len(vocab),\n",
        "    max_len=hyperparameters['max_len']\n",
        ")"
      ]
    },
    {
      "cell_type": "code",
      "source": [
        "if info['is_pre_training']:\n",
        "    checkpoint = torch.load(f\"{info['dir_name']}/{info['run']}/checkpoint.pth\")\n",
        "\n",
        "    model.load_state_dict(checkpoint['model_state_dict'])"
      ],
      "metadata": {
        "id": "cTSxhHX13esJ"
      },
      "execution_count": 16,
      "outputs": []
    },
    {
      "cell_type": "code",
      "execution_count": 17,
      "metadata": {
        "colab": {
          "base_uri": "https://localhost:8080/"
        },
        "id": "q00nuF8HJ1-H",
        "outputId": "4b8c5675-76ad-49fa-ad24-df509d616fbc"
      },
      "outputs": [
        {
          "output_type": "execute_result",
          "data": {
            "text/plain": [
              "Transformer(\n",
              "  (embeddings): Embedding(64, 256)\n",
              "  (position_encoding): PositionalEncoding()\n",
              "  (encoder): TransformerEncoder(\n",
              "    (layers): ModuleList(\n",
              "      (0-1): 2 x TransformerEncoderLayer(\n",
              "        (self_attn): MultiheadAttention(\n",
              "          (out_proj): NonDynamicallyQuantizableLinear(in_features=256, out_features=256, bias=True)\n",
              "        )\n",
              "        (linear1): Linear(in_features=256, out_features=1024, bias=True)\n",
              "        (dropout): Dropout(p=0.1, inplace=False)\n",
              "        (linear2): Linear(in_features=1024, out_features=256, bias=True)\n",
              "        (norm1): LayerNorm((256,), eps=1e-05, elementwise_affine=True)\n",
              "        (norm2): LayerNorm((256,), eps=1e-05, elementwise_affine=True)\n",
              "        (dropout1): Dropout(p=0.1, inplace=False)\n",
              "        (dropout2): Dropout(p=0.1, inplace=False)\n",
              "      )\n",
              "    )\n",
              "  )\n",
              "  (y_labels_out): Linear(in_features=256, out_features=5, bias=True)\n",
              ")"
            ]
          },
          "metadata": {},
          "execution_count": 17
        }
      ],
      "source": [
        "device = torch.device(\"cuda\" if torch.cuda.is_available() else \"cpu\")\n",
        "model.to(device)"
      ]
    },
    {
      "cell_type": "code",
      "execution_count": 18,
      "metadata": {
        "colab": {
          "base_uri": "https://localhost:8080/"
        },
        "id": "V2Qa9JHAKI1-",
        "outputId": "51d3fe00-8000-486b-81f3-f9495be32151"
      },
      "outputs": [
        {
          "output_type": "execute_result",
          "data": {
            "text/plain": [
              "device(type='cuda')"
            ]
          },
          "metadata": {},
          "execution_count": 18
        }
      ],
      "source": [
        "device"
      ]
    },
    {
      "cell_type": "code",
      "execution_count": 19,
      "metadata": {
        "colab": {
          "base_uri": "https://localhost:8080/"
        },
        "id": "5_4lFoaqKIz4",
        "outputId": "5bf2f7d1-6798-4865-c7d8-e74ba81c80ae"
      },
      "outputs": [
        {
          "output_type": "stream",
          "name": "stdout",
          "text": [
            "Total trainable parameters: 1597189\n"
          ]
        }
      ],
      "source": [
        "num_params = sum(p.numel() for p in model.parameters() if p.requires_grad)\n",
        "print(f\"Total trainable parameters: {num_params}\")"
      ]
    },
    {
      "cell_type": "code",
      "source": [
        "class FocalLoss(nn.Module):\n",
        "    def __init__(self, gamma=2, weight=None, reduction='mean'):\n",
        "        super(FocalLoss, self).__init__()\n",
        "        self.gamma = gamma\n",
        "        self.weight = weight\n",
        "        self.reduction = reduction\n",
        "\n",
        "    def forward(self, inputs, targets):\n",
        "        ce_loss = nn.functional.cross_entropy(inputs, targets, weight=self.weight, reduction='none')\n",
        "        probs = torch.softmax(inputs, dim=-1)\n",
        "        probs_for_class = probs.gather(1, targets.unsqueeze(1))\n",
        "\n",
        "        focal_loss = ((1 - probs_for_class) ** self.gamma * ce_loss).squeeze(1)\n",
        "\n",
        "        if self.reduction == 'mean':\n",
        "            return focal_loss.mean()\n",
        "        elif self.reduction == 'sum':\n",
        "            return focal_loss.sum()\n",
        "        else:\n",
        "            return focal_loss"
      ],
      "metadata": {
        "id": "l-Oet6wpip5o"
      },
      "execution_count": 20,
      "outputs": []
    },
    {
      "cell_type": "code",
      "source": [
        "class_counts = data['label'].value_counts().sort_index().values\n",
        "weights = 1. / torch.tensor(class_counts, dtype=torch.float)\n",
        "weights = weights / weights.sum()\n",
        "weights = weights.to(device)"
      ],
      "metadata": {
        "id": "5sbfrdGotz2k"
      },
      "execution_count": 21,
      "outputs": []
    },
    {
      "cell_type": "code",
      "source": [
        "weights"
      ],
      "metadata": {
        "colab": {
          "base_uri": "https://localhost:8080/"
        },
        "id": "eRnmKs5Nt1cy",
        "outputId": "003839d5-1501-444c-d1ad-01ff89332f58"
      },
      "execution_count": 22,
      "outputs": [
        {
          "output_type": "execute_result",
          "data": {
            "text/plain": [
              "tensor([0.1667, 0.1111, 0.1111, 0.3333, 0.2778], device='cuda:0')"
            ]
          },
          "metadata": {},
          "execution_count": 22
        }
      ]
    },
    {
      "cell_type": "code",
      "source": [
        "from transformers import get_linear_schedule_with_warmup\n",
        "\n",
        "ce = FocalLoss(gamma=info['loss']['gamma'], weight=weights)\n",
        "optimizer = torch.optim.Adam(model.parameters(), lr=hyperparameters['learning_rate'], weight_decay=hyperparameters[\"weight_decay\"])\n",
        "scaler = torch.cuda.amp.GradScaler()\n",
        "\n",
        "if info['is_pre_training']:\n",
        "  optimizer.load_state_dict(checkpoint['optimizer_state_dict'])\n",
        "  print(\"Optimizer loaded\")\n",
        "\n",
        "num_training_steps = len(train_loader) * hyperparameters['epochs']\n",
        "num_warmup_steps = hyperparameters[\"num_warmup_steps\"]\n",
        "\n",
        "scheduler = get_linear_schedule_with_warmup(\n",
        "    optimizer,\n",
        "    num_warmup_steps=num_warmup_steps,\n",
        "    num_training_steps=num_training_steps\n",
        ")"
      ],
      "metadata": {
        "colab": {
          "base_uri": "https://localhost:8080/"
        },
        "id": "CzD3mebp3HZh",
        "outputId": "6ec39791-1903-4a96-e4a3-dc3625c57234"
      },
      "execution_count": 23,
      "outputs": [
        {
          "output_type": "stream",
          "name": "stderr",
          "text": [
            "/tmp/ipython-input-4039051901.py:5: FutureWarning: `torch.cuda.amp.GradScaler(args...)` is deprecated. Please use `torch.amp.GradScaler('cuda', args...)` instead.\n",
            "  scaler = torch.cuda.amp.GradScaler()\n"
          ]
        }
      ]
    },
    {
      "cell_type": "code",
      "execution_count": 24,
      "metadata": {
        "id": "3YrLO_deKIvu"
      },
      "outputs": [],
      "source": [
        "def train32(model, loader, ce, optimizer):\n",
        "    model.train()\n",
        "\n",
        "    running_loss, correct, total = 0.0, 0, 0\n",
        "\n",
        "    for x, y in loader:\n",
        "        optimizer.zero_grad()\n",
        "\n",
        "        x = x.to(device)\n",
        "        y = y.to(device)\n",
        "\n",
        "        output = model(x)\n",
        "        loss = ce(output, y)\n",
        "\n",
        "        prediction = torch.argmax(output, dim=1)\n",
        "        correct += (prediction == y).sum().item()\n",
        "        total += len(x)\n",
        "\n",
        "        loss.backward()\n",
        "\n",
        "        optimizer.step()\n",
        "\n",
        "        running_loss += loss.item() * len(x)\n",
        "\n",
        "    accuracy = correct / total\n",
        "\n",
        "    return (\n",
        "        running_loss / len(loader.dataset),\n",
        "        accuracy\n",
        "    )\n",
        "\n",
        "def train16(model, loader, ce, optimizer, scaler, scheduler):\n",
        "    model.train()\n",
        "    running_loss, correct, total = 0.0, 0, 0\n",
        "\n",
        "    for x, y in loader:\n",
        "        optimizer.zero_grad()\n",
        "        x = x.to(device)\n",
        "        y = y.to(device)\n",
        "\n",
        "        with torch.cuda.amp.autocast(dtype=torch.float16):\n",
        "            output = model(x)\n",
        "            loss = ce(output, y)\n",
        "\n",
        "        prediction = torch.argmax(output, dim=1)\n",
        "        correct += (prediction == y).sum().item()\n",
        "        total += len(x)\n",
        "\n",
        "        scaler.scale(loss).backward()\n",
        "        scaler.step(optimizer)\n",
        "        scaler.update()\n",
        "\n",
        "        scheduler.step()\n",
        "\n",
        "        running_loss += loss.item() * len(x)\n",
        "\n",
        "    accuracy = correct / total\n",
        "    return (\n",
        "        running_loss / len(loader.dataset),\n",
        "        accuracy\n",
        "    )"
      ]
    },
    {
      "cell_type": "code",
      "execution_count": 25,
      "metadata": {
        "id": "hK6At-_VKItX"
      },
      "outputs": [],
      "source": [
        "def validation(model, loader, ce):\n",
        "    model.eval()\n",
        "\n",
        "    running_loss, correct, total = 0.0, 0, 0\n",
        "\n",
        "    with torch.no_grad():\n",
        "        for x, y in loader:\n",
        "            x = x.to(device)\n",
        "            y = y.to(device)\n",
        "\n",
        "            if info['precision'] == 'FP16':\n",
        "              with torch.cuda.amp.autocast(dtype=torch.float16):\n",
        "                  output = model(x)\n",
        "                  loss = ce(output, y)\n",
        "            else:\n",
        "              output = model(x)\n",
        "              loss = ce(output, y)\n",
        "\n",
        "            running_loss += loss.item() * len(x)\n",
        "\n",
        "            prediction = torch.argmax(output, dim=1)\n",
        "            correct += (prediction == y).sum().item()\n",
        "\n",
        "            total += len(x)\n",
        "\n",
        "    accuracy = correct / total\n",
        "\n",
        "    return (\n",
        "        running_loss / len(loader.dataset),\n",
        "        accuracy\n",
        "    )"
      ]
    },
    {
      "cell_type": "code",
      "execution_count": 26,
      "metadata": {
        "colab": {
          "base_uri": "https://localhost:8080/"
        },
        "id": "2mL_srk1KQNu",
        "outputId": "8acdd18f-07a6-4482-f272-659b5c3ee0d6"
      },
      "outputs": [
        {
          "metadata": {
            "tags": null
          },
          "name": "stderr",
          "output_type": "stream",
          "text": [
            "/tmp/ipython-input-2163399810.py:41: FutureWarning: `torch.cuda.amp.autocast(args...)` is deprecated. Please use `torch.amp.autocast('cuda', args...)` instead.\n",
            "  with torch.cuda.amp.autocast(dtype=torch.float16):\n",
            "/tmp/ipython-input-260272857.py:12: FutureWarning: `torch.cuda.amp.autocast(args...)` is deprecated. Please use `torch.amp.autocast('cuda', args...)` instead.\n",
            "  with torch.cuda.amp.autocast(dtype=torch.float16):\n"
          ]
        },
        {
          "output_type": "stream",
          "name": "stdout",
          "text": [
            "Epoch (1/300): Train Loss = 0.1630, Valitation Loss = 0.1627, Train_acc = 0.2975, Val_acc = 0.3193\n",
            "Epoch (2/300): Train Loss = 0.1558, Valitation Loss = 0.1464, Train_acc = 0.3128, Val_acc = 0.3279\n",
            "Epoch (3/300): Train Loss = 0.1442, Valitation Loss = 0.1456, Train_acc = 0.3304, Val_acc = 0.3140\n",
            "Epoch (4/300): Train Loss = 0.1411, Valitation Loss = 0.1401, Train_acc = 0.3396, Val_acc = 0.3491\n",
            "Epoch (5/300): Train Loss = 0.1397, Valitation Loss = 0.1404, Train_acc = 0.3450, Val_acc = 0.3555\n",
            "No improvement in val loss Counter = 1/10\n",
            "Epoch (6/300): Train Loss = 0.1388, Valitation Loss = 0.1385, Train_acc = 0.3462, Val_acc = 0.3547\n",
            "Epoch (7/300): Train Loss = 0.1377, Valitation Loss = 0.1388, Train_acc = 0.3529, Val_acc = 0.3476\n",
            "No improvement in val loss Counter = 1/10\n",
            "Epoch (8/300): Train Loss = 0.1373, Valitation Loss = 0.1385, Train_acc = 0.3527, Val_acc = 0.3575\n",
            "Epoch (9/300): Train Loss = 0.1367, Valitation Loss = 0.1388, Train_acc = 0.3548, Val_acc = 0.3513\n",
            "No improvement in val loss Counter = 1/10\n",
            "Epoch (10/300): Train Loss = 0.1360, Valitation Loss = 0.1368, Train_acc = 0.3567, Val_acc = 0.3482\n",
            "Model saved at /content/drive/MyDrive/Mutation Model/modelThirteenth Run_epoch_10.pth\n",
            "Epoch (11/300): Train Loss = 0.1357, Valitation Loss = 0.1372, Train_acc = 0.3563, Val_acc = 0.3550\n",
            "No improvement in val loss Counter = 1/10\n",
            "Epoch (12/300): Train Loss = 0.1352, Valitation Loss = 0.1355, Train_acc = 0.3593, Val_acc = 0.3543\n",
            "Epoch (13/300): Train Loss = 0.1350, Valitation Loss = 0.1357, Train_acc = 0.3603, Val_acc = 0.3537\n",
            "No improvement in val loss Counter = 1/10\n",
            "Epoch (14/300): Train Loss = 0.1344, Valitation Loss = 0.1370, Train_acc = 0.3633, Val_acc = 0.3613\n",
            "No improvement in val loss Counter = 2/10\n",
            "Epoch (15/300): Train Loss = 0.1341, Valitation Loss = 0.1350, Train_acc = 0.3638, Val_acc = 0.3553\n",
            "Epoch (16/300): Train Loss = 0.1339, Valitation Loss = 0.1371, Train_acc = 0.3650, Val_acc = 0.3624\n",
            "No improvement in val loss Counter = 1/10\n",
            "Epoch (17/300): Train Loss = 0.1335, Valitation Loss = 0.1348, Train_acc = 0.3636, Val_acc = 0.3590\n",
            "Epoch (18/300): Train Loss = 0.1335, Valitation Loss = 0.1356, Train_acc = 0.3660, Val_acc = 0.3516\n",
            "No improvement in val loss Counter = 1/10\n",
            "Epoch (19/300): Train Loss = 0.1333, Valitation Loss = 0.1345, Train_acc = 0.3645, Val_acc = 0.3656\n",
            "Epoch (20/300): Train Loss = 0.1329, Valitation Loss = 0.1347, Train_acc = 0.3656, Val_acc = 0.3655\n",
            "Model saved at /content/drive/MyDrive/Mutation Model/modelThirteenth Run_epoch_20.pth\n",
            "No improvement in val loss Counter = 1/10\n",
            "Epoch (21/300): Train Loss = 0.1329, Valitation Loss = 0.1352, Train_acc = 0.3670, Val_acc = 0.3635\n",
            "No improvement in val loss Counter = 2/10\n",
            "Epoch (22/300): Train Loss = 0.1325, Valitation Loss = 0.1351, Train_acc = 0.3680, Val_acc = 0.3601\n",
            "No improvement in val loss Counter = 3/10\n",
            "Epoch (23/300): Train Loss = 0.1323, Valitation Loss = 0.1347, Train_acc = 0.3686, Val_acc = 0.3682\n",
            "No improvement in val loss Counter = 4/10\n",
            "Epoch (24/300): Train Loss = 0.1325, Valitation Loss = 0.1341, Train_acc = 0.3686, Val_acc = 0.3601\n",
            "Epoch (25/300): Train Loss = 0.1321, Valitation Loss = 0.1342, Train_acc = 0.3699, Val_acc = 0.3728\n",
            "No improvement in val loss Counter = 1/10\n",
            "Epoch (26/300): Train Loss = 0.1320, Valitation Loss = 0.1340, Train_acc = 0.3705, Val_acc = 0.3525\n",
            "Epoch (27/300): Train Loss = 0.1317, Valitation Loss = 0.1330, Train_acc = 0.3719, Val_acc = 0.3625\n",
            "Epoch (28/300): Train Loss = 0.1316, Valitation Loss = 0.1356, Train_acc = 0.3708, Val_acc = 0.3615\n",
            "No improvement in val loss Counter = 1/10\n",
            "Epoch (29/300): Train Loss = 0.1312, Valitation Loss = 0.1332, Train_acc = 0.3729, Val_acc = 0.3718\n",
            "No improvement in val loss Counter = 2/10\n",
            "Epoch (30/300): Train Loss = 0.1311, Valitation Loss = 0.1326, Train_acc = 0.3709, Val_acc = 0.3719\n",
            "Model saved at /content/drive/MyDrive/Mutation Model/modelThirteenth Run_epoch_30.pth\n",
            "Epoch (31/300): Train Loss = 0.1309, Valitation Loss = 0.1360, Train_acc = 0.3735, Val_acc = 0.3686\n",
            "No improvement in val loss Counter = 1/10\n",
            "Epoch (32/300): Train Loss = 0.1308, Valitation Loss = 0.1329, Train_acc = 0.3728, Val_acc = 0.3677\n",
            "No improvement in val loss Counter = 2/10\n",
            "Epoch (33/300): Train Loss = 0.1305, Valitation Loss = 0.1334, Train_acc = 0.3747, Val_acc = 0.3755\n",
            "No improvement in val loss Counter = 3/10\n",
            "Epoch (34/300): Train Loss = 0.1304, Valitation Loss = 0.1313, Train_acc = 0.3750, Val_acc = 0.3677\n",
            "Epoch (35/300): Train Loss = 0.1300, Valitation Loss = 0.1316, Train_acc = 0.3761, Val_acc = 0.3679\n",
            "No improvement in val loss Counter = 1/10\n",
            "Epoch (36/300): Train Loss = 0.1299, Valitation Loss = 0.1340, Train_acc = 0.3776, Val_acc = 0.3523\n",
            "No improvement in val loss Counter = 2/10\n",
            "Epoch (37/300): Train Loss = 0.1300, Valitation Loss = 0.1301, Train_acc = 0.3765, Val_acc = 0.3787\n",
            "Epoch (38/300): Train Loss = 0.1296, Valitation Loss = 0.1334, Train_acc = 0.3772, Val_acc = 0.3591\n",
            "No improvement in val loss Counter = 1/10\n",
            "Epoch (39/300): Train Loss = 0.1294, Valitation Loss = 0.1304, Train_acc = 0.3789, Val_acc = 0.3749\n",
            "No improvement in val loss Counter = 2/10\n",
            "Epoch (40/300): Train Loss = 0.1292, Valitation Loss = 0.1308, Train_acc = 0.3787, Val_acc = 0.3668\n",
            "Model saved at /content/drive/MyDrive/Mutation Model/modelThirteenth Run_epoch_40.pth\n",
            "No improvement in val loss Counter = 3/10\n",
            "Epoch (41/300): Train Loss = 0.1294, Valitation Loss = 0.1311, Train_acc = 0.3792, Val_acc = 0.3795\n",
            "No improvement in val loss Counter = 4/10\n",
            "Epoch (42/300): Train Loss = 0.1292, Valitation Loss = 0.1301, Train_acc = 0.3789, Val_acc = 0.3792\n",
            "No improvement in val loss Counter = 5/10\n",
            "Epoch (43/300): Train Loss = 0.1289, Valitation Loss = 0.1299, Train_acc = 0.3808, Val_acc = 0.3740\n",
            "Epoch (44/300): Train Loss = 0.1290, Valitation Loss = 0.1299, Train_acc = 0.3813, Val_acc = 0.3714\n",
            "No improvement in val loss Counter = 1/10\n",
            "Epoch (45/300): Train Loss = 0.1288, Valitation Loss = 0.1304, Train_acc = 0.3806, Val_acc = 0.3720\n",
            "No improvement in val loss Counter = 2/10\n",
            "Epoch (46/300): Train Loss = 0.1285, Valitation Loss = 0.1326, Train_acc = 0.3818, Val_acc = 0.3704\n",
            "No improvement in val loss Counter = 3/10\n",
            "Epoch (47/300): Train Loss = 0.1287, Valitation Loss = 0.1317, Train_acc = 0.3808, Val_acc = 0.3772\n",
            "No improvement in val loss Counter = 4/10\n",
            "Epoch (48/300): Train Loss = 0.1284, Valitation Loss = 0.1306, Train_acc = 0.3806, Val_acc = 0.3785\n",
            "No improvement in val loss Counter = 5/10\n",
            "Epoch (49/300): Train Loss = 0.1282, Valitation Loss = 0.1296, Train_acc = 0.3831, Val_acc = 0.3737\n",
            "Epoch (50/300): Train Loss = 0.1283, Valitation Loss = 0.1307, Train_acc = 0.3807, Val_acc = 0.3773\n",
            "Model saved at /content/drive/MyDrive/Mutation Model/modelThirteenth Run_epoch_50.pth\n",
            "No improvement in val loss Counter = 1/10\n",
            "Epoch (51/300): Train Loss = 0.1284, Valitation Loss = 0.1351, Train_acc = 0.3813, Val_acc = 0.3608\n",
            "No improvement in val loss Counter = 2/10\n",
            "Epoch (52/300): Train Loss = 0.1282, Valitation Loss = 0.1316, Train_acc = 0.3816, Val_acc = 0.3704\n",
            "No improvement in val loss Counter = 3/10\n",
            "Epoch (53/300): Train Loss = 0.1279, Valitation Loss = 0.1302, Train_acc = 0.3852, Val_acc = 0.3715\n",
            "No improvement in val loss Counter = 4/10\n",
            "Epoch (54/300): Train Loss = 0.1278, Valitation Loss = 0.1297, Train_acc = 0.3830, Val_acc = 0.3778\n",
            "No improvement in val loss Counter = 5/10\n",
            "Epoch (55/300): Train Loss = 0.1279, Valitation Loss = 0.1292, Train_acc = 0.3832, Val_acc = 0.3737\n",
            "Epoch (56/300): Train Loss = 0.1281, Valitation Loss = 0.1302, Train_acc = 0.3829, Val_acc = 0.3849\n",
            "No improvement in val loss Counter = 1/10\n",
            "Epoch (57/300): Train Loss = 0.1277, Valitation Loss = 0.1292, Train_acc = 0.3844, Val_acc = 0.3780\n",
            "No improvement in val loss Counter = 2/10\n",
            "Epoch (58/300): Train Loss = 0.1272, Valitation Loss = 0.1349, Train_acc = 0.3855, Val_acc = 0.3724\n",
            "No improvement in val loss Counter = 3/10\n",
            "Epoch (59/300): Train Loss = 0.1276, Valitation Loss = 0.1327, Train_acc = 0.3851, Val_acc = 0.3624\n",
            "No improvement in val loss Counter = 4/10\n",
            "Epoch (60/300): Train Loss = 0.1275, Valitation Loss = 0.1292, Train_acc = 0.3853, Val_acc = 0.3784\n",
            "Model saved at /content/drive/MyDrive/Mutation Model/modelThirteenth Run_epoch_60.pth\n",
            "No improvement in val loss Counter = 5/10\n",
            "Epoch (61/300): Train Loss = 0.1275, Valitation Loss = 0.1299, Train_acc = 0.3856, Val_acc = 0.3794\n",
            "No improvement in val loss Counter = 6/10\n",
            "Epoch (62/300): Train Loss = 0.1275, Valitation Loss = 0.1297, Train_acc = 0.3853, Val_acc = 0.3740\n",
            "No improvement in val loss Counter = 7/10\n",
            "Epoch (63/300): Train Loss = 0.1272, Valitation Loss = 0.1300, Train_acc = 0.3869, Val_acc = 0.3696\n",
            "No improvement in val loss Counter = 8/10\n",
            "Epoch (64/300): Train Loss = 0.1274, Valitation Loss = 0.1328, Train_acc = 0.3850, Val_acc = 0.3782\n",
            "No improvement in val loss Counter = 9/10\n",
            "Epoch (65/300): Train Loss = 0.1272, Valitation Loss = 0.1316, Train_acc = 0.3862, Val_acc = 0.3773\n",
            "No improvement in val loss Counter = 10/10\n",
            "Early stopping triggered!\n"
          ]
        }
      ],
      "source": [
        "import os\n",
        "\n",
        "patience = 10\n",
        "best_val_loss = float('inf')\n",
        "counter = 0\n",
        "early_stop = False\n",
        "\n",
        "train_loss_history = []\n",
        "train_acc_history = []\n",
        "\n",
        "val_loss_history = []\n",
        "val_acc_history = []\n",
        "\n",
        "save_dir = f\"/content/drive/MyDrive/{info['dir_name']}\"\n",
        "os.makedirs(save_dir, exist_ok=True)\n",
        "\n",
        "for epoch in range(1, hyperparameters['epochs']+1):\n",
        "    if info['precision'] == 'FP16':\n",
        "      current_train_loss, current_train_acc = train16(\n",
        "            model,\n",
        "            train_loader,\n",
        "            ce,\n",
        "            optimizer,\n",
        "            scaler,\n",
        "            scheduler\n",
        "        )\n",
        "    else:\n",
        "      current_train_loss, current_train_acc = train32(\n",
        "          model,\n",
        "          train_loader,\n",
        "          ce,\n",
        "          optimizer\n",
        "      )\n",
        "\n",
        "    current_val_loss, current_val_acc = validation(\n",
        "        model,\n",
        "        test_loader,\n",
        "        ce\n",
        "    )\n",
        "\n",
        "    train_loss_history.append(current_train_loss)\n",
        "    train_acc_history.append(current_train_acc)\n",
        "\n",
        "    val_loss_history.append(current_val_loss)\n",
        "    val_acc_history.append(current_val_acc)\n",
        "\n",
        "    print(f\"Epoch ({epoch}/{hyperparameters['epochs']}): Train Loss = {current_train_loss:.4f}, Valitation Loss = {current_val_loss:.4f}, Train_acc = {current_train_acc:.4f}, Val_acc = {current_val_acc:.4f}\")\n",
        "\n",
        "    if epoch % 10 == 0:\n",
        "      checkpoint_path = f\"{save_dir}/model{info['run']}_epoch_{epoch}.pth\"\n",
        "      torch.save({\n",
        "          'epoch': epoch,\n",
        "          'model_state_dict': model.state_dict(),\n",
        "          'optimizer_state_dict': optimizer.state_dict(),\n",
        "          'train_losses': train_loss_history,\n",
        "          'val_losses': val_loss_history,\n",
        "          'train_acc': train_acc_history,\n",
        "          'val_acc': val_acc_history\n",
        "      }, checkpoint_path)\n",
        "      print(f\"Model saved at {checkpoint_path}\")\n",
        "\n",
        "    if current_val_loss < best_val_loss:\n",
        "        best_val_loss = current_val_loss\n",
        "        counter = 0\n",
        "        continue\n",
        "    else:\n",
        "        counter += 1\n",
        "        print(f\"No improvement in val loss Counter = {counter}/{patience}\")\n",
        "        if counter >= patience:\n",
        "            print(\"Early stopping triggered!\")\n",
        "            early_stop = True\n",
        "            break"
      ]
    },
    {
      "cell_type": "code",
      "source": [
        "def get_predictions_and_labels(model, loader):\n",
        "    model.eval()\n",
        "    all_y_true = []\n",
        "    all_y_pred = []\n",
        "\n",
        "    with torch.no_grad():\n",
        "        for x, y in loader:\n",
        "            x = x.to(device)\n",
        "            y = y.to(device)\n",
        "\n",
        "            yout = model(x)\n",
        "\n",
        "            _, pred_mut = torch.max(yout, 1)\n",
        "\n",
        "            all_y_true.extend(y.cpu().numpy())\n",
        "            all_y_pred.extend(pred_mut.cpu().numpy())\n",
        "\n",
        "    return (\n",
        "        (all_y_true, all_y_pred)\n",
        "    )"
      ],
      "metadata": {
        "id": "fchAhqxA5bKy"
      },
      "execution_count": 27,
      "outputs": []
    },
    {
      "cell_type": "code",
      "source": [
        "from sklearn.metrics import classification_report\n",
        "\n",
        "(y_true, y_pred) = get_predictions_and_labels(model, test_loader)\n",
        "\n",
        "print(\"\\n\" + \"=\"*60)\n",
        "print(\"Classification Report Summary\")\n",
        "print(\"=\"*60)\n",
        "\n",
        "print(\"\\n[1] Classification Report — Mutation Label\")\n",
        "print(\"-\" * 60)\n",
        "print(classification_report(y_true, y_pred))\n",
        "\n",
        "print(\"=\"*60 + \"\\n\")\n"
      ],
      "metadata": {
        "colab": {
          "base_uri": "https://localhost:8080/"
        },
        "id": "-Ild1bHo5XY4",
        "outputId": "ecb24179-a885-467b-9735-6f537dfa140f"
      },
      "execution_count": 28,
      "outputs": [
        {
          "output_type": "stream",
          "name": "stdout",
          "text": [
            "\n",
            "============================================================\n",
            "Classification Report Summary\n",
            "============================================================\n",
            "\n",
            "[1] Classification Report — Mutation Label\n",
            "------------------------------------------------------------\n",
            "              precision    recall  f1-score   support\n",
            "\n",
            "           0       0.52      0.12      0.19      4030\n",
            "           1       0.41      0.33      0.36      6082\n",
            "           2       0.37      0.64      0.47      5869\n",
            "           3       0.41      0.30      0.34      2027\n",
            "           4       0.29      0.37      0.32      2392\n",
            "\n",
            "    accuracy                           0.38     20400\n",
            "   macro avg       0.40      0.35      0.34     20400\n",
            "weighted avg       0.41      0.38      0.35     20400\n",
            "\n",
            "============================================================\n",
            "\n"
          ]
        }
      ]
    },
    {
      "cell_type": "code",
      "source": [
        "from sklearn.metrics import confusion_matrix, ConfusionMatrixDisplay\n",
        "\n",
        "cm = confusion_matrix(y_true, y_pred)\n",
        "disp = ConfusionMatrixDisplay(confusion_matrix=cm)\n",
        "disp.plot(xticks_rotation=45)"
      ],
      "metadata": {
        "colab": {
          "base_uri": "https://localhost:8080/",
          "height": 470
        },
        "id": "HZh0OCyv5RrR",
        "outputId": "2c152ffe-a352-41f0-86eb-028b577f3357"
      },
      "execution_count": 29,
      "outputs": [
        {
          "output_type": "execute_result",
          "data": {
            "text/plain": [
              "<sklearn.metrics._plot.confusion_matrix.ConfusionMatrixDisplay at 0x7fa0843bbfb0>"
            ]
          },
          "metadata": {},
          "execution_count": 29
        },
        {
          "output_type": "display_data",
          "data": {
            "text/plain": [
              "<Figure size 640x480 with 2 Axes>"
            ],
            "image/png": "[encoded data removed]"
          },
          "metadata": {}
        }
      ]
    },
    {
      "cell_type": "code",
      "execution_count": 30,
      "metadata": {
        "colab": {
          "base_uri": "https://localhost:8080/",
          "height": 944
        },
        "id": "uiqFXZj3KsP6",
        "outputId": "7f237599-51f5-49b1-c40b-ace55be76076"
      },
      "outputs": [
        {
          "output_type": "display_data",
          "data": {
            "text/plain": [
              "<Figure size 1000x500 with 1 Axes>"
            ],
            "image/png": "[encoded data removed]"
          },
          "metadata": {}
        },
        {
          "output_type": "display_data",
          "data": {
            "text/plain": [
              "<Figure size 1000x500 with 1 Axes>"
            ],
            "image/png": "[encoded data removed]"
          },
          "metadata": {}
        }
      ],
      "source": [
        "import matplotlib.pyplot as plt\n",
        "\n",
        "plt.figure(figsize=(10, 5))\n",
        "plt.plot(train_loss_history, label='Train Loss', marker='o')\n",
        "plt.plot(val_loss_history, label='Validation Loss', marker='o')\n",
        "plt.title('Training vs Validation Loss')\n",
        "plt.xlabel('Epoch')\n",
        "plt.ylabel('Loss')\n",
        "plt.legend()\n",
        "plt.grid(True)\n",
        "plt.show()\n",
        "\n",
        "plt.figure(figsize=(10, 5))\n",
        "plt.plot(train_acc_history, label='Train Accuracy', marker='o')\n",
        "plt.plot(val_acc_history, label='Validation Accuracy', marker='o')\n",
        "plt.title('Training vs Validation Accuracy')\n",
        "plt.xlabel('Epoch')\n",
        "plt.ylabel('Accuracy')\n",
        "plt.legend()\n",
        "plt.grid(True)\n",
        "plt.show()"
      ]
    },
    {
      "cell_type": "code",
      "source": [],
      "metadata": {
        "id": "E7zwemA67uJQ"
      },
      "execution_count": 28,
      "outputs": []
    }
  ],
  "metadata": {
    "colab": {
      "provenance": [],
      "machine_shape": "hm",
      "gpuType": "L4"
    },
    "kernelspec": {
      "display_name": "Python 3",
      "name": "python3"
    },
    "language_info": {
      "codemirror_mode": {
        "name": "ipython",
        "version": 3
      },
      "file_extension": ".py",
      "mimetype": "text/x-python",
      "name": "python",
      "nbconvert_exporter": "python",
      "pygments_lexer": "ipython3",
      "version": "3.10.0"
    },
    "accelerator": "GPU"
  },
  "nbformat": 4,
  "nbformat_minor": 0
}