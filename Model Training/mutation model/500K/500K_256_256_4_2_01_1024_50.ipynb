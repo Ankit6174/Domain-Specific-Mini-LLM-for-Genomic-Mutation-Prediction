{
  "cells": [
    {
      "cell_type": "code",
      "execution_count": null,
      "metadata": {
        "id": "pGcWf4F5JcMc"
      },
      "outputs": [],
      "source": [
        "hyperparameters = {\n",
        "    \"learning_rate\": 0.0001,\n",
        "    \"batch_size\": 256,\n",
        "    \"embed_dim\": 256,\n",
        "    \"num_heads\": 4,\n",
        "    \"num_layers\": 2,\n",
        "    \"dropout\": 0.1,\n",
        "    \"ff_dim\": 1024,\n",
        "    \"epochs\": 50\n",
        "}\n",
        "\n",
        "info = {\n",
        "    \"dataset_size\": \"500K\",\n",
        "    \"precision\": \"FP16\",\n",
        "    \"is_pre_training\": True,\n",
        "    \"model_name\": \"model_First_Run_epoch_40\"\n",
        "}"
      ]
    },
    {
      "cell_type": "code",
      "execution_count": 2,
      "metadata": {
        "colab": {
          "base_uri": "https://localhost:8080/"
        },
        "id": "nH3j5rWdaQ4c",
        "outputId": "43117774-ba74-454d-b888-ddd7e7f1be02"
      },
      "outputs": [
        {
          "name": "stdout",
          "output_type": "stream",
          "text": [
            "Drive already mounted at /content/drive; to attempt to forcibly remount, call drive.mount(\"/content/drive\", force_remount=True).\n"
          ]
        }
      ],
      "source": [
        "from google.colab import drive\n",
        "drive.mount('/content/drive')"
      ]
    },
    {
      "cell_type": "code",
      "execution_count": 5,
      "metadata": {
        "colab": {
          "base_uri": "https://localhost:8080/"
        },
        "id": "V1v98WHCJoDO",
        "outputId": "819e95ea-8042-4985-ec93-26087289dfcf"
      },
      "outputs": [
        {
          "data": {
            "text/plain": [
              "(500000, 10)"
            ]
          },
          "execution_count": 5,
          "metadata": {},
          "output_type": "execute_result"
        }
      ],
      "source": [
        "import pandas as pd\n",
        "\n",
        "data_path = f\"/content/drive/MyDrive/{info['dataset_size']}.csv\"\n",
        "\n",
        "data = pd.read_csv(data_path)\n",
        "data.shape"
      ]
    },
    {
      "cell_type": "code",
      "execution_count": 6,
      "metadata": {
        "id": "wR3jf-oAJ2PE"
      },
      "outputs": [],
      "source": [
        "x = data['sequence']\n",
        "y = data['label']"
      ]
    },
    {
      "cell_type": "code",
      "execution_count": 7,
      "metadata": {
        "id": "j-XikXuLJ2M1"
      },
      "outputs": [],
      "source": [
        "def get_codon(seq, k=3):\n",
        "    return [seq[i:i+k] for i in range(len(seq) - k + 1)]\n",
        "\n",
        "vocab = {'<PAD>': 0, '<UNK>': 1}\n",
        "\n",
        "for seq in data['sequence']:\n",
        "    for codons in get_codon(seq.lower()):\n",
        "        if codons not in vocab:\n",
        "            vocab[codons] = len(vocab)\n",
        "        else:\n",
        "            continue\n",
        "\n",
        "def get_tensor(text):\n",
        "    return [vocab.get(codons.lower(), vocab['<UNK>']) for codons in get_codon(text)]"
      ]
    },
    {
      "cell_type": "code",
      "execution_count": 8,
      "metadata": {
        "id": "3dzO0_F0J2Kw"
      },
      "outputs": [],
      "source": [
        "import torch\n",
        "from torch import nn, optim\n",
        "from torch.utils.data import Dataset, DataLoader, random_split\n",
        "\n",
        "class CustomDataset(Dataset):\n",
        "  def __init__(self, x, y):\n",
        "    self.x_frame = x\n",
        "    self.y_frame = y\n",
        "\n",
        "  def __len__(self):\n",
        "    return len(self.x_frame)\n",
        "\n",
        "  def __getitem__(self, index):\n",
        "    x = torch.tensor(get_tensor(self.x_frame[index]), dtype=torch.long)\n",
        "    y = torch.tensor(self.y_frame[index], dtype=torch.long)\n",
        "    return x, y"
      ]
    },
    {
      "cell_type": "code",
      "execution_count": 9,
      "metadata": {
        "id": "YxR8TknxJ2Io"
      },
      "outputs": [],
      "source": [
        "dataset = CustomDataset(x, y)"
      ]
    },
    {
      "cell_type": "code",
      "execution_count": 10,
      "metadata": {
        "id": "QF1Z099wJ2Gb"
      },
      "outputs": [],
      "source": [
        "train_size = int(0.8 * len(dataset))\n",
        "test_size = len(dataset) - train_size\n",
        "\n",
        "train_dataset, test_dataset = random_split(dataset, [train_size, test_size])"
      ]
    },
    {
      "cell_type": "code",
      "execution_count": null,
      "metadata": {
        "id": "wOWyu19_J2EZ"
      },
      "outputs": [],
      "source": [
        "train_loader = DataLoader(train_dataset, batch_size=hyperparameters['batch_size'], shuffle=True)\n",
        "test_loader = DataLoader(test_dataset, batch_size=hyperparameters['batch_size'])"
      ]
    },
    {
      "cell_type": "code",
      "execution_count": 12,
      "metadata": {
        "id": "MJTZAUbQJ2Ca"
      },
      "outputs": [],
      "source": [
        "import math\n",
        "\n",
        "class PositionalEncoding(nn.Module):\n",
        "    def __init__(self, embed_dim, max_len=5000):\n",
        "        super().__init__()\n",
        "\n",
        "        pe = torch.zeros(max_len, embed_dim)\n",
        "        position = torch.arange(0, max_len).unsqueeze(1)\n",
        "\n",
        "        div_term = torch.exp((torch.arange(0, embed_dim, 2)) * (-math.log(10000.0) / embed_dim))\n",
        "\n",
        "        pe[:, 0::2] = torch.sin(position * div_term)\n",
        "        pe[:, 1::2] = torch.cos(position * div_term)\n",
        "\n",
        "        pe = pe.unsqueeze(0)\n",
        "        self.register_buffer('pe', pe)\n",
        "\n",
        "    def forward(self, x):\n",
        "        x = x + self.pe[:, :x.size(1), :].to(x.device)\n",
        "        return x\n",
        "\n",
        "class Transformer(nn.Module):\n",
        "    def __init__(self, embed_dim=512, num_heads=8, num_layers=6, ff_dim=2048, dropout=0.1, vocab_size=10000, max_len=5000):\n",
        "        super(Transformer, self).__init__()\n",
        "        self.embeddings = nn.Embedding(vocab_size, embed_dim)\n",
        "        self.position_encoding = PositionalEncoding(embed_dim=embed_dim, max_len=max_len)\n",
        "\n",
        "        encoder_layer = nn.TransformerEncoderLayer(\n",
        "            d_model=embed_dim,\n",
        "            nhead=num_heads,\n",
        "            dim_feedforward=ff_dim,\n",
        "            dropout=dropout,\n",
        "            batch_first=True\n",
        "        )\n",
        "        self.encoder = nn.TransformerEncoder(\n",
        "            encoder_layer=encoder_layer,\n",
        "            num_layers=num_layers\n",
        "        )\n",
        "\n",
        "        self.y_labels_out = nn.Linear(embed_dim, 5)\n",
        "\n",
        "    def forward(self, x):\n",
        "        x = self.embeddings(x)\n",
        "        x = self.position_encoding(x)\n",
        "\n",
        "        x = self.encoder(x)\n",
        "        x = x.mean(dim=1)\n",
        "\n",
        "        y_label_out = self.y_labels_out(x)\n",
        "        return y_label_out"
      ]
    },
    {
      "cell_type": "code",
      "execution_count": 13,
      "metadata": {
        "id": "3y4bHJVbJ2AQ"
      },
      "outputs": [],
      "source": [
        "model = Transformer(\n",
        "    embed_dim=hyperparameters['embed_dim'],\n",
        "    num_heads=hyperparameters['num_heads'],\n",
        "    num_layers=hyperparameters['num_layers'],\n",
        "    ff_dim=hyperparameters['ff_dim'],\n",
        "    dropout=hyperparameters['dropout'],\n",
        "    vocab_size=len(vocab),\n",
        "    max_len=200\n",
        ")"
      ]
    },
    {
      "cell_type": "code",
      "execution_count": 14,
      "metadata": {
        "id": "Ar1xzu7uxbul"
      },
      "outputs": [],
      "source": [
        "checkpoint = torch.load(f\"/content/drive/MyDrive/{info['model_name']}.pth\")"
      ]
    },
    {
      "cell_type": "code",
      "execution_count": 15,
      "metadata": {
        "colab": {
          "base_uri": "https://localhost:8080/"
        },
        "id": "QPqRDuhmxjxl",
        "outputId": "f31edadf-687f-4910-8a4b-c82c2b6187ac"
      },
      "outputs": [
        {
          "data": {
            "text/plain": [
              "<All keys matched successfully>"
            ]
          },
          "execution_count": 15,
          "metadata": {},
          "output_type": "execute_result"
        }
      ],
      "source": [
        "model.load_state_dict(checkpoint['model_state_dict'])"
      ]
    },
    {
      "cell_type": "code",
      "execution_count": 16,
      "metadata": {
        "colab": {
          "base_uri": "https://localhost:8080/"
        },
        "id": "q00nuF8HJ1-H",
        "outputId": "5a7e19a1-3ba4-48cf-ee4c-e870975dc73b"
      },
      "outputs": [
        {
          "data": {
            "text/plain": [
              "Transformer(\n",
              "  (embeddings): Embedding(66, 256)\n",
              "  (position_encoding): PositionalEncoding()\n",
              "  (encoder): TransformerEncoder(\n",
              "    (layers): ModuleList(\n",
              "      (0-1): 2 x TransformerEncoderLayer(\n",
              "        (self_attn): MultiheadAttention(\n",
              "          (out_proj): NonDynamicallyQuantizableLinear(in_features=256, out_features=256, bias=True)\n",
              "        )\n",
              "        (linear1): Linear(in_features=256, out_features=1024, bias=True)\n",
              "        (dropout): Dropout(p=0.1, inplace=False)\n",
              "        (linear2): Linear(in_features=1024, out_features=256, bias=True)\n",
              "        (norm1): LayerNorm((256,), eps=1e-05, elementwise_affine=True)\n",
              "        (norm2): LayerNorm((256,), eps=1e-05, elementwise_affine=True)\n",
              "        (dropout1): Dropout(p=0.1, inplace=False)\n",
              "        (dropout2): Dropout(p=0.1, inplace=False)\n",
              "      )\n",
              "    )\n",
              "  )\n",
              "  (y_labels_out): Linear(in_features=256, out_features=5, bias=True)\n",
              ")"
            ]
          },
          "execution_count": 16,
          "metadata": {},
          "output_type": "execute_result"
        }
      ],
      "source": [
        "device = torch.device(\"cuda\" if torch.cuda.is_available() else \"cpu\")\n",
        "model.to(device)"
      ]
    },
    {
      "cell_type": "code",
      "execution_count": 17,
      "metadata": {
        "colab": {
          "base_uri": "https://localhost:8080/"
        },
        "id": "V2Qa9JHAKI1-",
        "outputId": "48727274-15c1-489f-dd46-1ba204eac288"
      },
      "outputs": [
        {
          "data": {
            "text/plain": [
              "device(type='cuda')"
            ]
          },
          "execution_count": 17,
          "metadata": {},
          "output_type": "execute_result"
        }
      ],
      "source": [
        "device"
      ]
    },
    {
      "cell_type": "code",
      "execution_count": 18,
      "metadata": {
        "colab": {
          "base_uri": "https://localhost:8080/"
        },
        "id": "5_4lFoaqKIz4",
        "outputId": "c77c5c6c-67eb-4499-cd8b-513ee13834cf"
      },
      "outputs": [
        {
          "name": "stdout",
          "output_type": "stream",
          "text": [
            "Total trainable parameters: 1597701\n"
          ]
        }
      ],
      "source": [
        "num_params = sum(p.numel() for p in model.parameters() if p.requires_grad)\n",
        "print(f\"Total trainable parameters: {num_params}\")"
      ]
    },
    {
      "cell_type": "code",
      "execution_count": 19,
      "metadata": {
        "colab": {
          "base_uri": "https://localhost:8080/"
        },
        "id": "tDYvfOC7KIxu",
        "outputId": "b14e26ea-9495-4b69-ddae-263067278e43"
      },
      "outputs": [
        {
          "name": "stdout",
          "output_type": "stream",
          "text": [
            "Optimizer loaded\n"
          ]
        },
        {
          "name": "stderr",
          "output_type": "stream",
          "text": [
            "/tmp/ipython-input-3077670767.py:5: FutureWarning: `torch.cuda.amp.GradScaler(args...)` is deprecated. Please use `torch.amp.GradScaler('cuda', args...)` instead.\n",
            "  scaler = torch.cuda.amp.GradScaler()\n"
          ]
        }
      ],
      "source": [
        "from transformers import get_linear_schedule_with_warmup\n",
        "\n",
        "ce = nn.CrossEntropyLoss()\n",
        "optimizer = torch.optim.Adam(model.parameters(), lr=hyperparameters['learning_rate'], weight_decay=1e-4)\n",
        "scaler = torch.cuda.amp.GradScaler()\n",
        "\n",
        "if info['is_pre_training']:\n",
        "  optimizer.load_state_dict(checkpoint['optimizer_state_dict'])\n",
        "  print(\"Optimizer loaded\")\n",
        "\n",
        "num_training_steps = len(train_loader) * hyperparameters['epochs']\n",
        "num_warmup_steps = 500\n",
        "\n",
        "scheduler = get_linear_schedule_with_warmup(\n",
        "    optimizer,\n",
        "    num_warmup_steps=num_warmup_steps,\n",
        "    num_training_steps=num_training_steps\n",
        ")"
      ]
    },
    {
      "cell_type": "code",
      "execution_count": 20,
      "metadata": {
        "id": "3YrLO_deKIvu"
      },
      "outputs": [],
      "source": [
        "def train32(model, loader, ce, optimizer):\n",
        "    model.train()\n",
        "\n",
        "    running_loss, correct, total = 0.0, 0, 0\n",
        "\n",
        "    for x, y in loader:\n",
        "        optimizer.zero_grad()\n",
        "\n",
        "        x = x.to(device)\n",
        "        y = y.to(device)\n",
        "\n",
        "        output = model(x)\n",
        "        loss = ce(output, y)\n",
        "\n",
        "        prediction = torch.argmax(output, dim=1)\n",
        "        correct += (prediction == y).sum().item()\n",
        "        total += len(x)\n",
        "\n",
        "        loss.backward()\n",
        "\n",
        "        optimizer.step()\n",
        "\n",
        "        running_loss += loss.item() * len(x)\n",
        "\n",
        "    accuracy = correct / total\n",
        "\n",
        "    return (\n",
        "        running_loss / len(loader.dataset),\n",
        "        accuracy\n",
        "    )\n",
        "\n",
        "def train16(model, loader, ce, optimizer, scaler, scheduler):\n",
        "    model.train()\n",
        "    running_loss, correct, total = 0.0, 0, 0\n",
        "\n",
        "    for x, y in loader:\n",
        "        optimizer.zero_grad()\n",
        "        x = x.to(device)\n",
        "        y = y.to(device)\n",
        "\n",
        "        with torch.cuda.amp.autocast(dtype=torch.float16):\n",
        "            output = model(x)\n",
        "            loss = ce(output, y)\n",
        "\n",
        "        prediction = torch.argmax(output, dim=1)\n",
        "        correct += (prediction == y).sum().item()\n",
        "        total += len(x)\n",
        "\n",
        "        scaler.scale(loss).backward()\n",
        "        scaler.step(optimizer)\n",
        "        scaler.update()\n",
        "\n",
        "        scheduler.step()\n",
        "\n",
        "        running_loss += loss.item() * len(x)\n",
        "\n",
        "    accuracy = correct / total\n",
        "    return (\n",
        "        running_loss / len(loader.dataset),\n",
        "        accuracy\n",
        "    )"
      ]
    },
    {
      "cell_type": "code",
      "execution_count": 21,
      "metadata": {
        "id": "hK6At-_VKItX"
      },
      "outputs": [],
      "source": [
        "def validation(model, loader, ce):\n",
        "    model.eval()\n",
        "\n",
        "    running_loss, correct, total = 0.0, 0, 0\n",
        "\n",
        "    with torch.no_grad():\n",
        "        for x, y in loader:\n",
        "            x = x.to(device)\n",
        "            y = y.to(device)\n",
        "\n",
        "            if info['precision'] == 'FP16':\n",
        "              with torch.cuda.amp.autocast(dtype=torch.float16):\n",
        "                  output = model(x)\n",
        "                  loss = ce(output, y)\n",
        "            else:\n",
        "              output = model(x)\n",
        "              loss = ce(output, y)\n",
        "\n",
        "            running_loss += loss.item() * len(x)\n",
        "\n",
        "            prediction = torch.argmax(output, dim=1)\n",
        "            correct += (prediction == y).sum().item()\n",
        "\n",
        "            total += len(x)\n",
        "\n",
        "    accuracy = correct / total\n",
        "\n",
        "    return (\n",
        "        running_loss / len(loader.dataset),\n",
        "        accuracy\n",
        "    )"
      ]
    },
    {
      "cell_type": "code",
      "execution_count": 22,
      "metadata": {
        "colab": {
          "base_uri": "https://localhost:8080/"
        },
        "id": "2mL_srk1KQNu",
        "outputId": "7c5cbb67-53bd-4c36-e4b5-8dfbe40993a3"
      },
      "outputs": [
        {
          "name": "stderr",
          "output_type": "stream",
          "text": [
            "/tmp/ipython-input-2163399810.py:41: FutureWarning: `torch.cuda.amp.autocast(args...)` is deprecated. Please use `torch.amp.autocast('cuda', args...)` instead.\n",
            "  with torch.cuda.amp.autocast(dtype=torch.float16):\n",
            "/tmp/ipython-input-260272857.py:12: FutureWarning: `torch.cuda.amp.autocast(args...)` is deprecated. Please use `torch.amp.autocast('cuda', args...)` instead.\n",
            "  with torch.cuda.amp.autocast(dtype=torch.float16):\n"
          ]
        },
        {
          "name": "stdout",
          "output_type": "stream",
          "text": [
            "Epoch (85/150): Train Loss = 0.8766, Valitation Loss = 0.8680, Train_acc = 0.6569, Val_acc = 0.6615\n",
            "Epoch (86/150): Train Loss = 0.8734, Valitation Loss = 0.8666, Train_acc = 0.6589, Val_acc = 0.6614\n",
            "Epoch (87/150): Train Loss = 0.8660, Valitation Loss = 0.8614, Train_acc = 0.6636, Val_acc = 0.6659\n",
            "Epoch (88/150): Train Loss = 0.8588, Valitation Loss = 0.8489, Train_acc = 0.6688, Val_acc = 0.6748\n",
            "Epoch (89/150): Train Loss = 0.8499, Valitation Loss = 0.8473, Train_acc = 0.6752, Val_acc = 0.6770\n",
            "Epoch (90/150): Train Loss = 0.8415, Valitation Loss = 0.8351, Train_acc = 0.6810, Val_acc = 0.6837\n",
            "Model saved at /content/drive/MyDrive/dna-test-50K/model_forth-run_epoch_90.pth\n",
            "Epoch (91/150): Train Loss = 0.8339, Valitation Loss = 0.8377, Train_acc = 0.6859, Val_acc = 0.6843\n",
            "No improvement in val loss Counter = 1/10\n",
            "Epoch (92/150): Train Loss = 0.8269, Valitation Loss = 0.8231, Train_acc = 0.6899, Val_acc = 0.6926\n",
            "Epoch (93/150): Train Loss = 0.8206, Valitation Loss = 0.8289, Train_acc = 0.6944, Val_acc = 0.6917\n",
            "No improvement in val loss Counter = 1/10\n",
            "Epoch (94/150): Train Loss = 0.8153, Valitation Loss = 0.8238, Train_acc = 0.6976, Val_acc = 0.6940\n",
            "No improvement in val loss Counter = 2/10\n",
            "Epoch (95/150): Train Loss = 0.8093, Valitation Loss = 0.8101, Train_acc = 0.7009, Val_acc = 0.7002\n",
            "Epoch (96/150): Train Loss = 0.8046, Valitation Loss = 0.8102, Train_acc = 0.7041, Val_acc = 0.7016\n",
            "No improvement in val loss Counter = 1/10\n",
            "Epoch (97/150): Train Loss = 0.7991, Valitation Loss = 0.8046, Train_acc = 0.7071, Val_acc = 0.7052\n",
            "Epoch (98/150): Train Loss = 0.7964, Valitation Loss = 0.8020, Train_acc = 0.7093, Val_acc = 0.7073\n",
            "Epoch (99/150): Train Loss = 0.7918, Valitation Loss = 0.8037, Train_acc = 0.7112, Val_acc = 0.7075\n",
            "No improvement in val loss Counter = 1/10\n",
            "Epoch (100/150): Train Loss = 0.7879, Valitation Loss = 0.8029, Train_acc = 0.7138, Val_acc = 0.7062\n",
            "Model saved at /content/drive/MyDrive/dna-test-50K/model_forth-run_epoch_100.pth\n",
            "No improvement in val loss Counter = 2/10\n",
            "Epoch (101/150): Train Loss = 0.7847, Valitation Loss = 0.7957, Train_acc = 0.7148, Val_acc = 0.7104\n",
            "Epoch (102/150): Train Loss = 0.7811, Valitation Loss = 0.7930, Train_acc = 0.7174, Val_acc = 0.7126\n",
            "Epoch (103/150): Train Loss = 0.7772, Valitation Loss = 0.7871, Train_acc = 0.7191, Val_acc = 0.7160\n",
            "Epoch (104/150): Train Loss = 0.7744, Valitation Loss = 0.7881, Train_acc = 0.7206, Val_acc = 0.7152\n",
            "No improvement in val loss Counter = 1/10\n",
            "Epoch (105/150): Train Loss = 0.7717, Valitation Loss = 0.7839, Train_acc = 0.7216, Val_acc = 0.7155\n",
            "Epoch (106/150): Train Loss = 0.7684, Valitation Loss = 0.7823, Train_acc = 0.7236, Val_acc = 0.7169\n",
            "Epoch (107/150): Train Loss = 0.7658, Valitation Loss = 0.7855, Train_acc = 0.7244, Val_acc = 0.7153\n",
            "No improvement in val loss Counter = 1/10\n",
            "Epoch (108/150): Train Loss = 0.7629, Valitation Loss = 0.7849, Train_acc = 0.7262, Val_acc = 0.7155\n",
            "No improvement in val loss Counter = 2/10\n",
            "Epoch (109/150): Train Loss = 0.7608, Valitation Loss = 0.7792, Train_acc = 0.7273, Val_acc = 0.7196\n",
            "Epoch (110/150): Train Loss = 0.7582, Valitation Loss = 0.7768, Train_acc = 0.7289, Val_acc = 0.7202\n",
            "Model saved at /content/drive/MyDrive/dna-test-50K/model_forth-run_epoch_110.pth\n",
            "Epoch (111/150): Train Loss = 0.7559, Valitation Loss = 0.7785, Train_acc = 0.7294, Val_acc = 0.7179\n",
            "No improvement in val loss Counter = 1/10\n",
            "Epoch (112/150): Train Loss = 0.7541, Valitation Loss = 0.7768, Train_acc = 0.7305, Val_acc = 0.7204\n",
            "No improvement in val loss Counter = 2/10\n",
            "Epoch (113/150): Train Loss = 0.7516, Valitation Loss = 0.7857, Train_acc = 0.7316, Val_acc = 0.7161\n",
            "No improvement in val loss Counter = 3/10\n",
            "Epoch (114/150): Train Loss = 0.7491, Valitation Loss = 0.7781, Train_acc = 0.7328, Val_acc = 0.7206\n",
            "No improvement in val loss Counter = 4/10\n",
            "Epoch (115/150): Train Loss = 0.7475, Valitation Loss = 0.7786, Train_acc = 0.7336, Val_acc = 0.7191\n",
            "No improvement in val loss Counter = 5/10\n",
            "Epoch (116/150): Train Loss = 0.7459, Valitation Loss = 0.7734, Train_acc = 0.7335, Val_acc = 0.7222\n",
            "Epoch (117/150): Train Loss = 0.7437, Valitation Loss = 0.7704, Train_acc = 0.7352, Val_acc = 0.7228\n",
            "Epoch (118/150): Train Loss = 0.7419, Valitation Loss = 0.7711, Train_acc = 0.7360, Val_acc = 0.7219\n",
            "No improvement in val loss Counter = 1/10\n",
            "Epoch (119/150): Train Loss = 0.7412, Valitation Loss = 0.7757, Train_acc = 0.7363, Val_acc = 0.7221\n",
            "No improvement in val loss Counter = 2/10\n",
            "Epoch (120/150): Train Loss = 0.7383, Valitation Loss = 0.7690, Train_acc = 0.7373, Val_acc = 0.7240\n",
            "Model saved at /content/drive/MyDrive/dna-test-50K/model_forth-run_epoch_120.pth\n",
            "Epoch (121/150): Train Loss = 0.7375, Valitation Loss = 0.7686, Train_acc = 0.7381, Val_acc = 0.7254\n",
            "Epoch (122/150): Train Loss = 0.7359, Valitation Loss = 0.7721, Train_acc = 0.7388, Val_acc = 0.7224\n",
            "No improvement in val loss Counter = 1/10\n",
            "Epoch (123/150): Train Loss = 0.7341, Valitation Loss = 0.7682, Train_acc = 0.7393, Val_acc = 0.7246\n",
            "Epoch (124/150): Train Loss = 0.7324, Valitation Loss = 0.7674, Train_acc = 0.7406, Val_acc = 0.7250\n",
            "Epoch (125/150): Train Loss = 0.7309, Valitation Loss = 0.7676, Train_acc = 0.7412, Val_acc = 0.7250\n",
            "No improvement in val loss Counter = 1/10\n",
            "Epoch (126/150): Train Loss = 0.7299, Valitation Loss = 0.7677, Train_acc = 0.7414, Val_acc = 0.7266\n",
            "No improvement in val loss Counter = 2/10\n",
            "Epoch (127/150): Train Loss = 0.7289, Valitation Loss = 0.7710, Train_acc = 0.7420, Val_acc = 0.7234\n",
            "No improvement in val loss Counter = 3/10\n",
            "Epoch (128/150): Train Loss = 0.7279, Valitation Loss = 0.7669, Train_acc = 0.7428, Val_acc = 0.7259\n",
            "Epoch (129/150): Train Loss = 0.7260, Valitation Loss = 0.7669, Train_acc = 0.7434, Val_acc = 0.7260\n",
            "No improvement in val loss Counter = 1/10\n",
            "Epoch (130/150): Train Loss = 0.7250, Valitation Loss = 0.7687, Train_acc = 0.7437, Val_acc = 0.7262\n",
            "Model saved at /content/drive/MyDrive/dna-test-50K/model_forth-run_epoch_130.pth\n",
            "No improvement in val loss Counter = 2/10\n",
            "Epoch (131/150): Train Loss = 0.7238, Valitation Loss = 0.7673, Train_acc = 0.7445, Val_acc = 0.7265\n",
            "No improvement in val loss Counter = 3/10\n",
            "Epoch (132/150): Train Loss = 0.7229, Valitation Loss = 0.7670, Train_acc = 0.7448, Val_acc = 0.7270\n",
            "No improvement in val loss Counter = 4/10\n",
            "Epoch (133/150): Train Loss = 0.7217, Valitation Loss = 0.7661, Train_acc = 0.7455, Val_acc = 0.7264\n",
            "Epoch (134/150): Train Loss = 0.7210, Valitation Loss = 0.7659, Train_acc = 0.7457, Val_acc = 0.7269\n",
            "Epoch (135/150): Train Loss = 0.7205, Valitation Loss = 0.7659, Train_acc = 0.7457, Val_acc = 0.7269\n",
            "No improvement in val loss Counter = 1/10\n",
            "Epoch (136/150): Train Loss = 0.7205, Valitation Loss = 0.7659, Train_acc = 0.7458, Val_acc = 0.7269\n",
            "No improvement in val loss Counter = 2/10\n",
            "Epoch (137/150): Train Loss = 0.7205, Valitation Loss = 0.7659, Train_acc = 0.7460, Val_acc = 0.7269\n",
            "No improvement in val loss Counter = 3/10\n",
            "Epoch (138/150): Train Loss = 0.7206, Valitation Loss = 0.7659, Train_acc = 0.7460, Val_acc = 0.7269\n",
            "No improvement in val loss Counter = 4/10\n",
            "Epoch (139/150): Train Loss = 0.7203, Valitation Loss = 0.7659, Train_acc = 0.7461, Val_acc = 0.7269\n",
            "No improvement in val loss Counter = 5/10\n",
            "Epoch (140/150): Train Loss = 0.7202, Valitation Loss = 0.7659, Train_acc = 0.7464, Val_acc = 0.7269\n",
            "Model saved at /content/drive/MyDrive/dna-test-50K/model_forth-run_epoch_140.pth\n",
            "No improvement in val loss Counter = 6/10\n",
            "Epoch (141/150): Train Loss = 0.7201, Valitation Loss = 0.7659, Train_acc = 0.7461, Val_acc = 0.7269\n",
            "No improvement in val loss Counter = 7/10\n",
            "Epoch (142/150): Train Loss = 0.7204, Valitation Loss = 0.7659, Train_acc = 0.7461, Val_acc = 0.7269\n",
            "No improvement in val loss Counter = 8/10\n",
            "Epoch (143/150): Train Loss = 0.7202, Valitation Loss = 0.7659, Train_acc = 0.7458, Val_acc = 0.7269\n",
            "No improvement in val loss Counter = 9/10\n",
            "Epoch (144/150): Train Loss = 0.7201, Valitation Loss = 0.7659, Train_acc = 0.7463, Val_acc = 0.7269\n",
            "No improvement in val loss Counter = 10/10\n",
            "Early stopping triggered!\n"
          ]
        }
      ],
      "source": [
        "import os\n",
        "\n",
        "patience = 10\n",
        "best_val_loss = float('inf')\n",
        "counter = 0\n",
        "early_stop = False\n",
        "\n",
        "save_dir = f\"/content/drive/MyDrive/{info['project_name']}\"\n",
        "os.makedirs(save_dir, exist_ok=True)\n",
        "\n",
        "for epoch in range(84, 150):\n",
        "    if info['precision'] == 'FP16':\n",
        "      train_loss, train_acc = train16(\n",
        "            model,\n",
        "            train_loader,\n",
        "            ce,\n",
        "            optimizer,\n",
        "            scaler,\n",
        "            scheduler\n",
        "        )\n",
        "    else:\n",
        "      train_loss, train_acc = train32(\n",
        "          model,\n",
        "          train_loader,\n",
        "          ce,\n",
        "          optimizer\n",
        "      )\n",
        "\n",
        "    val_loss, val_acc = validation(\n",
        "        model,\n",
        "        test_loader,\n",
        "        ce\n",
        "    )\n",
        "\n",
        "    print(f\"Epoch ({epoch+1}/150): Train Loss = {train_loss:.4f}, Valitation Loss = {val_loss:.4f}, Train_acc = {train_acc:.4f}, Val_acc = {val_acc:.4f}\")\n",
        "\n",
        "    # wandb.log({\n",
        "    #     \"epoch\": epoch,\n",
        "    #     \"train_loss\": train_loss,\n",
        "    #     \"val_loss\": val_loss,\n",
        "    #     \"train_acc\": train_acc,\n",
        "    #     \"val_acc\": val_acc\n",
        "    # })\n",
        "\n",
        "    if (epoch+1) % 10 == 0:\n",
        "      checkpoint_path = f\"{save_dir}/model_{info['name']}_epoch_{epoch+1}.pth\"\n",
        "      torch.save({\n",
        "          'epoch': epoch+1,\n",
        "          'model_state_dict': model.state_dict(),\n",
        "          'optimizer_state_dict': optimizer.state_dict(),\n",
        "          'train_losses': train_loss,\n",
        "          'val_losses': val_loss\n",
        "      }, checkpoint_path)\n",
        "      print(f\"Model saved at {checkpoint_path}\")\n",
        "\n",
        "    if val_loss < best_val_loss:\n",
        "        best_val_loss = val_loss\n",
        "        counter = 0\n",
        "        continue\n",
        "    else:\n",
        "        counter += 1\n",
        "        print(f\"No improvement in val loss Counter = {counter}/{patience}\")\n",
        "        if counter >= patience:\n",
        "            print(\"Early stopping triggered!\")\n",
        "            early_stop = True\n",
        "            break"
      ]
    },
    {
      "cell_type": "code",
      "execution_count": null,
      "metadata": {
        "id": "zBxtEFvRoorG"
      },
      "outputs": [],
      "source": [
        "wandb.finish()"
      ]
    },
    {
      "cell_type": "code",
      "execution_count": 23,
      "metadata": {
        "colab": {
          "base_uri": "https://localhost:8080/"
        },
        "id": "iTgNsv_WKSKt",
        "outputId": "e9f4958a-7714-4cd8-91ed-e9a717431432"
      },
      "outputs": [
        {
          "name": "stdout",
          "output_type": "stream",
          "text": [
            "Classification Report for Label:\n",
            "              precision    recall  f1-score   support\n",
            "\n",
            "           0       0.45      0.05      0.10      5931\n",
            "           1       0.69      0.67      0.68     31732\n",
            "           2       0.75      0.88      0.81     57783\n",
            "           3       0.53      0.19      0.28      2134\n",
            "           4       0.28      0.01      0.02      2420\n",
            "\n",
            "    accuracy                           0.73    100000\n",
            "   macro avg       0.54      0.36      0.38    100000\n",
            "weighted avg       0.70      0.73      0.70    100000\n",
            "\n",
            "--------------------\n"
          ]
        }
      ],
      "source": [
        "from sklearn.metrics import classification_report\n",
        "\n",
        "def get_predictions_and_labels(model, loader):\n",
        "    model.eval()\n",
        "    all_y_true = []\n",
        "\n",
        "    all_y_pred = []\n",
        "\n",
        "    with torch.no_grad():\n",
        "        for x, y in loader:\n",
        "            x = x.to(device)\n",
        "            y = y.to(device)\n",
        "\n",
        "            output = model(x)\n",
        "\n",
        "            _, prediction = torch.max(output, 1)\n",
        "\n",
        "            all_y_true.extend(y.cpu().numpy())\n",
        "\n",
        "            all_y_pred.extend(prediction.cpu().numpy())\n",
        "\n",
        "    return (all_y_true, all_y_pred)\n",
        "\n",
        "y_true, y_pred = get_predictions_and_labels(model, test_loader)\n",
        "\n",
        "print(\"Classification Report for Label:\")\n",
        "print(classification_report(y_true, y_pred))\n",
        "print(\"-\"*20)"
      ]
    },
    {
      "cell_type": "code",
      "execution_count": 24,
      "metadata": {
        "colab": {
          "base_uri": "https://localhost:8080/",
          "height": 377
        },
        "id": "7-5hlNhuRa8U",
        "outputId": "a48b6a37-d0ca-472c-9567-34772d360a5a"
      },
      "outputs": [
        {
          "data": {
            "image/png": "[encoded data removed]",
            "text/plain": [
              "<Figure size 1400x600 with 2 Axes>"
            ]
          },
          "metadata": {},
          "output_type": "display_data"
        }
      ],
      "source": [
        "import matplotlib.pyplot as plt\n",
        "\n",
        "# Existing data (33 epochs)\n",
        "train_loss = [1.0323, 0.9969, 0.9861, 0.9802, 0.9735, 0.9655, 0.9586, 0.9532, 0.9484, 0.9431,\n",
        "              0.9371, 0.9311, 0.9259, 0.9200, 0.9149, 0.9108, 0.9068, 0.9038, 0.9012, 0.8984,\n",
        "              0.8964, 0.8930, 0.8912, 0.8886, 0.8865, 0.8837, 0.8811, 0.8779, 0.8752, 0.8714,\n",
        "              0.8682, 0.8645, 0.8613]\n",
        "\n",
        "val_loss = [1.0027, 0.9846, 0.9824, 0.9761, 0.9694, 0.9577, 0.9522, 0.9510, 0.9445, 0.9406,\n",
        "            0.9336, 0.9260, 0.9250, 0.9158, 0.9175, 0.9073, 0.9073, 0.9002, 0.8983, 0.8974,\n",
        "            0.8995, 0.8957, 0.8911, 0.8895, 0.8912, 0.8890, 0.8839, 0.8811, 0.8817, 0.8733,\n",
        "            0.8712, 0.8681, 0.8668]\n",
        "\n",
        "train_acc = [0.5718, 0.5883, 0.5917, 0.5942, 0.5971, 0.6007, 0.6035, 0.6070, 0.6096, 0.6137,\n",
        "             0.6173, 0.6212, 0.6254, 0.6290, 0.6319, 0.6353, 0.6380, 0.6395, 0.6404, 0.6422,\n",
        "             0.6439, 0.6456, 0.6472, 0.6494, 0.6499, 0.6517, 0.6533, 0.6556, 0.6574, 0.6600,\n",
        "             0.6622, 0.6641, 0.6659]\n",
        "\n",
        "val_acc = [0.5863, 0.5926, 0.5948, 0.5948, 0.6003, 0.6035, 0.6063, 0.6090, 0.6132, 0.6165,\n",
        "           0.6211, 0.6246, 0.6267, 0.6322, 0.6339, 0.6362, 0.6365, 0.6420, 0.6432, 0.6427,\n",
        "           0.6420, 0.6440, 0.6467, 0.6478, 0.6468, 0.6502, 0.6515, 0.6540, 0.6518, 0.6579,\n",
        "           0.6595, 0.6622, 0.6626]\n",
        "\n",
        "# Additional data from epochs 85 to 144 (total 60 epochs)\n",
        "additional_train_loss = [\n",
        "    0.8766, 0.8734, 0.8660, 0.8588, 0.8499, 0.8415, 0.8339, 0.8269, 0.8206, 0.8153,\n",
        "    0.8093, 0.8046, 0.7991, 0.7964, 0.7918, 0.7879, 0.7847, 0.7811, 0.7772, 0.7744,\n",
        "    0.7717, 0.7684, 0.7658, 0.7629, 0.7608, 0.7582, 0.7559, 0.7541, 0.7516, 0.7491,\n",
        "    0.7475, 0.7459, 0.7437, 0.7419, 0.7412, 0.7383, 0.7375, 0.7359, 0.7341, 0.7324,\n",
        "    0.7309, 0.7299, 0.7289, 0.7279, 0.7260, 0.7250, 0.7238, 0.7229, 0.7217, 0.7210,\n",
        "    0.7205, 0.7205, 0.7205, 0.7206, 0.7203, 0.7202, 0.7201, 0.7204, 0.7202, 0.7201\n",
        "]\n",
        "\n",
        "additional_val_loss = [\n",
        "    0.8680, 0.8666, 0.8614, 0.8489, 0.8473, 0.8351, 0.8377, 0.8231, 0.8289, 0.8238,\n",
        "    0.8101, 0.8102, 0.8046, 0.8020, 0.8037, 0.8029, 0.7957, 0.7930, 0.7871, 0.7881,\n",
        "    0.7839, 0.7823, 0.7855, 0.7849, 0.7792, 0.7768, 0.7785, 0.7768, 0.7857, 0.7781,\n",
        "    0.7786, 0.7734, 0.7704, 0.7711, 0.7757, 0.7690, 0.7686, 0.7721, 0.7682, 0.7674,\n",
        "    0.7676, 0.7677, 0.7710, 0.7669, 0.7669, 0.7687, 0.7673, 0.7670, 0.7661, 0.7659,\n",
        "    0.7659, 0.7659, 0.7659, 0.7659, 0.7659, 0.7659, 0.7659, 0.7659, 0.7659, 0.7659\n",
        "]\n",
        "\n",
        "additional_train_acc = [\n",
        "    0.6569, 0.6589, 0.6636, 0.6688, 0.6752, 0.6810, 0.6859, 0.6899, 0.6944, 0.6976,\n",
        "    0.7009, 0.7041, 0.7071, 0.7093, 0.7112, 0.7138, 0.7148, 0.7174, 0.7191, 0.7206,\n",
        "    0.7216, 0.7236, 0.7244, 0.7262, 0.7273, 0.7289, 0.7294, 0.7305, 0.7316, 0.7328,\n",
        "    0.7336, 0.7335, 0.7352, 0.7360, 0.7363, 0.7373, 0.7381, 0.7388, 0.7393, 0.7406,\n",
        "    0.7412, 0.7414, 0.7420, 0.7428, 0.7434, 0.7437, 0.7445, 0.7448, 0.7455, 0.7457,\n",
        "    0.7457, 0.7458, 0.7460, 0.7460, 0.7461, 0.7464, 0.7461, 0.7461, 0.7458, 0.7463\n",
        "]\n",
        "\n",
        "additional_val_acc = [\n",
        "    0.6615, 0.6614, 0.6659, 0.6748, 0.6770, 0.6837, 0.6843, 0.6926, 0.6917, 0.6940,\n",
        "    0.7002, 0.7016, 0.7052, 0.7073, 0.7075, 0.7062, 0.7104, 0.7126, 0.7160, 0.7152,\n",
        "    0.7155, 0.7169, 0.7153, 0.7155, 0.7196, 0.7202, 0.7179, 0.7204, 0.7161, 0.7206,\n",
        "    0.7191, 0.7222, 0.7228, 0.7219, 0.7221, 0.7240, 0.7254, 0.7224, 0.7246, 0.7250,\n",
        "    0.7250, 0.7266, 0.7234, 0.7259, 0.7260, 0.7262, 0.7265, 0.7270, 0.7264, 0.7269,\n",
        "    0.7269, 0.7269, 0.7269, 0.7269, 0.7269, 0.7269, 0.7269, 0.7269, 0.7269, 0.7269\n",
        "]\n",
        "\n",
        "# Append additional values\n",
        "train_loss += additional_train_loss\n",
        "val_loss += additional_val_loss\n",
        "train_acc += additional_train_acc\n",
        "val_acc += additional_val_acc\n",
        "\n",
        "# Epochs\n",
        "epochs = list(range(1, len(train_loss) + 1))  # total epochs = 33 + 60 = 93\n",
        "\n",
        "# Plotting\n",
        "plt.figure(figsize=(14, 6))\n",
        "\n",
        "# Loss plot\n",
        "plt.subplot(1, 2, 1)\n",
        "plt.plot(epochs, train_loss, label='Train Loss', color='blue')\n",
        "plt.plot(epochs, val_loss, label='Validation Loss', color='orange')\n",
        "plt.title('Training vs Validation Loss')\n",
        "plt.xlabel('Epoch')\n",
        "plt.ylabel('Loss')\n",
        "plt.legend()\n",
        "plt.grid(True)\n",
        "\n",
        "# Accuracy plot\n",
        "plt.subplot(1, 2, 2)\n",
        "plt.plot(epochs, train_acc, label='Train Accuracy', color='green')\n",
        "plt.plot(epochs, val_acc, label='Validation Accuracy', color='red')\n",
        "plt.title('Training vs Validation Accuracy')\n",
        "plt.xlabel('Epoch')\n",
        "plt.ylabel('Accuracy')\n",
        "plt.legend()\n",
        "plt.grid(True)\n",
        "\n",
        "plt.tight_layout()\n",
        "plt.show()"
      ]
    },
    {
      "cell_type": "code",
      "execution_count": null,
      "metadata": {
        "id": "LswWABw7gkDp"
      },
      "outputs": [],
      "source": []
    }
  ],
  "metadata": {
    "colab": {
      "provenance": []
    },
    "kernelspec": {
      "display_name": "Python 3",
      "name": "python3"
    },
    "language_info": {
      "name": "python"
    }
  },
  "nbformat": 4,
  "nbformat_minor": 0
}
