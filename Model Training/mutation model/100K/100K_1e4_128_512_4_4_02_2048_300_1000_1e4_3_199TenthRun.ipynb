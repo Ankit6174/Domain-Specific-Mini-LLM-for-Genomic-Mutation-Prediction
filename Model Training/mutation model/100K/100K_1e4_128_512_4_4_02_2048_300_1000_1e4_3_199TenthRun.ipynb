{
  "cells": [
    {
      "cell_type": "code",
      "execution_count": 1,
      "metadata": {
        "id": "pGcWf4F5JcMc"
      },
      "outputs": [],
      "source": [
        "hyperparameters = {\n",
        "    \"learning_rate\": 1e-4,\n",
        "    \"batch_size\": 128,\n",
        "    \"embed_dim\": 512,\n",
        "    \"num_heads\": 4,\n",
        "    \"num_layers\": 4,\n",
        "    \"dropout\": 0.3,\n",
        "    \"ff_dim\": 2048,\n",
        "    \"epochs\": 300,\n",
        "    \"num_warmup_steps\": 1000,\n",
        "    \"weight_decay\": 1e-4,\n",
        "    \"k-mers\": 3,\n",
        "    \"max_len\": 199\n",
        "}\n",
        "\n",
        "info = {\n",
        "    \"dataset_size\": \"100K\",\n",
        "    \"precision\": \"FP16\",\n",
        "    \"dir_name\": \"Mutation Model\",\n",
        "    \"run\": \"Tenth Run\",\n",
        "    \"loss\": {\n",
        "        \"type\": \"Weighted Cross Entropy\",\n",
        "        \"alpha\": 0.75, # Removed\n",
        "        \"gamma\": 2\n",
        "    },\n",
        "    \"optimizer\": \"Adam\",\n",
        "    \"is_pre_training\": False\n",
        "}"
      ]
    },
    {
      "cell_type": "code",
      "source": [
        "from google.colab import drive\n",
        "drive.mount('/content/drive')"
      ],
      "metadata": {
        "colab": {
          "base_uri": "https://localhost:8080/"
        },
        "id": "39nTODPl6tqB",
        "outputId": "d5d14a2b-d1e3-4cfc-e231-5f7c71cf8e3f"
      },
      "execution_count": 2,
      "outputs": [
        {
          "output_type": "stream",
          "name": "stdout",
          "text": [
            "Mounted at /content/drive\n"
          ]
        }
      ]
    },
    {
      "cell_type": "code",
      "execution_count": 3,
      "metadata": {
        "colab": {
          "base_uri": "https://localhost:8080/"
        },
        "id": "V1v98WHCJoDO",
        "outputId": "140244f6-380c-41b0-fdcf-0d581a39648c"
      },
      "outputs": [
        {
          "output_type": "execute_result",
          "data": {
            "text/plain": [
              "(100000, 10)"
            ]
          },
          "metadata": {},
          "execution_count": 3
        }
      ],
      "source": [
        "import pandas as pd\n",
        "\n",
        "data_path = f\"/content/drive/MyDrive/dataset/{info['dataset_size']}.csv\"\n",
        "\n",
        "data = pd.read_csv(data_path)\n",
        "data.shape"
      ]
    },
    {
      "cell_type": "code",
      "execution_count": 4,
      "metadata": {
        "id": "wR3jf-oAJ2PE"
      },
      "outputs": [],
      "source": [
        "x = data['sequence']\n",
        "y = data['label']"
      ]
    },
    {
      "cell_type": "code",
      "execution_count": 5,
      "metadata": {
        "id": "j-XikXuLJ2M1"
      },
      "outputs": [],
      "source": [
        "def get_codon(seq, k=hyperparameters['k-mers']):\n",
        "    return [seq[i:i+k] for i in range(len(seq) - k + 1)]\n",
        "\n",
        "vocab = {}\n",
        "\n",
        "for seq in data['sequence']:\n",
        "    for codons in get_codon(seq.lower()):\n",
        "        if codons not in vocab:\n",
        "            vocab[codons] = len(vocab)\n",
        "        else:\n",
        "            continue\n",
        "\n",
        "def get_tensor(text):\n",
        "    return [vocab[codons.lower()] for codons in get_codon(text)]"
      ]
    },
    {
      "cell_type": "code",
      "execution_count": 6,
      "metadata": {
        "id": "3dzO0_F0J2Kw"
      },
      "outputs": [],
      "source": [
        "import torch\n",
        "from torch import nn, optim\n",
        "from torch.utils.data import Dataset, DataLoader, random_split\n",
        "\n",
        "class CustomDataset(Dataset):\n",
        "  def __init__(self, x, y):\n",
        "    self.x_frame = x\n",
        "    self.y_frame = y\n",
        "\n",
        "  def __len__(self):\n",
        "    return len(self.x_frame)\n",
        "\n",
        "  def __getitem__(self, index):\n",
        "    x = torch.tensor(get_tensor(self.x_frame[index]), dtype=torch.long)\n",
        "    y = torch.tensor(self.y_frame[index], dtype=torch.long)\n",
        "    return x, y"
      ]
    },
    {
      "cell_type": "code",
      "execution_count": 7,
      "metadata": {
        "id": "YxR8TknxJ2Io"
      },
      "outputs": [],
      "source": [
        "dataset = CustomDataset(x, y)"
      ]
    },
    {
      "cell_type": "code",
      "execution_count": 8,
      "metadata": {
        "id": "QF1Z099wJ2Gb"
      },
      "outputs": [],
      "source": [
        "train_size = int(0.8 * len(dataset))\n",
        "test_size = len(dataset) - train_size\n",
        "\n",
        "train_dataset, test_dataset = random_split(dataset, [train_size, test_size])"
      ]
    },
    {
      "cell_type": "code",
      "source": [
        "train_labels = [y for x, y in train_dataset]\n",
        "class_counts = torch.bincount(torch.tensor(train_labels))\n",
        "class_weights = 1. / class_counts.float()\n",
        "sample_weights = torch.tensor([class_weights[t] for t in train_labels])\n",
        "\n",
        "sampler = torch.utils.data.WeightedRandomSampler(\n",
        "    weights=sample_weights,\n",
        "    num_samples=len(sample_weights),\n",
        "    replacement=True\n",
        ")\n",
        "\n",
        "train_loader = DataLoader(\n",
        "    train_dataset,\n",
        "    batch_size=hyperparameters['batch_size'],\n",
        "    sampler=sampler\n",
        ")\n",
        "\n",
        "test_loader = DataLoader(test_dataset, batch_size=hyperparameters['batch_size'])"
      ],
      "metadata": {
        "id": "2qHxLrY8aZEY"
      },
      "execution_count": 9,
      "outputs": []
    },
    {
      "cell_type": "code",
      "execution_count": 10,
      "metadata": {
        "id": "MJTZAUbQJ2Ca"
      },
      "outputs": [],
      "source": [
        "import math\n",
        "\n",
        "class PositionalEncoding(nn.Module):\n",
        "    def __init__(self, embed_dim, max_len=5000):\n",
        "        super().__init__()\n",
        "\n",
        "        pe = torch.zeros(max_len, embed_dim)\n",
        "        position = torch.arange(0, max_len).unsqueeze(1)\n",
        "\n",
        "        div_term = torch.exp((torch.arange(0, embed_dim, 2)) * (-math.log(10000.0) / embed_dim))\n",
        "\n",
        "        pe[:, 0::2] = torch.sin(position * div_term)\n",
        "        pe[:, 1::2] = torch.cos(position * div_term)\n",
        "\n",
        "        pe = pe.unsqueeze(0)\n",
        "        self.register_buffer('pe', pe)\n",
        "\n",
        "    def forward(self, x):\n",
        "        x = x + self.pe[:, :x.size(1), :].to(x.device)\n",
        "        return x\n",
        "\n",
        "class Transformer(nn.Module):\n",
        "    def __init__(self, embed_dim=512, num_heads=8, num_layers=6, ff_dim=2048, dropout=0.1, vocab_size=10000, max_len=5000):\n",
        "        super(Transformer, self).__init__()\n",
        "        self.embeddings = nn.Embedding(vocab_size, embed_dim)\n",
        "        self.position_encoding = PositionalEncoding(embed_dim=embed_dim, max_len=max_len)\n",
        "\n",
        "        encoder_layer = nn.TransformerEncoderLayer(\n",
        "            d_model=embed_dim,\n",
        "            nhead=num_heads,\n",
        "            dim_feedforward=ff_dim,\n",
        "            dropout=dropout,\n",
        "            batch_first=True\n",
        "        )\n",
        "        self.encoder = nn.TransformerEncoder(\n",
        "            encoder_layer=encoder_layer,\n",
        "            num_layers=num_layers\n",
        "        )\n",
        "\n",
        "        self.y_labels_out = nn.Linear(embed_dim, 5)\n",
        "\n",
        "    def forward(self, x):\n",
        "        x = self.embeddings(x)\n",
        "        x = self.position_encoding(x)\n",
        "\n",
        "        x = self.encoder(x)\n",
        "        x = x.mean(dim=1)\n",
        "\n",
        "        y_label_out = self.y_labels_out(x)\n",
        "        return y_label_out"
      ]
    },
    {
      "cell_type": "code",
      "execution_count": 11,
      "metadata": {
        "id": "3y4bHJVbJ2AQ"
      },
      "outputs": [],
      "source": [
        "model = Transformer(\n",
        "    embed_dim=hyperparameters['embed_dim'],\n",
        "    num_heads=hyperparameters['num_heads'],\n",
        "    num_layers=hyperparameters['num_layers'],\n",
        "    ff_dim=hyperparameters['ff_dim'],\n",
        "    dropout=hyperparameters['dropout'],\n",
        "    vocab_size=len(vocab),\n",
        "    max_len=hyperparameters['max_len']\n",
        ")"
      ]
    },
    {
      "cell_type": "code",
      "source": [
        "if info['is_pre_training']:\n",
        "    checkpoint = torch.load(f\"{info['dir_name']}/{info['run']}/checkpoint.pth\")\n",
        "\n",
        "    model.load_state_dict(checkpoint['model_state_dict'])"
      ],
      "metadata": {
        "id": "cTSxhHX13esJ"
      },
      "execution_count": 12,
      "outputs": []
    },
    {
      "cell_type": "code",
      "execution_count": 13,
      "metadata": {
        "colab": {
          "base_uri": "https://localhost:8080/"
        },
        "id": "q00nuF8HJ1-H",
        "outputId": "c61bea46-3b33-4239-d6a6-9dfdbeee1bd3"
      },
      "outputs": [
        {
          "output_type": "execute_result",
          "data": {
            "text/plain": [
              "Transformer(\n",
              "  (embeddings): Embedding(64, 512)\n",
              "  (position_encoding): PositionalEncoding()\n",
              "  (encoder): TransformerEncoder(\n",
              "    (layers): ModuleList(\n",
              "      (0-3): 4 x TransformerEncoderLayer(\n",
              "        (self_attn): MultiheadAttention(\n",
              "          (out_proj): NonDynamicallyQuantizableLinear(in_features=512, out_features=512, bias=True)\n",
              "        )\n",
              "        (linear1): Linear(in_features=512, out_features=2048, bias=True)\n",
              "        (dropout): Dropout(p=0.3, inplace=False)\n",
              "        (linear2): Linear(in_features=2048, out_features=512, bias=True)\n",
              "        (norm1): LayerNorm((512,), eps=1e-05, elementwise_affine=True)\n",
              "        (norm2): LayerNorm((512,), eps=1e-05, elementwise_affine=True)\n",
              "        (dropout1): Dropout(p=0.3, inplace=False)\n",
              "        (dropout2): Dropout(p=0.3, inplace=False)\n",
              "      )\n",
              "    )\n",
              "  )\n",
              "  (y_labels_out): Linear(in_features=512, out_features=5, bias=True)\n",
              ")"
            ]
          },
          "metadata": {},
          "execution_count": 13
        }
      ],
      "source": [
        "device = torch.device(\"cuda\" if torch.cuda.is_available() else \"cpu\")\n",
        "model.to(device)"
      ]
    },
    {
      "cell_type": "code",
      "execution_count": 14,
      "metadata": {
        "colab": {
          "base_uri": "https://localhost:8080/"
        },
        "id": "V2Qa9JHAKI1-",
        "outputId": "a038a254-4440-464e-fab9-ab2a8a9c6e4f"
      },
      "outputs": [
        {
          "output_type": "execute_result",
          "data": {
            "text/plain": [
              "device(type='cuda')"
            ]
          },
          "metadata": {},
          "execution_count": 14
        }
      ],
      "source": [
        "device"
      ]
    },
    {
      "cell_type": "code",
      "execution_count": 15,
      "metadata": {
        "colab": {
          "base_uri": "https://localhost:8080/"
        },
        "id": "5_4lFoaqKIz4",
        "outputId": "181250a3-616f-4e46-8d86-39713f053b01"
      },
      "outputs": [
        {
          "output_type": "stream",
          "name": "stdout",
          "text": [
            "Total trainable parameters: 12644869\n"
          ]
        }
      ],
      "source": [
        "num_params = sum(p.numel() for p in model.parameters() if p.requires_grad)\n",
        "print(f\"Total trainable parameters: {num_params}\")"
      ]
    },
    {
      "cell_type": "code",
      "source": [
        "class_counts = data['label'].value_counts().sort_index().values\n",
        "weights = 1. / torch.tensor(class_counts, dtype=torch.float)\n",
        "weights = weights / weights.sum()\n",
        "weights = weights.to(device)"
      ],
      "metadata": {
        "id": "5sbfrdGotz2k"
      },
      "execution_count": 16,
      "outputs": []
    },
    {
      "cell_type": "code",
      "source": [
        "weights"
      ],
      "metadata": {
        "colab": {
          "base_uri": "https://localhost:8080/"
        },
        "id": "eRnmKs5Nt1cy",
        "outputId": "e5947efd-bb0a-4c54-dfaf-98467a4f7e7b"
      },
      "execution_count": 17,
      "outputs": [
        {
          "output_type": "execute_result",
          "data": {
            "text/plain": [
              "tensor([0.1519, 0.0284, 0.0156, 0.4316, 0.3725], device='cuda:0')"
            ]
          },
          "metadata": {},
          "execution_count": 17
        }
      ]
    },
    {
      "cell_type": "code",
      "source": [
        "from transformers import get_linear_schedule_with_warmup\n",
        "\n",
        "ce = nn.CrossEntropyLoss(weight=weights)\n",
        "optimizer = torch.optim.Adam(model.parameters(), lr=hyperparameters['learning_rate'], weight_decay=hyperparameters[\"weight_decay\"])\n",
        "scaler = torch.cuda.amp.GradScaler()\n",
        "\n",
        "if info['is_pre_training']:\n",
        "  optimizer.load_state_dict(checkpoint['optimizer_state_dict'])\n",
        "  print(\"Optimizer loaded\")\n",
        "\n",
        "num_training_steps = len(train_loader) * hyperparameters['epochs']\n",
        "num_warmup_steps = hyperparameters[\"num_warmup_steps\"]\n",
        "\n",
        "scheduler = get_linear_schedule_with_warmup(\n",
        "    optimizer,\n",
        "    num_warmup_steps=num_warmup_steps,\n",
        "    num_training_steps=num_training_steps\n",
        ")"
      ],
      "metadata": {
        "colab": {
          "base_uri": "https://localhost:8080/"
        },
        "id": "CzD3mebp3HZh",
        "outputId": "3e7d1533-d89c-4438-bf18-1ec64d18f342"
      },
      "execution_count": 18,
      "outputs": [
        {
          "output_type": "stream",
          "name": "stderr",
          "text": [
            "/tmp/ipython-input-198311343.py:5: FutureWarning: `torch.cuda.amp.GradScaler(args...)` is deprecated. Please use `torch.amp.GradScaler('cuda', args...)` instead.\n",
            "  scaler = torch.cuda.amp.GradScaler()\n"
          ]
        }
      ]
    },
    {
      "cell_type": "code",
      "execution_count": 19,
      "metadata": {
        "id": "3YrLO_deKIvu"
      },
      "outputs": [],
      "source": [
        "def train32(model, loader, ce, optimizer):\n",
        "    model.train()\n",
        "\n",
        "    running_loss, correct, total = 0.0, 0, 0\n",
        "\n",
        "    for x, y in loader:\n",
        "        optimizer.zero_grad()\n",
        "\n",
        "        x = x.to(device)\n",
        "        y = y.to(device)\n",
        "\n",
        "        output = model(x)\n",
        "        loss = ce(output, y)\n",
        "\n",
        "        prediction = torch.argmax(output, dim=1)\n",
        "        correct += (prediction == y).sum().item()\n",
        "        total += len(x)\n",
        "\n",
        "        loss.backward()\n",
        "\n",
        "        optimizer.step()\n",
        "\n",
        "        running_loss += loss.item() * len(x)\n",
        "\n",
        "    accuracy = correct / total\n",
        "\n",
        "    return (\n",
        "        running_loss / len(loader.dataset),\n",
        "        accuracy\n",
        "    )\n",
        "\n",
        "def train16(model, loader, ce, optimizer, scaler, scheduler):\n",
        "    model.train()\n",
        "    running_loss, correct, total = 0.0, 0, 0\n",
        "\n",
        "    for x, y in loader:\n",
        "        optimizer.zero_grad()\n",
        "        x = x.to(device)\n",
        "        y = y.to(device)\n",
        "\n",
        "        with torch.cuda.amp.autocast(dtype=torch.float16):\n",
        "            output = model(x)\n",
        "            loss = ce(output, y)\n",
        "\n",
        "        prediction = torch.argmax(output, dim=1)\n",
        "        correct += (prediction == y).sum().item()\n",
        "        total += len(x)\n",
        "\n",
        "        scaler.scale(loss).backward()\n",
        "        scaler.step(optimizer)\n",
        "        scaler.update()\n",
        "\n",
        "        scheduler.step()\n",
        "\n",
        "        running_loss += loss.item() * len(x)\n",
        "\n",
        "    accuracy = correct / total\n",
        "    return (\n",
        "        running_loss / len(loader.dataset),\n",
        "        accuracy\n",
        "    )"
      ]
    },
    {
      "cell_type": "code",
      "execution_count": 20,
      "metadata": {
        "id": "hK6At-_VKItX"
      },
      "outputs": [],
      "source": [
        "def validation(model, loader, ce):\n",
        "    model.eval()\n",
        "\n",
        "    running_loss, correct, total = 0.0, 0, 0\n",
        "\n",
        "    with torch.no_grad():\n",
        "        for x, y in loader:\n",
        "            x = x.to(device)\n",
        "            y = y.to(device)\n",
        "\n",
        "            if info['precision'] == 'FP16':\n",
        "              with torch.cuda.amp.autocast(dtype=torch.float16):\n",
        "                  output = model(x)\n",
        "                  loss = ce(output, y)\n",
        "            else:\n",
        "              output = model(x)\n",
        "              loss = ce(output, y)\n",
        "\n",
        "            running_loss += loss.item() * len(x)\n",
        "\n",
        "            prediction = torch.argmax(output, dim=1)\n",
        "            correct += (prediction == y).sum().item()\n",
        "\n",
        "            total += len(x)\n",
        "\n",
        "    accuracy = correct / total\n",
        "\n",
        "    return (\n",
        "        running_loss / len(loader.dataset),\n",
        "        accuracy\n",
        "    )"
      ]
    },
    {
      "cell_type": "code",
      "execution_count": 21,
      "metadata": {
        "colab": {
          "base_uri": "https://localhost:8080/"
        },
        "id": "2mL_srk1KQNu",
        "outputId": "29745325-2ca5-452a-ca53-216b055d9b10"
      },
      "outputs": [
        {
          "output_type": "stream",
          "name": "stderr",
          "text": [
            "/tmp/ipython-input-2163399810.py:41: FutureWarning: `torch.cuda.amp.autocast(args...)` is deprecated. Please use `torch.amp.autocast('cuda', args...)` instead.\n",
            "  with torch.cuda.amp.autocast(dtype=torch.float16):\n",
            "/tmp/ipython-input-260272857.py:12: FutureWarning: `torch.cuda.amp.autocast(args...)` is deprecated. Please use `torch.amp.autocast('cuda', args...)` instead.\n",
            "  with torch.cuda.amp.autocast(dtype=torch.float16):\n"
          ]
        },
        {
          "output_type": "stream",
          "name": "stdout",
          "text": [
            "Epoch (1/300): Train Loss = 1.1982, Valitation Loss = 2.4249, Train_acc = 0.2059, Val_acc = 0.0252\n",
            "Epoch (2/300): Train Loss = 1.1068, Valitation Loss = 2.2356, Train_acc = 0.2738, Val_acc = 0.0419\n",
            "Epoch (3/300): Train Loss = 0.9952, Valitation Loss = 2.1840, Train_acc = 0.3379, Val_acc = 0.0503\n",
            "Epoch (4/300): Train Loss = 0.8206, Valitation Loss = 2.4591, Train_acc = 0.3987, Val_acc = 0.0440\n",
            "No improvement in val loss Counter = 1/10\n",
            "Epoch (5/300): Train Loss = 0.6295, Valitation Loss = 2.7239, Train_acc = 0.4525, Val_acc = 0.0531\n",
            "No improvement in val loss Counter = 2/10\n",
            "Epoch (6/300): Train Loss = 0.4902, Valitation Loss = 2.9081, Train_acc = 0.4953, Val_acc = 0.0547\n",
            "No improvement in val loss Counter = 3/10\n",
            "Epoch (7/300): Train Loss = 0.4176, Valitation Loss = 3.0416, Train_acc = 0.5149, Val_acc = 0.0551\n",
            "No improvement in val loss Counter = 4/10\n",
            "Epoch (8/300): Train Loss = 0.3610, Valitation Loss = 3.2253, Train_acc = 0.5369, Val_acc = 0.0544\n",
            "No improvement in val loss Counter = 5/10\n",
            "Epoch (9/300): Train Loss = 0.3156, Valitation Loss = 3.1218, Train_acc = 0.5517, Val_acc = 0.0568\n",
            "No improvement in val loss Counter = 6/10\n",
            "Epoch (10/300): Train Loss = 0.2925, Valitation Loss = 3.3670, Train_acc = 0.5562, Val_acc = 0.0587\n",
            "Model saved at /content/drive/MyDrive/Mutation Model/modelTenth Run_epoch_10.pth\n",
            "No improvement in val loss Counter = 7/10\n",
            "Epoch (11/300): Train Loss = 0.2715, Valitation Loss = 3.3538, Train_acc = 0.5657, Val_acc = 0.0549\n",
            "No improvement in val loss Counter = 8/10\n",
            "Epoch (12/300): Train Loss = 0.2476, Valitation Loss = 3.4864, Train_acc = 0.5746, Val_acc = 0.0587\n",
            "No improvement in val loss Counter = 9/10\n",
            "Epoch (13/300): Train Loss = 0.2381, Valitation Loss = 3.4315, Train_acc = 0.5767, Val_acc = 0.0617\n",
            "No improvement in val loss Counter = 10/10\n",
            "Early stopping triggered!\n"
          ]
        }
      ],
      "source": [
        "import os\n",
        "\n",
        "patience = 10\n",
        "best_val_loss = float('inf')\n",
        "counter = 0\n",
        "early_stop = False\n",
        "\n",
        "train_loss_history = []\n",
        "train_acc_history = []\n",
        "\n",
        "val_loss_history = []\n",
        "val_acc_history = []\n",
        "\n",
        "save_dir = f\"/content/drive/MyDrive/{info['dir_name']}\"\n",
        "os.makedirs(save_dir, exist_ok=True)\n",
        "\n",
        "for epoch in range(1, hyperparameters['epochs']+1):\n",
        "    if info['precision'] == 'FP16':\n",
        "      current_train_loss, current_train_acc = train16(\n",
        "            model,\n",
        "            train_loader,\n",
        "            ce,\n",
        "            optimizer,\n",
        "            scaler,\n",
        "            scheduler\n",
        "        )\n",
        "    else:\n",
        "      current_train_loss, current_train_acc = train32(\n",
        "          model,\n",
        "          train_loader,\n",
        "          ce,\n",
        "          optimizer\n",
        "      )\n",
        "\n",
        "    current_val_loss, current_val_acc = validation(\n",
        "        model,\n",
        "        test_loader,\n",
        "        ce\n",
        "    )\n",
        "\n",
        "    train_loss_history.append(current_train_loss)\n",
        "    train_acc_history.append(current_train_acc)\n",
        "\n",
        "    val_loss_history.append(current_val_loss)\n",
        "    val_acc_history.append(current_val_acc)\n",
        "\n",
        "    print(f\"Epoch ({epoch}/{hyperparameters['epochs']}): Train Loss = {current_train_loss:.4f}, Valitation Loss = {current_val_loss:.4f}, Train_acc = {current_train_acc:.4f}, Val_acc = {current_val_acc:.4f}\")\n",
        "\n",
        "    if epoch % 10 == 0:\n",
        "      checkpoint_path = f\"{save_dir}/model{info['run']}_epoch_{epoch}.pth\"\n",
        "      torch.save({\n",
        "          'epoch': epoch,\n",
        "          'model_state_dict': model.state_dict(),\n",
        "          'optimizer_state_dict': optimizer.state_dict(),\n",
        "          'train_losses': train_loss_history,\n",
        "          'val_losses': val_loss_history,\n",
        "          'train_acc': train_acc_history,\n",
        "          'val_acc': val_acc_history\n",
        "      }, checkpoint_path)\n",
        "      print(f\"Model saved at {checkpoint_path}\")\n",
        "\n",
        "    if current_val_loss < best_val_loss:\n",
        "        best_val_loss = current_val_loss\n",
        "        counter = 0\n",
        "        continue\n",
        "    else:\n",
        "        counter += 1\n",
        "        print(f\"No improvement in val loss Counter = {counter}/{patience}\")\n",
        "        if counter >= patience:\n",
        "            print(\"Early stopping triggered!\")\n",
        "            early_stop = True\n",
        "            break"
      ]
    },
    {
      "cell_type": "code",
      "source": [
        "def get_predictions_and_labels(model, loader):\n",
        "    model.eval()\n",
        "    all_y_true = []\n",
        "    all_y_pred = []\n",
        "\n",
        "    with torch.no_grad():\n",
        "        for x, y in loader:\n",
        "            x = x.to(device)\n",
        "            y = y.to(device)\n",
        "\n",
        "            yout = model(x)\n",
        "\n",
        "            _, pred_mut = torch.max(yout, 1)\n",
        "\n",
        "            all_y_true.extend(y.cpu().numpy())\n",
        "            all_y_pred.extend(pred_mut.cpu().numpy())\n",
        "\n",
        "    return (\n",
        "        (all_y_true, all_y_pred)\n",
        "    )"
      ],
      "metadata": {
        "id": "fchAhqxA5bKy"
      },
      "execution_count": 22,
      "outputs": []
    },
    {
      "cell_type": "code",
      "source": [
        "from sklearn.metrics import classification_report\n",
        "\n",
        "(y_true, y_pred) = get_predictions_and_labels(model, test_loader)\n",
        "\n",
        "print(\"\\n\" + \"=\"*60)\n",
        "print(\"Classification Report Summary\")\n",
        "print(\"=\"*60)\n",
        "\n",
        "print(\"\\n[1] Classification Report — Mutation Label\")\n",
        "print(\"-\" * 60)\n",
        "print(classification_report(y_true, y_pred))\n",
        "\n",
        "print(\"=\"*60 + \"\\n\")\n"
      ],
      "metadata": {
        "colab": {
          "base_uri": "https://localhost:8080/"
        },
        "id": "-Ild1bHo5XY4",
        "outputId": "dc8c1c61-3003-4590-df8a-f7d751e52cdd"
      },
      "execution_count": 23,
      "outputs": [
        {
          "output_type": "stream",
          "name": "stdout",
          "text": [
            "\n",
            "============================================================\n",
            "Classification Report Summary\n",
            "============================================================\n",
            "\n",
            "[1] Classification Report — Mutation Label\n",
            "------------------------------------------------------------\n",
            "              precision    recall  f1-score   support\n",
            "\n",
            "           0       0.07      0.68      0.12      1174\n",
            "           1       0.29      0.01      0.01      6294\n",
            "           2       0.74      0.00      0.01     11594\n",
            "           3       0.05      0.35      0.08       444\n",
            "           4       0.04      0.41      0.08       494\n",
            "\n",
            "    accuracy                           0.06     20000\n",
            "   macro avg       0.24      0.29      0.06     20000\n",
            "weighted avg       0.52      0.06      0.02     20000\n",
            "\n",
            "============================================================\n",
            "\n"
          ]
        }
      ]
    },
    {
      "cell_type": "code",
      "source": [
        "from sklearn.metrics import confusion_matrix, ConfusionMatrixDisplay\n",
        "\n",
        "cm = confusion_matrix(y_true, y_pred)\n",
        "disp = ConfusionMatrixDisplay(confusion_matrix=cm)\n",
        "disp.plot(xticks_rotation=45)"
      ],
      "metadata": {
        "colab": {
          "base_uri": "https://localhost:8080/",
          "height": 470
        },
        "id": "HZh0OCyv5RrR",
        "outputId": "e3c3dea7-5866-4986-cdb1-ff9465f35c0e"
      },
      "execution_count": 24,
      "outputs": [
        {
          "output_type": "execute_result",
          "data": {
            "text/plain": [
              "<sklearn.metrics._plot.confusion_matrix.ConfusionMatrixDisplay at 0x7e2d856f6f60>"
            ]
          },
          "metadata": {},
          "execution_count": 24
        },
        {
          "output_type": "display_data",
          "data": {
            "text/plain": [
              "<Figure size 640x480 with 2 Axes>"
            ],
            "image/png": "[encoded data removed]"
          },
          "metadata": {}
        }
      ]
    },
    {
      "cell_type": "code",
      "execution_count": 25,
      "metadata": {
        "colab": {
          "base_uri": "https://localhost:8080/",
          "height": 957
        },
        "id": "uiqFXZj3KsP6",
        "outputId": "be31e542-b213-4fdd-fa8c-7a557cba6b2a"
      },
      "outputs": [
        {
          "output_type": "display_data",
          "data": {
            "text/plain": [
              "<Figure size 1000x500 with 1 Axes>"
            ],
            "image/png": "[encoded data removed]"
          },
          "metadata": {}
        },
        {
          "output_type": "display_data",
          "data": {
            "text/plain": [
              "<Figure size 1000x500 with 1 Axes>"
            ],
            "image/png": "[encoded data removed]"
          },
          "metadata": {}
        }
      ],
      "source": [
        "import matplotlib.pyplot as plt\n",
        "\n",
        "plt.figure(figsize=(10, 5))\n",
        "plt.plot(train_loss_history, label='Train Loss', marker='o')\n",
        "plt.plot(val_loss_history, label='Validation Loss', marker='o')\n",
        "plt.title('Training vs Validation Loss')\n",
        "plt.xlabel('Epoch')\n",
        "plt.ylabel('Loss')\n",
        "plt.legend()\n",
        "plt.grid(True)\n",
        "plt.show()\n",
        "\n",
        "plt.figure(figsize=(10, 5))\n",
        "plt.plot(train_acc_history, label='Train Accuracy', marker='o')\n",
        "plt.plot(val_acc_history, label='Validation Accuracy', marker='o')\n",
        "plt.title('Training vs Validation Accuracy')\n",
        "plt.xlabel('Epoch')\n",
        "plt.ylabel('Accuracy')\n",
        "plt.legend()\n",
        "plt.grid(True)\n",
        "plt.show()"
      ]
    },
    {
      "cell_type": "code",
      "source": [],
      "metadata": {
        "id": "E7zwemA67uJQ"
      },
      "execution_count": 27,
      "outputs": []
    }
  ],
  "metadata": {
    "colab": {
      "provenance": [],
      "machine_shape": "hm",
      "gpuType": "L4"
    },
    "kernelspec": {
      "display_name": "Python 3",
      "name": "python3"
    },
    "language_info": {
      "codemirror_mode": {
        "name": "ipython",
        "version": 3
      },
      "file_extension": ".py",
      "mimetype": "text/x-python",
      "name": "python",
      "nbconvert_exporter": "python",
      "pygments_lexer": "ipython3",
      "version": "3.10.0"
    },
    "accelerator": "GPU"
  },
  "nbformat": 4,
  "nbformat_minor": 0
}