{
  "cells": [
    {
      "cell_type": "code",
      "execution_count": 1,
      "id": "8af1d9b3",
      "metadata": {
        "id": "8af1d9b3"
      },
      "outputs": [],
      "source": [
        "hyperparameters = {\n",
        "    \"learning_rate\": 1e-4,\n",
        "    \"batch_size\": 64,\n",
        "    \"embed_dim\": 128,\n",
        "    \"num_heads\": 4,\n",
        "    \"num_layers\": 2,\n",
        "    \"dropout\": 0.1,\n",
        "    \"ff_dim\": 1024,\n",
        "    \"epochs\": 10,\n",
        "    \"weight_decay\": 1e-4,\n",
        "    \"num_warmup_steps\": 500,\n",
        "    \"k-mers\": 3,\n",
        "    \"max_len\": 201,\n",
        "}\n",
        "\n",
        "info = {\n",
        "    \"dataset_size\": \"50K\",\n",
        "    \"precision\": \"FP16\",\n",
        "    \"dir_name\": \"Mutation Type Model\",\n",
        "    \"run\": \"First Run\",\n",
        "    \"ce_mut\": \"un-weighted\"\n",
        "}"
      ]
    },
    {
      "cell_type": "code",
      "execution_count": 2,
      "id": "d250ef79",
      "metadata": {
        "colab": {
          "base_uri": "https://localhost:8080/"
        },
        "id": "d250ef79",
        "outputId": "72cb98c8-024c-42b1-da80-daf0b3e820ca"
      },
      "outputs": [
        {
          "name": "stdout",
          "output_type": "stream",
          "text": [
            "Mounted at /content/drive\n"
          ]
        }
      ],
      "source": [
        "from google.colab import drive\n",
        "drive.mount('/content/drive')"
      ]
    },
    {
      "cell_type": "code",
      "execution_count": 3,
      "id": "9f0e8f1a",
      "metadata": {
        "colab": {
          "base_uri": "https://localhost:8080/"
        },
        "id": "9f0e8f1a",
        "outputId": "d7f0767c-6885-429f-e5bb-265ad5744d7e"
      },
      "outputs": [
        {
          "data": {
            "text/plain": [
              "(50000, 10)"
            ]
          },
          "execution_count": 3,
          "metadata": {},
          "output_type": "execute_result"
        }
      ],
      "source": [
        "import pandas as pd\n",
        "\n",
        "data_path = f\"/content/drive/MyDrive/dataset/{info['dataset_size']}.csv\"\n",
        "\n",
        "data = pd.read_csv(data_path)\n",
        "data.shape"
      ]
    },
    {
      "cell_type": "code",
      "execution_count": 4,
      "id": "b507ba90",
      "metadata": {
        "id": "b507ba90"
      },
      "outputs": [],
      "source": [
        "from sklearn.preprocessing import LabelEncoder\n",
        "\n",
        "encoder = LabelEncoder()\n",
        "data['mutation_type'] = encoder.fit_transform(data['mutation_type'])"
      ]
    },
    {
      "cell_type": "code",
      "execution_count": 5,
      "id": "42fb2981",
      "metadata": {
        "id": "42fb2981"
      },
      "outputs": [],
      "source": [
        "x = data['sequence']\n",
        "y_alt = data['mutation_type']"
      ]
    },
    {
      "cell_type": "code",
      "execution_count": 6,
      "id": "U_sztW-bVaL8",
      "metadata": {
        "id": "U_sztW-bVaL8"
      },
      "outputs": [],
      "source": [
        "def get_codon(seq, k=hyperparameters['k-mers']):\n",
        "    return [seq[i:i+k] for i in range(len(seq) - k + 1)]\n",
        "\n",
        "vocab = {'A': 1, 'T': 2, 'G': 3, 'C': 4}\n",
        "\n",
        "for seq in data['sequence']:\n",
        "    for codons in get_codon(seq.lower()):\n",
        "        if codons not in vocab:\n",
        "            vocab[codons] = len(vocab)\n",
        "        else:\n",
        "            continue\n",
        "\n",
        "def get_tensor(text):\n",
        "    return [vocab[codons.lower()] for codons in get_codon(text)]"
      ]
    },
    {
      "cell_type": "code",
      "execution_count": 24,
      "id": "KknzwzgXfwAp",
      "metadata": {
        "id": "KknzwzgXfwAp"
      },
      "outputs": [],
      "source": [
        "import pickle\n",
        "\n",
        "with open('vocab.pkl', 'wb') as f:\n",
        "    pickle.dump(vocab, f)"
      ]
    },
    {
      "cell_type": "code",
      "execution_count": 7,
      "id": "X9Ydnw9UVaL9",
      "metadata": {
        "id": "X9Ydnw9UVaL9"
      },
      "outputs": [],
      "source": [
        "import torch\n",
        "from torch.utils.data import Dataset\n",
        "\n",
        "class CustomDataset(Dataset):\n",
        "  def __init__(\n",
        "      self,\n",
        "      x,\n",
        "      y_ref,\n",
        "      y_alt,\n",
        "      y_mut\n",
        "  ):\n",
        "    self.x_frame = x\n",
        "    self.y_ref = y_ref\n",
        "    self.y_alt = y_alt\n",
        "    self.y_mut_frame = y_mut\n",
        "\n",
        "  def __len__(self):\n",
        "    return len(self.x_frame)\n",
        "\n",
        "  def __getitem__(self, index):\n",
        "    origin_tensor = get_tensor(self.x_frame[index])\n",
        "    origin_tensor.append(vocab[self.y_ref[index]])\n",
        "    origin_tensor.append(vocab[self.y_alt[index]])\n",
        "\n",
        "    x = torch.tensor(origin_tensor, dtype=torch.long)\n",
        "    y_mut = torch.tensor(self.y_mut_frame[index], dtype=torch.long)\n",
        "    return x, y_mut"
      ]
    },
    {
      "cell_type": "code",
      "execution_count": 8,
      "id": "afc5a47c",
      "metadata": {
        "id": "afc5a47c"
      },
      "outputs": [],
      "source": [
        "x = data['sequence']\n",
        "yref = data['ref']\n",
        "yalt = data['alt']\n",
        "y = data['mutation_type']"
      ]
    },
    {
      "cell_type": "code",
      "execution_count": 9,
      "id": "a0afaeed",
      "metadata": {
        "id": "a0afaeed"
      },
      "outputs": [],
      "source": [
        "dataset = CustomDataset(x, yref, yalt, y)"
      ]
    },
    {
      "cell_type": "code",
      "execution_count": 10,
      "id": "5a098ec5",
      "metadata": {
        "id": "5a098ec5"
      },
      "outputs": [],
      "source": [
        "from torch.utils.data import random_split\n",
        "\n",
        "train_size = int(0.8 * len(dataset))\n",
        "test_size = len(dataset) - train_size\n",
        "\n",
        "train_dataset, test_dataset = random_split(dataset, [train_size, test_size])"
      ]
    },
    {
      "cell_type": "code",
      "execution_count": 11,
      "id": "nmxFQM9-VaMA",
      "metadata": {
        "id": "nmxFQM9-VaMA"
      },
      "outputs": [],
      "source": [
        "from torch.utils.data import DataLoader\n",
        "\n",
        "train_loader = DataLoader(\n",
        "    train_dataset,\n",
        "    batch_size=hyperparameters['batch_size'],\n",
        "    shuffle=True\n",
        ")\n",
        "test_loader = DataLoader(\n",
        "    test_dataset,\n",
        "    batch_size=hyperparameters['batch_size']\n",
        ")"
      ]
    },
    {
      "cell_type": "code",
      "execution_count": 12,
      "id": "H71X0x76VaMA",
      "metadata": {
        "id": "H71X0x76VaMA"
      },
      "outputs": [],
      "source": [
        "from torch import nn\n",
        "import math\n",
        "\n",
        "class PositionalEncoding(nn.Module):\n",
        "    def __init__(self, embed_dim, max_len=5000):\n",
        "        super().__init__()\n",
        "\n",
        "        pe = torch.zeros(max_len, embed_dim)\n",
        "        position = torch.arange(0, max_len).unsqueeze(1)\n",
        "\n",
        "        div_term = torch.exp((torch.arange(0, embed_dim, 2)) * (-math.log(10000.0) / embed_dim))\n",
        "\n",
        "        pe[:, 0::2] = torch.sin(position * div_term)\n",
        "        pe[:, 1::2] = torch.cos(position * div_term)\n",
        "\n",
        "        pe = pe.unsqueeze(0)\n",
        "        self.register_buffer('pe', pe)\n",
        "\n",
        "    def forward(self, x):\n",
        "        x = x + self.pe[:, :x.size(1), :].to(x.device)\n",
        "        return x\n",
        "\n",
        "class Transformer(nn.Module):\n",
        "    def __init__(self, embed_dim=512, num_heads=8, num_layers=6, ff_dim=2048, dropout=0.1, vocab_size=10000, max_len=5000, num_mutation_types=4):\n",
        "        super(Transformer, self).__init__()\n",
        "        self.embeddings = nn.Embedding(vocab_size, embed_dim)\n",
        "        self.position_encoding = PositionalEncoding(embed_dim=embed_dim, max_len=max_len)\n",
        "\n",
        "        encoder_layer = nn.TransformerEncoderLayer(\n",
        "            d_model=embed_dim,\n",
        "            nhead=num_heads,\n",
        "            dim_feedforward=ff_dim,\n",
        "            dropout=dropout,\n",
        "            batch_first=True\n",
        "        )\n",
        "        self.encoder = nn.TransformerEncoder(\n",
        "            encoder_layer=encoder_layer,\n",
        "            num_layers=num_layers\n",
        "        )\n",
        "\n",
        "        self.y_mut_out = nn.Linear(embed_dim, num_mutation_types)\n",
        "\n",
        "    def forward(self, x):\n",
        "        x = self.embeddings(x)\n",
        "        x = self.position_encoding(x)\n",
        "\n",
        "        x = self.encoder(x)\n",
        "        x = x.mean(dim=1)\n",
        "\n",
        "        y_mut_out = self.y_mut_out(x)\n",
        "\n",
        "        return (\n",
        "            y_mut_out\n",
        "        )"
      ]
    },
    {
      "cell_type": "code",
      "execution_count": null,
      "id": "Vpqkt-CkVaMB",
      "metadata": {
        "id": "Vpqkt-CkVaMB"
      },
      "outputs": [],
      "source": [
        "model = Transformer(\n",
        "    embed_dim=hyperparameters['embed_dim'],\n",
        "    num_heads=hyperparameters['num_heads'],\n",
        "    num_layers=hyperparameters['num_layers'],\n",
        "    ff_dim=hyperparameters['ff_dim'],\n",
        "    dropout=hyperparameters['dropout'],\n",
        "    vocab_size=len(vocab),\n",
        "    max_len=hyperparameters['max_len'],\n",
        "    num_mutation_types=len(data['mutation_type'].unique())\n",
        ")"
      ]
    },
    {
      "cell_type": "code",
      "execution_count": 14,
      "id": "WQtASicyVaMC",
      "metadata": {
        "colab": {
          "base_uri": "https://localhost:8080/"
        },
        "id": "WQtASicyVaMC",
        "outputId": "101dc2f6-2580-459e-a632-da02ed7b8791"
      },
      "outputs": [
        {
          "data": {
            "text/plain": [
              "Transformer(\n",
              "  (embeddings): Embedding(68, 128)\n",
              "  (position_encoding): PositionalEncoding()\n",
              "  (encoder): TransformerEncoder(\n",
              "    (layers): ModuleList(\n",
              "      (0-1): 2 x TransformerEncoderLayer(\n",
              "        (self_attn): MultiheadAttention(\n",
              "          (out_proj): NonDynamicallyQuantizableLinear(in_features=128, out_features=128, bias=True)\n",
              "        )\n",
              "        (linear1): Linear(in_features=128, out_features=1024, bias=True)\n",
              "        (dropout): Dropout(p=0.1, inplace=False)\n",
              "        (linear2): Linear(in_features=1024, out_features=128, bias=True)\n",
              "        (norm1): LayerNorm((128,), eps=1e-05, elementwise_affine=True)\n",
              "        (norm2): LayerNorm((128,), eps=1e-05, elementwise_affine=True)\n",
              "        (dropout1): Dropout(p=0.1, inplace=False)\n",
              "        (dropout2): Dropout(p=0.1, inplace=False)\n",
              "      )\n",
              "    )\n",
              "  )\n",
              "  (y_mut_out): Linear(in_features=128, out_features=12, bias=True)\n",
              ")"
            ]
          },
          "execution_count": 14,
          "metadata": {},
          "output_type": "execute_result"
        }
      ],
      "source": [
        "device = torch.device(\"cuda\" if torch.cuda.is_available() else \"cpu\")\n",
        "model.to(device)"
      ]
    },
    {
      "cell_type": "code",
      "execution_count": 15,
      "id": "07b44992",
      "metadata": {
        "colab": {
          "base_uri": "https://localhost:8080/"
        },
        "id": "07b44992",
        "outputId": "805bb05d-685c-45a4-8067-037f01fbd81a"
      },
      "outputs": [
        {
          "name": "stdout",
          "output_type": "stream",
          "text": [
            "Total trainable parameters: 669964\n"
          ]
        }
      ],
      "source": [
        "num_params = sum(p.numel() for p in model.parameters() if p.requires_grad)\n",
        "print(f\"Total trainable parameters: {num_params}\")"
      ]
    },
    {
      "cell_type": "code",
      "execution_count": 16,
      "id": "-28tgakOVaMD",
      "metadata": {
        "colab": {
          "base_uri": "https://localhost:8080/"
        },
        "id": "-28tgakOVaMD",
        "outputId": "a9244ebb-aa86-443c-e6f3-8b6b7e183559"
      },
      "outputs": [
        {
          "name": "stderr",
          "output_type": "stream",
          "text": [
            "/tmp/ipython-input-2174010166.py:7: FutureWarning: `torch.cuda.amp.GradScaler(args...)` is deprecated. Please use `torch.amp.GradScaler('cuda', args...)` instead.\n",
            "  scaler = torch.cuda.amp.GradScaler()\n"
          ]
        }
      ],
      "source": [
        "from torch import optim\n",
        "from transformers import get_linear_schedule_with_warmup\n",
        "\n",
        "ce_mut = nn.CrossEntropyLoss()\n",
        "\n",
        "optimizer = optim.Adam(model.parameters(), lr=hyperparameters['learning_rate'], weight_decay=hyperparameters['weight_decay'])\n",
        "scaler = torch.cuda.amp.GradScaler()\n",
        "\n",
        "num_training_steps = len(train_loader) * hyperparameters['epochs']\n",
        "num_warmup_steps = hyperparameters['num_warmup_steps']\n",
        "\n",
        "scheduler = get_linear_schedule_with_warmup(\n",
        "    optimizer,\n",
        "    num_warmup_steps=num_warmup_steps,\n",
        "    num_training_steps=num_training_steps\n",
        ")"
      ]
    },
    {
      "cell_type": "code",
      "execution_count": 17,
      "id": "J-njlvGcVaMD",
      "metadata": {
        "id": "J-njlvGcVaMD"
      },
      "outputs": [],
      "source": [
        "def train32(\n",
        "    model,\n",
        "    loader,\n",
        "    ce_mut,\n",
        "    optimizer\n",
        "):\n",
        "\n",
        "    model.train()\n",
        "\n",
        "    running_loss, correct_mut, total = 0.0, 0, 0\n",
        "\n",
        "    for x, y_mut in loader:\n",
        "        optimizer.zero_grad()\n",
        "\n",
        "        x = x.to(device)\n",
        "        y_mut = y_mut.to(device)\n",
        "\n",
        "        y_mut_out = model(x)\n",
        "\n",
        "        loss = ce_mut(y_mut_out, y_mut)\n",
        "\n",
        "        pred_mut = torch.argmax(y_mut_out, dim=1)\n",
        "        correct_mut += (pred_mut == y_mut).sum().item()\n",
        "\n",
        "        total += len(x)\n",
        "\n",
        "        loss.backward()\n",
        "        optimizer.step()\n",
        "\n",
        "        running_loss += loss.item() * len(x)\n",
        "\n",
        "    accuracy_mut = correct_mut / total\n",
        "\n",
        "    return (\n",
        "        running_loss/len(loader.dataset),\n",
        "        accuracy_mut\n",
        "    )\n",
        "\n",
        "def train16(\n",
        "        model,\n",
        "        loader,\n",
        "        ce_mut,\n",
        "        optimizer,\n",
        "        scaler,\n",
        "        scheduler\n",
        "    ):\n",
        "\n",
        "    model.train()\n",
        "\n",
        "    running_loss, correct_mut, total = 0.0, 0, 0\n",
        "\n",
        "    for x, y_mut in loader:\n",
        "        optimizer.zero_grad()\n",
        "\n",
        "        x = x.to(device)\n",
        "        y_mut = y_mut.to(device)\n",
        "\n",
        "        with torch.cuda.amp.autocast():\n",
        "            y_mut_out = model(x)\n",
        "\n",
        "            loss = ce_mut(y_mut_out, y_mut)\n",
        "\n",
        "        pred_mut = torch.argmax(y_mut_out, dim=1)\n",
        "        correct_mut += (pred_mut == y_mut).sum().item()\n",
        "\n",
        "        total += len(x)\n",
        "\n",
        "        scaler.scale(loss).backward()\n",
        "        scaler.step(optimizer)\n",
        "        scaler.update()\n",
        "\n",
        "        scheduler.step()\n",
        "\n",
        "        running_loss += loss.item() * len(x)\n",
        "\n",
        "\n",
        "    accuracy_mut = correct_mut / total\n",
        "\n",
        "    return (\n",
        "        running_loss/len(loader.dataset),\n",
        "        accuracy_mut\n",
        "    )"
      ]
    },
    {
      "cell_type": "code",
      "execution_count": 18,
      "id": "--Mh5b-GVaME",
      "metadata": {
        "id": "--Mh5b-GVaME"
      },
      "outputs": [],
      "source": [
        "def validation(\n",
        "        model,\n",
        "        loader,\n",
        "        ce_mut\n",
        "):\n",
        "    model.eval()\n",
        "\n",
        "    running_loss, correct_mut, total = 0.0, 0, 0\n",
        "\n",
        "    with torch.no_grad():\n",
        "        for x, y_mut in loader:\n",
        "                x = x.to(device)\n",
        "                y_mut = y_mut.to(device)\n",
        "\n",
        "                if info['precision'] == 'FP16':\n",
        "                        with torch.cuda.amp.autocast():\n",
        "                                y_mut_out = model(x)\n",
        "\n",
        "                                loss = ce_mut(y_mut_out, y_mut)\n",
        "                else:\n",
        "                        y_mut_out = model(x)\n",
        "\n",
        "                        loss = ce_mut(y_mut_out, y_mut)\n",
        "\n",
        "\n",
        "                running_loss += loss.item() * len(x)\n",
        "\n",
        "                pred_mut = torch.argmax(y_mut_out, dim=1)\n",
        "                correct_mut += (pred_mut == y_mut).sum().item()\n",
        "\n",
        "                total += len(x)\n",
        "\n",
        "        accuracy_mut = correct_mut / total\n",
        "\n",
        "        return (\n",
        "                running_loss/len(loader.dataset),\n",
        "                accuracy_mut\n",
        "        )"
      ]
    },
    {
      "cell_type": "code",
      "execution_count": 19,
      "id": "j2wwPzaiVaMF",
      "metadata": {
        "colab": {
          "base_uri": "https://localhost:8080/"
        },
        "id": "j2wwPzaiVaMF",
        "outputId": "762abc40-eff1-4d6b-9110-b8c5e1ba081b"
      },
      "outputs": [
        {
          "name": "stderr",
          "output_type": "stream",
          "text": [
            "/tmp/ipython-input-2189485042.py:58: FutureWarning: `torch.cuda.amp.autocast(args...)` is deprecated. Please use `torch.amp.autocast('cuda', args...)` instead.\n",
            "  with torch.cuda.amp.autocast():\n",
            "/tmp/ipython-input-2285303938.py:16: FutureWarning: `torch.cuda.amp.autocast(args...)` is deprecated. Please use `torch.amp.autocast('cuda', args...)` instead.\n",
            "  with torch.cuda.amp.autocast():\n"
          ]
        },
        {
          "name": "stdout",
          "output_type": "stream",
          "text": [
            "\n",
            "    Epoch (1/10):\n",
            "    ----------------------------------------\n",
            "    Training:\n",
            "    Loss                      = 1.8673\n",
            "    Accuracy (Mutation Type)  = 0.35%\n",
            "\n",
            "    Validation:\n",
            "    Loss                      = 0.2958\n",
            "    Accuracy (Mutation Type)  = 0.99%\n",
            "    \n",
            "\n",
            "    Epoch (2/10):\n",
            "    ----------------------------------------\n",
            "    Training:\n",
            "    Loss                      = 0.0465\n",
            "    Accuracy (Mutation Type)  = 1.00%\n",
            "\n",
            "    Validation:\n",
            "    Loss                      = 0.0051\n",
            "    Accuracy (Mutation Type)  = 1.00%\n",
            "    \n",
            "\n",
            "    Epoch (3/10):\n",
            "    ----------------------------------------\n",
            "    Training:\n",
            "    Loss                      = 0.0071\n",
            "    Accuracy (Mutation Type)  = 1.00%\n",
            "\n",
            "    Validation:\n",
            "    Loss                      = 0.0022\n",
            "    Accuracy (Mutation Type)  = 1.00%\n",
            "    \n",
            "\n",
            "    Epoch (4/10):\n",
            "    ----------------------------------------\n",
            "    Training:\n",
            "    Loss                      = 0.0039\n",
            "    Accuracy (Mutation Type)  = 1.00%\n",
            "\n",
            "    Validation:\n",
            "    Loss                      = 0.0014\n",
            "    Accuracy (Mutation Type)  = 1.00%\n",
            "    \n",
            "\n",
            "    Epoch (5/10):\n",
            "    ----------------------------------------\n",
            "    Training:\n",
            "    Loss                      = 0.0027\n",
            "    Accuracy (Mutation Type)  = 1.00%\n",
            "\n",
            "    Validation:\n",
            "    Loss                      = 0.0010\n",
            "    Accuracy (Mutation Type)  = 1.00%\n",
            "    \n",
            "\n",
            "    Epoch (6/10):\n",
            "    ----------------------------------------\n",
            "    Training:\n",
            "    Loss                      = 0.0020\n",
            "    Accuracy (Mutation Type)  = 1.00%\n",
            "\n",
            "    Validation:\n",
            "    Loss                      = 0.0008\n",
            "    Accuracy (Mutation Type)  = 1.00%\n",
            "    \n",
            "\n",
            "    Epoch (7/10):\n",
            "    ----------------------------------------\n",
            "    Training:\n",
            "    Loss                      = 0.0017\n",
            "    Accuracy (Mutation Type)  = 1.00%\n",
            "\n",
            "    Validation:\n",
            "    Loss                      = 0.0006\n",
            "    Accuracy (Mutation Type)  = 1.00%\n",
            "    \n",
            "\n",
            "    Epoch (8/10):\n",
            "    ----------------------------------------\n",
            "    Training:\n",
            "    Loss                      = 0.0015\n",
            "    Accuracy (Mutation Type)  = 1.00%\n",
            "\n",
            "    Validation:\n",
            "    Loss                      = 0.0006\n",
            "    Accuracy (Mutation Type)  = 1.00%\n",
            "    \n",
            "\n",
            "    Epoch (9/10):\n",
            "    ----------------------------------------\n",
            "    Training:\n",
            "    Loss                      = 0.0013\n",
            "    Accuracy (Mutation Type)  = 1.00%\n",
            "\n",
            "    Validation:\n",
            "    Loss                      = 0.0005\n",
            "    Accuracy (Mutation Type)  = 1.00%\n",
            "    \n",
            "Model saved at /content/drive/MyDrive/Mutation Type Model/model_First Run_epoch_10.pth\n",
            "\n",
            "    Epoch (10/10):\n",
            "    ----------------------------------------\n",
            "    Training:\n",
            "    Loss                      = 0.0012\n",
            "    Accuracy (Mutation Type)  = 1.00%\n",
            "\n",
            "    Validation:\n",
            "    Loss                      = 0.0005\n",
            "    Accuracy (Mutation Type)  = 1.00%\n",
            "    \n"
          ]
        }
      ],
      "source": [
        "import os\n",
        "\n",
        "patience = 10\n",
        "best_val_loss = float('inf')\n",
        "counter = 0\n",
        "early_stop = False\n",
        "\n",
        "train_loss_history = []\n",
        "train_mut_acc_history = []\n",
        "\n",
        "validation_loss_history = []\n",
        "validation_mut_acc_history = []\n",
        "\n",
        "save_dir = f\"/content/drive/MyDrive/{info['dir_name']}\"\n",
        "os.makedirs(save_dir, exist_ok=True)\n",
        "\n",
        "for epoch in range(1, hyperparameters['epochs']+1):\n",
        "    if info['precision'] == 'FP16':\n",
        "      train_loss, train_accuracy_mut = train16(\n",
        "            model,\n",
        "            train_loader,\n",
        "            ce_mut,\n",
        "            optimizer,\n",
        "            scaler,\n",
        "            scheduler\n",
        "        )\n",
        "    else:\n",
        "      train_loss, train_accuracy_mut = train32(\n",
        "          model,\n",
        "          train_loader,\n",
        "          ce_mut,\n",
        "          optimizer\n",
        "      )\n",
        "\n",
        "    validation_loss, validation_accuracy_mut = validation(\n",
        "        model,\n",
        "        test_loader,\n",
        "        ce_mut\n",
        "    )\n",
        "\n",
        "    train_loss_history.append(train_loss)\n",
        "    train_mut_acc_history.append(train_accuracy_mut)\n",
        "\n",
        "    validation_loss_history.append(validation_loss)\n",
        "    validation_mut_acc_history.append(validation_accuracy_mut)\n",
        "\n",
        "    print(f\"\"\"\n",
        "    Epoch ({epoch}/{hyperparameters['epochs']}):\n",
        "    ----------------------------------------\n",
        "    Training:\n",
        "    Loss                      = {train_loss:.4f}\n",
        "    Accuracy (Mutation Type)  = {train_accuracy_mut:.2f}%\n",
        "\n",
        "    Validation:\n",
        "    Loss                      = {validation_loss:.4f}\n",
        "    Accuracy (Mutation Type)  = {validation_accuracy_mut:.2f}%\n",
        "    \"\"\")\n",
        "\n",
        "    if (epoch+1) % 10 == 0:\n",
        "      checkpoint_path = f\"{save_dir}/model_{info['run']}_epoch_{epoch+1}.pth\"\n",
        "      torch.save({\n",
        "          'epoch': epoch+1,\n",
        "          'model_state_dict': model.state_dict(),\n",
        "          'optimizer_state_dict': optimizer.state_dict(),\n",
        "          'Training Loss': train_loss,\n",
        "          'Training Accuracy Muation': train_accuracy_mut,\n",
        "          'Validation Loss': validation_loss,\n",
        "          'Validation Accuracy Muation': validation_accuracy_mut\n",
        "      }, checkpoint_path)\n",
        "      print(f\"Model saved at {checkpoint_path}\")\n",
        "\n",
        "\n",
        "    if validation_loss < best_val_loss:\n",
        "        best_val_loss = validation_loss\n",
        "        counter = 0\n",
        "        continue\n",
        "    else:\n",
        "        counter += 1\n",
        "        print(f\"No improvement in val loss Counter = {counter}/{patience}\")\n",
        "        if counter >= patience:\n",
        "            print(\"Early stopping triggered!\")\n",
        "            early_stop = True\n",
        "            break\n"
      ]
    },
    {
      "cell_type": "code",
      "execution_count": 20,
      "id": "723ed822",
      "metadata": {
        "id": "723ed822"
      },
      "outputs": [],
      "source": [
        "from sklearn.metrics import classification_report\n",
        "\n",
        "def get_predictions_and_labels(model, loader):\n",
        "    model.eval()\n",
        "    all_y_true_mut = []\n",
        "\n",
        "    all_y_pred_mut = []\n",
        "\n",
        "    with torch.no_grad():\n",
        "        for x, y_mut in loader:\n",
        "            x = x.to(device)\n",
        "            y_mut = y_mut.to(device)\n",
        "\n",
        "            y_mut_out = model(x)\n",
        "\n",
        "            _, pred_mut = torch.max(y_mut_out, 1)\n",
        "\n",
        "            all_y_true_mut.extend(y_mut.cpu().numpy())\n",
        "\n",
        "            all_y_pred_mut.extend(pred_mut.cpu().numpy())\n",
        "\n",
        "    return (\n",
        "        (all_y_true_mut, all_y_pred_mut)\n",
        "    )"
      ]
    },
    {
      "cell_type": "code",
      "execution_count": 21,
      "id": "106a343f",
      "metadata": {
        "colab": {
          "base_uri": "https://localhost:8080/"
        },
        "id": "106a343f",
        "outputId": "7f8900b9-c8af-4153-a5f9-d6c4f17103c7"
      },
      "outputs": [
        {
          "name": "stdout",
          "output_type": "stream",
          "text": [
            "\n",
            "============================================================\n",
            "Classification Report Summary\n",
            "============================================================\n",
            "\n",
            "[1] Classification Report — Mutation Type Label\n",
            "------------------------------------------------------------\n",
            "              precision    recall  f1-score   support\n",
            "\n",
            "           0       1.00      1.00      1.00       329\n",
            "           1       1.00      1.00      1.00      1172\n",
            "           2       1.00      1.00      1.00       279\n",
            "           3       1.00      1.00      1.00       500\n",
            "           4       1.00      1.00      1.00       612\n",
            "           5       1.00      1.00      1.00      2087\n",
            "           6       1.00      1.00      1.00      2104\n",
            "           7       1.00      1.00      1.00       595\n",
            "           8       1.00      1.00      1.00       532\n",
            "           9       1.00      1.00      1.00       288\n",
            "          10       1.00      1.00      1.00      1136\n",
            "          11       1.00      1.00      1.00       366\n",
            "\n",
            "    accuracy                           1.00     10000\n",
            "   macro avg       1.00      1.00      1.00     10000\n",
            "weighted avg       1.00      1.00      1.00     10000\n",
            "\n",
            "============================================================\n",
            "\n"
          ]
        }
      ],
      "source": [
        "from sklearn.metrics import classification_report\n",
        "\n",
        "(y_mut_true, y_mut_pred) = get_predictions_and_labels(model, test_loader)\n",
        "\n",
        "print(\"\\n\" + \"=\"*60)\n",
        "print(\"Classification Report Summary\")\n",
        "print(\"=\"*60)\n",
        "\n",
        "print(\"\\n[1] Classification Report — Mutation Type Label\")\n",
        "print(\"-\" * 60)\n",
        "print(classification_report(y_mut_true, y_mut_pred))\n",
        "\n",
        "print(\"=\"*60 + \"\\n\")\n"
      ]
    },
    {
      "cell_type": "code",
      "execution_count": 22,
      "id": "3a11e2e1",
      "metadata": {
        "colab": {
          "base_uri": "https://localhost:8080/",
          "height": 476
        },
        "id": "3a11e2e1",
        "outputId": "8eec1deb-5a43-426f-9126-eaa0870cbd8b"
      },
      "outputs": [
        {
          "data": {
            "text/plain": [
              "<sklearn.metrics._plot.confusion_matrix.ConfusionMatrixDisplay at 0x7ada8c621ee0>"
            ]
          },
          "execution_count": 22,
          "metadata": {},
          "output_type": "execute_result"
        },
        {
          "data": {
            "image/png": "[encoded data removed]",
            "text/plain": [
              "<Figure size 640x480 with 2 Axes>"
            ]
          },
          "metadata": {},
          "output_type": "display_data"
        }
      ],
      "source": [
        "from sklearn.metrics import confusion_matrix, ConfusionMatrixDisplay\n",
        "\n",
        "cm = confusion_matrix(y_mut_true, y_mut_pred)\n",
        "disp = ConfusionMatrixDisplay(confusion_matrix=cm)\n",
        "disp.plot(xticks_rotation=45)"
      ]
    },
    {
      "cell_type": "code",
      "execution_count": 23,
      "id": "0iYfDrQTVaMJ",
      "metadata": {
        "colab": {
          "base_uri": "https://localhost:8080/",
          "height": 1000
        },
        "id": "0iYfDrQTVaMJ",
        "outputId": "ad3cd8bd-da01-4d3e-dade-db9bfa72cd2a"
      },
      "outputs": [
        {
          "data": {
            "image/png": "[encoded data removed]",
            "text/plain": [
              "<Figure size 1000x600 with 1 Axes>"
            ]
          },
          "metadata": {},
          "output_type": "display_data"
        },
        {
          "data": {
            "image/png": "[encoded data removed]",
            "text/plain": [
              "<Figure size 1000x600 with 1 Axes>"
            ]
          },
          "metadata": {},
          "output_type": "display_data"
        }
      ],
      "source": [
        "import seaborn as sns\n",
        "import matplotlib.pyplot as plt\n",
        "import pandas as pd\n",
        "\n",
        "epochs = list(range(1, len(train_loss_history) + 1))\n",
        "\n",
        "data = {\n",
        "    'Epoch': epochs * 2,\n",
        "    'Loss': train_loss_history + validation_loss_history,\n",
        "    'Accuracy_Mut': train_mut_acc_history + validation_mut_acc_history,\n",
        "    'Set': ['Train'] * len(epochs) + ['Validation'] * len(epochs)\n",
        "}\n",
        "\n",
        "df = pd.DataFrame(data)\n",
        "\n",
        "sns.set(style=\"whitegrid\")\n",
        "\n",
        "plt.figure(figsize=(10, 6))\n",
        "sns.lineplot(data=df, x='Epoch', y='Loss', hue='Set', marker='o')\n",
        "plt.title(\"Training vs Validation Loss\")\n",
        "plt.ylabel(\"Loss\")\n",
        "plt.xlabel(\"Epoch\")\n",
        "plt.tight_layout()\n",
        "plt.show()\n",
        "\n",
        "plt.figure(figsize=(10, 6))\n",
        "sns.lineplot(data=df, x='Epoch', y='Accuracy_Mut', hue='Set', marker='o')\n",
        "plt.title(\"Mutation Type Accuracy: Training vs Validation\")\n",
        "plt.ylabel(\"Accuracy (%)\")\n",
        "plt.xlabel(\"Epoch\")\n",
        "plt.tight_layout()\n",
        "plt.show()"
      ]
    },
    {
      "cell_type": "code",
      "execution_count": null,
      "id": "0623b752",
      "metadata": {
        "id": "0623b752"
      },
      "outputs": [],
      "source": []
    }
  ],
  "metadata": {
    "accelerator": "GPU",
    "colab": {
      "gpuType": "L4",
      "machine_shape": "hm",
      "provenance": []
    },
    "kernelspec": {
      "display_name": "Python 3",
      "name": "python3"
    },
    "language_info": {
      "name": "python"
    }
  },
  "nbformat": 4,
  "nbformat_minor": 5
}
