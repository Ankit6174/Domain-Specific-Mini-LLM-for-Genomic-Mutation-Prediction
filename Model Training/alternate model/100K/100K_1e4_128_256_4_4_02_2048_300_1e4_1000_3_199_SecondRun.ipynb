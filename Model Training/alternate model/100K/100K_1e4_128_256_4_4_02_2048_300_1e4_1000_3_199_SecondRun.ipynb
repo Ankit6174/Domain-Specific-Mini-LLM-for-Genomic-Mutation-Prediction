{
  "cells": [
    {
      "cell_type": "code",
      "execution_count": 1,
      "id": "f2508c25",
      "metadata": {
        "id": "f2508c25"
      },
      "outputs": [],
      "source": [
        "hyperparameters = {\n",
        "    \"learning_rate\": 1e-4,\n",
        "    \"batch_size\": 128,\n",
        "    \"embed_dim\": 256,\n",
        "    \"num_heads\": 4,\n",
        "    \"num_layers\": 4,\n",
        "    \"dropout\": 0.2,\n",
        "    \"ff_dim\": 2048,\n",
        "    \"epochs\": 300,\n",
        "    \"weight_decay\": 1e-4,\n",
        "    \"num_warmup_steps\": 100,\n",
        "    \"k-mers\": 3,\n",
        "    \"max_len\": 199,\n",
        "}\n",
        "\n",
        "info = {\n",
        "    \"dataset_size\": \"100K\",\n",
        "    \"precision\": \"FP16\",\n",
        "    \"dir_name\": \"Alternate Model\",\n",
        "    \"run\": \"Second Run\",\n",
        "    \"ce_mut\": \"un-weighted\"\n",
        "}"
      ]
    },
    {
      "cell_type": "code",
      "execution_count": 2,
      "id": "a2290f52",
      "metadata": {},
      "outputs": [
        {
          "data": {
            "text/plain": [
              "(1859483, 10)"
            ]
          },
          "execution_count": 2,
          "metadata": {},
          "output_type": "execute_result"
        }
      ],
      "source": [
        "import pandas as pd\n",
        "\n",
        "data = pd.read_csv('../../../Dataset/data.csv')\n",
        "data.shape"
      ]
    },
    {
      "cell_type": "code",
      "execution_count": 9,
      "id": "1b823eb2",
      "metadata": {},
      "outputs": [
        {
          "data": {
            "text/plain": [
              "Index(['C->T', 'G->A', 'A->G', 'T->C', 'C->G', 'G->C', 'G->T', 'C->A', 'A->C',\n",
              "       'T->G', 'A->T', 'T->A'],\n",
              "      dtype='object', name='mutation_type')"
            ]
          },
          "execution_count": 9,
          "metadata": {},
          "output_type": "execute_result"
        }
      ],
      "source": [
        "data['mutation_type'].value_counts().index"
      ]
    },
    {
      "cell_type": "code",
      "execution_count": null,
      "id": "62281d21",
      "metadata": {},
      "outputs": [
        {
          "data": {
            "application/vnd.microsoft.datawrangler.viewer.v0+json": {
              "columns": [
                {
                  "name": "index",
                  "rawType": "int64",
                  "type": "integer"
                },
                {
                  "name": "ref",
                  "rawType": "object",
                  "type": "string"
                },
                {
                  "name": "alt",
                  "rawType": "object",
                  "type": "string"
                },
                {
                  "name": "mutation_type",
                  "rawType": "object",
                  "type": "string"
                }
              ],
              "ref": "1a05a258-6006-470b-a720-d9890b0572d3",
              "rows": [
                [
                  "476088",
                  "C",
                  "A",
                  "C->A"
                ],
                [
                  "476896",
                  "A",
                  "C",
                  "A->C"
                ],
                [
                  "933883",
                  "A",
                  "T",
                  "A->T"
                ],
                [
                  "1305853",
                  "T",
                  "C",
                  "T->C"
                ],
                [
                  "922349",
                  "A",
                  "G",
                  "A->G"
                ],
                [
                  "1641474",
                  "G",
                  "A",
                  "G->A"
                ],
                [
                  "225014",
                  "T",
                  "C",
                  "T->C"
                ],
                [
                  "1768897",
                  "G",
                  "A",
                  "G->A"
                ],
                [
                  "1764374",
                  "T",
                  "C",
                  "T->C"
                ],
                [
                  "526957",
                  "G",
                  "A",
                  "G->A"
                ]
              ],
              "shape": {
                "columns": 3,
                "rows": 10
              }
            },
            "text/html": [
              "<div>\n",
              "<style scoped>\n",
              "    .dataframe tbody tr th:only-of-type {\n",
              "        vertical-align: middle;\n",
              "    }\n",
              "\n",
              "    .dataframe tbody tr th {\n",
              "        vertical-align: top;\n",
              "    }\n",
              "\n",
              "    .dataframe thead th {\n",
              "        text-align: right;\n",
              "    }\n",
              "</style>\n",
              "<table border=\"1\" class=\"dataframe\">\n",
              "  <thead>\n",
              "    <tr style=\"text-align: right;\">\n",
              "      <th></th>\n",
              "      <th>ref</th>\n",
              "      <th>alt</th>\n",
              "      <th>mutation_type</th>\n",
              "    </tr>\n",
              "  </thead>\n",
              "  <tbody>\n",
              "    <tr>\n",
              "      <th>476088</th>\n",
              "      <td>C</td>\n",
              "      <td>A</td>\n",
              "      <td>C-&gt;A</td>\n",
              "    </tr>\n",
              "    <tr>\n",
              "      <th>476896</th>\n",
              "      <td>A</td>\n",
              "      <td>C</td>\n",
              "      <td>A-&gt;C</td>\n",
              "    </tr>\n",
              "    <tr>\n",
              "      <th>933883</th>\n",
              "      <td>A</td>\n",
              "      <td>T</td>\n",
              "      <td>A-&gt;T</td>\n",
              "    </tr>\n",
              "    <tr>\n",
              "      <th>1305853</th>\n",
              "      <td>T</td>\n",
              "      <td>C</td>\n",
              "      <td>T-&gt;C</td>\n",
              "    </tr>\n",
              "    <tr>\n",
              "      <th>922349</th>\n",
              "      <td>A</td>\n",
              "      <td>G</td>\n",
              "      <td>A-&gt;G</td>\n",
              "    </tr>\n",
              "    <tr>\n",
              "      <th>1641474</th>\n",
              "      <td>G</td>\n",
              "      <td>A</td>\n",
              "      <td>G-&gt;A</td>\n",
              "    </tr>\n",
              "    <tr>\n",
              "      <th>225014</th>\n",
              "      <td>T</td>\n",
              "      <td>C</td>\n",
              "      <td>T-&gt;C</td>\n",
              "    </tr>\n",
              "    <tr>\n",
              "      <th>1768897</th>\n",
              "      <td>G</td>\n",
              "      <td>A</td>\n",
              "      <td>G-&gt;A</td>\n",
              "    </tr>\n",
              "    <tr>\n",
              "      <th>1764374</th>\n",
              "      <td>T</td>\n",
              "      <td>C</td>\n",
              "      <td>T-&gt;C</td>\n",
              "    </tr>\n",
              "    <tr>\n",
              "      <th>526957</th>\n",
              "      <td>G</td>\n",
              "      <td>A</td>\n",
              "      <td>G-&gt;A</td>\n",
              "    </tr>\n",
              "  </tbody>\n",
              "</table>\n",
              "</div>"
            ],
            "text/plain": [
              "        ref alt mutation_type\n",
              "476088    C   A          C->A\n",
              "476896    A   C          A->C\n",
              "933883    A   T          A->T\n",
              "1305853   T   C          T->C\n",
              "922349    A   G          A->G\n",
              "1641474   G   A          G->A\n",
              "225014    T   C          T->C\n",
              "1768897   G   A          G->A\n",
              "1764374   T   C          T->C\n",
              "526957    G   A          G->A"
            ]
          },
          "execution_count": 7,
          "metadata": {},
          "output_type": "execute_result"
        }
      ],
      "source": [
        "data.loc[[476088,  476896,  933883, 1305853,  922349, 1641474,  225014, 1768897,\n",
        "       1764374,  526957]][['ref', 'alt', 'mutation_type']]"
      ]
    },
    {
      "cell_type": "code",
      "execution_count": 2,
      "id": "07396a26",
      "metadata": {
        "colab": {
          "base_uri": "https://localhost:8080/"
        },
        "id": "07396a26",
        "outputId": "d7c25e89-3bc0-4843-b6a0-d5788a65b63a"
      },
      "outputs": [
        {
          "name": "stdout",
          "output_type": "stream",
          "text": [
            "Mounted at /content/drive\n"
          ]
        }
      ],
      "source": [
        "from google.colab import drive\n",
        "drive.mount('/content/drive')"
      ]
    },
    {
      "cell_type": "code",
      "execution_count": 3,
      "id": "ece2e0fe",
      "metadata": {
        "colab": {
          "base_uri": "https://localhost:8080/"
        },
        "id": "ece2e0fe",
        "outputId": "267ee6b3-687a-4250-8454-7deebec2de1f"
      },
      "outputs": [
        {
          "data": {
            "text/plain": [
              "(100000, 10)"
            ]
          },
          "execution_count": 3,
          "metadata": {},
          "output_type": "execute_result"
        }
      ],
      "source": [
        "import pandas as pd\n",
        "\n",
        "data_path = f\"/content/drive/MyDrive/dataset/{info['dataset_size']}.csv\"\n",
        "\n",
        "data = pd.read_csv(data_path)\n",
        "data.shape"
      ]
    },
    {
      "cell_type": "code",
      "execution_count": 4,
      "id": "aaecbb87",
      "metadata": {
        "colab": {
          "base_uri": "https://localhost:8080/",
          "height": 241
        },
        "id": "aaecbb87",
        "outputId": "e5b06ccc-069c-4c22-a2be-abe709fb3288"
      },
      "outputs": [
        {
          "data": {
            "text/html": [
              "<div>\n",
              "<style scoped>\n",
              "    .dataframe tbody tr th:only-of-type {\n",
              "        vertical-align: middle;\n",
              "    }\n",
              "\n",
              "    .dataframe tbody tr th {\n",
              "        vertical-align: top;\n",
              "    }\n",
              "\n",
              "    .dataframe thead th {\n",
              "        text-align: right;\n",
              "    }\n",
              "</style>\n",
              "<table border=\"1\" class=\"dataframe\">\n",
              "  <thead>\n",
              "    <tr style=\"text-align: right;\">\n",
              "      <th></th>\n",
              "      <th>count</th>\n",
              "    </tr>\n",
              "    <tr>\n",
              "      <th>alt</th>\n",
              "      <th></th>\n",
              "    </tr>\n",
              "  </thead>\n",
              "  <tbody>\n",
              "    <tr>\n",
              "      <th>A</th>\n",
              "      <td>28998</td>\n",
              "    </tr>\n",
              "    <tr>\n",
              "      <th>T</th>\n",
              "      <td>28867</td>\n",
              "    </tr>\n",
              "    <tr>\n",
              "      <th>G</th>\n",
              "      <td>21265</td>\n",
              "    </tr>\n",
              "    <tr>\n",
              "      <th>C</th>\n",
              "      <td>20870</td>\n",
              "    </tr>\n",
              "  </tbody>\n",
              "</table>\n",
              "</div><br><label><b>dtype:</b> int64</label>"
            ],
            "text/plain": [
              "alt\n",
              "A    28998\n",
              "T    28867\n",
              "G    21265\n",
              "C    20870\n",
              "Name: count, dtype: int64"
            ]
          },
          "execution_count": 4,
          "metadata": {},
          "output_type": "execute_result"
        }
      ],
      "source": [
        "data['alt'].value_counts()"
      ]
    },
    {
      "cell_type": "code",
      "execution_count": 5,
      "id": "1e2fe762",
      "metadata": {
        "id": "1e2fe762"
      },
      "outputs": [],
      "source": [
        "data['alt'] = data['alt'].map({'A': 0, 'T': 1, 'G': 2, 'C': 3})"
      ]
    },
    {
      "cell_type": "code",
      "execution_count": 6,
      "id": "ea96c6f3",
      "metadata": {
        "id": "ea96c6f3"
      },
      "outputs": [],
      "source": [
        "x = data['sequence']\n",
        "y_alt = data['alt']"
      ]
    },
    {
      "cell_type": "code",
      "execution_count": 7,
      "id": "_9zrR1j0v-VR",
      "metadata": {
        "id": "_9zrR1j0v-VR"
      },
      "outputs": [],
      "source": [
        "def get_codon(seq, k=hyperparameters['k-mers']):\n",
        "    return [seq[i:i+k] for i in range(len(seq) - k + 1)]\n",
        "\n",
        "vocab = {'<PAD>': 0, '<UNK>': 1}\n",
        "\n",
        "for seq in data['sequence']:\n",
        "    for codons in get_codon(seq.lower()):\n",
        "        if codons not in vocab:\n",
        "            vocab[codons] = len(vocab)\n",
        "        else:\n",
        "            continue\n",
        "\n",
        "def get_tensor(text):\n",
        "    return [vocab.get(codons.lower(), vocab['<UNK>']) for codons in get_codon(text)]"
      ]
    },
    {
      "cell_type": "code",
      "execution_count": 8,
      "id": "0bc535f2",
      "metadata": {
        "id": "0bc535f2"
      },
      "outputs": [],
      "source": [
        "import torch\n",
        "from torch.utils.data import Dataset\n",
        "\n",
        "class CustomDataset(Dataset):\n",
        "  def __init__(\n",
        "      self,\n",
        "      x,\n",
        "      y_alt\n",
        "  ):\n",
        "    self.x_frame = x\n",
        "    self.y_alt_frame = y_alt\n",
        "\n",
        "  def __len__(self):\n",
        "    return len(self.x_frame)\n",
        "\n",
        "  def __getitem__(self, index):\n",
        "    x = torch.tensor(get_tensor(self.x_frame[index]), dtype=torch.long)\n",
        "    y_alt = torch.tensor(self.y_alt_frame[index], dtype=torch.long)\n",
        "\n",
        "    return (\n",
        "      x,\n",
        "      y_alt\n",
        "    )"
      ]
    },
    {
      "cell_type": "code",
      "execution_count": 9,
      "id": "JxQsRYLyv-VS",
      "metadata": {
        "id": "JxQsRYLyv-VS"
      },
      "outputs": [],
      "source": [
        "dataset = CustomDataset(\n",
        "    x,\n",
        "    y_alt\n",
        ")"
      ]
    },
    {
      "cell_type": "code",
      "execution_count": 10,
      "id": "8hR-7h2Uv-VT",
      "metadata": {
        "id": "8hR-7h2Uv-VT"
      },
      "outputs": [],
      "source": [
        "from torch.utils.data import random_split\n",
        "\n",
        "train_size = int(0.8 * len(dataset))\n",
        "test_size = len(dataset) - train_size\n",
        "\n",
        "train_dataset, test_dataset = random_split(dataset, [train_size, test_size])"
      ]
    },
    {
      "cell_type": "code",
      "execution_count": 11,
      "id": "vn14FOnwv-VT",
      "metadata": {
        "id": "vn14FOnwv-VT"
      },
      "outputs": [],
      "source": [
        "from torch.utils.data import DataLoader\n",
        "\n",
        "train_loader = DataLoader(\n",
        "    train_dataset,\n",
        "    batch_size=hyperparameters['batch_size'],\n",
        "    shuffle=True\n",
        ")\n",
        "test_loader = DataLoader(\n",
        "    test_dataset,\n",
        "    batch_size=hyperparameters['batch_size']\n",
        ")"
      ]
    },
    {
      "cell_type": "code",
      "execution_count": 12,
      "id": "6LMlvvYpv-VU",
      "metadata": {
        "id": "6LMlvvYpv-VU"
      },
      "outputs": [],
      "source": [
        "from torch import nn\n",
        "import math\n",
        "\n",
        "class PositionalEncoding(nn.Module):\n",
        "    def __init__(self, embed_dim, max_len=5000):\n",
        "        super().__init__()\n",
        "\n",
        "        pe = torch.zeros(max_len, embed_dim)\n",
        "        position = torch.arange(0, max_len).unsqueeze(1)\n",
        "\n",
        "        div_term = torch.exp((torch.arange(0, embed_dim, 2)) * (-math.log(10000.0) / embed_dim))\n",
        "\n",
        "        pe[:, 0::2] = torch.sin(position * div_term)\n",
        "        pe[:, 1::2] = torch.cos(position * div_term)\n",
        "\n",
        "        pe = pe.unsqueeze(0)\n",
        "        self.register_buffer('pe', pe)\n",
        "\n",
        "    def forward(self, x):\n",
        "        x = x + self.pe[:, :x.size(1), :].to(x.device)\n",
        "        return x\n",
        "\n",
        "class Transformer(nn.Module):\n",
        "    def __init__(self, embed_dim=512, num_heads=8, num_layers=6, ff_dim=2048, dropout=0.1, vocab_size=10000, max_len=5000):\n",
        "        super(Transformer, self).__init__()\n",
        "        self.embeddings = nn.Embedding(vocab_size, embed_dim)\n",
        "        self.position_encoding = PositionalEncoding(embed_dim=embed_dim, max_len=max_len)\n",
        "\n",
        "        encoder_layer = nn.TransformerEncoderLayer(\n",
        "            d_model=embed_dim,\n",
        "            nhead=num_heads,\n",
        "            dim_feedforward=ff_dim,\n",
        "            dropout=dropout,\n",
        "            batch_first=True\n",
        "        )\n",
        "        self.encoder = nn.TransformerEncoder(\n",
        "            encoder_layer=encoder_layer,\n",
        "            num_layers=num_layers\n",
        "        )\n",
        "\n",
        "        self.y_alt_out = nn.Linear(embed_dim, 4)\n",
        "\n",
        "    def forward(self, x):\n",
        "        x = self.embeddings(x)\n",
        "        x = self.position_encoding(x)\n",
        "\n",
        "        x = self.encoder(x)\n",
        "        x = x.mean(dim=1)\n",
        "\n",
        "        y_alt_out = self.y_alt_out(x)\n",
        "\n",
        "        return (\n",
        "            y_alt_out\n",
        "        )"
      ]
    },
    {
      "cell_type": "code",
      "execution_count": 13,
      "id": "d1bedbfb",
      "metadata": {
        "id": "d1bedbfb"
      },
      "outputs": [],
      "source": [
        "model = Transformer(\n",
        "    embed_dim=hyperparameters['embed_dim'],\n",
        "    num_heads=hyperparameters['num_heads'],\n",
        "    num_layers=hyperparameters['num_layers'],\n",
        "    ff_dim=hyperparameters['ff_dim'],\n",
        "    dropout=hyperparameters['dropout'],\n",
        "    vocab_size=len(vocab),\n",
        "    max_len=hyperparameters['max_len']\n",
        ")"
      ]
    },
    {
      "cell_type": "code",
      "execution_count": 14,
      "id": "Lsu5lrCtv-VU",
      "metadata": {
        "colab": {
          "base_uri": "https://localhost:8080/"
        },
        "id": "Lsu5lrCtv-VU",
        "outputId": "0258dcbf-c722-4f7a-e771-b6cdde8b624e"
      },
      "outputs": [
        {
          "data": {
            "text/plain": [
              "Transformer(\n",
              "  (embeddings): Embedding(66, 256)\n",
              "  (position_encoding): PositionalEncoding()\n",
              "  (encoder): TransformerEncoder(\n",
              "    (layers): ModuleList(\n",
              "      (0-3): 4 x TransformerEncoderLayer(\n",
              "        (self_attn): MultiheadAttention(\n",
              "          (out_proj): NonDynamicallyQuantizableLinear(in_features=256, out_features=256, bias=True)\n",
              "        )\n",
              "        (linear1): Linear(in_features=256, out_features=2048, bias=True)\n",
              "        (dropout): Dropout(p=0.2, inplace=False)\n",
              "        (linear2): Linear(in_features=2048, out_features=256, bias=True)\n",
              "        (norm1): LayerNorm((256,), eps=1e-05, elementwise_affine=True)\n",
              "        (norm2): LayerNorm((256,), eps=1e-05, elementwise_affine=True)\n",
              "        (dropout1): Dropout(p=0.2, inplace=False)\n",
              "        (dropout2): Dropout(p=0.2, inplace=False)\n",
              "      )\n",
              "    )\n",
              "  )\n",
              "  (y_alt_out): Linear(in_features=256, out_features=4, bias=True)\n",
              ")"
            ]
          },
          "execution_count": 14,
          "metadata": {},
          "output_type": "execute_result"
        }
      ],
      "source": [
        "device = torch.device(\"cuda\" if torch.cuda.is_available() else \"cpu\")\n",
        "model.to(device)"
      ]
    },
    {
      "cell_type": "code",
      "execution_count": 15,
      "id": "aQOSAZ8Av-VV",
      "metadata": {
        "colab": {
          "base_uri": "https://localhost:8080/"
        },
        "id": "aQOSAZ8Av-VV",
        "outputId": "6fd3d2bd-11ac-44cd-9a55-ed1983e2bff7"
      },
      "outputs": [
        {
          "name": "stdout",
          "output_type": "stream",
          "text": [
            "Total trainable parameters: 5278212\n"
          ]
        }
      ],
      "source": [
        "num_params = sum(p.numel() for p in model.parameters() if p.requires_grad)\n",
        "print(f\"Total trainable parameters: {num_params}\")"
      ]
    },
    {
      "cell_type": "code",
      "execution_count": 16,
      "id": "CHQdi9MYv-VW",
      "metadata": {
        "colab": {
          "base_uri": "https://localhost:8080/"
        },
        "id": "CHQdi9MYv-VW",
        "outputId": "44f1f9a9-530a-4438-ebdb-08f9029f3a0a"
      },
      "outputs": [
        {
          "name": "stderr",
          "output_type": "stream",
          "text": [
            "/tmp/ipython-input-1989935823.py:7: FutureWarning: `torch.cuda.amp.GradScaler(args...)` is deprecated. Please use `torch.amp.GradScaler('cuda', args...)` instead.\n",
            "  scaler = torch.cuda.amp.GradScaler()\n"
          ]
        }
      ],
      "source": [
        "from torch import optim\n",
        "from transformers import get_linear_schedule_with_warmup\n",
        "\n",
        "ce_alt = nn.CrossEntropyLoss()\n",
        "\n",
        "optimizer = optim.Adam(model.parameters(), lr=hyperparameters['learning_rate'], weight_decay=hyperparameters['weight_decay'])\n",
        "scaler = torch.cuda.amp.GradScaler()\n",
        "\n",
        "num_training_steps = len(train_loader) * hyperparameters['epochs']\n",
        "num_warmup_steps = hyperparameters['num_warmup_steps']\n",
        "\n",
        "scheduler = get_linear_schedule_with_warmup(\n",
        "    optimizer,\n",
        "    num_warmup_steps=num_warmup_steps,\n",
        "    num_training_steps=num_training_steps\n",
        ")"
      ]
    },
    {
      "cell_type": "code",
      "execution_count": 17,
      "id": "bb7ee6bd",
      "metadata": {
        "id": "bb7ee6bd"
      },
      "outputs": [],
      "source": [
        "def train32(\n",
        "    model,\n",
        "    loader,\n",
        "    ce_alt,\n",
        "    optimizer\n",
        "):\n",
        "\n",
        "    model.train()\n",
        "\n",
        "    running_loss, correct_alt, total = 0.0, 0, 0\n",
        "\n",
        "    for x, y_alt in loader:\n",
        "        optimizer.zero_grad()\n",
        "\n",
        "        x = x.to(device)\n",
        "        y_alt = y_alt.to(device)\n",
        "\n",
        "        y_alt_out = model(x)\n",
        "\n",
        "        loss = ce_alt(y_alt_out, y_alt)\n",
        "\n",
        "        pred_alt = torch.argmax(y_alt_out, dim=1)\n",
        "        correct_alt += (pred_alt == y_alt).sum().item()\n",
        "\n",
        "        total += len(x)\n",
        "\n",
        "        loss.backward()\n",
        "        optimizer.step()\n",
        "\n",
        "        running_loss += loss.item() * len(x)\n",
        "\n",
        "    accuracy_alt = correct_alt / total\n",
        "\n",
        "    return (\n",
        "        running_loss/len(loader.dataset),\n",
        "        accuracy_alt\n",
        "    )\n",
        "\n",
        "def train16(\n",
        "        model,\n",
        "        loader,\n",
        "        ce_alt,\n",
        "        optimizer,\n",
        "        scaler,\n",
        "        scheduler\n",
        "    ):\n",
        "\n",
        "    model.train()\n",
        "\n",
        "    running_loss, correct_alt, total = 0.0, 0, 0\n",
        "\n",
        "    for x, y_alt in loader:\n",
        "        optimizer.zero_grad()\n",
        "\n",
        "        x = x.to(device)\n",
        "        y_alt = y_alt.to(device)\n",
        "\n",
        "        with torch.cuda.amp.autocast():\n",
        "            y_alt_out = model(x)\n",
        "\n",
        "            loss = ce_alt(y_alt_out, y_alt)\n",
        "\n",
        "        pred_alt = torch.argmax(y_alt_out, dim=1)\n",
        "        correct_alt += (pred_alt == y_alt).sum().item()\n",
        "\n",
        "        total += len(x)\n",
        "\n",
        "        scaler.scale(loss).backward()\n",
        "        scaler.step(optimizer)\n",
        "        scaler.update()\n",
        "\n",
        "        scheduler.step()\n",
        "\n",
        "        running_loss += loss.item() * len(x)\n",
        "\n",
        "\n",
        "    accuracy_alt = correct_alt / total\n",
        "\n",
        "    return (\n",
        "        running_loss/len(loader.dataset),\n",
        "        accuracy_alt\n",
        "    )"
      ]
    },
    {
      "cell_type": "code",
      "execution_count": 18,
      "id": "85c451e4",
      "metadata": {
        "id": "85c451e4"
      },
      "outputs": [],
      "source": [
        "def validation(\n",
        "        model,\n",
        "        loader,\n",
        "        ce_alt\n",
        "):\n",
        "    model.eval()\n",
        "\n",
        "    running_loss, correct_alt, total = 0.0, 0, 0\n",
        "\n",
        "    with torch.no_grad():\n",
        "        for x, y_alt in loader:\n",
        "                x = x.to(device)\n",
        "                y_alt = y_alt.to(device)\n",
        "\n",
        "                if info['precision'] == 'FP16':\n",
        "                        with torch.cuda.amp.autocast():\n",
        "                                y_alt_out = model(x)\n",
        "\n",
        "                                loss = ce_alt(y_alt_out, y_alt)\n",
        "                else:\n",
        "                        y_alt_out = model(x)\n",
        "\n",
        "                        loss = ce_alt(y_alt_out, y_alt)\n",
        "\n",
        "\n",
        "                running_loss += loss.item() * len(x)\n",
        "\n",
        "                pred_alt = torch.argmax(y_alt_out, dim=1)\n",
        "                correct_alt += (pred_alt == y_alt).sum().item()\n",
        "\n",
        "                total += len(x)\n",
        "\n",
        "        accuracy_alt = correct_alt / total\n",
        "\n",
        "        return (\n",
        "                running_loss/len(loader.dataset),\n",
        "                accuracy_alt\n",
        "        )"
      ]
    },
    {
      "cell_type": "code",
      "execution_count": 19,
      "id": "MngCN-39v-VY",
      "metadata": {
        "colab": {
          "base_uri": "https://localhost:8080/",
          "height": 1000
        },
        "id": "MngCN-39v-VY",
        "outputId": "8f8683d7-ddf9-464c-90aa-b14632932444"
      },
      "outputs": [
        {
          "name": "stderr",
          "output_type": "stream",
          "text": [
            "/tmp/ipython-input-4185934660.py:58: FutureWarning: `torch.cuda.amp.autocast(args...)` is deprecated. Please use `torch.amp.autocast('cuda', args...)` instead.\n",
            "  with torch.cuda.amp.autocast():\n",
            "/tmp/ipython-input-3766136719.py:16: FutureWarning: `torch.cuda.amp.autocast(args...)` is deprecated. Please use `torch.amp.autocast('cuda', args...)` instead.\n",
            "  with torch.cuda.amp.autocast():\n"
          ]
        },
        {
          "name": "stdout",
          "output_type": "stream",
          "text": [
            "\n",
            "    Epoch (1/300):\n",
            "    ----------------------------------------\n",
            "    Training:\n",
            "    Loss                      = 1.2088\n",
            "    Accuracy (Alternate)      = 0.43%\n",
            "\n",
            "    Validation:\n",
            "    Loss                      = 0.9181\n",
            "    Accuracy (Alternate)      = 0.65%\n",
            "    \n",
            "\n",
            "    Epoch (2/300):\n",
            "    ----------------------------------------\n",
            "    Training:\n",
            "    Loss                      = 0.8970\n",
            "    Accuracy (Alternate)      = 0.64%\n",
            "\n",
            "    Validation:\n",
            "    Loss                      = 0.8707\n",
            "    Accuracy (Alternate)      = 0.65%\n",
            "    \n",
            "\n",
            "    Epoch (3/300):\n",
            "    ----------------------------------------\n",
            "    Training:\n",
            "    Loss                      = 0.8789\n",
            "    Accuracy (Alternate)      = 0.64%\n",
            "\n",
            "    Validation:\n",
            "    Loss                      = 0.8752\n",
            "    Accuracy (Alternate)      = 0.65%\n",
            "    \n",
            "No improvement in val loss Counter = 1/10\n",
            "\n",
            "    Epoch (4/300):\n",
            "    ----------------------------------------\n",
            "    Training:\n",
            "    Loss                      = 0.8738\n",
            "    Accuracy (Alternate)      = 0.64%\n",
            "\n",
            "    Validation:\n",
            "    Loss                      = 0.8691\n",
            "    Accuracy (Alternate)      = 0.65%\n",
            "    \n",
            "\n",
            "    Epoch (5/300):\n",
            "    ----------------------------------------\n",
            "    Training:\n",
            "    Loss                      = 0.8708\n",
            "    Accuracy (Alternate)      = 0.64%\n",
            "\n",
            "    Validation:\n",
            "    Loss                      = 0.8647\n",
            "    Accuracy (Alternate)      = 0.65%\n",
            "    \n",
            "\n",
            "    Epoch (6/300):\n",
            "    ----------------------------------------\n",
            "    Training:\n",
            "    Loss                      = 0.8676\n",
            "    Accuracy (Alternate)      = 0.64%\n",
            "\n",
            "    Validation:\n",
            "    Loss                      = 0.8670\n",
            "    Accuracy (Alternate)      = 0.65%\n",
            "    \n",
            "No improvement in val loss Counter = 1/10\n",
            "\n",
            "    Epoch (7/300):\n",
            "    ----------------------------------------\n",
            "    Training:\n",
            "    Loss                      = 0.8667\n",
            "    Accuracy (Alternate)      = 0.64%\n",
            "\n",
            "    Validation:\n",
            "    Loss                      = 0.8635\n",
            "    Accuracy (Alternate)      = 0.65%\n",
            "    \n",
            "\n",
            "    Epoch (8/300):\n",
            "    ----------------------------------------\n",
            "    Training:\n",
            "    Loss                      = 0.8648\n",
            "    Accuracy (Alternate)      = 0.64%\n",
            "\n",
            "    Validation:\n",
            "    Loss                      = 0.8649\n",
            "    Accuracy (Alternate)      = 0.65%\n",
            "    \n",
            "No improvement in val loss Counter = 1/10\n",
            "\n",
            "    Epoch (9/300):\n",
            "    ----------------------------------------\n",
            "    Training:\n",
            "    Loss                      = 0.8634\n",
            "    Accuracy (Alternate)      = 0.64%\n",
            "\n",
            "    Validation:\n",
            "    Loss                      = 0.8589\n",
            "    Accuracy (Alternate)      = 0.65%\n",
            "    \n",
            "Model saved at /content/drive/MyDrive/Alternate Model/model_Second Run_epoch_10.pth\n",
            "\n",
            "    Epoch (10/300):\n",
            "    ----------------------------------------\n",
            "    Training:\n",
            "    Loss                      = 0.8624\n",
            "    Accuracy (Alternate)      = 0.64%\n",
            "\n",
            "    Validation:\n",
            "    Loss                      = 0.8645\n",
            "    Accuracy (Alternate)      = 0.65%\n",
            "    \n",
            "No improvement in val loss Counter = 1/10\n",
            "\n",
            "    Epoch (11/300):\n",
            "    ----------------------------------------\n",
            "    Training:\n",
            "    Loss                      = 0.8614\n",
            "    Accuracy (Alternate)      = 0.64%\n",
            "\n",
            "    Validation:\n",
            "    Loss                      = 0.8589\n",
            "    Accuracy (Alternate)      = 0.65%\n",
            "    \n",
            "\n",
            "    Epoch (12/300):\n",
            "    ----------------------------------------\n",
            "    Training:\n",
            "    Loss                      = 0.8609\n",
            "    Accuracy (Alternate)      = 0.64%\n",
            "\n",
            "    Validation:\n",
            "    Loss                      = 0.8596\n",
            "    Accuracy (Alternate)      = 0.65%\n",
            "    \n",
            "No improvement in val loss Counter = 1/10\n",
            "\n",
            "    Epoch (13/300):\n",
            "    ----------------------------------------\n",
            "    Training:\n",
            "    Loss                      = 0.8594\n",
            "    Accuracy (Alternate)      = 0.64%\n",
            "\n",
            "    Validation:\n",
            "    Loss                      = 0.8593\n",
            "    Accuracy (Alternate)      = 0.65%\n",
            "    \n",
            "No improvement in val loss Counter = 2/10\n",
            "\n",
            "    Epoch (14/300):\n",
            "    ----------------------------------------\n",
            "    Training:\n",
            "    Loss                      = 0.8587\n",
            "    Accuracy (Alternate)      = 0.64%\n",
            "\n",
            "    Validation:\n",
            "    Loss                      = 0.8590\n",
            "    Accuracy (Alternate)      = 0.65%\n",
            "    \n",
            "No improvement in val loss Counter = 3/10\n",
            "\n",
            "    Epoch (15/300):\n",
            "    ----------------------------------------\n",
            "    Training:\n",
            "    Loss                      = 0.8580\n",
            "    Accuracy (Alternate)      = 0.64%\n",
            "\n",
            "    Validation:\n",
            "    Loss                      = 0.8632\n",
            "    Accuracy (Alternate)      = 0.65%\n",
            "    \n",
            "No improvement in val loss Counter = 4/10\n",
            "\n",
            "    Epoch (16/300):\n",
            "    ----------------------------------------\n",
            "    Training:\n",
            "    Loss                      = 0.8576\n",
            "    Accuracy (Alternate)      = 0.64%\n",
            "\n",
            "    Validation:\n",
            "    Loss                      = 0.8618\n",
            "    Accuracy (Alternate)      = 0.65%\n",
            "    \n",
            "No improvement in val loss Counter = 5/10\n",
            "\n",
            "    Epoch (17/300):\n",
            "    ----------------------------------------\n",
            "    Training:\n",
            "    Loss                      = 0.8574\n",
            "    Accuracy (Alternate)      = 0.64%\n",
            "\n",
            "    Validation:\n",
            "    Loss                      = 0.8607\n",
            "    Accuracy (Alternate)      = 0.65%\n",
            "    \n",
            "No improvement in val loss Counter = 6/10\n",
            "\n",
            "    Epoch (18/300):\n",
            "    ----------------------------------------\n",
            "    Training:\n",
            "    Loss                      = 0.8561\n",
            "    Accuracy (Alternate)      = 0.64%\n",
            "\n",
            "    Validation:\n",
            "    Loss                      = 0.8630\n",
            "    Accuracy (Alternate)      = 0.65%\n",
            "    \n",
            "No improvement in val loss Counter = 7/10\n",
            "\n",
            "    Epoch (19/300):\n",
            "    ----------------------------------------\n",
            "    Training:\n",
            "    Loss                      = 0.8556\n",
            "    Accuracy (Alternate)      = 0.64%\n",
            "\n",
            "    Validation:\n",
            "    Loss                      = 0.8588\n",
            "    Accuracy (Alternate)      = 0.65%\n",
            "    \n",
            "Model saved at /content/drive/MyDrive/Alternate Model/model_Second Run_epoch_20.pth\n",
            "\n",
            "    Epoch (20/300):\n",
            "    ----------------------------------------\n",
            "    Training:\n",
            "    Loss                      = 0.8546\n",
            "    Accuracy (Alternate)      = 0.64%\n",
            "\n",
            "    Validation:\n",
            "    Loss                      = 0.8593\n",
            "    Accuracy (Alternate)      = 0.65%\n",
            "    \n",
            "No improvement in val loss Counter = 1/10\n",
            "\n",
            "    Epoch (21/300):\n",
            "    ----------------------------------------\n",
            "    Training:\n",
            "    Loss                      = 0.8550\n",
            "    Accuracy (Alternate)      = 0.64%\n",
            "\n",
            "    Validation:\n",
            "    Loss                      = 0.8579\n",
            "    Accuracy (Alternate)      = 0.65%\n",
            "    \n",
            "\n",
            "    Epoch (22/300):\n",
            "    ----------------------------------------\n",
            "    Training:\n",
            "    Loss                      = 0.8535\n",
            "    Accuracy (Alternate)      = 0.64%\n",
            "\n",
            "    Validation:\n",
            "    Loss                      = 0.8578\n",
            "    Accuracy (Alternate)      = 0.65%\n",
            "    \n",
            "\n",
            "    Epoch (23/300):\n",
            "    ----------------------------------------\n",
            "    Training:\n",
            "    Loss                      = 0.8526\n",
            "    Accuracy (Alternate)      = 0.64%\n",
            "\n",
            "    Validation:\n",
            "    Loss                      = 0.8598\n",
            "    Accuracy (Alternate)      = 0.65%\n",
            "    \n",
            "No improvement in val loss Counter = 1/10\n"
          ]
        },
        {
          "ename": "KeyboardInterrupt",
          "evalue": "",
          "output_type": "error",
          "traceback": [
            "\u001b[0;31m---------------------------------------------------------------------------\u001b[0m",
            "\u001b[0;31mKeyboardInterrupt\u001b[0m                         Traceback (most recent call last)",
            "\u001b[0;32m/tmp/ipython-input-3361379186.py\u001b[0m in \u001b[0;36m<cell line: 0>\u001b[0;34m()\u001b[0m\n\u001b[1;32m     17\u001b[0m \u001b[0;32mfor\u001b[0m \u001b[0mepoch\u001b[0m \u001b[0;32min\u001b[0m \u001b[0mrange\u001b[0m\u001b[0;34m(\u001b[0m\u001b[0;36m1\u001b[0m\u001b[0;34m,\u001b[0m \u001b[0mhyperparameters\u001b[0m\u001b[0;34m[\u001b[0m\u001b[0;34m'epochs'\u001b[0m\u001b[0;34m]\u001b[0m\u001b[0;34m+\u001b[0m\u001b[0;36m1\u001b[0m\u001b[0;34m)\u001b[0m\u001b[0;34m:\u001b[0m\u001b[0;34m\u001b[0m\u001b[0;34m\u001b[0m\u001b[0m\n\u001b[1;32m     18\u001b[0m     \u001b[0;32mif\u001b[0m \u001b[0minfo\u001b[0m\u001b[0;34m[\u001b[0m\u001b[0;34m'precision'\u001b[0m\u001b[0;34m]\u001b[0m \u001b[0;34m==\u001b[0m \u001b[0;34m'FP16'\u001b[0m\u001b[0;34m:\u001b[0m\u001b[0;34m\u001b[0m\u001b[0;34m\u001b[0m\u001b[0m\n\u001b[0;32m---> 19\u001b[0;31m       train_loss, train_accuracy_alt = train16(\n\u001b[0m\u001b[1;32m     20\u001b[0m             \u001b[0mmodel\u001b[0m\u001b[0;34m,\u001b[0m\u001b[0;34m\u001b[0m\u001b[0;34m\u001b[0m\u001b[0m\n\u001b[1;32m     21\u001b[0m             \u001b[0mtrain_loader\u001b[0m\u001b[0;34m,\u001b[0m\u001b[0;34m\u001b[0m\u001b[0;34m\u001b[0m\u001b[0m\n",
            "\u001b[0;32m/tmp/ipython-input-4185934660.py\u001b[0m in \u001b[0;36mtrain16\u001b[0;34m(model, loader, ce_alt, optimizer, scaler, scheduler)\u001b[0m\n\u001b[1;32m     50\u001b[0m     \u001b[0mrunning_loss\u001b[0m\u001b[0;34m,\u001b[0m \u001b[0mcorrect_alt\u001b[0m\u001b[0;34m,\u001b[0m \u001b[0mtotal\u001b[0m \u001b[0;34m=\u001b[0m \u001b[0;36m0.0\u001b[0m\u001b[0;34m,\u001b[0m \u001b[0;36m0\u001b[0m\u001b[0;34m,\u001b[0m \u001b[0;36m0\u001b[0m\u001b[0;34m\u001b[0m\u001b[0;34m\u001b[0m\u001b[0m\n\u001b[1;32m     51\u001b[0m \u001b[0;34m\u001b[0m\u001b[0m\n\u001b[0;32m---> 52\u001b[0;31m     \u001b[0;32mfor\u001b[0m \u001b[0mx\u001b[0m\u001b[0;34m,\u001b[0m \u001b[0my_alt\u001b[0m \u001b[0;32min\u001b[0m \u001b[0mloader\u001b[0m\u001b[0;34m:\u001b[0m\u001b[0;34m\u001b[0m\u001b[0;34m\u001b[0m\u001b[0m\n\u001b[0m\u001b[1;32m     53\u001b[0m         \u001b[0moptimizer\u001b[0m\u001b[0;34m.\u001b[0m\u001b[0mzero_grad\u001b[0m\u001b[0;34m(\u001b[0m\u001b[0;34m)\u001b[0m\u001b[0;34m\u001b[0m\u001b[0;34m\u001b[0m\u001b[0m\n\u001b[1;32m     54\u001b[0m \u001b[0;34m\u001b[0m\u001b[0m\n",
            "\u001b[0;32m/usr/local/lib/python3.12/dist-packages/torch/utils/data/dataloader.py\u001b[0m in \u001b[0;36m__next__\u001b[0;34m(self)\u001b[0m\n\u001b[1;32m    732\u001b[0m                 \u001b[0;31m# TODO(https://github.com/pytorch/pytorch/issues/76750)\u001b[0m\u001b[0;34m\u001b[0m\u001b[0;34m\u001b[0m\u001b[0m\n\u001b[1;32m    733\u001b[0m                 \u001b[0mself\u001b[0m\u001b[0;34m.\u001b[0m\u001b[0m_reset\u001b[0m\u001b[0;34m(\u001b[0m\u001b[0;34m)\u001b[0m  \u001b[0;31m# type: ignore[call-arg]\u001b[0m\u001b[0;34m\u001b[0m\u001b[0;34m\u001b[0m\u001b[0m\n\u001b[0;32m--> 734\u001b[0;31m             \u001b[0mdata\u001b[0m \u001b[0;34m=\u001b[0m \u001b[0mself\u001b[0m\u001b[0;34m.\u001b[0m\u001b[0m_next_data\u001b[0m\u001b[0;34m(\u001b[0m\u001b[0;34m)\u001b[0m\u001b[0;34m\u001b[0m\u001b[0;34m\u001b[0m\u001b[0m\n\u001b[0m\u001b[1;32m    735\u001b[0m             \u001b[0mself\u001b[0m\u001b[0;34m.\u001b[0m\u001b[0m_num_yielded\u001b[0m \u001b[0;34m+=\u001b[0m \u001b[0;36m1\u001b[0m\u001b[0;34m\u001b[0m\u001b[0;34m\u001b[0m\u001b[0m\n\u001b[1;32m    736\u001b[0m             if (\n",
            "\u001b[0;32m/usr/local/lib/python3.12/dist-packages/torch/utils/data/dataloader.py\u001b[0m in \u001b[0;36m_next_data\u001b[0;34m(self)\u001b[0m\n\u001b[1;32m    788\u001b[0m     \u001b[0;32mdef\u001b[0m \u001b[0m_next_data\u001b[0m\u001b[0;34m(\u001b[0m\u001b[0mself\u001b[0m\u001b[0;34m)\u001b[0m\u001b[0;34m:\u001b[0m\u001b[0;34m\u001b[0m\u001b[0;34m\u001b[0m\u001b[0m\n\u001b[1;32m    789\u001b[0m         \u001b[0mindex\u001b[0m \u001b[0;34m=\u001b[0m \u001b[0mself\u001b[0m\u001b[0;34m.\u001b[0m\u001b[0m_next_index\u001b[0m\u001b[0;34m(\u001b[0m\u001b[0;34m)\u001b[0m  \u001b[0;31m# may raise StopIteration\u001b[0m\u001b[0;34m\u001b[0m\u001b[0;34m\u001b[0m\u001b[0m\n\u001b[0;32m--> 790\u001b[0;31m         \u001b[0mdata\u001b[0m \u001b[0;34m=\u001b[0m \u001b[0mself\u001b[0m\u001b[0;34m.\u001b[0m\u001b[0m_dataset_fetcher\u001b[0m\u001b[0;34m.\u001b[0m\u001b[0mfetch\u001b[0m\u001b[0;34m(\u001b[0m\u001b[0mindex\u001b[0m\u001b[0;34m)\u001b[0m  \u001b[0;31m# may raise StopIteration\u001b[0m\u001b[0;34m\u001b[0m\u001b[0;34m\u001b[0m\u001b[0m\n\u001b[0m\u001b[1;32m    791\u001b[0m         \u001b[0;32mif\u001b[0m \u001b[0mself\u001b[0m\u001b[0;34m.\u001b[0m\u001b[0m_pin_memory\u001b[0m\u001b[0;34m:\u001b[0m\u001b[0;34m\u001b[0m\u001b[0;34m\u001b[0m\u001b[0m\n\u001b[1;32m    792\u001b[0m             \u001b[0mdata\u001b[0m \u001b[0;34m=\u001b[0m \u001b[0m_utils\u001b[0m\u001b[0;34m.\u001b[0m\u001b[0mpin_memory\u001b[0m\u001b[0;34m.\u001b[0m\u001b[0mpin_memory\u001b[0m\u001b[0;34m(\u001b[0m\u001b[0mdata\u001b[0m\u001b[0;34m,\u001b[0m \u001b[0mself\u001b[0m\u001b[0;34m.\u001b[0m\u001b[0m_pin_memory_device\u001b[0m\u001b[0;34m)\u001b[0m\u001b[0;34m\u001b[0m\u001b[0;34m\u001b[0m\u001b[0m\n",
            "\u001b[0;32m/usr/local/lib/python3.12/dist-packages/torch/utils/data/_utils/fetch.py\u001b[0m in \u001b[0;36mfetch\u001b[0;34m(self, possibly_batched_index)\u001b[0m\n\u001b[1;32m     48\u001b[0m         \u001b[0;32mif\u001b[0m \u001b[0mself\u001b[0m\u001b[0;34m.\u001b[0m\u001b[0mauto_collation\u001b[0m\u001b[0;34m:\u001b[0m\u001b[0;34m\u001b[0m\u001b[0;34m\u001b[0m\u001b[0m\n\u001b[1;32m     49\u001b[0m             \u001b[0;32mif\u001b[0m \u001b[0mhasattr\u001b[0m\u001b[0;34m(\u001b[0m\u001b[0mself\u001b[0m\u001b[0;34m.\u001b[0m\u001b[0mdataset\u001b[0m\u001b[0;34m,\u001b[0m \u001b[0;34m\"__getitems__\"\u001b[0m\u001b[0;34m)\u001b[0m \u001b[0;32mand\u001b[0m \u001b[0mself\u001b[0m\u001b[0;34m.\u001b[0m\u001b[0mdataset\u001b[0m\u001b[0;34m.\u001b[0m\u001b[0m__getitems__\u001b[0m\u001b[0;34m:\u001b[0m\u001b[0;34m\u001b[0m\u001b[0;34m\u001b[0m\u001b[0m\n\u001b[0;32m---> 50\u001b[0;31m                 \u001b[0mdata\u001b[0m \u001b[0;34m=\u001b[0m \u001b[0mself\u001b[0m\u001b[0;34m.\u001b[0m\u001b[0mdataset\u001b[0m\u001b[0;34m.\u001b[0m\u001b[0m__getitems__\u001b[0m\u001b[0;34m(\u001b[0m\u001b[0mpossibly_batched_index\u001b[0m\u001b[0;34m)\u001b[0m\u001b[0;34m\u001b[0m\u001b[0;34m\u001b[0m\u001b[0m\n\u001b[0m\u001b[1;32m     51\u001b[0m             \u001b[0;32melse\u001b[0m\u001b[0;34m:\u001b[0m\u001b[0;34m\u001b[0m\u001b[0;34m\u001b[0m\u001b[0m\n\u001b[1;32m     52\u001b[0m                 \u001b[0mdata\u001b[0m \u001b[0;34m=\u001b[0m \u001b[0;34m[\u001b[0m\u001b[0mself\u001b[0m\u001b[0;34m.\u001b[0m\u001b[0mdataset\u001b[0m\u001b[0;34m[\u001b[0m\u001b[0midx\u001b[0m\u001b[0;34m]\u001b[0m \u001b[0;32mfor\u001b[0m \u001b[0midx\u001b[0m \u001b[0;32min\u001b[0m \u001b[0mpossibly_batched_index\u001b[0m\u001b[0;34m]\u001b[0m\u001b[0;34m\u001b[0m\u001b[0;34m\u001b[0m\u001b[0m\n",
            "\u001b[0;32m/usr/local/lib/python3.12/dist-packages/torch/utils/data/dataset.py\u001b[0m in \u001b[0;36m__getitems__\u001b[0;34m(self, indices)\u001b[0m\n\u001b[1;32m    414\u001b[0m             \u001b[0;32mreturn\u001b[0m \u001b[0mself\u001b[0m\u001b[0;34m.\u001b[0m\u001b[0mdataset\u001b[0m\u001b[0;34m.\u001b[0m\u001b[0m__getitems__\u001b[0m\u001b[0;34m(\u001b[0m\u001b[0;34m[\u001b[0m\u001b[0mself\u001b[0m\u001b[0;34m.\u001b[0m\u001b[0mindices\u001b[0m\u001b[0;34m[\u001b[0m\u001b[0midx\u001b[0m\u001b[0;34m]\u001b[0m \u001b[0;32mfor\u001b[0m \u001b[0midx\u001b[0m \u001b[0;32min\u001b[0m \u001b[0mindices\u001b[0m\u001b[0;34m]\u001b[0m\u001b[0;34m)\u001b[0m  \u001b[0;31m# type: ignore[attr-defined]\u001b[0m\u001b[0;34m\u001b[0m\u001b[0;34m\u001b[0m\u001b[0m\n\u001b[1;32m    415\u001b[0m         \u001b[0;32melse\u001b[0m\u001b[0;34m:\u001b[0m\u001b[0;34m\u001b[0m\u001b[0;34m\u001b[0m\u001b[0m\n\u001b[0;32m--> 416\u001b[0;31m             \u001b[0;32mreturn\u001b[0m \u001b[0;34m[\u001b[0m\u001b[0mself\u001b[0m\u001b[0;34m.\u001b[0m\u001b[0mdataset\u001b[0m\u001b[0;34m[\u001b[0m\u001b[0mself\u001b[0m\u001b[0;34m.\u001b[0m\u001b[0mindices\u001b[0m\u001b[0;34m[\u001b[0m\u001b[0midx\u001b[0m\u001b[0;34m]\u001b[0m\u001b[0;34m]\u001b[0m \u001b[0;32mfor\u001b[0m \u001b[0midx\u001b[0m \u001b[0;32min\u001b[0m \u001b[0mindices\u001b[0m\u001b[0;34m]\u001b[0m\u001b[0;34m\u001b[0m\u001b[0;34m\u001b[0m\u001b[0m\n\u001b[0m\u001b[1;32m    417\u001b[0m \u001b[0;34m\u001b[0m\u001b[0m\n\u001b[1;32m    418\u001b[0m     \u001b[0;32mdef\u001b[0m \u001b[0m__len__\u001b[0m\u001b[0;34m(\u001b[0m\u001b[0mself\u001b[0m\u001b[0;34m)\u001b[0m\u001b[0;34m:\u001b[0m\u001b[0;34m\u001b[0m\u001b[0;34m\u001b[0m\u001b[0m\n",
            "\u001b[0;32m/tmp/ipython-input-3826048707.py\u001b[0m in \u001b[0;36m__getitem__\u001b[0;34m(self, index)\u001b[0m\n\u001b[1;32m     15\u001b[0m \u001b[0;34m\u001b[0m\u001b[0m\n\u001b[1;32m     16\u001b[0m   \u001b[0;32mdef\u001b[0m \u001b[0m__getitem__\u001b[0m\u001b[0;34m(\u001b[0m\u001b[0mself\u001b[0m\u001b[0;34m,\u001b[0m \u001b[0mindex\u001b[0m\u001b[0;34m)\u001b[0m\u001b[0;34m:\u001b[0m\u001b[0;34m\u001b[0m\u001b[0;34m\u001b[0m\u001b[0m\n\u001b[0;32m---> 17\u001b[0;31m     \u001b[0mx\u001b[0m \u001b[0;34m=\u001b[0m \u001b[0mtorch\u001b[0m\u001b[0;34m.\u001b[0m\u001b[0mtensor\u001b[0m\u001b[0;34m(\u001b[0m\u001b[0mget_tensor\u001b[0m\u001b[0;34m(\u001b[0m\u001b[0mself\u001b[0m\u001b[0;34m.\u001b[0m\u001b[0mx_frame\u001b[0m\u001b[0;34m[\u001b[0m\u001b[0mindex\u001b[0m\u001b[0;34m]\u001b[0m\u001b[0;34m)\u001b[0m\u001b[0;34m,\u001b[0m \u001b[0mdtype\u001b[0m\u001b[0;34m=\u001b[0m\u001b[0mtorch\u001b[0m\u001b[0;34m.\u001b[0m\u001b[0mlong\u001b[0m\u001b[0;34m)\u001b[0m\u001b[0;34m\u001b[0m\u001b[0;34m\u001b[0m\u001b[0m\n\u001b[0m\u001b[1;32m     18\u001b[0m     \u001b[0my_alt\u001b[0m \u001b[0;34m=\u001b[0m \u001b[0mtorch\u001b[0m\u001b[0;34m.\u001b[0m\u001b[0mtensor\u001b[0m\u001b[0;34m(\u001b[0m\u001b[0mself\u001b[0m\u001b[0;34m.\u001b[0m\u001b[0my_alt_frame\u001b[0m\u001b[0;34m[\u001b[0m\u001b[0mindex\u001b[0m\u001b[0;34m]\u001b[0m\u001b[0;34m,\u001b[0m \u001b[0mdtype\u001b[0m\u001b[0;34m=\u001b[0m\u001b[0mtorch\u001b[0m\u001b[0;34m.\u001b[0m\u001b[0mlong\u001b[0m\u001b[0;34m)\u001b[0m\u001b[0;34m\u001b[0m\u001b[0;34m\u001b[0m\u001b[0m\n\u001b[1;32m     19\u001b[0m \u001b[0;34m\u001b[0m\u001b[0m\n",
            "\u001b[0;31mKeyboardInterrupt\u001b[0m: "
          ]
        }
      ],
      "source": [
        "import os\n",
        "\n",
        "patience = 10\n",
        "best_val_loss = float('inf')\n",
        "counter = 0\n",
        "early_stop = False\n",
        "\n",
        "train_loss_history = []\n",
        "train_alt_acc_history = []\n",
        "\n",
        "validation_loss_history = []\n",
        "validation_alt_acc_history = []\n",
        "\n",
        "save_dir = f\"/content/drive/MyDrive/{info['dir_name']}\"\n",
        "os.makedirs(save_dir, exist_ok=True)\n",
        "\n",
        "for epoch in range(1, hyperparameters['epochs']+1):\n",
        "    if info['precision'] == 'FP16':\n",
        "      train_loss, train_accuracy_alt = train16(\n",
        "            model,\n",
        "            train_loader,\n",
        "            ce_alt,\n",
        "            optimizer,\n",
        "            scaler,\n",
        "            scheduler\n",
        "        )\n",
        "    else:\n",
        "      train_loss, train_accuracy_alt = train32(\n",
        "          model,\n",
        "          train_loader,\n",
        "          ce_alt,\n",
        "          optimizer\n",
        "      )\n",
        "\n",
        "    validation_loss, validation_accuracy_alt = validation(\n",
        "        model,\n",
        "        test_loader,\n",
        "        ce_alt,\n",
        "    )\n",
        "\n",
        "    train_loss_history.append(train_loss)\n",
        "    train_alt_acc_history.append(train_accuracy_alt)\n",
        "\n",
        "    validation_loss_history.append(validation_loss)\n",
        "    validation_alt_acc_history.append(validation_accuracy_alt)\n",
        "\n",
        "    print(f\"\"\"\n",
        "    Epoch ({epoch}/{hyperparameters['epochs']}):\n",
        "    ----------------------------------------\n",
        "    Training:\n",
        "    Loss                      = {train_loss:.4f}\n",
        "    Accuracy (Alternate)      = {train_accuracy_alt:.2f}%\n",
        "\n",
        "    Validation:\n",
        "    Loss                      = {validation_loss:.4f}\n",
        "    Accuracy (Alternate)      = {validation_accuracy_alt:.2f}%\n",
        "    \"\"\")\n",
        "\n",
        "    if (epoch+1) % 10 == 0:\n",
        "      checkpoint_path = f\"{save_dir}/model_{info['run']}_epoch_{epoch+1}.pth\"\n",
        "      torch.save({\n",
        "          'epoch': epoch+1,\n",
        "          'model_state_dict': model.state_dict(),\n",
        "          'optimizer_state_dict': optimizer.state_dict(),\n",
        "          'Training Loss': train_loss,\n",
        "          'Training Accuracy Alternate': train_accuracy_alt,\n",
        "          'Validation Loss': validation_loss,\n",
        "          'Validation Accuracy Alternate': validation_accuracy_alt,\n",
        "      }, checkpoint_path)\n",
        "      print(f\"Model saved at {checkpoint_path}\")\n",
        "\n",
        "\n",
        "    if validation_loss < best_val_loss:\n",
        "        best_val_loss = validation_loss\n",
        "        counter = 0\n",
        "        continue\n",
        "    else:\n",
        "        counter += 1\n",
        "        print(f\"No improvement in val loss Counter = {counter}/{patience}\")\n",
        "        if counter >= patience:\n",
        "            print(\"Early stopping triggered!\")\n",
        "            early_stop = True\n",
        "            break"
      ]
    },
    {
      "cell_type": "code",
      "execution_count": 20,
      "id": "748bf437",
      "metadata": {
        "id": "748bf437"
      },
      "outputs": [],
      "source": [
        "def get_predictions_and_labels(model, loader):\n",
        "    model.eval()\n",
        "    all_y_true_alt = []\n",
        "\n",
        "    all_y_pred_alt = []\n",
        "\n",
        "    with torch.no_grad():\n",
        "        for x, y_alt in loader:\n",
        "            x = x.to(device)\n",
        "            y_alt= y_alt.to(device)\n",
        "\n",
        "            y_alt_out = model(x)\n",
        "\n",
        "            _, pred_alt = torch.max(y_alt_out, 1)\n",
        "\n",
        "            all_y_true_alt.extend(y_alt.cpu().numpy())\n",
        "\n",
        "            all_y_pred_alt.extend(pred_alt.cpu().numpy())\n",
        "\n",
        "    return (\n",
        "        (all_y_true_alt, all_y_pred_alt)\n",
        "    )"
      ]
    },
    {
      "cell_type": "code",
      "execution_count": 21,
      "id": "f6fa320c",
      "metadata": {
        "colab": {
          "base_uri": "https://localhost:8080/"
        },
        "id": "f6fa320c",
        "outputId": "81489cf3-1cee-4819-c457-a9843bc0dd97"
      },
      "outputs": [
        {
          "name": "stdout",
          "output_type": "stream",
          "text": [
            "\n",
            "============================================================\n",
            "Classification Report Summary\n",
            "============================================================\n",
            "\n",
            "[1] Classification Report — Alternate Label\n",
            "------------------------------------------------------------\n",
            "              precision    recall  f1-score   support\n",
            "\n",
            "           0       0.64      0.72      0.68      5743\n",
            "           1       0.65      0.72      0.68      5842\n",
            "           2       0.63      0.59      0.61      4267\n",
            "           3       0.66      0.50      0.57      4148\n",
            "\n",
            "    accuracy                           0.65     20000\n",
            "   macro avg       0.65      0.63      0.63     20000\n",
            "weighted avg       0.65      0.65      0.64     20000\n",
            "\n",
            "============================================================\n",
            "\n"
          ]
        }
      ],
      "source": [
        "from sklearn.metrics import classification_report\n",
        "\n",
        "(y_alt_true, y_alt_pred)= get_predictions_and_labels(model, test_loader)\n",
        "\n",
        "print(\"\\n\" + \"=\"*60)\n",
        "print(\"Classification Report Summary\")\n",
        "print(\"=\"*60)\n",
        "\n",
        "print(\"\\n[1] Classification Report — Alternate Label\")\n",
        "print(\"-\" * 60)\n",
        "print(classification_report(y_alt_true, y_alt_pred))\n",
        "\n",
        "print(\"=\"*60 + \"\\n\")\n"
      ]
    },
    {
      "cell_type": "code",
      "execution_count": 22,
      "id": "16cfde04",
      "metadata": {
        "colab": {
          "base_uri": "https://localhost:8080/",
          "height": 470
        },
        "id": "16cfde04",
        "outputId": "d315de9c-edb5-4f22-94aa-377b2dd78c02"
      },
      "outputs": [
        {
          "data": {
            "text/plain": [
              "<sklearn.metrics._plot.confusion_matrix.ConfusionMatrixDisplay at 0x789b81a65640>"
            ]
          },
          "execution_count": 22,
          "metadata": {},
          "output_type": "execute_result"
        },
        {
          "data": {
            "image/png": "[encoded data removed]",
            "text/plain": [
              "<Figure size 640x480 with 2 Axes>"
            ]
          },
          "metadata": {},
          "output_type": "display_data"
        }
      ],
      "source": [
        "from sklearn.metrics import confusion_matrix, ConfusionMatrixDisplay\n",
        "\n",
        "cm = confusion_matrix(y_alt_true, y_alt_pred)\n",
        "disp = ConfusionMatrixDisplay(confusion_matrix=cm)\n",
        "disp.plot(xticks_rotation=45)"
      ]
    },
    {
      "cell_type": "code",
      "execution_count": 23,
      "id": "a25ad7f9",
      "metadata": {
        "colab": {
          "base_uri": "https://localhost:8080/",
          "height": 1000
        },
        "id": "a25ad7f9",
        "outputId": "8a015589-a584-4816-9a9d-cee931cb81b9"
      },
      "outputs": [
        {
          "data": {
            "image/png": "[encoded data removed]",
            "text/plain": [
              "<Figure size 1000x600 with 1 Axes>"
            ]
          },
          "metadata": {},
          "output_type": "display_data"
        },
        {
          "data": {
            "image/png": "[encoded data removed]",
            "text/plain": [
              "<Figure size 1000x600 with 1 Axes>"
            ]
          },
          "metadata": {},
          "output_type": "display_data"
        }
      ],
      "source": [
        "import seaborn as sns\n",
        "import matplotlib.pyplot as plt\n",
        "import pandas as pd\n",
        "\n",
        "epochs = list(range(1, len(train_loss_history) + 1))\n",
        "\n",
        "data = {\n",
        "    'Epoch': epochs * 2,\n",
        "    'Loss': train_loss_history + validation_loss_history,\n",
        "    'Accuracy_Alt': train_alt_acc_history + validation_alt_acc_history,\n",
        "    'Set': ['Train'] * len(epochs) + ['Validation'] * len(epochs)\n",
        "}\n",
        "\n",
        "df = pd.DataFrame(data)\n",
        "\n",
        "sns.set(style=\"whitegrid\")\n",
        "\n",
        "plt.figure(figsize=(10, 6))\n",
        "sns.lineplot(data=df, x='Epoch', y='Loss', hue='Set', marker='o')\n",
        "plt.title(\"Training vs Validation Loss\")\n",
        "plt.ylabel(\"Loss\")\n",
        "plt.xlabel(\"Epoch\")\n",
        "plt.tight_layout()\n",
        "plt.show()\n",
        "\n",
        "plt.figure(figsize=(10, 6))\n",
        "sns.lineplot(data=df, x='Epoch', y='Accuracy_Alt', hue='Set', marker='o')\n",
        "plt.title(\"Alternate Accuracy: Training vs Validation\")\n",
        "plt.ylabel(\"Accuracy (%)\")\n",
        "plt.xlabel(\"Epoch\")\n",
        "plt.tight_layout()\n",
        "plt.show()"
      ]
    },
    {
      "cell_type": "code",
      "execution_count": 23,
      "id": "KGa39q0IxU84",
      "metadata": {
        "id": "KGa39q0IxU84"
      },
      "outputs": [],
      "source": []
    }
  ],
  "metadata": {
    "accelerator": "GPU",
    "colab": {
      "gpuType": "L4",
      "machine_shape": "hm",
      "provenance": []
    },
    "kernelspec": {
      "display_name": "Python 3",
      "name": "python3"
    },
    "language_info": {
      "codemirror_mode": {
        "name": "ipython",
        "version": 3
      },
      "file_extension": ".py",
      "mimetype": "text/x-python",
      "name": "python",
      "nbconvert_exporter": "python",
      "pygments_lexer": "ipython3",
      "version": "3.10.0"
    }
  },
  "nbformat": 4,
  "nbformat_minor": 5
}
