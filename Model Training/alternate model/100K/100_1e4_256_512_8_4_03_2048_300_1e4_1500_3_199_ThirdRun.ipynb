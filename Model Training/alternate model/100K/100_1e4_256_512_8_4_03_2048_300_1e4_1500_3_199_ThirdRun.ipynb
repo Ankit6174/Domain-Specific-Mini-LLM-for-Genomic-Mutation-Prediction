{
  "cells": [
    {
      "cell_type": "code",
      "execution_count": 22,
      "id": "f2508c25",
      "metadata": {
        "id": "f2508c25"
      },
      "outputs": [],
      "source": [
        "hyperparameters = {\n",
        "    \"learning_rate\": 1e-4,\n",
        "    \"batch_size\": 256,\n",
        "    \"embed_dim\": 512,\n",
        "    \"num_heads\": 8,\n",
        "    \"num_layers\": 4,\n",
        "    \"dropout\": 0.3,\n",
        "    \"ff_dim\": 2048,\n",
        "    \"epochs\": 300,\n",
        "    \"weight_decay\": 1e-4,\n",
        "    \"num_warmup_steps\": 1500,\n",
        "    \"k-mers\": 3,\n",
        "    \"max_len\": 199,\n",
        "}\n",
        "\n",
        "info = {\n",
        "    \"dataset_size\": \"100K\",\n",
        "    \"precision\": \"FP16\",\n",
        "    \"dir_name\": \"Alternate Model\",\n",
        "    \"run\": \"Third Run\",\n",
        "    \"ce_mut\": \"un-weighted\"\n",
        "}"
      ]
    },
    {
      "cell_type": "code",
      "execution_count": 23,
      "id": "07396a26",
      "metadata": {
        "colab": {
          "base_uri": "https://localhost:8080/"
        },
        "id": "07396a26",
        "outputId": "bb12f431-ccb3-4d4e-aa3b-89a5cc9bcbad"
      },
      "outputs": [
        {
          "output_type": "stream",
          "name": "stdout",
          "text": [
            "Drive already mounted at /content/drive; to attempt to forcibly remount, call drive.mount(\"/content/drive\", force_remount=True).\n"
          ]
        }
      ],
      "source": [
        "from google.colab import drive\n",
        "drive.mount('/content/drive')"
      ]
    },
    {
      "cell_type": "code",
      "execution_count": 24,
      "id": "ece2e0fe",
      "metadata": {
        "colab": {
          "base_uri": "https://localhost:8080/"
        },
        "id": "ece2e0fe",
        "outputId": "9ee46af4-4a9d-48f5-af7d-6c5c3e7d65a0"
      },
      "outputs": [
        {
          "output_type": "execute_result",
          "data": {
            "text/plain": [
              "(100000, 10)"
            ]
          },
          "metadata": {},
          "execution_count": 24
        }
      ],
      "source": [
        "import pandas as pd\n",
        "\n",
        "data_path = f\"/content/drive/MyDrive/dataset/{info['dataset_size']}.csv\"\n",
        "\n",
        "data = pd.read_csv(data_path)\n",
        "data.shape"
      ]
    },
    {
      "cell_type": "code",
      "execution_count": 25,
      "id": "1e2fe762",
      "metadata": {
        "id": "1e2fe762"
      },
      "outputs": [],
      "source": [
        "data['alt'] = data['alt'].map({'A': 0, 'T': 1, 'G': 2, 'C': 3})"
      ]
    },
    {
      "cell_type": "code",
      "execution_count": 26,
      "id": "ea96c6f3",
      "metadata": {
        "id": "ea96c6f3"
      },
      "outputs": [],
      "source": [
        "x = data['sequence']\n",
        "y_alt = data['alt']"
      ]
    },
    {
      "cell_type": "code",
      "execution_count": 27,
      "id": "_9zrR1j0v-VR",
      "metadata": {
        "id": "_9zrR1j0v-VR"
      },
      "outputs": [],
      "source": [
        "import pickle\n",
        "\n",
        "with open(\"vocab.pkl\", \"rb\") as file:\n",
        "    vocab = pickle.load(file)\n",
        "\n",
        "def get_codon(seq, k=3):\n",
        "    return [seq[i:i+k] for i in range(len(seq) - k + 1)]\n",
        "\n",
        "def get_tensor(text):\n",
        "    return [vocab.get(codons.lower(), vocab['<UNK>']) for codons in get_codon(text)]"
      ]
    },
    {
      "cell_type": "code",
      "execution_count": 28,
      "id": "0bc535f2",
      "metadata": {
        "id": "0bc535f2"
      },
      "outputs": [],
      "source": [
        "import torch\n",
        "from torch.utils.data import Dataset\n",
        "\n",
        "class CustomDataset(Dataset):\n",
        "  def __init__(\n",
        "      self,\n",
        "      x,\n",
        "      y_alt\n",
        "  ):\n",
        "    self.x_frame = x\n",
        "    self.y_alt_frame = y_alt\n",
        "\n",
        "  def __len__(self):\n",
        "    return len(self.x_frame)\n",
        "\n",
        "  def __getitem__(self, index):\n",
        "    x = torch.tensor(get_tensor(self.x_frame[index]), dtype=torch.long)\n",
        "    y_alt = torch.tensor(self.y_alt_frame[index], dtype=torch.long)\n",
        "\n",
        "    return (\n",
        "      x,\n",
        "      y_alt\n",
        "    )"
      ]
    },
    {
      "cell_type": "code",
      "execution_count": 29,
      "id": "JxQsRYLyv-VS",
      "metadata": {
        "id": "JxQsRYLyv-VS"
      },
      "outputs": [],
      "source": [
        "dataset = CustomDataset(\n",
        "    x,\n",
        "    y_alt\n",
        ")"
      ]
    },
    {
      "cell_type": "code",
      "execution_count": 30,
      "id": "8hR-7h2Uv-VT",
      "metadata": {
        "id": "8hR-7h2Uv-VT"
      },
      "outputs": [],
      "source": [
        "from torch.utils.data import random_split\n",
        "\n",
        "train_size = int(0.8 * len(dataset))\n",
        "test_size = len(dataset) - train_size\n",
        "\n",
        "train_dataset, test_dataset = random_split(dataset, [train_size, test_size])"
      ]
    },
    {
      "cell_type": "code",
      "execution_count": 31,
      "id": "vn14FOnwv-VT",
      "metadata": {
        "id": "vn14FOnwv-VT"
      },
      "outputs": [],
      "source": [
        "from torch.utils.data import DataLoader\n",
        "\n",
        "train_loader = DataLoader(\n",
        "    train_dataset,\n",
        "    batch_size=hyperparameters['batch_size'],\n",
        "    shuffle=True\n",
        ")\n",
        "test_loader = DataLoader(\n",
        "    test_dataset,\n",
        "    batch_size=hyperparameters['batch_size']\n",
        ")"
      ]
    },
    {
      "cell_type": "code",
      "execution_count": 32,
      "id": "6LMlvvYpv-VU",
      "metadata": {
        "id": "6LMlvvYpv-VU"
      },
      "outputs": [],
      "source": [
        "from torch import nn\n",
        "import math\n",
        "\n",
        "class PositionalEncoding(nn.Module):\n",
        "    def __init__(self, embed_dim, max_len=5000):\n",
        "        super().__init__()\n",
        "\n",
        "        pe = torch.zeros(max_len, embed_dim)\n",
        "        position = torch.arange(0, max_len).unsqueeze(1)\n",
        "\n",
        "        div_term = torch.exp((torch.arange(0, embed_dim, 2)) * (-math.log(10000.0) / embed_dim))\n",
        "\n",
        "        pe[:, 0::2] = torch.sin(position * div_term)\n",
        "        pe[:, 1::2] = torch.cos(position * div_term)\n",
        "\n",
        "        pe = pe.unsqueeze(0)\n",
        "        self.register_buffer('pe', pe)\n",
        "\n",
        "    def forward(self, x):\n",
        "        x = x + self.pe[:, :x.size(1), :].to(x.device)\n",
        "        return x\n",
        "\n",
        "class Transformer(nn.Module):\n",
        "    def __init__(self, embed_dim=512, num_heads=8, num_layers=6, ff_dim=2048, dropout=0.1, vocab_size=10000, max_len=5000):\n",
        "        super(Transformer, self).__init__()\n",
        "        self.embeddings = nn.Embedding(vocab_size, embed_dim)\n",
        "        self.position_encoding = PositionalEncoding(embed_dim=embed_dim, max_len=max_len)\n",
        "\n",
        "        encoder_layer = nn.TransformerEncoderLayer(\n",
        "            d_model=embed_dim,\n",
        "            nhead=num_heads,\n",
        "            dim_feedforward=ff_dim,\n",
        "            dropout=dropout,\n",
        "            batch_first=True\n",
        "        )\n",
        "        self.encoder = nn.TransformerEncoder(\n",
        "            encoder_layer=encoder_layer,\n",
        "            num_layers=num_layers\n",
        "        )\n",
        "\n",
        "        self.y_alt_out = nn.Linear(embed_dim, 4)\n",
        "\n",
        "    def forward(self, x):\n",
        "        x = self.embeddings(x)\n",
        "        x = self.position_encoding(x)\n",
        "\n",
        "        x = self.encoder(x)\n",
        "        x = x.mean(dim=1)\n",
        "\n",
        "        y_alt_out = self.y_alt_out(x)\n",
        "\n",
        "        return (\n",
        "            y_alt_out\n",
        "        )"
      ]
    },
    {
      "cell_type": "code",
      "execution_count": 33,
      "id": "d1bedbfb",
      "metadata": {
        "id": "d1bedbfb"
      },
      "outputs": [],
      "source": [
        "model = Transformer(\n",
        "    embed_dim=hyperparameters['embed_dim'],\n",
        "    num_heads=hyperparameters['num_heads'],\n",
        "    num_layers=hyperparameters['num_layers'],\n",
        "    ff_dim=hyperparameters['ff_dim'],\n",
        "    dropout=hyperparameters['dropout'],\n",
        "    vocab_size=len(vocab),\n",
        "    max_len=hyperparameters['max_len']\n",
        ")"
      ]
    },
    {
      "cell_type": "code",
      "execution_count": 34,
      "id": "Lsu5lrCtv-VU",
      "metadata": {
        "id": "Lsu5lrCtv-VU",
        "colab": {
          "base_uri": "https://localhost:8080/"
        },
        "outputId": "84bc00f9-bcff-4fd3-ee7d-5cea49493851"
      },
      "outputs": [
        {
          "output_type": "execute_result",
          "data": {
            "text/plain": [
              "Transformer(\n",
              "  (embeddings): Embedding(66, 512)\n",
              "  (position_encoding): PositionalEncoding()\n",
              "  (encoder): TransformerEncoder(\n",
              "    (layers): ModuleList(\n",
              "      (0-3): 4 x TransformerEncoderLayer(\n",
              "        (self_attn): MultiheadAttention(\n",
              "          (out_proj): NonDynamicallyQuantizableLinear(in_features=512, out_features=512, bias=True)\n",
              "        )\n",
              "        (linear1): Linear(in_features=512, out_features=2048, bias=True)\n",
              "        (dropout): Dropout(p=0.3, inplace=False)\n",
              "        (linear2): Linear(in_features=2048, out_features=512, bias=True)\n",
              "        (norm1): LayerNorm((512,), eps=1e-05, elementwise_affine=True)\n",
              "        (norm2): LayerNorm((512,), eps=1e-05, elementwise_affine=True)\n",
              "        (dropout1): Dropout(p=0.3, inplace=False)\n",
              "        (dropout2): Dropout(p=0.3, inplace=False)\n",
              "      )\n",
              "    )\n",
              "  )\n",
              "  (y_alt_out): Linear(in_features=512, out_features=4, bias=True)\n",
              ")"
            ]
          },
          "metadata": {},
          "execution_count": 34
        }
      ],
      "source": [
        "device = torch.device(\"cuda\" if torch.cuda.is_available() else \"cpu\")\n",
        "model.to(device)"
      ]
    },
    {
      "cell_type": "code",
      "execution_count": 35,
      "id": "aQOSAZ8Av-VV",
      "metadata": {
        "id": "aQOSAZ8Av-VV",
        "colab": {
          "base_uri": "https://localhost:8080/"
        },
        "outputId": "78e7e4ad-7c8b-4c76-e43b-740f36681f7a"
      },
      "outputs": [
        {
          "output_type": "stream",
          "name": "stdout",
          "text": [
            "Total trainable parameters: 12645380\n"
          ]
        }
      ],
      "source": [
        "num_params = sum(p.numel() for p in model.parameters() if p.requires_grad)\n",
        "print(f\"Total trainable parameters: {num_params}\")"
      ]
    },
    {
      "cell_type": "code",
      "execution_count": 36,
      "id": "CHQdi9MYv-VW",
      "metadata": {
        "id": "CHQdi9MYv-VW",
        "colab": {
          "base_uri": "https://localhost:8080/"
        },
        "outputId": "d6895209-ed34-41f2-a29d-65d3dd2d8509"
      },
      "outputs": [
        {
          "output_type": "stream",
          "name": "stderr",
          "text": [
            "/tmp/ipython-input-1989935823.py:7: FutureWarning: `torch.cuda.amp.GradScaler(args...)` is deprecated. Please use `torch.amp.GradScaler('cuda', args...)` instead.\n",
            "  scaler = torch.cuda.amp.GradScaler()\n"
          ]
        }
      ],
      "source": [
        "from torch import optim\n",
        "from transformers import get_linear_schedule_with_warmup\n",
        "\n",
        "ce_alt = nn.CrossEntropyLoss()\n",
        "\n",
        "optimizer = optim.Adam(model.parameters(), lr=hyperparameters['learning_rate'], weight_decay=hyperparameters['weight_decay'])\n",
        "scaler = torch.cuda.amp.GradScaler()\n",
        "\n",
        "num_training_steps = len(train_loader) * hyperparameters['epochs']\n",
        "num_warmup_steps = hyperparameters['num_warmup_steps']\n",
        "\n",
        "scheduler = get_linear_schedule_with_warmup(\n",
        "    optimizer,\n",
        "    num_warmup_steps=num_warmup_steps,\n",
        "    num_training_steps=num_training_steps\n",
        ")"
      ]
    },
    {
      "cell_type": "code",
      "execution_count": 37,
      "id": "bb7ee6bd",
      "metadata": {
        "id": "bb7ee6bd"
      },
      "outputs": [],
      "source": [
        "def train32(\n",
        "    model,\n",
        "    loader,\n",
        "    ce_alt,\n",
        "    optimizer\n",
        "):\n",
        "\n",
        "    model.train()\n",
        "\n",
        "    running_loss, correct_alt, total = 0.0, 0, 0\n",
        "\n",
        "    for x, y_alt in loader:\n",
        "        optimizer.zero_grad()\n",
        "\n",
        "        x = x.to(device)\n",
        "        y_alt = y_alt.to(device)\n",
        "\n",
        "        y_alt_out = model(x)\n",
        "\n",
        "        loss = ce_alt(y_alt_out, y_alt)\n",
        "\n",
        "        pred_alt = torch.argmax(y_alt_out, dim=1)\n",
        "        correct_alt += (pred_alt == y_alt).sum().item()\n",
        "\n",
        "        total += len(x)\n",
        "\n",
        "        loss.backward()\n",
        "        optimizer.step()\n",
        "\n",
        "        running_loss += loss.item() * len(x)\n",
        "\n",
        "    accuracy_alt = correct_alt / total\n",
        "\n",
        "    return (\n",
        "        running_loss/len(loader.dataset),\n",
        "        accuracy_alt\n",
        "    )\n",
        "\n",
        "def train16(\n",
        "        model,\n",
        "        loader,\n",
        "        ce_alt,\n",
        "        optimizer,\n",
        "        scaler,\n",
        "        scheduler\n",
        "    ):\n",
        "\n",
        "    model.train()\n",
        "\n",
        "    running_loss, correct_alt, total = 0.0, 0, 0\n",
        "\n",
        "    for x, y_alt in loader:\n",
        "        optimizer.zero_grad()\n",
        "\n",
        "        x = x.to(device)\n",
        "        y_alt = y_alt.to(device)\n",
        "\n",
        "        with torch.cuda.amp.autocast():\n",
        "            y_alt_out = model(x)\n",
        "\n",
        "            loss = ce_alt(y_alt_out, y_alt)\n",
        "\n",
        "        pred_alt = torch.argmax(y_alt_out, dim=1)\n",
        "        correct_alt += (pred_alt == y_alt).sum().item()\n",
        "\n",
        "        total += len(x)\n",
        "\n",
        "        scaler.scale(loss).backward()\n",
        "        scaler.step(optimizer)\n",
        "        scaler.update()\n",
        "\n",
        "        scheduler.step()\n",
        "\n",
        "        running_loss += loss.item() * len(x)\n",
        "\n",
        "\n",
        "    accuracy_alt = correct_alt / total\n",
        "\n",
        "    return (\n",
        "        running_loss/len(loader.dataset),\n",
        "        accuracy_alt\n",
        "    )"
      ]
    },
    {
      "cell_type": "code",
      "execution_count": 38,
      "id": "85c451e4",
      "metadata": {
        "id": "85c451e4"
      },
      "outputs": [],
      "source": [
        "def validation(\n",
        "        model,\n",
        "        loader,\n",
        "        ce_alt\n",
        "):\n",
        "    model.eval()\n",
        "\n",
        "    running_loss, correct_alt, total = 0.0, 0, 0\n",
        "\n",
        "    with torch.no_grad():\n",
        "        for x, y_alt in loader:\n",
        "                x = x.to(device)\n",
        "                y_alt = y_alt.to(device)\n",
        "\n",
        "                if info['precision'] == 'FP16':\n",
        "                        with torch.cuda.amp.autocast():\n",
        "                                y_alt_out = model(x)\n",
        "\n",
        "                                loss = ce_alt(y_alt_out, y_alt)\n",
        "                else:\n",
        "                        y_alt_out = model(x)\n",
        "\n",
        "                        loss = ce_alt(y_alt_out, y_alt)\n",
        "\n",
        "\n",
        "                running_loss += loss.item() * len(x)\n",
        "\n",
        "                pred_alt = torch.argmax(y_alt_out, dim=1)\n",
        "                correct_alt += (pred_alt == y_alt).sum().item()\n",
        "\n",
        "                total += len(x)\n",
        "\n",
        "        accuracy_alt = correct_alt / total\n",
        "\n",
        "        return (\n",
        "                running_loss/len(loader.dataset),\n",
        "                accuracy_alt\n",
        "        )"
      ]
    },
    {
      "cell_type": "code",
      "execution_count": 39,
      "id": "MngCN-39v-VY",
      "metadata": {
        "id": "MngCN-39v-VY",
        "colab": {
          "base_uri": "https://localhost:8080/",
          "height": 1000
        },
        "outputId": "2e73c449-1424-4c0a-a2f4-da6a328694b8"
      },
      "outputs": [
        {
          "output_type": "stream",
          "name": "stderr",
          "text": [
            "/tmp/ipython-input-4185934660.py:58: FutureWarning: `torch.cuda.amp.autocast(args...)` is deprecated. Please use `torch.amp.autocast('cuda', args...)` instead.\n",
            "  with torch.cuda.amp.autocast():\n",
            "/tmp/ipython-input-3766136719.py:16: FutureWarning: `torch.cuda.amp.autocast(args...)` is deprecated. Please use `torch.amp.autocast('cuda', args...)` instead.\n",
            "  with torch.cuda.amp.autocast():\n"
          ]
        },
        {
          "output_type": "stream",
          "name": "stdout",
          "text": [
            "\n",
            "    Epoch (1/300):\n",
            "    ----------------------------------------\n",
            "    Training:\n",
            "    Loss                      = 1.3683\n",
            "    Accuracy (Alternate)      = 0.30%\n",
            "\n",
            "    Validation:\n",
            "    Loss                      = 1.3643\n",
            "    Accuracy (Alternate)      = 0.30%\n",
            "    \n",
            "\n",
            "    Epoch (2/300):\n",
            "    ----------------------------------------\n",
            "    Training:\n",
            "    Loss                      = 1.3019\n",
            "    Accuracy (Alternate)      = 0.36%\n",
            "\n",
            "    Validation:\n",
            "    Loss                      = 1.0377\n",
            "    Accuracy (Alternate)      = 0.59%\n",
            "    \n",
            "\n",
            "    Epoch (3/300):\n",
            "    ----------------------------------------\n",
            "    Training:\n",
            "    Loss                      = 0.9388\n",
            "    Accuracy (Alternate)      = 0.63%\n",
            "\n",
            "    Validation:\n",
            "    Loss                      = 0.9131\n",
            "    Accuracy (Alternate)      = 0.64%\n",
            "    \n",
            "\n",
            "    Epoch (4/300):\n",
            "    ----------------------------------------\n",
            "    Training:\n",
            "    Loss                      = 0.8903\n",
            "    Accuracy (Alternate)      = 0.64%\n",
            "\n",
            "    Validation:\n",
            "    Loss                      = 0.8825\n",
            "    Accuracy (Alternate)      = 0.64%\n",
            "    \n",
            "\n",
            "    Epoch (5/300):\n",
            "    ----------------------------------------\n",
            "    Training:\n",
            "    Loss                      = 0.8785\n",
            "    Accuracy (Alternate)      = 0.64%\n",
            "\n",
            "    Validation:\n",
            "    Loss                      = 0.8714\n",
            "    Accuracy (Alternate)      = 0.64%\n",
            "    \n",
            "\n",
            "    Epoch (6/300):\n",
            "    ----------------------------------------\n",
            "    Training:\n",
            "    Loss                      = 0.8726\n",
            "    Accuracy (Alternate)      = 0.64%\n",
            "\n",
            "    Validation:\n",
            "    Loss                      = 0.8716\n",
            "    Accuracy (Alternate)      = 0.64%\n",
            "    \n",
            "No improvement in val loss Counter = 1/10\n",
            "\n",
            "    Epoch (7/300):\n",
            "    ----------------------------------------\n",
            "    Training:\n",
            "    Loss                      = 0.8682\n",
            "    Accuracy (Alternate)      = 0.64%\n",
            "\n",
            "    Validation:\n",
            "    Loss                      = 0.8748\n",
            "    Accuracy (Alternate)      = 0.64%\n",
            "    \n",
            "No improvement in val loss Counter = 2/10\n",
            "\n",
            "    Epoch (8/300):\n",
            "    ----------------------------------------\n",
            "    Training:\n",
            "    Loss                      = 0.8666\n",
            "    Accuracy (Alternate)      = 0.65%\n",
            "\n",
            "    Validation:\n",
            "    Loss                      = 0.8715\n",
            "    Accuracy (Alternate)      = 0.64%\n",
            "    \n",
            "No improvement in val loss Counter = 3/10\n",
            "\n",
            "    Epoch (9/300):\n",
            "    ----------------------------------------\n",
            "    Training:\n",
            "    Loss                      = 0.8652\n",
            "    Accuracy (Alternate)      = 0.65%\n",
            "\n",
            "    Validation:\n",
            "    Loss                      = 0.8777\n",
            "    Accuracy (Alternate)      = 0.64%\n",
            "    \n",
            "Model saved at /content/drive/MyDrive/Alternate Model/model_Third Run_epoch_10.pth\n",
            "No improvement in val loss Counter = 4/10\n",
            "\n",
            "    Epoch (10/300):\n",
            "    ----------------------------------------\n",
            "    Training:\n",
            "    Loss                      = 0.8629\n",
            "    Accuracy (Alternate)      = 0.65%\n",
            "\n",
            "    Validation:\n",
            "    Loss                      = 0.8747\n",
            "    Accuracy (Alternate)      = 0.64%\n",
            "    \n",
            "No improvement in val loss Counter = 5/10\n",
            "\n",
            "    Epoch (11/300):\n",
            "    ----------------------------------------\n",
            "    Training:\n",
            "    Loss                      = 0.8614\n",
            "    Accuracy (Alternate)      = 0.64%\n",
            "\n",
            "    Validation:\n",
            "    Loss                      = 0.8681\n",
            "    Accuracy (Alternate)      = 0.64%\n",
            "    \n",
            "\n",
            "    Epoch (12/300):\n",
            "    ----------------------------------------\n",
            "    Training:\n",
            "    Loss                      = 0.8607\n",
            "    Accuracy (Alternate)      = 0.64%\n",
            "\n",
            "    Validation:\n",
            "    Loss                      = 0.8729\n",
            "    Accuracy (Alternate)      = 0.64%\n",
            "    \n",
            "No improvement in val loss Counter = 1/10\n",
            "\n",
            "    Epoch (13/300):\n",
            "    ----------------------------------------\n",
            "    Training:\n",
            "    Loss                      = 0.8574\n",
            "    Accuracy (Alternate)      = 0.65%\n",
            "\n",
            "    Validation:\n",
            "    Loss                      = 0.8735\n",
            "    Accuracy (Alternate)      = 0.64%\n",
            "    \n",
            "No improvement in val loss Counter = 2/10\n"
          ]
        },
        {
          "output_type": "error",
          "ename": "KeyboardInterrupt",
          "evalue": "",
          "traceback": [
            "\u001b[0;31m---------------------------------------------------------------------------\u001b[0m",
            "\u001b[0;31mKeyboardInterrupt\u001b[0m                         Traceback (most recent call last)",
            "\u001b[0;32m/tmp/ipython-input-2626810546.py\u001b[0m in \u001b[0;36m<cell line: 0>\u001b[0;34m()\u001b[0m\n\u001b[1;32m     17\u001b[0m \u001b[0;32mfor\u001b[0m \u001b[0mepoch\u001b[0m \u001b[0;32min\u001b[0m \u001b[0mrange\u001b[0m\u001b[0;34m(\u001b[0m\u001b[0;36m1\u001b[0m\u001b[0;34m,\u001b[0m \u001b[0mhyperparameters\u001b[0m\u001b[0;34m[\u001b[0m\u001b[0;34m'epochs'\u001b[0m\u001b[0;34m]\u001b[0m\u001b[0;34m+\u001b[0m\u001b[0;36m1\u001b[0m\u001b[0;34m)\u001b[0m\u001b[0;34m:\u001b[0m\u001b[0;34m\u001b[0m\u001b[0;34m\u001b[0m\u001b[0m\n\u001b[1;32m     18\u001b[0m     \u001b[0;32mif\u001b[0m \u001b[0minfo\u001b[0m\u001b[0;34m[\u001b[0m\u001b[0;34m'precision'\u001b[0m\u001b[0;34m]\u001b[0m \u001b[0;34m==\u001b[0m \u001b[0;34m'FP16'\u001b[0m\u001b[0;34m:\u001b[0m\u001b[0;34m\u001b[0m\u001b[0;34m\u001b[0m\u001b[0m\n\u001b[0;32m---> 19\u001b[0;31m       train_loss, train_accuracy_alt = train16(\n\u001b[0m\u001b[1;32m     20\u001b[0m             \u001b[0mmodel\u001b[0m\u001b[0;34m,\u001b[0m\u001b[0;34m\u001b[0m\u001b[0;34m\u001b[0m\u001b[0m\n\u001b[1;32m     21\u001b[0m             \u001b[0mtrain_loader\u001b[0m\u001b[0;34m,\u001b[0m\u001b[0;34m\u001b[0m\u001b[0;34m\u001b[0m\u001b[0m\n",
            "\u001b[0;32m/tmp/ipython-input-4185934660.py\u001b[0m in \u001b[0;36mtrain16\u001b[0;34m(model, loader, ce_alt, optimizer, scaler, scheduler)\u001b[0m\n\u001b[1;32m     67\u001b[0m \u001b[0;34m\u001b[0m\u001b[0m\n\u001b[1;32m     68\u001b[0m         \u001b[0mscaler\u001b[0m\u001b[0;34m.\u001b[0m\u001b[0mscale\u001b[0m\u001b[0;34m(\u001b[0m\u001b[0mloss\u001b[0m\u001b[0;34m)\u001b[0m\u001b[0;34m.\u001b[0m\u001b[0mbackward\u001b[0m\u001b[0;34m(\u001b[0m\u001b[0;34m)\u001b[0m\u001b[0;34m\u001b[0m\u001b[0;34m\u001b[0m\u001b[0m\n\u001b[0;32m---> 69\u001b[0;31m         \u001b[0mscaler\u001b[0m\u001b[0;34m.\u001b[0m\u001b[0mstep\u001b[0m\u001b[0;34m(\u001b[0m\u001b[0moptimizer\u001b[0m\u001b[0;34m)\u001b[0m\u001b[0;34m\u001b[0m\u001b[0;34m\u001b[0m\u001b[0m\n\u001b[0m\u001b[1;32m     70\u001b[0m         \u001b[0mscaler\u001b[0m\u001b[0;34m.\u001b[0m\u001b[0mupdate\u001b[0m\u001b[0;34m(\u001b[0m\u001b[0;34m)\u001b[0m\u001b[0;34m\u001b[0m\u001b[0;34m\u001b[0m\u001b[0m\n\u001b[1;32m     71\u001b[0m \u001b[0;34m\u001b[0m\u001b[0m\n",
            "\u001b[0;32m/usr/local/lib/python3.12/dist-packages/torch/amp/grad_scaler.py\u001b[0m in \u001b[0;36mstep\u001b[0;34m(self, optimizer, *args, **kwargs)\u001b[0m\n\u001b[1;32m    463\u001b[0m         ), \"No inf checks were recorded for this optimizer.\"\n\u001b[1;32m    464\u001b[0m \u001b[0;34m\u001b[0m\u001b[0m\n\u001b[0;32m--> 465\u001b[0;31m         \u001b[0mretval\u001b[0m \u001b[0;34m=\u001b[0m \u001b[0mself\u001b[0m\u001b[0;34m.\u001b[0m\u001b[0m_maybe_opt_step\u001b[0m\u001b[0;34m(\u001b[0m\u001b[0moptimizer\u001b[0m\u001b[0;34m,\u001b[0m \u001b[0moptimizer_state\u001b[0m\u001b[0;34m,\u001b[0m \u001b[0;34m*\u001b[0m\u001b[0margs\u001b[0m\u001b[0;34m,\u001b[0m \u001b[0;34m**\u001b[0m\u001b[0mkwargs\u001b[0m\u001b[0;34m)\u001b[0m\u001b[0;34m\u001b[0m\u001b[0;34m\u001b[0m\u001b[0m\n\u001b[0m\u001b[1;32m    466\u001b[0m \u001b[0;34m\u001b[0m\u001b[0m\n\u001b[1;32m    467\u001b[0m         \u001b[0moptimizer_state\u001b[0m\u001b[0;34m[\u001b[0m\u001b[0;34m\"stage\"\u001b[0m\u001b[0;34m]\u001b[0m \u001b[0;34m=\u001b[0m \u001b[0mOptState\u001b[0m\u001b[0;34m.\u001b[0m\u001b[0mSTEPPED\u001b[0m\u001b[0;34m\u001b[0m\u001b[0;34m\u001b[0m\u001b[0m\n",
            "\u001b[0;32m/usr/local/lib/python3.12/dist-packages/torch/amp/grad_scaler.py\u001b[0m in \u001b[0;36m_maybe_opt_step\u001b[0;34m(self, optimizer, optimizer_state, *args, **kwargs)\u001b[0m\n\u001b[1;32m    357\u001b[0m     ) -> Optional[float]:\n\u001b[1;32m    358\u001b[0m         \u001b[0mretval\u001b[0m\u001b[0;34m:\u001b[0m \u001b[0mOptional\u001b[0m\u001b[0;34m[\u001b[0m\u001b[0mfloat\u001b[0m\u001b[0;34m]\u001b[0m \u001b[0;34m=\u001b[0m \u001b[0;32mNone\u001b[0m\u001b[0;34m\u001b[0m\u001b[0;34m\u001b[0m\u001b[0m\n\u001b[0;32m--> 359\u001b[0;31m         \u001b[0;32mif\u001b[0m \u001b[0;32mnot\u001b[0m \u001b[0msum\u001b[0m\u001b[0;34m(\u001b[0m\u001b[0mv\u001b[0m\u001b[0;34m.\u001b[0m\u001b[0mitem\u001b[0m\u001b[0;34m(\u001b[0m\u001b[0;34m)\u001b[0m \u001b[0;32mfor\u001b[0m \u001b[0mv\u001b[0m \u001b[0;32min\u001b[0m \u001b[0moptimizer_state\u001b[0m\u001b[0;34m[\u001b[0m\u001b[0;34m\"found_inf_per_device\"\u001b[0m\u001b[0;34m]\u001b[0m\u001b[0;34m.\u001b[0m\u001b[0mvalues\u001b[0m\u001b[0;34m(\u001b[0m\u001b[0;34m)\u001b[0m\u001b[0;34m)\u001b[0m\u001b[0;34m:\u001b[0m\u001b[0;34m\u001b[0m\u001b[0;34m\u001b[0m\u001b[0m\n\u001b[0m\u001b[1;32m    360\u001b[0m             \u001b[0mretval\u001b[0m \u001b[0;34m=\u001b[0m \u001b[0moptimizer\u001b[0m\u001b[0;34m.\u001b[0m\u001b[0mstep\u001b[0m\u001b[0;34m(\u001b[0m\u001b[0;34m*\u001b[0m\u001b[0margs\u001b[0m\u001b[0;34m,\u001b[0m \u001b[0;34m**\u001b[0m\u001b[0mkwargs\u001b[0m\u001b[0;34m)\u001b[0m\u001b[0;34m\u001b[0m\u001b[0;34m\u001b[0m\u001b[0m\n\u001b[1;32m    361\u001b[0m         \u001b[0;32mreturn\u001b[0m \u001b[0mretval\u001b[0m\u001b[0;34m\u001b[0m\u001b[0;34m\u001b[0m\u001b[0m\n",
            "\u001b[0;32m/usr/local/lib/python3.12/dist-packages/torch/amp/grad_scaler.py\u001b[0m in \u001b[0;36m<genexpr>\u001b[0;34m(.0)\u001b[0m\n\u001b[1;32m    357\u001b[0m     ) -> Optional[float]:\n\u001b[1;32m    358\u001b[0m         \u001b[0mretval\u001b[0m\u001b[0;34m:\u001b[0m \u001b[0mOptional\u001b[0m\u001b[0;34m[\u001b[0m\u001b[0mfloat\u001b[0m\u001b[0;34m]\u001b[0m \u001b[0;34m=\u001b[0m \u001b[0;32mNone\u001b[0m\u001b[0;34m\u001b[0m\u001b[0;34m\u001b[0m\u001b[0m\n\u001b[0;32m--> 359\u001b[0;31m         \u001b[0;32mif\u001b[0m \u001b[0;32mnot\u001b[0m \u001b[0msum\u001b[0m\u001b[0;34m(\u001b[0m\u001b[0mv\u001b[0m\u001b[0;34m.\u001b[0m\u001b[0mitem\u001b[0m\u001b[0;34m(\u001b[0m\u001b[0;34m)\u001b[0m \u001b[0;32mfor\u001b[0m \u001b[0mv\u001b[0m \u001b[0;32min\u001b[0m \u001b[0moptimizer_state\u001b[0m\u001b[0;34m[\u001b[0m\u001b[0;34m\"found_inf_per_device\"\u001b[0m\u001b[0;34m]\u001b[0m\u001b[0;34m.\u001b[0m\u001b[0mvalues\u001b[0m\u001b[0;34m(\u001b[0m\u001b[0;34m)\u001b[0m\u001b[0;34m)\u001b[0m\u001b[0;34m:\u001b[0m\u001b[0;34m\u001b[0m\u001b[0;34m\u001b[0m\u001b[0m\n\u001b[0m\u001b[1;32m    360\u001b[0m             \u001b[0mretval\u001b[0m \u001b[0;34m=\u001b[0m \u001b[0moptimizer\u001b[0m\u001b[0;34m.\u001b[0m\u001b[0mstep\u001b[0m\u001b[0;34m(\u001b[0m\u001b[0;34m*\u001b[0m\u001b[0margs\u001b[0m\u001b[0;34m,\u001b[0m \u001b[0;34m**\u001b[0m\u001b[0mkwargs\u001b[0m\u001b[0;34m)\u001b[0m\u001b[0;34m\u001b[0m\u001b[0;34m\u001b[0m\u001b[0m\n\u001b[1;32m    361\u001b[0m         \u001b[0;32mreturn\u001b[0m \u001b[0mretval\u001b[0m\u001b[0;34m\u001b[0m\u001b[0;34m\u001b[0m\u001b[0m\n",
            "\u001b[0;31mKeyboardInterrupt\u001b[0m: "
          ]
        }
      ],
      "source": [
        "import os\n",
        "\n",
        "patience = 10\n",
        "best_val_loss = float('inf')\n",
        "counter = 0\n",
        "early_stop = False\n",
        "\n",
        "train_loss_history = []\n",
        "train_alt_acc_history = []\n",
        "\n",
        "validation_loss_history = []\n",
        "validation_alt_acc_history = []\n",
        "\n",
        "save_dir = f\"/content/drive/MyDrive/{info['dir_name']}\"\n",
        "os.makedirs(save_dir, exist_ok=True)\n",
        "\n",
        "for epoch in range(1, hyperparameters['epochs']+1):\n",
        "    if info['precision'] == 'FP16':\n",
        "      train_loss, train_accuracy_alt = train16(\n",
        "            model,\n",
        "            train_loader,\n",
        "            ce_alt,\n",
        "            optimizer,\n",
        "            scaler,\n",
        "            scheduler\n",
        "        )\n",
        "    else:\n",
        "      train_loss, train_accuracy_alt = train32(\n",
        "          model,\n",
        "          train_loader,\n",
        "          ce_alt,\n",
        "          optimizer\n",
        "      )\n",
        "\n",
        "    validation_loss, validation_accuracy_alt = validation(\n",
        "        model,\n",
        "        test_loader,\n",
        "        ce_alt,\n",
        "    )\n",
        "\n",
        "    train_loss_history.append(train_loss)\n",
        "    train_alt_acc_history.append(train_accuracy_alt)\n",
        "\n",
        "    validation_loss_history.append(validation_loss)\n",
        "    validation_alt_acc_history.append(validation_accuracy_alt)\n",
        "\n",
        "    print(f\"\"\"\n",
        "    Epoch ({epoch}/{hyperparameters['epochs']}):\n",
        "    ----------------------------------------\n",
        "    Training:\n",
        "    Loss                      = {train_loss*100:.4f}\n",
        "    Accuracy (Alternate)      = {train_accuracy_alt*100:.2f}%\n",
        "\n",
        "    Validation:\n",
        "    Loss                      = {validation_loss*100:.4f}\n",
        "    Accuracy (Alternate)      = {validation_accuracy_alt*100:.2f}%\n",
        "    \"\"\")\n",
        "\n",
        "    if (epoch+1) % 10 == 0:\n",
        "      checkpoint_path = f\"{save_dir}/model_{info['run']}_epoch_{epoch+1}.pth\"\n",
        "      torch.save({\n",
        "          'epoch': epoch+1,\n",
        "          'model_state_dict': model.state_dict(),\n",
        "          'optimizer_state_dict': optimizer.state_dict(),\n",
        "          'Training Loss': train_loss,\n",
        "          'Training Accuracy Alternate': train_accuracy_alt,\n",
        "          'Validation Loss': validation_loss,\n",
        "          'Validation Accuracy Alternate': validation_accuracy_alt,\n",
        "      }, checkpoint_path)\n",
        "      print(f\"Model saved at {checkpoint_path}\")\n",
        "\n",
        "\n",
        "    if validation_loss < best_val_loss:\n",
        "        best_val_loss = validation_loss\n",
        "        counter = 0\n",
        "        continue\n",
        "    else:\n",
        "        counter += 1\n",
        "        print(f\"No improvement in val loss Counter = {counter}/{patience}\")\n",
        "        if counter >= patience:\n",
        "            print(\"Early stopping triggered!\")\n",
        "            early_stop = True\n",
        "            break"
      ]
    },
    {
      "cell_type": "code",
      "execution_count": 40,
      "id": "748bf437",
      "metadata": {
        "id": "748bf437"
      },
      "outputs": [],
      "source": [
        "def get_predictions_and_labels(model, loader):\n",
        "    model.eval()\n",
        "    all_y_true_alt = []\n",
        "\n",
        "    all_y_pred_alt = []\n",
        "\n",
        "    with torch.no_grad():\n",
        "        for x, y_alt in loader:\n",
        "            x = x.to(device)\n",
        "            y_alt= y_alt.to(device)\n",
        "\n",
        "            y_alt_out = model(x)\n",
        "\n",
        "            _, pred_alt = torch.max(y_alt_out, 1)\n",
        "\n",
        "            all_y_true_alt.extend(y_alt.cpu().numpy())\n",
        "\n",
        "            all_y_pred_alt.extend(pred_alt.cpu().numpy())\n",
        "\n",
        "    return (\n",
        "        (all_y_true_alt, all_y_pred_alt)\n",
        "    )"
      ]
    },
    {
      "cell_type": "code",
      "execution_count": 41,
      "id": "f6fa320c",
      "metadata": {
        "id": "f6fa320c",
        "colab": {
          "base_uri": "https://localhost:8080/"
        },
        "outputId": "014309cf-0830-43bf-eb1f-a6ce81d876ed"
      },
      "outputs": [
        {
          "output_type": "stream",
          "name": "stdout",
          "text": [
            "\n",
            "============================================================\n",
            "Classification Report Summary\n",
            "============================================================\n",
            "\n",
            "[1] Classification Report — Alternate Label\n",
            "------------------------------------------------------------\n",
            "              precision    recall  f1-score   support\n",
            "\n",
            "           0       0.64      0.71      0.67      5809\n",
            "           1       0.64      0.70      0.67      5737\n",
            "           2       0.65      0.56      0.60      4250\n",
            "           3       0.65      0.55      0.60      4204\n",
            "\n",
            "    accuracy                           0.64     20000\n",
            "   macro avg       0.64      0.63      0.63     20000\n",
            "weighted avg       0.64      0.64      0.64     20000\n",
            "\n",
            "============================================================\n",
            "\n"
          ]
        }
      ],
      "source": [
        "from sklearn.metrics import classification_report\n",
        "\n",
        "(y_alt_true, y_alt_pred)= get_predictions_and_labels(model, test_loader)\n",
        "\n",
        "print(\"\\n\" + \"=\"*60)\n",
        "print(\"Classification Report Summary\")\n",
        "print(\"=\"*60)\n",
        "\n",
        "print(\"\\n[1] Classification Report — Alternate Label\")\n",
        "print(\"-\" * 60)\n",
        "print(classification_report(y_alt_true, y_alt_pred))\n",
        "\n",
        "print(\"=\"*60 + \"\\n\")\n"
      ]
    },
    {
      "cell_type": "code",
      "execution_count": 42,
      "id": "16cfde04",
      "metadata": {
        "id": "16cfde04",
        "colab": {
          "base_uri": "https://localhost:8080/",
          "height": 470
        },
        "outputId": "adf398a4-9771-47d8-9e9a-4bd9bd20278f"
      },
      "outputs": [
        {
          "output_type": "execute_result",
          "data": {
            "text/plain": [
              "<sklearn.metrics._plot.confusion_matrix.ConfusionMatrixDisplay at 0x78fe8ccf9f70>"
            ]
          },
          "metadata": {},
          "execution_count": 42
        },
        {
          "output_type": "display_data",
          "data": {
            "text/plain": [
              "<Figure size 640x480 with 2 Axes>"
            ],
            "image/png": "[encoded data removed]"
          },
          "metadata": {}
        }
      ],
      "source": [
        "from sklearn.metrics import confusion_matrix, ConfusionMatrixDisplay\n",
        "\n",
        "cm = confusion_matrix(y_alt_true, y_alt_pred)\n",
        "disp = ConfusionMatrixDisplay(confusion_matrix=cm)\n",
        "disp.plot(xticks_rotation=45)"
      ]
    },
    {
      "cell_type": "code",
      "execution_count": 43,
      "id": "a25ad7f9",
      "metadata": {
        "id": "a25ad7f9",
        "colab": {
          "base_uri": "https://localhost:8080/",
          "height": 1000
        },
        "outputId": "ef21f3ab-b122-46b7-e2b7-f2af14a7bafe"
      },
      "outputs": [
        {
          "output_type": "display_data",
          "data": {
            "text/plain": [
              "<Figure size 1000x600 with 1 Axes>"
            ],
            "image/png": "[encoded data removed]"
          },
          "metadata": {}
        },
        {
          "output_type": "display_data",
          "data": {
            "text/plain": [
              "<Figure size 1000x600 with 1 Axes>"
            ],
            "image/png": "[encoded data removed]"
          },
          "metadata": {}
        }
      ],
      "source": [
        "import seaborn as sns\n",
        "import matplotlib.pyplot as plt\n",
        "import pandas as pd\n",
        "\n",
        "epochs = list(range(1, len(train_loss_history) + 1))\n",
        "\n",
        "data = {\n",
        "    'Epoch': epochs * 2,\n",
        "    'Loss': train_loss_history + validation_loss_history,\n",
        "    'Accuracy_Alt': train_alt_acc_history + validation_alt_acc_history,\n",
        "    'Set': ['Train'] * len(epochs) + ['Validation'] * len(epochs)\n",
        "}\n",
        "\n",
        "df = pd.DataFrame(data)\n",
        "\n",
        "sns.set(style=\"whitegrid\")\n",
        "\n",
        "plt.figure(figsize=(10, 6))\n",
        "sns.lineplot(data=df, x='Epoch', y='Loss', hue='Set', marker='o')\n",
        "plt.title(\"Training vs Validation Loss\")\n",
        "plt.ylabel(\"Loss\")\n",
        "plt.xlabel(\"Epoch\")\n",
        "plt.tight_layout()\n",
        "plt.show()\n",
        "\n",
        "plt.figure(figsize=(10, 6))\n",
        "sns.lineplot(data=df, x='Epoch', y='Accuracy_Alt', hue='Set', marker='o')\n",
        "plt.title(\"Alternate Accuracy: Training vs Validation\")\n",
        "plt.ylabel(\"Accuracy (%)\")\n",
        "plt.xlabel(\"Epoch\")\n",
        "plt.tight_layout()\n",
        "plt.show()"
      ]
    },
    {
      "cell_type": "code",
      "execution_count": 43,
      "id": "KGa39q0IxU84",
      "metadata": {
        "id": "KGa39q0IxU84"
      },
      "outputs": [],
      "source": []
    }
  ],
  "metadata": {
    "accelerator": "GPU",
    "colab": {
      "gpuType": "L4",
      "machine_shape": "hm",
      "provenance": []
    },
    "kernelspec": {
      "display_name": "Python 3",
      "name": "python3"
    },
    "language_info": {
      "name": "python"
    }
  },
  "nbformat": 4,
  "nbformat_minor": 5
}