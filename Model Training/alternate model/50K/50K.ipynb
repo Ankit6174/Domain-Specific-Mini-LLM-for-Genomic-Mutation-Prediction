{
 "cells": [
  {
   "cell_type": "code",
   "execution_count": 1,
   "metadata": {},
   "outputs": [
    {
     "data": {
      "text/plain": [
       "(1859483, 10)"
      ]
     },
     "execution_count": 1,
     "metadata": {},
     "output_type": "execute_result"
    }
   ],
   "source": [
    "import pandas as pd\n",
    "\n",
    "data = pd.read_csv('../../../Dataset/data.csv')\n",
    "data.shape"
   ]
  },
  {
   "cell_type": "code",
   "execution_count": 120,
   "id": "c21be10b",
   "metadata": {},
   "outputs": [],
   "source": [
    "df = data.sample(50000).reset_index(drop=True)"
   ]
  },
  {
   "cell_type": "code",
   "execution_count": 121,
   "id": "70b7444b",
   "metadata": {},
   "outputs": [],
   "source": [
    "def gc_content(seq):\n",
    "    seq = seq.upper()\n",
    "    gc = seq.count('G') + seq.count('C')\n",
    "    return gc / len(seq)"
   ]
  },
  {
   "cell_type": "code",
   "execution_count": 122,
   "id": "d6da563b",
   "metadata": {},
   "outputs": [],
   "source": [
    "df['gc_content'] = df['sequence'].apply(gc_content)"
   ]
  },
  {
   "cell_type": "code",
   "execution_count": 123,
   "id": "7a26ccad",
   "metadata": {},
   "outputs": [],
   "source": [
    "def at_content(seq):\n",
    "    seq = seq.upper()\n",
    "    return (seq.count('A') + seq.count('T')) / len(seq)"
   ]
  },
  {
   "cell_type": "code",
   "execution_count": 124,
   "id": "e0f33688",
   "metadata": {},
   "outputs": [],
   "source": [
    "df['at_content'] = df['sequence'].apply(at_content)"
   ]
  },
  {
   "cell_type": "code",
   "execution_count": 125,
   "id": "1dc943d8",
   "metadata": {},
   "outputs": [],
   "source": [
    "def is_cpg_site(row):\n",
    "    seq = row['sequence'].upper()\n",
    "    pos = row['mutation_pos']\n",
    "\n",
    "    if pos < len(seq)-1 and seq[pos] == 'C' and seq[pos+1] == 'G':\n",
    "        return 1\n",
    "\n",
    "    if pos > 0 and seq[pos-1] == 'C' and seq[pos] == 'G':\n",
    "        return 1\n",
    "    return 0"
   ]
  },
  {
   "cell_type": "code",
   "execution_count": 126,
   "id": "1f32ce4f",
   "metadata": {},
   "outputs": [],
   "source": [
    "df['cpg_flag'] = df.apply(is_cpg_site, axis=1)"
   ]
  },
  {
   "cell_type": "code",
   "execution_count": 127,
   "id": "218b2d63",
   "metadata": {},
   "outputs": [],
   "source": [
    "from collections import Counter\n",
    "import numpy as np\n",
    "\n",
    "def sequence_entropy(seq):\n",
    "    counts = Counter(seq)\n",
    "    total = len(seq)\n",
    "    probs = [count / total for count in counts.values()]\n",
    "    return -sum(p * np.log2(p) for p in probs)"
   ]
  },
  {
   "cell_type": "code",
   "execution_count": 128,
   "id": "154015a8",
   "metadata": {},
   "outputs": [],
   "source": [
    "df['sequence_entropy'] = df['sequence'].apply(sequence_entropy)"
   ]
  },
  {
   "cell_type": "code",
   "execution_count": 129,
   "id": "403a4b42",
   "metadata": {},
   "outputs": [],
   "source": [
    "def is_transition(ref, alt):\n",
    "    transitions = {('A','G'), ('G','A'), ('C','T'), ('T','C')}\n",
    "    return 1 if (ref, alt) in transitions else 0"
   ]
  },
  {
   "cell_type": "code",
   "execution_count": 130,
   "id": "575c6d22",
   "metadata": {},
   "outputs": [],
   "source": [
    "transition = []\n",
    "\n",
    "for ref, alt in zip(df['ref'].tolist(), df['alt'].tolist()):\n",
    "    transition.append(is_transition(ref, alt))\n",
    "\n",
    "df['transition'] = transition"
   ]
  },
  {
   "cell_type": "code",
   "execution_count": 131,
   "id": "f72ea75b",
   "metadata": {},
   "outputs": [],
   "source": [
    "# Human genome chromosome lengths (GRCh38)\n",
    "chrom_lengths = {\n",
    "    'chr1': 248956422,\n",
    "    'chr2': 242193529,\n",
    "    'chr3': 198295559,\n",
    "    'chr4': 190214555,\n",
    "    'chr5': 181538259,\n",
    "    'chr6': 170805979,\n",
    "    'chr7': 159345973,\n",
    "    'chr8': 145138636,\n",
    "    'chr9': 138394717,\n",
    "    'chr10': 133797422,\n",
    "    'chr11': 135086622,\n",
    "    'chr12': 133275309,\n",
    "    'chr13': 114364328,\n",
    "    'chr14': 107043718,\n",
    "    'chr15': 101991189,\n",
    "    'chr16': 90338345,\n",
    "    'chr17': 83257441,\n",
    "    'chr18': 80373285,\n",
    "    'chr19': 58617616,\n",
    "    'chr20': 64444167,\n",
    "    'chr21': 46709983,\n",
    "    'chr22': 50818468,\n",
    "}\n",
    "\n",
    "# Function to normalize genomic position\n",
    "def normalized_genomic_pos(row):\n",
    "    chrom = row['chrom']\n",
    "    chrom_length = chrom_lengths.get(chrom, 1)  # Default 1 to avoid division by zero\n",
    "    return row['genomic_pos'] / chrom_length\n",
    "\n",
    "# Apply normalization\n",
    "df['genomic_pos_norm'] = df.apply(normalized_genomic_pos, axis=1)\n"
   ]
  },
  {
   "cell_type": "code",
   "execution_count": 132,
   "id": "cec84be5",
   "metadata": {},
   "outputs": [],
   "source": [
    "df = pd.get_dummies(df, columns=['mutation_type'])"
   ]
  },
  {
   "cell_type": "code",
   "execution_count": 133,
   "id": "edfcdae2",
   "metadata": {},
   "outputs": [],
   "source": [
    "df = pd.get_dummies(df, columns=['chrom'])"
   ]
  },
  {
   "cell_type": "code",
   "execution_count": null,
   "id": "9d1fd35f",
   "metadata": {},
   "outputs": [],
   "source": [
    "x = df['sequence']\n",
    "y = df['label']\n",
    "gc_content = df['gc_content'] # float\n",
    "at_content = df['at_content'] # float\n",
    "cpg_flag = df['cpg_flag']\n",
    "sequence_entropy = df['sequence_entropy'] #float\n",
    "transition = df['transition']\n",
    "genomic_pos_norm = df['genomic_pos_norm'] # float\n",
    "mut_type_df = df.iloc[:, 14:26]\n",
    "chrom_df = df.iloc[:, 26:]"
   ]
  },
  {
   "cell_type": "code",
   "execution_count": 144,
   "id": "f0ff7d05",
   "metadata": {},
   "outputs": [
    {
     "data": {
      "application/vnd.microsoft.datawrangler.viewer.v0+json": {
       "columns": [
        {
         "name": "index",
         "rawType": "int64",
         "type": "integer"
        },
        {
         "name": "genomic_pos_norm",
         "rawType": "float64",
         "type": "float"
        }
       ],
       "ref": "87b8db67-0055-4423-bd2f-cd40ea915b4e",
       "rows": [
        [
         "0",
         "0.5769604276602283"
        ],
        [
         "1",
         "0.976160931454124"
        ],
        [
         "2",
         "0.43003018647257074"
        ],
        [
         "3",
         "0.626473158166051"
        ],
        [
         "4",
         "0.6567580400683749"
        ],
        [
         "5",
         "0.6816457428967889"
        ],
        [
         "6",
         "0.9294309763134937"
        ],
        [
         "7",
         "0.9945516174381356"
        ],
        [
         "8",
         "0.8235077571638808"
        ],
        [
         "9",
         "0.15944364139793973"
        ],
        [
         "10",
         "0.6380255898721363"
        ],
        [
         "11",
         "0.45425944546899694"
        ],
        [
         "12",
         "0.7301901854198128"
        ],
        [
         "13",
         "0.49486855182447304"
        ],
        [
         "14",
         "0.420201824480482"
        ],
        [
         "15",
         "0.05079914069079076"
        ],
        [
         "16",
         "0.8896274025369487"
        ],
        [
         "17",
         "0.5960100056486214"
        ],
        [
         "18",
         "0.18488717676059788"
        ],
        [
         "19",
         "0.97616219840469"
        ],
        [
         "20",
         "0.27045670392172555"
        ],
        [
         "21",
         "0.3959615130211403"
        ],
        [
         "22",
         "0.0046497566650146845"
        ],
        [
         "23",
         "0.06523710397366993"
        ],
        [
         "24",
         "0.28056710915436817"
        ],
        [
         "25",
         "0.747534526343731"
        ],
        [
         "26",
         "0.8017424923098603"
        ],
        [
         "27",
         "0.4895128024051327"
        ],
        [
         "28",
         "0.4451942281703942"
        ],
        [
         "29",
         "0.7372980225247884"
        ],
        [
         "30",
         "0.9376555514825501"
        ],
        [
         "31",
         "0.43878189027122555"
        ],
        [
         "32",
         "0.18749062456696033"
        ],
        [
         "33",
         "0.7570751958278931"
        ],
        [
         "34",
         "0.8897485226983051"
        ],
        [
         "35",
         "0.0566278132263904"
        ],
        [
         "36",
         "0.6982372641907586"
        ],
        [
         "37",
         "0.9273709703817669"
        ],
        [
         "38",
         "0.7930975413922717"
        ],
        [
         "39",
         "0.4402893129625714"
        ],
        [
         "40",
         "0.5959261687413984"
        ],
        [
         "41",
         "0.3170765967582764"
        ],
        [
         "42",
         "0.8259650765957824"
        ],
        [
         "43",
         "0.8010411684710405"
        ],
        [
         "44",
         "0.885905944474123"
        ],
        [
         "45",
         "0.20925920732242165"
        ],
        [
         "46",
         "0.6165622398028592"
        ],
        [
         "47",
         "0.5524137677331331"
        ],
        [
         "48",
         "0.009690390714243154"
        ],
        [
         "49",
         "0.8868168356389076"
        ]
       ],
       "shape": {
        "columns": 1,
        "rows": 50000
       }
      },
      "text/plain": [
       "0        0.576960\n",
       "1        0.976161\n",
       "2        0.430030\n",
       "3        0.626473\n",
       "4        0.656758\n",
       "           ...   \n",
       "49995    0.592575\n",
       "49996    0.376829\n",
       "49997    0.676352\n",
       "49998    0.776440\n",
       "49999    0.006988\n",
       "Name: genomic_pos_norm, Length: 50000, dtype: float64"
      ]
     },
     "execution_count": 144,
     "metadata": {},
     "output_type": "execute_result"
    }
   ],
   "source": [
    "genomic_pos_norm"
   ]
  },
  {
   "cell_type": "code",
   "execution_count": 154,
   "id": "e0fcc7b7",
   "metadata": {},
   "outputs": [],
   "source": [
    "def get_codon(seq, k=3):\n",
    "    return [seq[i:i+k] for i in range(len(seq) - k + 1)]\n",
    "\n",
    "vocab = {}\n",
    "\n",
    "for seq in df['sequence']:\n",
    "    for codons in get_codon(seq.lower()):\n",
    "        if codons not in vocab:\n",
    "            vocab[codons] = len(vocab)+2\n",
    "        else:\n",
    "            continue\n",
    "\n",
    "def get_tensor(text):\n",
    "    return [vocab[codons.lower()] for codons in get_codon(text)]"
   ]
  },
  {
   "cell_type": "code",
   "execution_count": 156,
   "id": "ab1500eb",
   "metadata": {},
   "outputs": [],
   "source": [
    "import torch\n",
    "from torch import nn, optim\n",
    "from torch.utils.data import Dataset, DataLoader, random_split\n",
    "\n",
    "class CustomDataset(Dataset):\n",
    "  def __init__(\n",
    "    self, \n",
    "    x, \n",
    "    y, \n",
    "    gc_content, \n",
    "    at_content, \n",
    "    cpg_flag, \n",
    "    sequence_entropy,\n",
    "    transition,\n",
    "    genomic_pos_norm,\n",
    "    mut_type_df,\n",
    "    chrom_df\n",
    "    ):\n",
    "    self.x_frame = x\n",
    "    self.y_frame = y\n",
    "    self.gc_content_frame = gc_content\n",
    "    self.at_content_frame = at_content\n",
    "    self.cpg_flag_frame = cpg_flag\n",
    "    self.sequence_entropy_frame = sequence_entropy\n",
    "    self.transition_frame = transition\n",
    "    self.genomic_pos_norm_frame = genomic_pos_norm\n",
    "    self.mut_type_df_frame = mut_type_df\n",
    "    self.chrom_df_frame = chrom_df\n",
    "\n",
    "  def __len__(self):\n",
    "    return len(self.x_frame)\n",
    "\n",
    "  def __getitem__(self, index):\n",
    "      seq_x = torch.tensor(get_tensor(self.x_frame[index]) + [\n",
    "          self.cpg_flag_frame[index],\n",
    "          self.transition_frame[index]\n",
    "      ] + self.mut_type_df_frame.loc[index].astype(float).tolist() + self.chrom_df_frame.loc[index].astype(float).tolist(), dtype=torch.long)\n",
    "\n",
    "      features = [\n",
    "        self.gc_content_frame[index],\n",
    "        self.at_content_frame[index],\n",
    "        self.sequence_entropy_frame[index],\n",
    "        self.genomic_pos_norm_frame[index]\n",
    "      ]\n",
    "\n",
    "      features_x = torch.tensor(features, dtype=torch.float16)\n",
    "\n",
    "      y = torch.tensor(self.y_frame[index], dtype=torch.long)\n",
    "\n",
    "      return seq_x, features_x, y"
   ]
  },
  {
   "cell_type": "code",
   "execution_count": 157,
   "id": "fb72f891",
   "metadata": {},
   "outputs": [],
   "source": [
    "dataset = CustomDataset(\n",
    "    x,\n",
    "    y,\n",
    "    gc_content,\n",
    "    at_content,\n",
    "    cpg_flag,\n",
    "    sequence_entropy,\n",
    "    transition,\n",
    "    genomic_pos_norm,\n",
    "    mut_type_df,\n",
    "    chrom_df\n",
    ")"
   ]
  },
  {
   "cell_type": "code",
   "execution_count": 158,
   "id": "7b93fbce",
   "metadata": {},
   "outputs": [
    {
     "data": {
      "text/plain": [
       "(tensor([31, 32, 19, 16, 52, 55, 48, 52, 21, 15, 44, 39, 32, 61, 47, 40, 55, 48,\n",
       "         17, 39, 10, 11, 54, 48, 17, 39, 32, 14, 33, 65, 57, 52, 55, 38, 45, 58,\n",
       "         42, 65, 57, 17, 39, 36, 10, 58, 13, 19, 44, 18,  3, 22, 30, 31, 32, 19,\n",
       "         26, 50,  4,  5,  2, 14,  9, 10, 58, 24, 37, 48, 57, 17, 18, 19, 20, 55,\n",
       "         48, 17, 18, 19, 16, 57, 57, 57, 49, 35,  9, 32, 19, 20, 56, 24, 37, 48,\n",
       "         57, 57, 17, 45,  7, 15, 16, 57, 57, 17, 45, 58, 31, 36, 36, 10, 37, 38,\n",
       "         39, 32, 19, 16, 17, 60, 34, 35,  9, 36, 36, 59, 65, 49, 50,  5,  2, 14,\n",
       "          2, 19, 16, 57, 52, 55, 48, 57, 57, 17, 39, 59, 64, 45, 37, 48, 57, 57,\n",
       "         17, 45, 37, 48, 17, 39, 10, 37, 40, 55, 38, 45, 58, 24, 37, 38, 60, 64,\n",
       "         39, 32, 19, 16, 52, 55, 48, 17, 18, 61, 47, 40, 56, 24,  7, 15, 26, 63,\n",
       "         26, 63, 20, 56, 13, 19, 20, 55, 40, 21, 15, 16, 52, 55, 48, 17, 45, 37,\n",
       "         40,  0,  1,  0,  0,  0,  0,  0,  0,  1,  0,  0,  0,  0,  0,  0,  0,  0,\n",
       "          0,  0,  1,  0,  0,  0,  0,  0,  0]),\n",
       " tensor([0.6719, 0.3284, 1.8994, 0.6382], dtype=torch.float16),\n",
       " tensor(2))"
      ]
     },
     "execution_count": 158,
     "metadata": {},
     "output_type": "execute_result"
    }
   ],
   "source": [
    "dataset[10]"
   ]
  },
  {
   "cell_type": "code",
   "execution_count": null,
   "id": "d432c159",
   "metadata": {},
   "outputs": [],
   "source": []
  },
  {
   "cell_type": "code",
   "execution_count": null,
   "id": "613657a6",
   "metadata": {},
   "outputs": [],
   "source": []
  }
 ],
 "metadata": {
  "kernelspec": {
   "display_name": "Python 3",
   "language": "python",
   "name": "python3"
  },
  "language_info": {
   "codemirror_mode": {
    "name": "ipython",
    "version": 3
   },
   "file_extension": ".py",
   "mimetype": "text/x-python",
   "name": "python",
   "nbconvert_exporter": "python",
   "pygments_lexer": "ipython3",
   "version": "3.10.0"
  }
 },
 "nbformat": 4,
 "nbformat_minor": 5
}
