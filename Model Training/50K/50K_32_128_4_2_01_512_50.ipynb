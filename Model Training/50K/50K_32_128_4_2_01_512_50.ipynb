{
  "cells": [
    {
      "cell_type": "code",
      "execution_count": null,
      "metadata": {
        "id": "g0qJzN8zGrzZ"
      },
      "outputs": [],
      "source": [
        "!pip install wandb -q"
      ]
    },
    {
      "cell_type": "code",
      "execution_count": null,
      "metadata": {
        "colab": {
          "base_uri": "https://localhost:8080/",
          "height": 237
        },
        "id": "Q2wZg-M2GuBK",
        "outputId": "757bc850-bcdb-40d1-8868-5a3ba1ef6833"
      },
      "outputs": [
        {
          "name": "stderr",
          "output_type": "stream",
          "text": [
            "/usr/local/lib/python3.12/dist-packages/notebook/notebookapp.py:191: SyntaxWarning: invalid escape sequence '\\/'\n",
            "  | |_| | '_ \\/ _` / _` |  _/ -_)\n"
          ]
        },
        {
          "data": {
            "application/javascript": "\n        window._wandbApiKey = new Promise((resolve, reject) => {\n            function loadScript(url) {\n            return new Promise(function(resolve, reject) {\n                let newScript = document.createElement(\"script\");\n                newScript.onerror = reject;\n                newScript.onload = resolve;\n                document.body.appendChild(newScript);\n                newScript.src = url;\n            });\n            }\n            loadScript(\"https://cdn.jsdelivr.net/npm/postmate/build/postmate.min.js\").then(() => {\n            const iframe = document.createElement('iframe')\n            iframe.style.cssText = \"width:0;height:0;border:none\"\n            document.body.appendChild(iframe)\n            const handshake = new Postmate({\n                container: iframe,\n                url: 'https://wandb.ai/authorize'\n            });\n            const timeout = setTimeout(() => reject(\"Couldn't auto authenticate\"), 5000)\n            handshake.then(function(child) {\n                child.on('authorize', data => {\n                    clearTimeout(timeout)\n                    resolve(data)\n                });\n            });\n            })\n        });\n    ",
            "text/plain": [
              "<IPython.core.display.Javascript object>"
            ]
          },
          "metadata": {},
          "output_type": "display_data"
        },
        {
          "name": "stderr",
          "output_type": "stream",
          "text": [
            "\u001b[34m\u001b[1mwandb\u001b[0m: Logging into wandb.ai. (Learn how to deploy a W&B server locally: https://wandb.me/wandb-server)\n",
            "\u001b[34m\u001b[1mwandb\u001b[0m: You can find your API key in your browser here: https://wandb.ai/authorize\n",
            "wandb: Paste an API key from your profile and hit enter:"
          ]
        },
        {
          "name": "stdout",
          "output_type": "stream",
          "text": [
            " ··········\n"
          ]
        },
        {
          "name": "stderr",
          "output_type": "stream",
          "text": [
            "\u001b[34m\u001b[1mwandb\u001b[0m: \u001b[33mWARNING\u001b[0m If you're specifying your api key in code, ensure this code is not shared publicly.\n",
            "\u001b[34m\u001b[1mwandb\u001b[0m: \u001b[33mWARNING\u001b[0m Consider setting the WANDB_API_KEY environment variable, or running `wandb login` from the command line.\n",
            "\u001b[34m\u001b[1mwandb\u001b[0m: No netrc file found, creating one.\n",
            "\u001b[34m\u001b[1mwandb\u001b[0m: Appending key for api.wandb.ai to your netrc file: /root/.netrc\n",
            "\u001b[34m\u001b[1mwandb\u001b[0m: Currently logged in as: \u001b[33mankitt6174\u001b[0m (\u001b[33mankit_6174\u001b[0m) to \u001b[32mhttps://api.wandb.ai\u001b[0m. Use \u001b[1m`wandb login --relogin`\u001b[0m to force relogin\n"
          ]
        },
        {
          "data": {
            "text/plain": [
              "True"
            ]
          },
          "execution_count": 2,
          "metadata": {},
          "output_type": "execute_result"
        }
      ],
      "source": [
        "import wandb\n",
        "wandb.login()"
      ]
    },
    {
      "cell_type": "code",
      "execution_count": null,
      "metadata": {
        "colab": {
          "base_uri": "https://localhost:8080/",
          "height": 125
        },
        "id": "pGcWf4F5JcMc",
        "outputId": "a387bcc0-e064-4586-e4a1-c61931f37741"
      },
      "outputs": [
        {
          "data": {
            "text/html": [
              "Tracking run with wandb version 0.21.1"
            ],
            "text/plain": [
              "<IPython.core.display.HTML object>"
            ]
          },
          "metadata": {},
          "output_type": "display_data"
        },
        {
          "data": {
            "text/html": [
              "Run data is saved locally in <code>/content/wandb/run-20250825_214632-8sbrujna</code>"
            ],
            "text/plain": [
              "<IPython.core.display.HTML object>"
            ]
          },
          "metadata": {},
          "output_type": "display_data"
        },
        {
          "data": {
            "text/html": [
              "Syncing run <strong><a href='https://wandb.ai/ankit_6174/dna-mutation-predictor-50K/runs/8sbrujna' target=\"_blank\">First Run</a></strong> to <a href='https://wandb.ai/ankit_6174/dna-mutation-predictor-50K' target=\"_blank\">Weights & Biases</a> (<a href='https://wandb.me/developer-guide' target=\"_blank\">docs</a>)<br>"
            ],
            "text/plain": [
              "<IPython.core.display.HTML object>"
            ]
          },
          "metadata": {},
          "output_type": "display_data"
        },
        {
          "data": {
            "text/html": [
              " View project at <a href='https://wandb.ai/ankit_6174/dna-mutation-predictor-50K' target=\"_blank\">https://wandb.ai/ankit_6174/dna-mutation-predictor-50K</a>"
            ],
            "text/plain": [
              "<IPython.core.display.HTML object>"
            ]
          },
          "metadata": {},
          "output_type": "display_data"
        },
        {
          "data": {
            "text/html": [
              " View run at <a href='https://wandb.ai/ankit_6174/dna-mutation-predictor-50K/runs/8sbrujna' target=\"_blank\">https://wandb.ai/ankit_6174/dna-mutation-predictor-50K/runs/8sbrujna</a>"
            ],
            "text/plain": [
              "<IPython.core.display.HTML object>"
            ]
          },
          "metadata": {},
          "output_type": "display_data"
        },
        {
          "data": {
            "text/html": [
              "<button onClick=\"this.nextSibling.style.display='block';this.style.display='none';\">Display W&B run</button><iframe src='https://wandb.ai/ankit_6174/dna-mutation-predictor-50K/runs/8sbrujna?jupyter=true' style='border:none;width:100%;height:420px;display:none;'></iframe>"
            ],
            "text/plain": [
              "<wandb.sdk.wandb_run.Run at 0x78fd1699a000>"
            ]
          },
          "execution_count": 9,
          "metadata": {},
          "output_type": "execute_result"
        }
      ],
      "source": [
        "# Define your hyperparameters\n",
        "hyperparameters = {\n",
        "    \"learning_rate\": 0.0001,\n",
        "    \"batch_size\": 32,\n",
        "    \"embed_dim\": 128,\n",
        "    \"num_heads\": 4,\n",
        "    \"num_layers\": 2,\n",
        "    \"dropout\": 0.1,\n",
        "    \"ff_dim\": 512,\n",
        "    \"dataset_size\": \"50K\",\n",
        "    \"epochs\": 50\n",
        "}\n",
        "\n",
        "wandb.init(\n",
        "    project=\"dna-mutation-predictor-50K\",\n",
        "    config=hyperparameters,\n",
        "    name=\"First Run\"\n",
        ")"
      ]
    },
    {
      "cell_type": "code",
      "execution_count": null,
      "metadata": {
        "colab": {
          "base_uri": "https://localhost:8080/"
        },
        "id": "V1v98WHCJoDO",
        "outputId": "198291b6-9db7-4b7e-c359-ad86aa17db4a"
      },
      "outputs": [
        {
          "data": {
            "text/plain": [
              "(50000, 2)"
            ]
          },
          "execution_count": 10,
          "metadata": {},
          "output_type": "execute_result"
        }
      ],
      "source": [
        "import pandas as pd\n",
        "\n",
        "data = pd.read_csv(f\"{hyperparameters['dataset_size']}.csv\")\n",
        "data.shape"
      ]
    },
    {
      "cell_type": "code",
      "execution_count": null,
      "metadata": {
        "id": "wR3jf-oAJ2PE"
      },
      "outputs": [],
      "source": [
        "x = data['sequence']\n",
        "y = data['label']"
      ]
    },
    {
      "cell_type": "code",
      "execution_count": null,
      "metadata": {
        "id": "j-XikXuLJ2M1"
      },
      "outputs": [],
      "source": [
        "def get_codon(seq, k=3):\n",
        "    return [seq[i:i+k] for i in range(len(seq) - k + 1)]\n",
        "\n",
        "vocab = {'<PAD>': 0, '<UNK>': 1}\n",
        "\n",
        "for seq in data['sequence']:\n",
        "    for codons in get_codon(seq.lower()):\n",
        "        if codons not in vocab:\n",
        "            vocab[codons] = len(vocab)\n",
        "        else:\n",
        "            continue\n",
        "\n",
        "def get_tensor(text):\n",
        "    return [vocab.get(codons.lower(), vocab['<UNK>']) for codons in get_codon(text)]"
      ]
    },
    {
      "cell_type": "code",
      "execution_count": null,
      "metadata": {
        "id": "3dzO0_F0J2Kw"
      },
      "outputs": [],
      "source": [
        "import torch\n",
        "from torch import nn, optim\n",
        "from torch.utils.data import Dataset, DataLoader, random_split\n",
        "\n",
        "class CustomDataset(Dataset):\n",
        "  def __init__(self, x, y):\n",
        "    self.x_frame = x\n",
        "    self.y_frame = y\n",
        "\n",
        "  def __len__(self):\n",
        "    return len(self.x_frame)\n",
        "\n",
        "  def __getitem__(self, index):\n",
        "    x = torch.tensor(get_tensor(self.x_frame[index]), dtype=torch.long)\n",
        "    y = torch.tensor(self.y_frame[index], dtype=torch.float32)\n",
        "    return x, y"
      ]
    },
    {
      "cell_type": "code",
      "execution_count": null,
      "metadata": {
        "id": "YxR8TknxJ2Io"
      },
      "outputs": [],
      "source": [
        "dataset = CustomDataset(x, y)"
      ]
    },
    {
      "cell_type": "code",
      "execution_count": null,
      "metadata": {
        "id": "QF1Z099wJ2Gb"
      },
      "outputs": [],
      "source": [
        "train_size = int(0.8 * len(dataset))\n",
        "test_size = len(dataset) - train_size\n",
        "\n",
        "train_dataset, test_dataset = random_split(dataset, [train_size, test_size])"
      ]
    },
    {
      "cell_type": "code",
      "execution_count": null,
      "metadata": {
        "id": "wOWyu19_J2EZ"
      },
      "outputs": [],
      "source": [
        "train_loader = DataLoader(train_dataset, batch_size=hyperparameters['batch_size'], shuffle=True)\n",
        "test_loader = DataLoader(test_dataset, batch_size=hyperparameters['batch_size'])"
      ]
    },
    {
      "cell_type": "code",
      "execution_count": null,
      "metadata": {
        "id": "MJTZAUbQJ2Ca"
      },
      "outputs": [],
      "source": [
        "import math\n",
        "\n",
        "class PositionalEncoding(nn.Module):\n",
        "    def __init__(self, embed_dim, max_len=5000):\n",
        "        super().__init__()\n",
        "\n",
        "        pe = torch.zeros(max_len, embed_dim)\n",
        "        position = torch.arange(0, max_len).unsqueeze(1)\n",
        "\n",
        "        div_term = torch.exp((torch.arange(0, embed_dim, 2)) * (-math.log(10000.0) / embed_dim))\n",
        "\n",
        "        pe[:, 0::2] = torch.sin(position * div_term)\n",
        "        pe[:, 1::2] = torch.cos(position * div_term)\n",
        "\n",
        "        pe = pe.unsqueeze(0)\n",
        "        self.register_buffer('pe', pe)\n",
        "\n",
        "    def forward(self, x):\n",
        "        x = x + self.pe[:, :x.size(1), :].to(x.device)\n",
        "        return x\n",
        "\n",
        "class Transformer(nn.Module):\n",
        "    def __init__(self, embed_dim=512, num_heads=8, num_layers=6, ff_dim=2048, dropout=0.1, vocab_size=10000, max_len=5000):\n",
        "        super(Transformer, self).__init__()\n",
        "        self.embeddings = nn.Embedding(vocab_size, embed_dim)\n",
        "        self.position_encoding = PositionalEncoding(embed_dim=embed_dim, max_len=max_len)\n",
        "\n",
        "        encoder_layer = nn.TransformerEncoderLayer(\n",
        "            d_model=embed_dim,\n",
        "            nhead=num_heads,\n",
        "            dim_feedforward=ff_dim,\n",
        "            dropout=dropout,\n",
        "            batch_first=True\n",
        "        )\n",
        "        self.encoder = nn.TransformerEncoder(\n",
        "            encoder_layer=encoder_layer,\n",
        "            num_layers=num_layers\n",
        "        )\n",
        "\n",
        "        self.y_labels_out = nn.Linear(embed_dim, 5)\n",
        "\n",
        "    def forward(self, x):\n",
        "        x = self.embeddings(x)\n",
        "        x = self.position_encoding(x)\n",
        "\n",
        "        x = self.encoder(x)\n",
        "        x = x.mean(dim=1)\n",
        "\n",
        "        y_label_out = self.y_labels_out(x)\n",
        "        return y_label_out"
      ]
    },
    {
      "cell_type": "code",
      "execution_count": null,
      "metadata": {
        "id": "3y4bHJVbJ2AQ"
      },
      "outputs": [],
      "source": [
        "model = Transformer(\n",
        "    embed_dim=hyperparameters['embed_dim'],\n",
        "    num_heads=hyperparameters['num_heads'],\n",
        "    num_layers=hyperparameters['num_layers'],\n",
        "    ff_dim=hyperparameters['ff_dim'],\n",
        "    dropout=hyperparameters['dropout'],\n",
        "    vocab_size=len(vocab),\n",
        "    max_len=200\n",
        ")"
      ]
    },
    {
      "cell_type": "code",
      "execution_count": null,
      "metadata": {
        "colab": {
          "base_uri": "https://localhost:8080/"
        },
        "id": "q00nuF8HJ1-H",
        "outputId": "ebcdd9cb-1c91-4351-b313-d5ad7c5ff25b"
      },
      "outputs": [
        {
          "data": {
            "text/plain": [
              "Transformer(\n",
              "  (embeddings): Embedding(66, 128)\n",
              "  (position_encoding): PositionalEncoding()\n",
              "  (encoder): TransformerEncoder(\n",
              "    (layers): ModuleList(\n",
              "      (0-1): 2 x TransformerEncoderLayer(\n",
              "        (self_attn): MultiheadAttention(\n",
              "          (out_proj): NonDynamicallyQuantizableLinear(in_features=128, out_features=128, bias=True)\n",
              "        )\n",
              "        (linear1): Linear(in_features=128, out_features=512, bias=True)\n",
              "        (dropout): Dropout(p=0.1, inplace=False)\n",
              "        (linear2): Linear(in_features=512, out_features=128, bias=True)\n",
              "        (norm1): LayerNorm((128,), eps=1e-05, elementwise_affine=True)\n",
              "        (norm2): LayerNorm((128,), eps=1e-05, elementwise_affine=True)\n",
              "        (dropout1): Dropout(p=0.1, inplace=False)\n",
              "        (dropout2): Dropout(p=0.1, inplace=False)\n",
              "      )\n",
              "    )\n",
              "  )\n",
              "  (y_labels_out): Linear(in_features=128, out_features=5, bias=True)\n",
              ")"
            ]
          },
          "execution_count": 19,
          "metadata": {},
          "output_type": "execute_result"
        }
      ],
      "source": [
        "device = torch.device(\"cuda\" if torch.cuda.is_available() else \"cpu\")\n",
        "model.to(device)"
      ]
    },
    {
      "cell_type": "code",
      "execution_count": null,
      "metadata": {
        "colab": {
          "base_uri": "https://localhost:8080/"
        },
        "id": "V2Qa9JHAKI1-",
        "outputId": "ac9f23f6-c22f-4a60-b27d-894a469a1a23"
      },
      "outputs": [
        {
          "data": {
            "text/plain": [
              "device(type='cuda')"
            ]
          },
          "execution_count": 20,
          "metadata": {},
          "output_type": "execute_result"
        }
      ],
      "source": [
        "device"
      ]
    },
    {
      "cell_type": "code",
      "execution_count": null,
      "metadata": {
        "colab": {
          "base_uri": "https://localhost:8080/"
        },
        "id": "5_4lFoaqKIz4",
        "outputId": "52aec70c-406e-43d6-b69e-52c99e09931b"
      },
      "outputs": [
        {
          "name": "stdout",
          "output_type": "stream",
          "text": [
            "Total trainable parameters: 405637\n"
          ]
        }
      ],
      "source": [
        "num_params = sum(p.numel() for p in model.parameters() if p.requires_grad)\n",
        "print(f\"Total trainable parameters: {num_params}\")"
      ]
    },
    {
      "cell_type": "code",
      "execution_count": null,
      "metadata": {
        "id": "tDYvfOC7KIxu"
      },
      "outputs": [],
      "source": [
        "ce = nn.CrossEntropyLoss()\n",
        "\n",
        "optimizer = torch.optim.Adam(model.parameters(), lr=hyperparameters['learning_rate'], weight_decay=1e-4)"
      ]
    },
    {
      "cell_type": "code",
      "execution_count": null,
      "metadata": {
        "id": "3YrLO_deKIvu"
      },
      "outputs": [],
      "source": [
        "def train(model, loader, ce, optimizer):\n",
        "    model.train()\n",
        "\n",
        "    running_loss = 0.0\n",
        "\n",
        "    for x, y in loader:\n",
        "        optimizer.zero_grad()\n",
        "\n",
        "        x = x.to(device)\n",
        "        y = y.to(device).long()\n",
        "\n",
        "        output = model(x)\n",
        "        loss = ce(output, y)\n",
        "\n",
        "        loss.backward()\n",
        "\n",
        "        optimizer.step()\n",
        "\n",
        "        running_loss += loss.item() * len(x)\n",
        "\n",
        "    return running_loss / len(loader.dataset)"
      ]
    },
    {
      "cell_type": "code",
      "execution_count": null,
      "metadata": {
        "id": "hK6At-_VKItX"
      },
      "outputs": [],
      "source": [
        "def validation(model, loader, ce):\n",
        "    model.eval()\n",
        "\n",
        "    running_loss, correct, total = 0.0, 0, 0\n",
        "\n",
        "    with torch.no_grad():\n",
        "        for x, y in loader:\n",
        "            x = x.to(device)\n",
        "            y = y.to(device).long()\n",
        "\n",
        "            output = model(x)\n",
        "\n",
        "            loss = ce(output, y)\n",
        "\n",
        "            running_loss += loss.item() * len(x)\n",
        "\n",
        "            prediction = torch.argmax(output, dim=1)\n",
        "            correct += (prediction == y).sum().item()\n",
        "\n",
        "            total += len(x)\n",
        "\n",
        "    accuracy = correct / total\n",
        "\n",
        "    return (\n",
        "        running_loss / len(loader.dataset),\n",
        "        accuracy\n",
        "    )"
      ]
    },
    {
      "cell_type": "code",
      "execution_count": null,
      "metadata": {
        "colab": {
          "background_save": true,
          "base_uri": "https://localhost:8080/"
        },
        "id": "2mL_srk1KQNu",
        "outputId": "7b18d748-800f-48f8-8bd6-e8375cd02acd"
      },
      "outputs": [
        {
          "name": "stdout",
          "output_type": "stream",
          "text": [
            "Epoch (1/50): Train Loss = 1.0245, Valitation Loss = 1.0344, Accuracy = 0.5706\n",
            "Epoch (2/50): Train Loss = 1.0192, Valitation Loss = 1.0357, Accuracy = 0.5706\n",
            "No improvement in val loss. Counter = 1/10\n",
            "Epoch (3/50): Train Loss = 1.0141, Valitation Loss = 1.0235, Accuracy = 0.5744\n",
            "Epoch (4/50): Train Loss = 1.0100, Valitation Loss = 1.0319, Accuracy = 0.5782\n",
            "No improvement in val loss. Counter = 1/10\n",
            "Epoch (5/50): Train Loss = 1.0055, Valitation Loss = 1.0142, Accuracy = 0.5793\n",
            "Epoch (6/50): Train Loss = 0.9980, Valitation Loss = 1.0152, Accuracy = 0.5810\n",
            "No improvement in val loss. Counter = 1/10\n",
            "Epoch (7/50): Train Loss = 0.9925, Valitation Loss = 1.0071, Accuracy = 0.5825\n",
            "Epoch (8/50): Train Loss = 0.9886, Valitation Loss = 1.0073, Accuracy = 0.5838\n",
            "No improvement in val loss. Counter = 1/10\n",
            "Epoch (9/50): Train Loss = 0.9845, Valitation Loss = 1.0010, Accuracy = 0.5862\n",
            "Epoch (10/50): Train Loss = 0.9822, Valitation Loss = 1.0000, Accuracy = 0.5845\n",
            "Epoch (11/50): Train Loss = 0.9784, Valitation Loss = 1.0007, Accuracy = 0.5844\n",
            "No improvement in val loss. Counter = 1/10\n",
            "Epoch (12/50): Train Loss = 0.9758, Valitation Loss = 0.9983, Accuracy = 0.5821\n",
            "Epoch (13/50): Train Loss = 0.9729, Valitation Loss = 0.9937, Accuracy = 0.5856\n",
            "Epoch (14/50): Train Loss = 0.9702, Valitation Loss = 0.9960, Accuracy = 0.5872\n",
            "No improvement in val loss. Counter = 1/10\n",
            "Epoch (15/50): Train Loss = 0.9671, Valitation Loss = 1.0018, Accuracy = 0.5780\n",
            "No improvement in val loss. Counter = 2/10\n",
            "Epoch (16/50): Train Loss = 0.9650, Valitation Loss = 0.9963, Accuracy = 0.5845\n",
            "No improvement in val loss. Counter = 3/10\n",
            "Epoch (17/50): Train Loss = 0.9615, Valitation Loss = 0.9904, Accuracy = 0.5885\n",
            "Epoch (18/50): Train Loss = 0.9594, Valitation Loss = 0.9894, Accuracy = 0.5838\n",
            "Epoch (19/50): Train Loss = 0.9565, Valitation Loss = 0.9912, Accuracy = 0.5876\n",
            "No improvement in val loss. Counter = 1/10\n",
            "Epoch (20/50): Train Loss = 0.9536, Valitation Loss = 0.9910, Accuracy = 0.5909\n",
            "No improvement in val loss. Counter = 2/10\n",
            "Epoch (21/50): Train Loss = 0.9515, Valitation Loss = 0.9913, Accuracy = 0.5918\n",
            "No improvement in val loss. Counter = 3/10\n",
            "Epoch (22/50): Train Loss = 0.9496, Valitation Loss = 0.9965, Accuracy = 0.5896\n",
            "No improvement in val loss. Counter = 4/10\n",
            "Epoch (23/50): Train Loss = 0.9480, Valitation Loss = 0.9907, Accuracy = 0.5899\n",
            "No improvement in val loss. Counter = 5/10\n",
            "Epoch (24/50): Train Loss = 0.9433, Valitation Loss = 0.9894, Accuracy = 0.5916\n",
            "Epoch (25/50): Train Loss = 0.9412, Valitation Loss = 0.9869, Accuracy = 0.5929\n",
            "Epoch (26/50): Train Loss = 0.9371, Valitation Loss = 0.9918, Accuracy = 0.5893\n",
            "No improvement in val loss. Counter = 1/10\n",
            "Epoch (27/50): Train Loss = 0.9343, Valitation Loss = 0.9888, Accuracy = 0.5858\n",
            "No improvement in val loss. Counter = 2/10\n",
            "Epoch (28/50): Train Loss = 0.9299, Valitation Loss = 0.9932, Accuracy = 0.5937\n",
            "No improvement in val loss. Counter = 3/10\n",
            "Epoch (29/50): Train Loss = 0.9269, Valitation Loss = 0.9870, Accuracy = 0.5912\n",
            "No improvement in val loss. Counter = 4/10\n",
            "Epoch (30/50): Train Loss = 0.9223, Valitation Loss = 0.9908, Accuracy = 0.5919\n",
            "No improvement in val loss. Counter = 5/10\n",
            "Epoch (31/50): Train Loss = 0.9208, Valitation Loss = 0.9828, Accuracy = 0.5987\n",
            "Epoch (32/50): Train Loss = 0.9135, Valitation Loss = 0.9887, Accuracy = 0.5838\n",
            "No improvement in val loss. Counter = 1/10\n",
            "Epoch (33/50): Train Loss = 0.9087, Valitation Loss = 0.9895, Accuracy = 0.5985\n",
            "No improvement in val loss. Counter = 2/10\n",
            "Epoch (34/50): Train Loss = 0.9039, Valitation Loss = 0.9847, Accuracy = 0.6001\n",
            "No improvement in val loss. Counter = 3/10\n",
            "Epoch (35/50): Train Loss = 0.8988, Valitation Loss = 0.9861, Accuracy = 0.5970\n",
            "No improvement in val loss. Counter = 4/10\n",
            "Epoch (36/50): Train Loss = 0.8931, Valitation Loss = 0.9837, Accuracy = 0.6041\n",
            "No improvement in val loss. Counter = 5/10\n",
            "Epoch (37/50): Train Loss = 0.8889, Valitation Loss = 0.9892, Accuracy = 0.5992\n",
            "No improvement in val loss. Counter = 6/10\n",
            "Epoch (38/50): Train Loss = 0.8871, Valitation Loss = 0.9818, Accuracy = 0.6009\n",
            "Epoch (39/50): Train Loss = 0.8827, Valitation Loss = 0.9840, Accuracy = 0.6051\n",
            "No improvement in val loss. Counter = 1/10\n",
            "Epoch (40/50): Train Loss = 0.8773, Valitation Loss = 0.9822, Accuracy = 0.6041\n",
            "No improvement in val loss. Counter = 2/10\n",
            "Epoch (41/50): Train Loss = 0.8744, Valitation Loss = 0.9839, Accuracy = 0.6051\n",
            "No improvement in val loss. Counter = 3/10\n",
            "Epoch (42/50): Train Loss = 0.8710, Valitation Loss = 0.9820, Accuracy = 0.6058\n",
            "No improvement in val loss. Counter = 4/10\n",
            "Epoch (43/50): Train Loss = 0.8644, Valitation Loss = 0.9864, Accuracy = 0.6061\n",
            "No improvement in val loss. Counter = 5/10\n",
            "Epoch (44/50): Train Loss = 0.8594, Valitation Loss = 0.9945, Accuracy = 0.6079\n",
            "No improvement in val loss. Counter = 6/10\n",
            "Epoch (45/50): Train Loss = 0.8554, Valitation Loss = 0.9887, Accuracy = 0.6115\n",
            "No improvement in val loss. Counter = 7/10\n",
            "Epoch (46/50): Train Loss = 0.8524, Valitation Loss = 0.9825, Accuracy = 0.6093\n",
            "No improvement in val loss. Counter = 8/10\n",
            "Epoch (47/50): Train Loss = 0.8499, Valitation Loss = 0.9886, Accuracy = 0.6048\n",
            "No improvement in val loss. Counter = 9/10\n",
            "Epoch (48/50): Train Loss = 0.8454, Valitation Loss = 0.9902, Accuracy = 0.6113\n",
            "No improvement in val loss. Counter = 10/10\n",
            "Early stopping triggered!\n"
          ]
        }
      ],
      "source": [
        "patience = 10\n",
        "best_val_loss = float('inf')\n",
        "counter = 0\n",
        "early_stop = False\n",
        "\n",
        "training_loss_arr = []\n",
        "validation_loss_arr = []\n",
        "accuracy_arr = []\n",
        "\n",
        "for epoch in range(hyperparameters['epochs']):\n",
        "    train_loss = train(\n",
        "        model,\n",
        "        train_loader,\n",
        "        ce,\n",
        "        optimizer\n",
        "    )\n",
        "\n",
        "    val_loss, acc = validation(\n",
        "        model,\n",
        "        test_loader,\n",
        "        ce\n",
        "    )\n",
        "\n",
        "    print(f\"Epoch ({epoch+1}/{50}): Train Loss = {train_loss:.4f}, Valitation Loss = {val_loss:.4f}, Accuracy = {acc:.4f}\")\n",
        "    training_loss_arr.append(train_loss)\n",
        "    validation_loss_arr.append(val_loss)\n",
        "    accuracy_arr.append(acc)\n",
        "\n",
        "    wandb.log({\n",
        "        \"epoch\": epoch,\n",
        "        \"train_loss\": train_loss,\n",
        "        \"val_loss\": val_loss,\n",
        "        \"accuracy\": acc\n",
        "    })\n",
        "\n",
        "    if val_loss < best_val_loss:\n",
        "        best_val_loss = val_loss\n",
        "        counter = 0\n",
        "        continue\n",
        "    else:\n",
        "        counter += 1\n",
        "        print(f\"No improvement in val loss. Counter = {counter}/{patience}\")\n",
        "        if counter >= patience:\n",
        "            print(\"Early stopping triggered!\")\n",
        "            early_stop = True\n",
        "            break"
      ]
    },
    {
      "cell_type": "code",
      "execution_count": null,
      "metadata": {
        "colab": {
          "background_save": true
        },
        "id": "iTgNsv_WKSKt",
        "outputId": "97a7a54e-b52c-428c-bbf8-4e3c416fd44d"
      },
      "outputs": [
        {
          "name": "stdout",
          "output_type": "stream",
          "text": [
            "Classification Report for Label:\n",
            "              precision    recall  f1-score   support\n",
            "\n",
            "         0.0       0.21      0.02      0.04       599\n",
            "         1.0       0.52      0.43      0.47      3203\n",
            "         2.0       0.65      0.82      0.73      5706\n",
            "         3.0       0.30      0.12      0.17       229\n",
            "         4.0       0.29      0.02      0.03       263\n",
            "\n",
            "    accuracy                           0.61     10000\n",
            "   macro avg       0.39      0.28      0.29     10000\n",
            "weighted avg       0.57      0.61      0.57     10000\n",
            "\n",
            "--------------------\n"
          ]
        }
      ],
      "source": [
        "from sklearn.metrics import classification_report\n",
        "\n",
        "def get_predictions_and_labels(model, loader):\n",
        "    model.eval()\n",
        "    all_y_true = []\n",
        "\n",
        "    all_y_pred = []\n",
        "\n",
        "    with torch.no_grad():\n",
        "        for x, y in loader:\n",
        "            x = x.to(device)\n",
        "            y = y.to(device)\n",
        "\n",
        "            output = model(x)\n",
        "\n",
        "            _, prediction = torch.max(output, 1)\n",
        "\n",
        "            all_y_true.extend(y.cpu().numpy())\n",
        "\n",
        "            all_y_pred.extend(prediction.cpu().numpy())\n",
        "\n",
        "    return (all_y_true, all_y_pred)\n",
        "\n",
        "y_true, y_pred = get_predictions_and_labels(model, test_loader)\n",
        "\n",
        "print(\"Classification Report for Label:\")\n",
        "print(classification_report(y_true, y_pred))\n",
        "print(\"-\"*20)"
      ]
    },
    {
      "cell_type": "code",
      "execution_count": null,
      "metadata": {
        "colab": {
          "base_uri": "https://localhost:8080/",
          "height": 957
        },
        "id": "uiqFXZj3KsP6",
        "outputId": "d29c170e-9443-4abc-c89b-e470d7ead107"
      },
      "outputs": [
        {
          "data": {
            "image/png": "[encoded data removed]",
            "text/plain": [
              "<Figure size 1000x500 with 1 Axes>"
            ]
          },
          "metadata": {},
          "output_type": "display_data"
        },
        {
          "data": {
            "image/png": "[encoded data removed]",
            "text/plain": [
              "<Figure size 1000x500 with 1 Axes>"
            ]
          },
          "metadata": {},
          "output_type": "display_data"
        }
      ],
      "source": [
        "import matplotlib.pyplot as plt\n",
        "\n",
        "epochs = list(range(1, 49))\n",
        "\n",
        "training_loss_arr = [\n",
        "    1.0245, 1.0192, 1.0141, 1.0100, 1.0055, 0.9980, 0.9925, 0.9886, 0.9845, 0.9822,\n",
        "    0.9784, 0.9758, 0.9729, 0.9702, 0.9671, 0.9650, 0.9615, 0.9594, 0.9565, 0.9536,\n",
        "    0.9515, 0.9496, 0.9480, 0.9433, 0.9412, 0.9371, 0.9343, 0.9299, 0.9269, 0.9223,\n",
        "    0.9208, 0.9135, 0.9087, 0.9039, 0.8988, 0.8931, 0.8889, 0.8871, 0.8827, 0.8773,\n",
        "    0.8744, 0.8710, 0.8644, 0.8594, 0.8554, 0.8524, 0.8499, 0.8454\n",
        "]\n",
        "\n",
        "validation_loss_arr = [\n",
        "    1.0344, 1.0357, 1.0235, 1.0319, 1.0142, 1.0152, 1.0071, 1.0073, 1.0010, 1.0000,\n",
        "    1.0007, 0.9983, 0.9937, 0.9960, 1.0018, 0.9963, 0.9904, 0.9894, 0.9912, 0.9910,\n",
        "    0.9913, 0.9965, 0.9907, 0.9894, 0.9869, 0.9918, 0.9888, 0.9932, 0.9870, 0.9908,\n",
        "    0.9828, 0.9887, 0.9895, 0.9847, 0.9861, 0.9837, 0.9892, 0.9818, 0.9840, 0.9822,\n",
        "    0.9839, 0.9820, 0.9864, 0.9945, 0.9887, 0.9825, 0.9886, 0.9902\n",
        "]\n",
        "\n",
        "accuracy_arr = [\n",
        "    0.5706, 0.5706, 0.5744, 0.5782, 0.5793, 0.5810, 0.5825, 0.5838, 0.5862, 0.5845,\n",
        "    0.5844, 0.5821, 0.5856, 0.5872, 0.5780, 0.5845, 0.5885, 0.5838, 0.5876, 0.5909,\n",
        "    0.5918, 0.5896, 0.5899, 0.5916, 0.5929, 0.5893, 0.5858, 0.5937, 0.5912, 0.5919,\n",
        "    0.5987, 0.5838, 0.5985, 0.6001, 0.5970, 0.6041, 0.5992, 0.6009, 0.6051, 0.6041,\n",
        "    0.6051, 0.6058, 0.6061, 0.6079, 0.6115, 0.6093, 0.6048, 0.6113\n",
        "]\n",
        "\n",
        "\n",
        "plt.figure(figsize=(10, 5))\n",
        "plt.plot(epochs, training_loss_arr, label='Train Loss', marker='o', color='blue')\n",
        "plt.plot(epochs, validation_loss_arr, label='Validation Loss', marker='o', color='orange')\n",
        "plt.xlabel('Epochs')\n",
        "plt.ylabel('Loss')\n",
        "plt.title('Train Loss and Validation Loss vs Epochs')\n",
        "plt.legend()\n",
        "plt.grid(True)\n",
        "plt.show()\n",
        "\n",
        "plt.figure(figsize=(10, 5))\n",
        "plt.plot(epochs, accuracy_arr, label='Accuracy', marker='o', color='green')\n",
        "plt.xlabel('Epochs')\n",
        "plt.ylabel('Accuracy')\n",
        "plt.title('Accuracy vs Epochs')\n",
        "plt.legend()\n",
        "plt.grid(True)\n",
        "plt.show()"
      ]
    }
  ],
  "metadata": {
    "colab": {
      "provenance": []
    },
    "kernelspec": {
      "display_name": "Python 3",
      "name": "python3"
    },
    "language_info": {
      "codemirror_mode": {
        "name": "ipython",
        "version": 3
      },
      "file_extension": ".py",
      "mimetype": "text/x-python",
      "name": "python",
      "nbconvert_exporter": "python",
      "pygments_lexer": "ipython3",
      "version": "3.10.0"
    }
  },
  "nbformat": 4,
  "nbformat_minor": 0
}
