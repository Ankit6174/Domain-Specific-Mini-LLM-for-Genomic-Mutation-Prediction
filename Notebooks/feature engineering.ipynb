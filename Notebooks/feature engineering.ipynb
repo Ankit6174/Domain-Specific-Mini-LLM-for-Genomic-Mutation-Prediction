{
 "cells": [
  {
   "cell_type": "code",
   "execution_count": 32,
   "id": "d7131908",
   "metadata": {},
   "outputs": [],
   "source": [
    "import pandas as pd\n",
    "\n",
    "df = pd.read_csv('../Dataset/data.csv')"
   ]
  },
  {
   "cell_type": "code",
   "execution_count": 33,
   "id": "394d0ea4",
   "metadata": {},
   "outputs": [],
   "source": [
    "data = df.sample(10000).reset_index(drop=False)"
   ]
  },
  {
   "cell_type": "code",
   "execution_count": null,
   "metadata": {},
   "outputs": [
    {
     "data": {
      "application/vnd.microsoft.datawrangler.viewer.v0+json": {
       "columns": [
        {
         "name": "index",
         "rawType": "object",
         "type": "string"
        },
        {
         "name": "0",
         "rawType": "int64",
         "type": "integer"
        }
       ],
       "ref": "6a926bf6-bf94-4cb4-8607-cad0151488a6",
       "rows": [
        [
         "index",
         "0"
        ],
        [
         "sequence",
         "0"
        ],
        [
         "label",
         "0"
        ],
        [
         "mutation_pos",
         "0"
        ],
        [
         "ref",
         "0"
        ],
        [
         "alt",
         "0"
        ],
        [
         "mutation_type",
         "0"
        ],
        [
         "chrom",
         "0"
        ],
        [
         "genomic_pos",
         "0"
        ],
        [
         "context_left",
         "0"
        ],
        [
         "context_right",
         "0"
        ]
       ],
       "shape": {
        "columns": 1,
        "rows": 11
       }
      },
      "text/plain": [
       "index            0\n",
       "sequence         0\n",
       "label            0\n",
       "mutation_pos     0\n",
       "ref              0\n",
       "alt              0\n",
       "mutation_type    0\n",
       "chrom            0\n",
       "genomic_pos      0\n",
       "context_left     0\n",
       "context_right    0\n",
       "dtype: int64"
      ]
     },
     "execution_count": 34,
     "metadata": {},
     "output_type": "execute_result"
    }
   ],
   "source": [
    "data.isnull().sum()"
   ]
  },
  {
   "cell_type": "code",
   "execution_count": 35,
   "metadata": {},
   "outputs": [
    {
     "name": "stdout",
     "output_type": "stream",
     "text": [
      "<class 'pandas.core.frame.DataFrame'>\n",
      "RangeIndex: 10000 entries, 0 to 9999\n",
      "Data columns (total 11 columns):\n",
      " #   Column         Non-Null Count  Dtype \n",
      "---  ------         --------------  ----- \n",
      " 0   index          10000 non-null  int64 \n",
      " 1   sequence       10000 non-null  object\n",
      " 2   label          10000 non-null  int64 \n",
      " 3   mutation_pos   10000 non-null  int64 \n",
      " 4   ref            10000 non-null  object\n",
      " 5   alt            10000 non-null  object\n",
      " 6   mutation_type  10000 non-null  object\n",
      " 7   chrom          10000 non-null  object\n",
      " 8   genomic_pos    10000 non-null  int64 \n",
      " 9   context_left   10000 non-null  object\n",
      " 10  context_right  10000 non-null  object\n",
      "dtypes: int64(4), object(7)\n",
      "memory usage: 859.5+ KB\n"
     ]
    }
   ],
   "source": [
    "data.info()"
   ]
  },
  {
   "cell_type": "code",
   "execution_count": 36,
   "metadata": {},
   "outputs": [
    {
     "data": {
      "application/vnd.microsoft.datawrangler.viewer.v0+json": {
       "columns": [
        {
         "name": "index",
         "rawType": "object",
         "type": "string"
        },
        {
         "name": "index",
         "rawType": "float64",
         "type": "float"
        },
        {
         "name": "label",
         "rawType": "float64",
         "type": "float"
        },
        {
         "name": "mutation_pos",
         "rawType": "float64",
         "type": "float"
        },
        {
         "name": "genomic_pos",
         "rawType": "float64",
         "type": "float"
        }
       ],
       "ref": "344ce406-fb20-402b-8674-cee50a62d3f7",
       "rows": [
        [
         "count",
         "10000.0",
         "10000.0",
         "10000.0",
         "10000.0"
        ],
        [
         "mean",
         "929899.4756",
         "1.6397",
         "101.0",
         "92372498.0149"
        ],
        [
         "std",
         "541593.9953166854",
         "0.7263171921869719",
         "0.0",
         "62932456.20355806"
        ],
        [
         "min",
         "332.0",
         "0.0",
         "101.0",
         "45844.0"
        ],
        [
         "25%",
         "457101.0",
         "1.0",
         "101.0",
         "40281711.0"
        ],
        [
         "50%",
         "930323.0",
         "2.0",
         "101.0",
         "86857761.5"
        ],
        [
         "75%",
         "1399947.25",
         "2.0",
         "101.0",
         "136376714.5"
        ],
        [
         "max",
         "1859214.0",
         "4.0",
         "101.0",
         "248858246.0"
        ]
       ],
       "shape": {
        "columns": 4,
        "rows": 8
       }
      },
      "text/html": [
       "<div>\n",
       "<style scoped>\n",
       "    .dataframe tbody tr th:only-of-type {\n",
       "        vertical-align: middle;\n",
       "    }\n",
       "\n",
       "    .dataframe tbody tr th {\n",
       "        vertical-align: top;\n",
       "    }\n",
       "\n",
       "    .dataframe thead th {\n",
       "        text-align: right;\n",
       "    }\n",
       "</style>\n",
       "<table border=\"1\" class=\"dataframe\">\n",
       "  <thead>\n",
       "    <tr style=\"text-align: right;\">\n",
       "      <th></th>\n",
       "      <th>index</th>\n",
       "      <th>label</th>\n",
       "      <th>mutation_pos</th>\n",
       "      <th>genomic_pos</th>\n",
       "    </tr>\n",
       "  </thead>\n",
       "  <tbody>\n",
       "    <tr>\n",
       "      <th>count</th>\n",
       "      <td>1.000000e+04</td>\n",
       "      <td>10000.000000</td>\n",
       "      <td>10000.0</td>\n",
       "      <td>1.000000e+04</td>\n",
       "    </tr>\n",
       "    <tr>\n",
       "      <th>mean</th>\n",
       "      <td>9.298995e+05</td>\n",
       "      <td>1.639700</td>\n",
       "      <td>101.0</td>\n",
       "      <td>9.237250e+07</td>\n",
       "    </tr>\n",
       "    <tr>\n",
       "      <th>std</th>\n",
       "      <td>5.415940e+05</td>\n",
       "      <td>0.726317</td>\n",
       "      <td>0.0</td>\n",
       "      <td>6.293246e+07</td>\n",
       "    </tr>\n",
       "    <tr>\n",
       "      <th>min</th>\n",
       "      <td>3.320000e+02</td>\n",
       "      <td>0.000000</td>\n",
       "      <td>101.0</td>\n",
       "      <td>4.584400e+04</td>\n",
       "    </tr>\n",
       "    <tr>\n",
       "      <th>25%</th>\n",
       "      <td>4.571010e+05</td>\n",
       "      <td>1.000000</td>\n",
       "      <td>101.0</td>\n",
       "      <td>4.028171e+07</td>\n",
       "    </tr>\n",
       "    <tr>\n",
       "      <th>50%</th>\n",
       "      <td>9.303230e+05</td>\n",
       "      <td>2.000000</td>\n",
       "      <td>101.0</td>\n",
       "      <td>8.685776e+07</td>\n",
       "    </tr>\n",
       "    <tr>\n",
       "      <th>75%</th>\n",
       "      <td>1.399947e+06</td>\n",
       "      <td>2.000000</td>\n",
       "      <td>101.0</td>\n",
       "      <td>1.363767e+08</td>\n",
       "    </tr>\n",
       "    <tr>\n",
       "      <th>max</th>\n",
       "      <td>1.859214e+06</td>\n",
       "      <td>4.000000</td>\n",
       "      <td>101.0</td>\n",
       "      <td>2.488582e+08</td>\n",
       "    </tr>\n",
       "  </tbody>\n",
       "</table>\n",
       "</div>"
      ],
      "text/plain": [
       "              index         label  mutation_pos   genomic_pos\n",
       "count  1.000000e+04  10000.000000       10000.0  1.000000e+04\n",
       "mean   9.298995e+05      1.639700         101.0  9.237250e+07\n",
       "std    5.415940e+05      0.726317           0.0  6.293246e+07\n",
       "min    3.320000e+02      0.000000         101.0  4.584400e+04\n",
       "25%    4.571010e+05      1.000000         101.0  4.028171e+07\n",
       "50%    9.303230e+05      2.000000         101.0  8.685776e+07\n",
       "75%    1.399947e+06      2.000000         101.0  1.363767e+08\n",
       "max    1.859214e+06      4.000000         101.0  2.488582e+08"
      ]
     },
     "execution_count": 36,
     "metadata": {},
     "output_type": "execute_result"
    }
   ],
   "source": [
    "data.describe()"
   ]
  },
  {
   "cell_type": "code",
   "execution_count": 37,
   "metadata": {},
   "outputs": [],
   "source": [
    "def gc_content(seq):\n",
    "    seq = seq.upper()\n",
    "    gc = seq.count('G') + seq.count('C')\n",
    "    return gc / len(seq)\n",
    "\n",
    "data['gc_content'] = data['sequence'].apply(gc_content)"
   ]
  },
  {
   "cell_type": "code",
   "execution_count": 38,
   "id": "d8a58577",
   "metadata": {},
   "outputs": [],
   "source": [
    "def at_content(seq):\n",
    "    seq = seq.upper()\n",
    "    return (seq.count('A') + seq.count('T')) / len(seq)\n",
    "\n",
    "data['at_content'] = data['sequence'].apply(at_content)"
   ]
  },
  {
   "cell_type": "code",
   "execution_count": 39,
   "id": "2da9d4fe",
   "metadata": {},
   "outputs": [],
   "source": [
    "def is_cpg_site(row):\n",
    "    seq = row['sequence'].upper()\n",
    "    pos = row['mutation_pos']\n",
    "\n",
    "    if pos < len(seq)-1 and seq[pos] == 'C' and seq[pos+1] == 'G':\n",
    "        return 1\n",
    "\n",
    "    if pos > 0 and seq[pos-1] == 'C' and seq[pos] == 'G':\n",
    "        return 1\n",
    "    return 0\n",
    "\n",
    "data['cpg_flag'] = data.apply(is_cpg_site, axis=1)"
   ]
  },
  {
   "cell_type": "code",
   "execution_count": 40,
   "id": "11fc513b",
   "metadata": {},
   "outputs": [],
   "source": [
    "def cpg_type(row):\n",
    "    seq = row['sequence'].apply(lambda seq: seq[100])\n",
    "    return data[seq == \"C\"][['mutation_type']]"
   ]
  },
  {
   "cell_type": "code",
   "execution_count": 41,
   "id": "a4948313",
   "metadata": {},
   "outputs": [
    {
     "data": {
      "application/vnd.microsoft.datawrangler.viewer.v0+json": {
       "columns": [
        {
         "name": "index",
         "rawType": "object",
         "type": "unknown"
        },
        {
         "name": "count",
         "rawType": "int64",
         "type": "integer"
        }
       ],
       "ref": "a0b0a8be-9f04-4ff2-8775-895d71595d8b",
       "rows": [
        [
         "('C->T',)",
         "2062"
        ],
        [
         "('C->G',)",
         "647"
        ],
        [
         "('C->A',)",
         "526"
        ]
       ],
       "shape": {
        "columns": 1,
        "rows": 3
       }
      },
      "text/plain": [
       "mutation_type\n",
       "C->T             2062\n",
       "C->G              647\n",
       "C->A              526\n",
       "Name: count, dtype: int64"
      ]
     },
     "execution_count": 41,
     "metadata": {},
     "output_type": "execute_result"
    }
   ],
   "source": [
    "cpg_type(data).value_counts()"
   ]
  },
  {
   "cell_type": "code",
   "execution_count": 42,
   "id": "34fffafc",
   "metadata": {},
   "outputs": [
    {
     "data": {
      "image/png": "[encoded data removed]",
      "text/plain": [
       "<Figure size 640x480 with 1 Axes>"
      ]
     },
     "metadata": {},
     "output_type": "display_data"
    }
   ],
   "source": [
    "import matplotlib.pyplot as plt\n",
    "\n",
    "cpg_type(data).value_counts().plot(kind='bar', color='skyblue', edgecolor='black')\n",
    "plt.xlabel('Mutation Type')\n",
    "plt.ylabel('Count')\n",
    "plt.title('CpG Mutation Type Counts')\n",
    "plt.xticks(rotation=90)\n",
    "plt.tight_layout()\n",
    "plt.show()"
   ]
  },
  {
   "cell_type": "markdown",
   "id": "097e325e",
   "metadata": {},
   "source": [
    "### Hence if the mutation reference base is c next g then it can be likely changed to mutation type C->T because c is methylated."
   ]
  },
  {
   "cell_type": "code",
   "execution_count": 43,
   "id": "5bbf7503",
   "metadata": {},
   "outputs": [],
   "source": [
    "from collections import Counter\n",
    "import numpy as np\n",
    "\n",
    "def sequence_entropy(seq):\n",
    "    counts = Counter(seq)\n",
    "    total = len(seq)\n",
    "    probs = [count / total for count in counts.values()]\n",
    "    return -sum(p * np.log2(p) for p in probs)\n",
    "\n",
    "data['sequence_entropy'] = data['sequence'].apply(sequence_entropy)"
   ]
  },
  {
   "cell_type": "code",
   "execution_count": 44,
   "id": "984697d1",
   "metadata": {},
   "outputs": [],
   "source": [
    "def is_transition(ref, alt):\n",
    "    transitions = {('A','G'), ('G','A'), ('C','T'), ('T','C')}\n",
    "    return 1 if (ref, alt) in transitions else 0"
   ]
  },
  {
   "cell_type": "code",
   "execution_count": 45,
   "id": "8a3be250",
   "metadata": {},
   "outputs": [],
   "source": [
    "data['is_transition'] = data.apply(lambda row: is_transition(row['ref'], row['alt']), axis=1)"
   ]
  },
  {
   "cell_type": "code",
   "execution_count": 46,
   "id": "c8e7515d",
   "metadata": {},
   "outputs": [],
   "source": [
    "chrom_lengths = {\n",
    "    'chr1': 248956422,\n",
    "    'chr2': 242193529,\n",
    "    'chr3': 198295559,\n",
    "    'chr4': 190214555,\n",
    "    'chr5': 181538259,\n",
    "    'chr6': 170805979,\n",
    "    'chr7': 159345973,\n",
    "    'chr8': 145138636,\n",
    "    'chr9': 138394717,\n",
    "    'chr10': 133797422,\n",
    "    'chr11': 135086622,\n",
    "    'chr12': 133275309,\n",
    "    'chr13': 114364328,\n",
    "    'chr14': 107043718,\n",
    "    'chr15': 101991189,\n",
    "    'chr16': 90338345,\n",
    "    'chr17': 83257441,\n",
    "    'chr18': 80373285,\n",
    "    'chr19': 58617616,\n",
    "    'chr20': 64444167,\n",
    "    'chr21': 46709983,\n",
    "    'chr22': 50818468,\n",
    "}\n",
    "\n",
    "def normalized_genomic_pos(row):\n",
    "    chrom = row['chrom']\n",
    "    chrom_length = chrom_lengths.get(chrom, 1) \n",
    "    return row['genomic_pos'] / chrom_length"
   ]
  },
  {
   "cell_type": "code",
   "execution_count": 47,
   "id": "2ff22882",
   "metadata": {},
   "outputs": [],
   "source": [
    "data['genomic_pos_norm'] = data.apply(normalized_genomic_pos, axis=1)"
   ]
  },
  {
   "cell_type": "code",
   "execution_count": 48,
   "id": "125f86e0",
   "metadata": {},
   "outputs": [],
   "source": [
    "def get_codon(seq, k=3):\n",
    "    return [seq[i:i+k] for i in range(len(seq) - k + 1)]"
   ]
  },
  {
   "cell_type": "code",
   "execution_count": 49,
   "id": "3643c56d",
   "metadata": {},
   "outputs": [],
   "source": [
    "def pair_count(seq, k=3):\n",
    "    kmers = get_codon(seq, k)\n",
    "    kmer_counts = Counter(kmers)\n",
    "    \n",
    "    return [kmer_counts[kmer] for kmer in kmers]"
   ]
  },
  {
   "cell_type": "code",
   "execution_count": 50,
   "id": "c09c540e",
   "metadata": {},
   "outputs": [],
   "source": [
    "data['pair_count'] = data['sequence'].apply(pair_count)"
   ]
  },
  {
   "cell_type": "code",
   "execution_count": 51,
   "id": "c86433a6",
   "metadata": {},
   "outputs": [],
   "source": [
    "vocab = {}\n",
    "\n",
    "for seq in data['sequence']:\n",
    "    for codons in get_codon(seq.lower()):\n",
    "        if codons not in vocab:\n",
    "            vocab[codons] = len(vocab)\n",
    "        else:\n",
    "            continue\n",
    "\n",
    "def get_tensor(text):\n",
    "    return [vocab[codons.lower()] for codons in get_codon(text)]"
   ]
  },
  {
   "cell_type": "code",
   "execution_count": 52,
   "id": "5bc3165c",
   "metadata": {},
   "outputs": [
    {
     "data": {
      "application/vnd.microsoft.datawrangler.viewer.v0+json": {
       "columns": [
        {
         "name": "index",
         "rawType": "int64",
         "type": "integer"
        },
        {
         "name": "index",
         "rawType": "int64",
         "type": "integer"
        },
        {
         "name": "sequence",
         "rawType": "object",
         "type": "string"
        },
        {
         "name": "label",
         "rawType": "int64",
         "type": "integer"
        },
        {
         "name": "mutation_pos",
         "rawType": "int64",
         "type": "integer"
        },
        {
         "name": "ref",
         "rawType": "object",
         "type": "string"
        },
        {
         "name": "alt",
         "rawType": "object",
         "type": "string"
        },
        {
         "name": "mutation_type",
         "rawType": "object",
         "type": "string"
        },
        {
         "name": "chrom",
         "rawType": "object",
         "type": "string"
        },
        {
         "name": "genomic_pos",
         "rawType": "int64",
         "type": "integer"
        },
        {
         "name": "context_left",
         "rawType": "object",
         "type": "string"
        },
        {
         "name": "context_right",
         "rawType": "object",
         "type": "string"
        },
        {
         "name": "gc_content",
         "rawType": "float64",
         "type": "float"
        },
        {
         "name": "at_content",
         "rawType": "float64",
         "type": "float"
        },
        {
         "name": "cpg_flag",
         "rawType": "int64",
         "type": "integer"
        },
        {
         "name": "sequence_entropy",
         "rawType": "float64",
         "type": "float"
        },
        {
         "name": "is_transition",
         "rawType": "int64",
         "type": "integer"
        },
        {
         "name": "genomic_pos_norm",
         "rawType": "float64",
         "type": "float"
        },
        {
         "name": "pair_count",
         "rawType": "object",
         "type": "unknown"
        }
       ],
       "ref": "e1505721-c09d-41b7-b80b-315af7a0d87e",
       "rows": [
        [
         "0",
         "167680",
         "GAATATGGCAGTGCCTGAGTCGCTATCCCAGCCATGAATCTGCAAATCATCCAACCAGCCTGAGCCTTGAGTTTGTGCCCAGGTACTATTGGTAAAGGACGAGGTCTGGATAACATGAAAGGAGGTCGGCCCCTGGAAGGCTGTGAAGAGTGGAAAAGCAAGATGGTGAAGATAAAGAGAGAAGCAGGAGACAATTAGGAA",
         "2",
         "101",
         "G",
         "A",
         "G->A",
         "chr1",
         "158331023",
         "GAATATGGCAGTGCCTGAGTCGCTATCCCAGCCATGAATCTGCAAATCATCCAACCAGCCTGAGCCTTGAGTTTGTGCCCAGGTACTATTGGTAAAGGAC",
         "AGGTCTGGATAACATGAAAGGAGGTCGGCCCCTGGAAGGCTGTGAAGAGTGGAAAAGCAAGATGGTGAAGATAAAGAGAGAAGCAGGAGACAATTAGGAA",
         "0.48756218905472637",
         "0.5124378109452736",
         "0",
         "1.9525446987544859",
         "1",
         "0.6359788662129793",
         "[9, 4, 3, 3, 4, 6, 3, 4, 5, 4, 5, 3, 6, 4, 6, 7, 9, 4, 3, 2, 1, 2, 2, 3, 4, 2, 4, 5, 5, 5, 6, 5, 3, 4, 7, 9, 4, 4, 2, 6, 3, 4, 4, 6, 4, 4, 1, 3, 4, 2, 5, 4, 2, 1, 5, 5, 5, 6, 4, 6, 7, 9, 5, 6, 4, 1, 3, 7, 9, 4, 1, 1, 3, 2, 5, 3, 6, 4, 5, 5, 8, 5, 2, 1, 1, 2, 3, 2, 3, 6, 5, 2, 3, 6, 9, 8, 7, 2, 1, 1, 9, 8, 5, 3, 2, 6, 6, 7, 3, 3, 3, 2, 2, 3, 4, 7, 9, 6, 9, 8, 7, 9, 8, 5, 3, 2, 1, 3, 6, 4, 4, 4, 6, 6, 7, 9, 9, 8, 3, 2, 6, 2, 5, 7, 9, 9, 7, 9, 4, 5, 6, 7, 9, 6, 6, 9, 5, 4, 4, 9, 7, 3, 4, 6, 5, 5, 7, 9, 9, 7, 3, 3, 3, 6, 9, 7, 9, 7, 9, 7, 9, 9, 5, 4, 5, 8, 7, 9, 7, 2, 2, 4, 4, 2, 1, 1, 8, 7, 9]"
        ],
        [
         "1",
         "298865",
         "GACAGTTCTAGACTTAAGGAAGCAGGAGAACAAGCAGTTGAGGTGTCAGCTCTTACATAGTAGTTGGTGATAAGGGCATCAGGATAATCCTGGGGAGACAGAGAAGGAACAAATTAACACTTGCGCCTCCAAGCAGCTCCCACTTCCCAGTATGAATGTCACACACAGACTTGGGTTCAAAGAGCACATTCCTGCACCATA",
         "1",
         "101",
         "G",
         "A",
         "G->A",
         "chr2",
         "27312258",
         "GACAGTTCTAGACTTAAGGAAGCAGGAGAACAAGCAGTTGAGGTGTCAGCTCTTACATAGTAGTTGGTGATAAGGGCATCAGGATAATCCTGGGGAGACA",
         "AGAAGGAACAAATTAACACTTGCGCCTCCAAGCAGCTCCCACTTCCCAGTATGAATGTCACACACAGACTTGGGTTCAAAGAGCACATTCCTGCACCATA",
         "0.46766169154228854",
         "0.5323383084577115",
         "0",
         "1.9784874558553562",
         "1",
         "0.11277038702384158",
         "[4, 10, 9, 5, 4, 4, 2, 1, 3, 7, 4, 4, 5, 3, 4, 7, 6, 5, 5, 7, 6, 6, 9, 6, 5, 5, 7, 5, 3, 10, 4, 7, 6, 6, 9, 5, 4, 4, 3, 5, 6, 3, 2, 2, 2, 4, 9, 6, 2, 3, 2, 5, 3, 1, 10, 4, 4, 3, 5, 2, 3, 5, 4, 4, 3, 3, 2, 3, 2, 4, 4, 7, 6, 4, 1, 6, 4, 2, 4, 9, 6, 5, 2, 4, 4, 3, 2, 5, 3, 2, 3, 4, 4, 5, 5, 7, 4, 10, 9, 7, 5, 7, 5, 7, 6, 5, 5, 3, 10, 4, 2, 3, 2, 3, 4, 3, 10, 7, 4, 5, 4, 2, 1, 1, 1, 3, 3, 5, 4, 4, 7, 6, 6, 9, 6, 2, 3, 5, 2, 4, 7, 4, 5, 4, 5, 2, 4, 9, 5, 2, 1, 2, 3, 5, 3, 2, 2, 2, 4, 7, 10, 7, 10, 7, 10, 9, 7, 4, 4, 5, 4, 3, 4, 3, 4, 4, 4, 4, 2, 7, 7, 5, 6, 6, 7, 10, 4, 2, 4, 5, 3, 2, 2, 6, 7, 1, 4, 4, 4]"
        ],
        [
         "2",
         "925595",
         "GGCCAGAACGCCTGGCTGTCATACCTCCTGCTTAAGGCCAGCGAGCCAGGACTCTTTGCGGTTGGGCTGTACACGGGCGAGGTGCGCACGGCTCGGGCCCTGCTGGACAGAGATGCCCTCAAGCAGAGCCTCGTGGTGGCCGTCCAGGACCACGGTCAGCCTCCTCTGTCAGCCACCGTCACACTCACCGTGGCTGTGGCT",
         "2",
         "101",
         "T",
         "C",
         "T->C",
         "chr5",
         "141384794",
         "GGCCAGAACGCCTGGCTGTCATACCTCCTGCTTAAGGCCAGCGAGCCAGGACTCTTTGCGGTTGGGCTGTACACGGGCGAGGTGCGCACGGCTCGGGCCC",
         "GCTGGACAGAGATGCCCTCAAGCAGAGCCTCGTGGTGGCCGTCCAGGACCACGGTCAGCCTCCTCTGTCAGCCACCGTCACACTCACCGTGGCTGTGGCT",
         "0.6567164179104478",
         "0.34328358208955223",
         "0",
         "1.926189762157564",
         "1",
         "0.7788154121275339",
         "[10, 10, 6, 8, 4, 1, 1, 4, 2, 10, 8, 8, 7, 10, 7, 8, 4, 5, 6, 1, 1, 2, 4, 8, 8, 3, 8, 8, 5, 7, 2, 1, 1, 2, 4, 10, 10, 6, 8, 6, 4, 2, 4, 6, 10, 6, 8, 4, 3, 3, 2, 8, 2, 2, 1, 2, 5, 4, 5, 4, 1, 2, 7, 3, 10, 7, 8, 4, 1, 2, 3, 7, 4, 5, 3, 10, 4, 2, 4, 4, 4, 5, 5, 4, 2, 2, 7, 4, 5, 10, 7, 8, 2, 5, 3, 10, 10, 2, 8, 8, 5, 7, 8, 7, 3, 3, 3, 8, 4, 4, 4, 1, 1, 5, 10, 2, 8, 8, 6, 1, 2, 6, 2, 8, 4, 4, 6, 10, 8, 8, 2, 4, 5, 7, 4, 5, 7, 10, 10, 3, 4, 5, 3, 6, 8, 4, 3, 3, 4, 6, 7, 4, 5, 4, 5, 6, 8, 6, 10, 8, 8, 3, 8, 8, 2, 8, 4, 5, 6, 8, 6, 10, 6, 7, 4, 3, 4, 5, 6, 7, 3, 7, 2, 8, 6, 7, 4, 3, 4, 5, 7, 10, 7, 8, 4, 5, 7, 10, 7]"
        ],
        [
         "3",
         "108888",
         "ATTAGGACATAGCAAAGCTTACTCAATGTCTACTTTTTTTTTTTTTTTTTTTTACAGTCACAATATTCTTCTCTATGAGGATGGGCATGCTGTGGTGGCAGATTTTGGAGGTGAGATACCCCAAAATGGCATCCTTTTTTTCTTTGTTCCTAGCTGGTACAATATGGTGCCTGATATTGTACCATGAAACTGAACACTGAA",
         "2",
         "101",
         "G",
         "T",
         "G->T",
         "chr1",
         "74436123",
         "ATTAGGACATAGCAAAGCTTACTCAATGTCTACTTTTTTTTTTTTTTTTTTTTACAGTCACAATATTCTTCTCTATGAGGATGGGCATGCTGTGGTGGCA",
         "ATTTTGGAGGTGAGATACCCCAAAATGGCATCCTTTTTTTCTTTGTTCCTAGCTGGTACAATATGGTGCCTGATATTGTACCATGAAACTGAACACTGAA",
         "0.3681592039800995",
         "0.6318407960199005",
         "0",
         "1.9277135556020872",
         "0",
         "0.29899258031592374",
         "[4, 3, 3, 3, 3, 1, 5, 4, 5, 3, 3, 4, 5, 4, 1, 3, 3, 5, 3, 6, 4, 2, 2, 5, 4, 7, 4, 2, 5, 3, 6, 4, 5, 26, 26, 26, 26, 26, 26, 26, 26, 26, 26, 26, 26, 26, 26, 26, 26, 26, 26, 3, 6, 5, 2, 1, 2, 2, 2, 5, 5, 4, 5, 4, 4, 4, 5, 5, 4, 5, 2, 5, 3, 4, 7, 6, 3, 3, 3, 4, 7, 7, 1, 3, 4, 4, 7, 2, 3, 5, 4, 4, 7, 4, 4, 7, 3, 4, 2, 2, 4, 4, 26, 26, 3, 7, 3, 3, 3, 4, 4, 6, 3, 2, 4, 5, 6, 2, 2, 2, 2, 5, 4, 4, 4, 7, 7, 3, 4, 4, 1, 2, 3, 5, 26, 26, 26, 26, 26, 4, 5, 5, 26, 3, 4, 1, 4, 2, 3, 3, 3, 3, 3, 5, 7, 4, 2, 6, 5, 5, 4, 5, 4, 7, 7, 4, 4, 2, 1, 3, 5, 6, 4, 5, 4, 4, 3, 4, 2, 6, 2, 2, 4, 7, 6, 3, 4, 2, 4, 5, 6, 3, 2, 5, 2, 4, 5, 6, 3]"
        ],
        [
         "4",
         "21453",
         "CACTTTACTAATTTGTTCATAGGTGAGCTACATGGAAATTTACTGTGAAAGAGTACGAGATTTGCTGAATCCAAAAAACAAGGGTAATTTGCGTGTGCGTGAACACCCACTTCTTGGACCCTATGTGGAGGATCTGTCCAAGTTGGCAGTTACTTCCTACACAGACATTGCTGACCTCATGGATGCTGGGAACAAAGCCAG",
         "2",
         "101",
         "G",
         "C",
         "G->C",
         "chr1",
         "10267458",
         "CACTTTACTAATTTGTTCATAGGTGAGCTACATGGAAATTTACTGTGAAAGAGTACGAGATTTGCTGAATCCAAAAAACAAGGGTAATTTGCGTGTGCGT",
         "AACACCCACTTCTTGGACCCTATGTGGAGGATCTGTCCAAGTTGGCAGTTACTTCCTACACAGACATTGCTGACCTCATGGATGCTGGGAACAAAGCCAG",
         "0.43781094527363185",
         "0.5621890547263682",
         "0",
         "1.987056715161785",
         "0",
         "0.04124198892929141",
         "[4, 5, 4, 5, 3, 6, 5, 4, 2, 4, 5, 5, 6, 5, 3, 3, 2, 4, 1, 1, 3, 2, 6, 5, 4, 2, 4, 4, 6, 7, 4, 4, 6, 6, 5, 7, 4, 5, 5, 3, 6, 5, 5, 5, 6, 5, 5, 7, 4, 3, 4, 3, 2, 6, 1, 1, 4, 3, 3, 5, 5, 6, 5, 4, 5, 5, 5, 4, 2, 3, 4, 4, 7, 7, 7, 7, 3, 7, 4, 4, 3, 2, 2, 2, 2, 4, 5, 5, 6, 5, 2, 2, 6, 5, 6, 5, 2, 2, 6, 5, 5, 3, 7, 4, 3, 2, 4, 4, 5, 4, 3, 2, 4, 6, 6, 6, 3, 3, 2, 3, 4, 1, 4, 5, 6, 6, 6, 4, 3, 6, 3, 2, 2, 5, 5, 1, 3, 4, 4, 4, 3, 3, 6, 6, 1, 1, 3, 3, 3, 3, 6, 5, 4, 3, 3, 3, 4, 6, 7, 4, 7, 3, 3, 3, 7, 4, 5, 6, 5, 4, 5, 5, 3, 3, 3, 1, 2, 4, 4, 6, 6, 3, 4, 5, 4, 5, 6, 2, 6, 5, 3, 7, 4, 7, 4, 2, 1, 4, 3]"
        ]
       ],
       "shape": {
        "columns": 18,
        "rows": 5
       }
      },
      "text/html": [
       "<div>\n",
       "<style scoped>\n",
       "    .dataframe tbody tr th:only-of-type {\n",
       "        vertical-align: middle;\n",
       "    }\n",
       "\n",
       "    .dataframe tbody tr th {\n",
       "        vertical-align: top;\n",
       "    }\n",
       "\n",
       "    .dataframe thead th {\n",
       "        text-align: right;\n",
       "    }\n",
       "</style>\n",
       "<table border=\"1\" class=\"dataframe\">\n",
       "  <thead>\n",
       "    <tr style=\"text-align: right;\">\n",
       "      <th></th>\n",
       "      <th>index</th>\n",
       "      <th>sequence</th>\n",
       "      <th>label</th>\n",
       "      <th>mutation_pos</th>\n",
       "      <th>ref</th>\n",
       "      <th>alt</th>\n",
       "      <th>mutation_type</th>\n",
       "      <th>chrom</th>\n",
       "      <th>genomic_pos</th>\n",
       "      <th>context_left</th>\n",
       "      <th>context_right</th>\n",
       "      <th>gc_content</th>\n",
       "      <th>at_content</th>\n",
       "      <th>cpg_flag</th>\n",
       "      <th>sequence_entropy</th>\n",
       "      <th>is_transition</th>\n",
       "      <th>genomic_pos_norm</th>\n",
       "      <th>pair_count</th>\n",
       "    </tr>\n",
       "  </thead>\n",
       "  <tbody>\n",
       "    <tr>\n",
       "      <th>0</th>\n",
       "      <td>167680</td>\n",
       "      <td>GAATATGGCAGTGCCTGAGTCGCTATCCCAGCCATGAATCTGCAAA...</td>\n",
       "      <td>2</td>\n",
       "      <td>101</td>\n",
       "      <td>G</td>\n",
       "      <td>A</td>\n",
       "      <td>G-&gt;A</td>\n",
       "      <td>chr1</td>\n",
       "      <td>158331023</td>\n",
       "      <td>GAATATGGCAGTGCCTGAGTCGCTATCCCAGCCATGAATCTGCAAA...</td>\n",
       "      <td>AGGTCTGGATAACATGAAAGGAGGTCGGCCCCTGGAAGGCTGTGAA...</td>\n",
       "      <td>0.487562</td>\n",
       "      <td>0.512438</td>\n",
       "      <td>0</td>\n",
       "      <td>1.952545</td>\n",
       "      <td>1</td>\n",
       "      <td>0.635979</td>\n",
       "      <td>[9, 4, 3, 3, 4, 6, 3, 4, 5, 4, 5, 3, 6, 4, 6, ...</td>\n",
       "    </tr>\n",
       "    <tr>\n",
       "      <th>1</th>\n",
       "      <td>298865</td>\n",
       "      <td>GACAGTTCTAGACTTAAGGAAGCAGGAGAACAAGCAGTTGAGGTGT...</td>\n",
       "      <td>1</td>\n",
       "      <td>101</td>\n",
       "      <td>G</td>\n",
       "      <td>A</td>\n",
       "      <td>G-&gt;A</td>\n",
       "      <td>chr2</td>\n",
       "      <td>27312258</td>\n",
       "      <td>GACAGTTCTAGACTTAAGGAAGCAGGAGAACAAGCAGTTGAGGTGT...</td>\n",
       "      <td>AGAAGGAACAAATTAACACTTGCGCCTCCAAGCAGCTCCCACTTCC...</td>\n",
       "      <td>0.467662</td>\n",
       "      <td>0.532338</td>\n",
       "      <td>0</td>\n",
       "      <td>1.978487</td>\n",
       "      <td>1</td>\n",
       "      <td>0.112770</td>\n",
       "      <td>[4, 10, 9, 5, 4, 4, 2, 1, 3, 7, 4, 4, 5, 3, 4,...</td>\n",
       "    </tr>\n",
       "    <tr>\n",
       "      <th>2</th>\n",
       "      <td>925595</td>\n",
       "      <td>GGCCAGAACGCCTGGCTGTCATACCTCCTGCTTAAGGCCAGCGAGC...</td>\n",
       "      <td>2</td>\n",
       "      <td>101</td>\n",
       "      <td>T</td>\n",
       "      <td>C</td>\n",
       "      <td>T-&gt;C</td>\n",
       "      <td>chr5</td>\n",
       "      <td>141384794</td>\n",
       "      <td>GGCCAGAACGCCTGGCTGTCATACCTCCTGCTTAAGGCCAGCGAGC...</td>\n",
       "      <td>GCTGGACAGAGATGCCCTCAAGCAGAGCCTCGTGGTGGCCGTCCAG...</td>\n",
       "      <td>0.656716</td>\n",
       "      <td>0.343284</td>\n",
       "      <td>0</td>\n",
       "      <td>1.926190</td>\n",
       "      <td>1</td>\n",
       "      <td>0.778815</td>\n",
       "      <td>[10, 10, 6, 8, 4, 1, 1, 4, 2, 10, 8, 8, 7, 10,...</td>\n",
       "    </tr>\n",
       "    <tr>\n",
       "      <th>3</th>\n",
       "      <td>108888</td>\n",
       "      <td>ATTAGGACATAGCAAAGCTTACTCAATGTCTACTTTTTTTTTTTTT...</td>\n",
       "      <td>2</td>\n",
       "      <td>101</td>\n",
       "      <td>G</td>\n",
       "      <td>T</td>\n",
       "      <td>G-&gt;T</td>\n",
       "      <td>chr1</td>\n",
       "      <td>74436123</td>\n",
       "      <td>ATTAGGACATAGCAAAGCTTACTCAATGTCTACTTTTTTTTTTTTT...</td>\n",
       "      <td>ATTTTGGAGGTGAGATACCCCAAAATGGCATCCTTTTTTTCTTTGT...</td>\n",
       "      <td>0.368159</td>\n",
       "      <td>0.631841</td>\n",
       "      <td>0</td>\n",
       "      <td>1.927714</td>\n",
       "      <td>0</td>\n",
       "      <td>0.298993</td>\n",
       "      <td>[4, 3, 3, 3, 3, 1, 5, 4, 5, 3, 3, 4, 5, 4, 1, ...</td>\n",
       "    </tr>\n",
       "    <tr>\n",
       "      <th>4</th>\n",
       "      <td>21453</td>\n",
       "      <td>CACTTTACTAATTTGTTCATAGGTGAGCTACATGGAAATTTACTGT...</td>\n",
       "      <td>2</td>\n",
       "      <td>101</td>\n",
       "      <td>G</td>\n",
       "      <td>C</td>\n",
       "      <td>G-&gt;C</td>\n",
       "      <td>chr1</td>\n",
       "      <td>10267458</td>\n",
       "      <td>CACTTTACTAATTTGTTCATAGGTGAGCTACATGGAAATTTACTGT...</td>\n",
       "      <td>AACACCCACTTCTTGGACCCTATGTGGAGGATCTGTCCAAGTTGGC...</td>\n",
       "      <td>0.437811</td>\n",
       "      <td>0.562189</td>\n",
       "      <td>0</td>\n",
       "      <td>1.987057</td>\n",
       "      <td>0</td>\n",
       "      <td>0.041242</td>\n",
       "      <td>[4, 5, 4, 5, 3, 6, 5, 4, 2, 4, 5, 5, 6, 5, 3, ...</td>\n",
       "    </tr>\n",
       "  </tbody>\n",
       "</table>\n",
       "</div>"
      ],
      "text/plain": [
       "    index                                           sequence  label  \\\n",
       "0  167680  GAATATGGCAGTGCCTGAGTCGCTATCCCAGCCATGAATCTGCAAA...      2   \n",
       "1  298865  GACAGTTCTAGACTTAAGGAAGCAGGAGAACAAGCAGTTGAGGTGT...      1   \n",
       "2  925595  GGCCAGAACGCCTGGCTGTCATACCTCCTGCTTAAGGCCAGCGAGC...      2   \n",
       "3  108888  ATTAGGACATAGCAAAGCTTACTCAATGTCTACTTTTTTTTTTTTT...      2   \n",
       "4   21453  CACTTTACTAATTTGTTCATAGGTGAGCTACATGGAAATTTACTGT...      2   \n",
       "\n",
       "   mutation_pos ref alt mutation_type chrom  genomic_pos  \\\n",
       "0           101   G   A          G->A  chr1    158331023   \n",
       "1           101   G   A          G->A  chr2     27312258   \n",
       "2           101   T   C          T->C  chr5    141384794   \n",
       "3           101   G   T          G->T  chr1     74436123   \n",
       "4           101   G   C          G->C  chr1     10267458   \n",
       "\n",
       "                                        context_left  \\\n",
       "0  GAATATGGCAGTGCCTGAGTCGCTATCCCAGCCATGAATCTGCAAA...   \n",
       "1  GACAGTTCTAGACTTAAGGAAGCAGGAGAACAAGCAGTTGAGGTGT...   \n",
       "2  GGCCAGAACGCCTGGCTGTCATACCTCCTGCTTAAGGCCAGCGAGC...   \n",
       "3  ATTAGGACATAGCAAAGCTTACTCAATGTCTACTTTTTTTTTTTTT...   \n",
       "4  CACTTTACTAATTTGTTCATAGGTGAGCTACATGGAAATTTACTGT...   \n",
       "\n",
       "                                       context_right  gc_content  at_content  \\\n",
       "0  AGGTCTGGATAACATGAAAGGAGGTCGGCCCCTGGAAGGCTGTGAA...    0.487562    0.512438   \n",
       "1  AGAAGGAACAAATTAACACTTGCGCCTCCAAGCAGCTCCCACTTCC...    0.467662    0.532338   \n",
       "2  GCTGGACAGAGATGCCCTCAAGCAGAGCCTCGTGGTGGCCGTCCAG...    0.656716    0.343284   \n",
       "3  ATTTTGGAGGTGAGATACCCCAAAATGGCATCCTTTTTTTCTTTGT...    0.368159    0.631841   \n",
       "4  AACACCCACTTCTTGGACCCTATGTGGAGGATCTGTCCAAGTTGGC...    0.437811    0.562189   \n",
       "\n",
       "   cpg_flag  sequence_entropy  is_transition  genomic_pos_norm  \\\n",
       "0         0          1.952545              1          0.635979   \n",
       "1         0          1.978487              1          0.112770   \n",
       "2         0          1.926190              1          0.778815   \n",
       "3         0          1.927714              0          0.298993   \n",
       "4         0          1.987057              0          0.041242   \n",
       "\n",
       "                                          pair_count  \n",
       "0  [9, 4, 3, 3, 4, 6, 3, 4, 5, 4, 5, 3, 6, 4, 6, ...  \n",
       "1  [4, 10, 9, 5, 4, 4, 2, 1, 3, 7, 4, 4, 5, 3, 4,...  \n",
       "2  [10, 10, 6, 8, 4, 1, 1, 4, 2, 10, 8, 8, 7, 10,...  \n",
       "3  [4, 3, 3, 3, 3, 1, 5, 4, 5, 3, 3, 4, 5, 4, 1, ...  \n",
       "4  [4, 5, 4, 5, 3, 6, 5, 4, 2, 4, 5, 5, 6, 5, 3, ...  "
      ]
     },
     "execution_count": 52,
     "metadata": {},
     "output_type": "execute_result"
    }
   ],
   "source": [
    "data.head()"
   ]
  },
  {
   "cell_type": "code",
   "execution_count": null,
   "id": "dd2e65f1",
   "metadata": {},
   "outputs": [],
   "source": []
  }
 ],
 "metadata": {
  "kernelspec": {
   "display_name": "Python 3",
   "language": "python",
   "name": "python3"
  },
  "language_info": {
   "codemirror_mode": {
    "name": "ipython",
    "version": 3
   },
   "file_extension": ".py",
   "mimetype": "text/x-python",
   "name": "python",
   "nbconvert_exporter": "python",
   "pygments_lexer": "ipython3",
   "version": "3.10.0"
  }
 },
 "nbformat": 4,
 "nbformat_minor": 5
}
