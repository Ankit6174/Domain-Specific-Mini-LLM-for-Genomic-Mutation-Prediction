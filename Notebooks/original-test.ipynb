{
 "cells": [
  {
   "cell_type": "code",
   "execution_count": null,
   "id": "f6657e0c",
   "metadata": {},
   "outputs": [],
   "source": [
    "# Finializing"
   ]
  },
  {
   "cell_type": "code",
   "execution_count": null,
   "id": "5051afed",
   "metadata": {},
   "outputs": [],
   "source": [
    "import wandb\n",
    "\n",
    "wandb.init(project=\"DNABERT\", name=\"first-run\")\n",
    "\n",
    "config = {\n",
    "    \"epochs\": 30,\n",
    "    \"datasate_size\": \"10K\",\n",
    "    \"codons\": 3,\n",
    "    \"batch_size\": 32,\n",
    "    \"embed_dim\": 128,\n",
    "    \"num_heads\": 4,\n",
    "    \"num_layers\": 2,\n",
    "    \"ff_dim\": 256,\n",
    "    \"learning_rate\": 1e-3,\n",
    "    \"model\": \"transformer\",\n",
    "}\n",
    "\n",
    "wandb.config.update(config)"
   ]
  },
  {
   "cell_type": "code",
   "execution_count": null,
   "id": "da5de9a4",
   "metadata": {},
   "outputs": [
    {
     "data": {
      "text/plain": [
       "(1859483, 10)"
      ]
     },
     "execution_count": 130,
     "metadata": {},
     "output_type": "execute_result"
    }
   ],
   "source": [
    "import pandas as pd\n",
    "\n",
    "data = pd.read_csv(\"Dataset/data.csv\")\n",
    "data.shape"
   ]
  },
  {
   "cell_type": "code",
   "execution_count": 131,
   "id": "a1146be4",
   "metadata": {},
   "outputs": [],
   "source": [
    "data = data.sample(n=10000)"
   ]
  },
  {
   "cell_type": "markdown",
   "id": "32626aac",
   "metadata": {},
   "source": [
    "## Prepairing"
   ]
  },
  {
   "cell_type": "code",
   "execution_count": 132,
   "id": "9094e768",
   "metadata": {},
   "outputs": [],
   "source": [
    "data['mutation_pos'] = 0"
   ]
  },
  {
   "cell_type": "code",
   "execution_count": 133,
   "id": "e2b51e83",
   "metadata": {},
   "outputs": [],
   "source": [
    "data['ref'] = data['ref'].map({'G': 0, 'C': 1, 'A': 2, 'T':3})\n",
    "data['alt'] = data['alt'].map({'G': 0, 'C': 1, 'A': 2, 'T':3})"
   ]
  },
  {
   "cell_type": "code",
   "execution_count": 134,
   "id": "e18d3405",
   "metadata": {},
   "outputs": [],
   "source": [
    "from sklearn.preprocessing import LabelEncoder\n",
    "\n",
    "mut_type_encoder = LabelEncoder()\n",
    "data['mutation_type'] = mut_type_encoder.fit_transform(data['mutation_type'])"
   ]
  },
  {
   "cell_type": "code",
   "execution_count": 135,
   "id": "65a56094",
   "metadata": {},
   "outputs": [],
   "source": [
    "from sklearn.preprocessing import LabelEncoder\n",
    "\n",
    "chrom_encoder = LabelEncoder()\n",
    "data['chrom'] = chrom_encoder.fit_transform(data['chrom'])"
   ]
  },
  {
   "cell_type": "code",
   "execution_count": 136,
   "id": "d0ea636f",
   "metadata": {},
   "outputs": [
    {
     "data": {
      "application/vnd.microsoft.datawrangler.viewer.v0+json": {
       "columns": [
        {
         "name": "index",
         "rawType": "int64",
         "type": "integer"
        },
        {
         "name": "sequence",
         "rawType": "object",
         "type": "string"
        },
        {
         "name": "label",
         "rawType": "int64",
         "type": "integer"
        },
        {
         "name": "mutation_pos",
         "rawType": "int64",
         "type": "integer"
        },
        {
         "name": "ref",
         "rawType": "int64",
         "type": "integer"
        },
        {
         "name": "alt",
         "rawType": "int64",
         "type": "integer"
        },
        {
         "name": "mutation_type",
         "rawType": "int64",
         "type": "integer"
        },
        {
         "name": "chrom",
         "rawType": "int64",
         "type": "integer"
        },
        {
         "name": "genomic_pos",
         "rawType": "int64",
         "type": "integer"
        },
        {
         "name": "context_left",
         "rawType": "object",
         "type": "string"
        },
        {
         "name": "context_right",
         "rawType": "object",
         "type": "string"
        }
       ],
       "ref": "0ab6539d-cfc8-4a9e-9a06-6c620ebc3c94",
       "rows": [
        [
         "820871",
         "GTTATTTTGTTTTATTCTCACTGCTTCTGGGCAGAGGGAGCTGGGAAGGAGCCCCGGGGCCACCTGACATGGTCCCTGTCCACAGGGCTGGGCTGTGTCACGCTGTCCTTCCTGATCAGCCTGTACTACAACACCATCGTGGCGTGGGTGCTGTGGTACCTCCTCAACTCCTTCCAGCACCCGCTGCCCTGGAGCTCCTGC",
         "2",
         "0",
         "1",
         "3",
         "5",
         "7",
         "1232766",
         "GTTATTTTGTTTTATTCTCACTGCTTCTGGGCAGAGGGAGCTGGGAAGGAGCCCCGGGGCCACCTGACATGGTCCCTGTCCACAGGGCTGGGCTGTGTCA",
         "GCTGTCCTTCCTGATCAGCCTGTACTACAACACCATCGTGGCGTGGGTGCTGTGGTACCTCCTCAACTCCTTCCAGCACCCGCTGCCCTGGAGCTCCTGC"
        ],
        [
         "1646142",
         "TGGTTCTTCGTGGAGCTCGGCTGGGCCAGGCAGTATTGAGCGATGTGTTACAAGCTGGCTGTGTCCCGGTTGTCATTGCAGACTCCTATATTTTGCCTTTCTCTGAAGTTCTTGACTGGAAGAGGTGGGTAGTACCTCCTAGTAAACTCTACATTAGTGGTTCTGCGTATATTACAAATAAAATCTCCTCAGGTCATTGTA",
         "2",
         "0",
         "1",
         "0",
         "4",
         "2",
         "44126932",
         "TGGTTCTTCGTGGAGCTCGGCTGGGCCAGGCAGTATTGAGCGATGTGTTACAAGCTGGCTGTGTCCCGGTTGTCATTGCAGACTCCTATATTTTGCCTTT",
         "TCTGAAGTTCTTGACTGGAAGAGGTGGGTAGTACCTCCTAGTAAACTCTACATTAGTGGTTCTGCGTATATTACAAATAAAATCTCCTCAGGTCATTGTA"
        ],
        [
         "1280029",
         "TCAGTATGACACCAATGAATATAGTATTAACAGGTAAGATGAGTGGGAAAAGCACCTCTTCTCCTTGAGGCGGGCCCAGGCTTCTGTGCATGTGCTTGACCAGGGCCGTCAGGGGCGCCATGCACTCATGCCGATTGAGCTCGTCCATCTCCAGCTCCAGCACATCATCATGCACCGTGGGGTCCCGCTGCTCCTGCGAAA",
         "1",
         "0",
         "1",
         "3",
         "5",
         "10",
         "47858894",
         "TCAGTATGACACCAATGAATATAGTATTAACAGGTAAGATGAGTGGGAAAAGCACCTCTTCTCCTTGAGGCGGGCCCAGGCTTCTGTGCATGTGCTTGAC",
         "AGGGCCGTCAGGGGCGCCATGCACTCATGCCGATTGAGCTCGTCCATCTCCAGCTCCAGCACATCATCATGCACCGTGGGGTCCCGCTGCTCCTGCGAAA"
        ],
        [
         "1594122",
         "CCCTCTGAGCTTGGACCCCAGCCCCACCTGCGCTGGCCAGGGAGGCCTACCTGCGTGCACCTCAGTCAGCAGCTTCGCGCAGTGGGGCGGGGCCCAGCCCGCGTGGCAGTGGCACTCCTGCTTGTGGTTGCACACCTGCGGGGACGGCTGGGCTCAGGGCCAACCCTGTTGTGGACCCCAAGGGGCCGTGGGGGCCGTGCC",
         "2",
         "0",
         "0",
         "2",
         "6",
         "1",
         "133269495",
         "CCCTCTGAGCTTGGACCCCAGCCCCACCTGCGCTGGCCAGGGAGGCCTACCTGCGTGCACCTCAGTCAGCAGCTTCGCGCAGTGGGGCGGGGCCCAGCCC",
         "CGTGGCAGTGGCACTCCTGCTTGTGGTTGCACACCTGCGGGGACGGCTGGGCTCAGGGCCAACCCTGTTGTGGACCCCAAGGGGCCGTGGGGGCCGTGCC"
        ],
        [
         "411670",
         "AAGTTCCATCTTTTACTTCAAAAACAAAACTAACATTGCATATTACCCACAAAGAAAGGAAAAAAAAGAATTACCGACACACTCCAACAGTGTAATCTGGCGAGCCACTGTTCTTTGTACCAGAAAAGGAAGACCAGAGCCACTTCCTGATGTACACGAATGATCCAATAAATCCTGTGGTTTAAGACAAGGGGGAAAAGA",
         "4",
         "0",
         "1",
         "3",
         "5",
         "4",
         "157774114",
         "AAGTTCCATCTTTTACTTCAAAAACAAAACTAACATTGCATATTACCCACAAAGAAAGGAAAAAAAAGAATTACCGACACACTCCAACAGTGTAATCTGG",
         "GAGCCACTGTTCTTTGTACCAGAAAAGGAAGACCAGAGCCACTTCCTGATGTACACGAATGATCCAATAAATCCTGTGGTTTAAGACAAGGGGGAAAAGA"
        ]
       ],
       "shape": {
        "columns": 10,
        "rows": 5
       }
      },
      "text/html": [
       "<div>\n",
       "<style scoped>\n",
       "    .dataframe tbody tr th:only-of-type {\n",
       "        vertical-align: middle;\n",
       "    }\n",
       "\n",
       "    .dataframe tbody tr th {\n",
       "        vertical-align: top;\n",
       "    }\n",
       "\n",
       "    .dataframe thead th {\n",
       "        text-align: right;\n",
       "    }\n",
       "</style>\n",
       "<table border=\"1\" class=\"dataframe\">\n",
       "  <thead>\n",
       "    <tr style=\"text-align: right;\">\n",
       "      <th></th>\n",
       "      <th>sequence</th>\n",
       "      <th>label</th>\n",
       "      <th>mutation_pos</th>\n",
       "      <th>ref</th>\n",
       "      <th>alt</th>\n",
       "      <th>mutation_type</th>\n",
       "      <th>chrom</th>\n",
       "      <th>genomic_pos</th>\n",
       "      <th>context_left</th>\n",
       "      <th>context_right</th>\n",
       "    </tr>\n",
       "  </thead>\n",
       "  <tbody>\n",
       "    <tr>\n",
       "      <th>820871</th>\n",
       "      <td>GTTATTTTGTTTTATTCTCACTGCTTCTGGGCAGAGGGAGCTGGGA...</td>\n",
       "      <td>2</td>\n",
       "      <td>0</td>\n",
       "      <td>1</td>\n",
       "      <td>3</td>\n",
       "      <td>5</td>\n",
       "      <td>7</td>\n",
       "      <td>1232766</td>\n",
       "      <td>GTTATTTTGTTTTATTCTCACTGCTTCTGGGCAGAGGGAGCTGGGA...</td>\n",
       "      <td>GCTGTCCTTCCTGATCAGCCTGTACTACAACACCATCGTGGCGTGG...</td>\n",
       "    </tr>\n",
       "    <tr>\n",
       "      <th>1646142</th>\n",
       "      <td>TGGTTCTTCGTGGAGCTCGGCTGGGCCAGGCAGTATTGAGCGATGT...</td>\n",
       "      <td>2</td>\n",
       "      <td>0</td>\n",
       "      <td>1</td>\n",
       "      <td>0</td>\n",
       "      <td>4</td>\n",
       "      <td>2</td>\n",
       "      <td>44126932</td>\n",
       "      <td>TGGTTCTTCGTGGAGCTCGGCTGGGCCAGGCAGTATTGAGCGATGT...</td>\n",
       "      <td>TCTGAAGTTCTTGACTGGAAGAGGTGGGTAGTACCTCCTAGTAAAC...</td>\n",
       "    </tr>\n",
       "    <tr>\n",
       "      <th>1280029</th>\n",
       "      <td>TCAGTATGACACCAATGAATATAGTATTAACAGGTAAGATGAGTGG...</td>\n",
       "      <td>1</td>\n",
       "      <td>0</td>\n",
       "      <td>1</td>\n",
       "      <td>3</td>\n",
       "      <td>5</td>\n",
       "      <td>10</td>\n",
       "      <td>47858894</td>\n",
       "      <td>TCAGTATGACACCAATGAATATAGTATTAACAGGTAAGATGAGTGG...</td>\n",
       "      <td>AGGGCCGTCAGGGGCGCCATGCACTCATGCCGATTGAGCTCGTCCA...</td>\n",
       "    </tr>\n",
       "    <tr>\n",
       "      <th>1594122</th>\n",
       "      <td>CCCTCTGAGCTTGGACCCCAGCCCCACCTGCGCTGGCCAGGGAGGC...</td>\n",
       "      <td>2</td>\n",
       "      <td>0</td>\n",
       "      <td>0</td>\n",
       "      <td>2</td>\n",
       "      <td>6</td>\n",
       "      <td>1</td>\n",
       "      <td>133269495</td>\n",
       "      <td>CCCTCTGAGCTTGGACCCCAGCCCCACCTGCGCTGGCCAGGGAGGC...</td>\n",
       "      <td>CGTGGCAGTGGCACTCCTGCTTGTGGTTGCACACCTGCGGGGACGG...</td>\n",
       "    </tr>\n",
       "    <tr>\n",
       "      <th>411670</th>\n",
       "      <td>AAGTTCCATCTTTTACTTCAAAAACAAAACTAACATTGCATATTAC...</td>\n",
       "      <td>4</td>\n",
       "      <td>0</td>\n",
       "      <td>1</td>\n",
       "      <td>3</td>\n",
       "      <td>5</td>\n",
       "      <td>4</td>\n",
       "      <td>157774114</td>\n",
       "      <td>AAGTTCCATCTTTTACTTCAAAAACAAAACTAACATTGCATATTAC...</td>\n",
       "      <td>GAGCCACTGTTCTTTGTACCAGAAAAGGAAGACCAGAGCCACTTCC...</td>\n",
       "    </tr>\n",
       "  </tbody>\n",
       "</table>\n",
       "</div>"
      ],
      "text/plain": [
       "                                                  sequence  label  \\\n",
       "820871   GTTATTTTGTTTTATTCTCACTGCTTCTGGGCAGAGGGAGCTGGGA...      2   \n",
       "1646142  TGGTTCTTCGTGGAGCTCGGCTGGGCCAGGCAGTATTGAGCGATGT...      2   \n",
       "1280029  TCAGTATGACACCAATGAATATAGTATTAACAGGTAAGATGAGTGG...      1   \n",
       "1594122  CCCTCTGAGCTTGGACCCCAGCCCCACCTGCGCTGGCCAGGGAGGC...      2   \n",
       "411670   AAGTTCCATCTTTTACTTCAAAAACAAAACTAACATTGCATATTAC...      4   \n",
       "\n",
       "         mutation_pos  ref  alt  mutation_type  chrom  genomic_pos  \\\n",
       "820871              0    1    3              5      7      1232766   \n",
       "1646142             0    1    0              4      2     44126932   \n",
       "1280029             0    1    3              5     10     47858894   \n",
       "1594122             0    0    2              6      1    133269495   \n",
       "411670              0    1    3              5      4    157774114   \n",
       "\n",
       "                                              context_left  \\\n",
       "820871   GTTATTTTGTTTTATTCTCACTGCTTCTGGGCAGAGGGAGCTGGGA...   \n",
       "1646142  TGGTTCTTCGTGGAGCTCGGCTGGGCCAGGCAGTATTGAGCGATGT...   \n",
       "1280029  TCAGTATGACACCAATGAATATAGTATTAACAGGTAAGATGAGTGG...   \n",
       "1594122  CCCTCTGAGCTTGGACCCCAGCCCCACCTGCGCTGGCCAGGGAGGC...   \n",
       "411670   AAGTTCCATCTTTTACTTCAAAAACAAAACTAACATTGCATATTAC...   \n",
       "\n",
       "                                             context_right  \n",
       "820871   GCTGTCCTTCCTGATCAGCCTGTACTACAACACCATCGTGGCGTGG...  \n",
       "1646142  TCTGAAGTTCTTGACTGGAAGAGGTGGGTAGTACCTCCTAGTAAAC...  \n",
       "1280029  AGGGCCGTCAGGGGCGCCATGCACTCATGCCGATTGAGCTCGTCCA...  \n",
       "1594122  CGTGGCAGTGGCACTCCTGCTTGTGGTTGCACACCTGCGGGGACGG...  \n",
       "411670   GAGCCACTGTTCTTTGTACCAGAAAAGGAAGACCAGAGCCACTTCC...  "
      ]
     },
     "execution_count": 136,
     "metadata": {},
     "output_type": "execute_result"
    }
   ],
   "source": [
    "data.head()"
   ]
  },
  {
   "cell_type": "code",
   "execution_count": 137,
   "id": "6aa7bc38",
   "metadata": {},
   "outputs": [],
   "source": [
    "from sklearn.preprocessing import MinMaxScaler\n",
    "\n",
    "y_genom_scaler = MinMaxScaler() # use scaler.inverse_transform(y_pred_scaled) when prediction in done."
   ]
  },
  {
   "cell_type": "code",
   "execution_count": 138,
   "id": "e67e5154",
   "metadata": {},
   "outputs": [],
   "source": [
    "x = data['sequence'].values\n",
    "y_labels = data['label'].values\n",
    "y_ref = data['ref'].values\n",
    "y_alt = data['alt'].values\n",
    "y_mut_type = data['mutation_type'].values\n",
    "y_chrom = data['chrom'].values\n",
    "y_gemon_pos = y_genom_scaler.fit_transform(data['genomic_pos'].values.reshape(-1, 1)).reshape(-1)"
   ]
  },
  {
   "cell_type": "markdown",
   "id": "8da08c58",
   "metadata": {},
   "source": [
    "## Text to Tensor Pipeline"
   ]
  },
  {
   "cell_type": "code",
   "execution_count": null,
   "id": "31b20c80",
   "metadata": {},
   "outputs": [],
   "source": [
    "def get_codon(seq, k=config['codons']):\n",
    "    return [seq[i:i+k] for i in range(len(seq) - k + 1)]"
   ]
  },
  {
   "cell_type": "code",
   "execution_count": 140,
   "id": "cb2ffd1a",
   "metadata": {},
   "outputs": [],
   "source": [
    "vocab = {'<PAD>': 0, '<UNK>': 1}\n",
    "\n",
    "for seq in data['sequence']:\n",
    "    for codons in get_codon(seq.lower()):\n",
    "        if codons not in vocab:\n",
    "            vocab[codons] = len(vocab)\n",
    "        else:\n",
    "            continue"
   ]
  },
  {
   "cell_type": "code",
   "execution_count": 141,
   "id": "af2f6ff9",
   "metadata": {},
   "outputs": [],
   "source": [
    "def get_tensor(text):\n",
    "    return [vocab.get(codons.lower(), vocab['<UNK>']) for codons in get_codon(text)]"
   ]
  },
  {
   "cell_type": "markdown",
   "id": "9cedb683",
   "metadata": {},
   "source": [
    "## Custom Dataset Pipepline"
   ]
  },
  {
   "cell_type": "code",
   "execution_count": 142,
   "id": "31bcad45",
   "metadata": {},
   "outputs": [],
   "source": [
    "import torch\n",
    "from torch import nn, optim\n",
    "from torch.utils.data import Dataset, DataLoader, random_split"
   ]
  },
  {
   "cell_type": "code",
   "execution_count": 182,
   "id": "78b2fdc3",
   "metadata": {},
   "outputs": [],
   "source": [
    "class CustomDataset(Dataset):\n",
    "    def __init__(\n",
    "            self,\n",
    "            x_frame, \n",
    "            y_labels_frame, \n",
    "            y_ref_frame,\n",
    "            y_alt_frame, \n",
    "            y_mut_type_frame, \n",
    "            y_chrom_frame, \n",
    "            y_gemon_pos_frame\n",
    "    ):\n",
    "        self.x_frame = x_frame\n",
    "        self.y_labels_frame = y_labels_frame\n",
    "        self.y_ref_frame = y_ref_frame\n",
    "        self.y_alt_frame = y_alt_frame\n",
    "        self.y_mut_type_frame = y_mut_type_frame\n",
    "        self.y_chrom_frame = y_chrom_frame\n",
    "        self.y_gemon_pos_frame = y_gemon_pos_frame\n",
    "\n",
    "    def __len__(self):\n",
    "        return len(self.x_frame)\n",
    "    \n",
    "    def __getitem__(self, index):\n",
    "        x_tensor = torch.tensor(get_tensor(self.x_frame[index]), dtype=torch.long)\n",
    "        y_labels_frame = torch.tensor(self.y_labels_frame[index], dtype=torch.long)\n",
    "        y_ref_frame = torch.tensor(self.y_ref_frame[index], dtype=torch.long)\n",
    "        y_alt_frame = torch.tensor(self.y_alt_frame[index], dtype=torch.long)\n",
    "        y_mut_type_frame = torch.tensor(self.y_mut_type_frame[index], dtype=torch.long)\n",
    "        y_chrom_frame = torch.tensor(self.y_chrom_frame[index], dtype=torch.long)\n",
    "        y_gemon_pos_frame = torch.tensor(self.y_gemon_pos_frame[index], dtype=torch.float32)\n",
    "\n",
    "        return x_tensor, y_labels_frame, y_ref_frame, y_alt_frame, y_mut_type_frame, y_chrom_frame, y_gemon_pos_frame"
   ]
  },
  {
   "cell_type": "code",
   "execution_count": 183,
   "id": "3ade2e73",
   "metadata": {},
   "outputs": [],
   "source": [
    "dataset = CustomDataset(\n",
    "    x_frame=x,\n",
    "    y_labels_frame=y_labels,\n",
    "    y_ref_frame=y_ref,\n",
    "    y_alt_frame=y_alt,\n",
    "    y_mut_type_frame=y_mut_type,\n",
    "    y_chrom_frame=y_chrom,\n",
    "    y_gemon_pos_frame=y_gemon_pos\n",
    ")"
   ]
  },
  {
   "cell_type": "code",
   "execution_count": 184,
   "id": "2206535e",
   "metadata": {},
   "outputs": [
    {
     "data": {
      "text/plain": [
       "(tensor([ 2,  3,  4,  5,  6,  6,  7,  8,  2,  6,  6,  3,  4,  5,  9, 10, 11, 12,\n",
       "         13, 14, 15, 16, 17, 18,  9, 10, 15, 19, 20, 21, 22, 23, 24, 25, 26, 20,\n",
       "         27, 25, 28, 17, 15, 19, 20, 27, 29, 30, 26, 27, 25, 28, 31, 32, 32, 33,\n",
       "         34, 20, 20, 21, 31, 35, 13, 36, 37, 15, 38, 39, 40, 41, 42, 19, 43, 44,\n",
       "         45, 32, 37, 15,  8, 44, 45, 35, 13, 40, 23, 26, 20, 21, 17, 15, 19, 20,\n",
       "         21, 17, 15,  8, 46,  8, 44, 12, 13, 47, 48, 17, 15,  8, 44, 45, 37, 18,\n",
       "          9, 45, 37, 15, 38, 49, 50, 12, 23, 28, 31, 37, 15,  8, 51, 52, 14, 53,\n",
       "         52, 40, 54, 55, 40, 13, 36, 35, 41, 50, 56, 57, 46, 19, 21, 58, 57, 46,\n",
       "         19, 20, 43, 46, 16, 17, 15,  8, 46, 19, 43, 51, 52, 36, 37, 11, 45, 37,\n",
       "         11, 12, 54, 55, 14, 11, 45, 37, 18,  9, 45, 35, 23, 28, 22, 13, 36, 32,\n",
       "         33, 48, 17, 15, 16, 31, 32, 37, 15, 19, 27, 25, 28, 17, 11, 45, 37, 15,\n",
       "         16]),\n",
       " tensor(2),\n",
       " tensor(1),\n",
       " tensor(3),\n",
       " tensor(5),\n",
       " tensor(7),\n",
       " tensor(0.0049))"
      ]
     },
     "execution_count": 184,
     "metadata": {},
     "output_type": "execute_result"
    }
   ],
   "source": [
    "dataset[0]"
   ]
  },
  {
   "cell_type": "code",
   "execution_count": 185,
   "id": "b2d7e953",
   "metadata": {},
   "outputs": [],
   "source": [
    "train_size = int(0.8 * len(dataset))\n",
    "test_size = len(dataset) - train_size\n",
    "\n",
    "train_dataset, test_dataset = random_split(dataset, [train_size, test_size])"
   ]
  },
  {
   "cell_type": "code",
   "execution_count": 186,
   "id": "42b0c7ac",
   "metadata": {},
   "outputs": [],
   "source": [
    "from torch.nn.utils.rnn import pad_sequence\n",
    "\n",
    "def collate_fn(batch):\n",
    "    x_tensor, y_labels_frame, y_ref_frame, y_alt_frame, y_mut_type_frame, y_chrom_frame, y_gemon_pos_frame = zip(*batch)\n",
    "\n",
    "    y_labels_frame = torch.tensor(y_labels_frame, dtype=torch.long)\n",
    "    y_ref_frame = torch.tensor(y_ref_frame, dtype=torch.long)\n",
    "    y_alt_frame = torch.tensor(y_alt_frame, dtype=torch.long)\n",
    "    y_mut_type_frame = torch.tensor(y_mut_type_frame, dtype=torch.long)\n",
    "    y_chrom_frame = torch.tensor(y_chrom_frame, dtype=torch.long)\n",
    "    y_gemon_pos_frame = torch.tensor(y_gemon_pos_frame, dtype=torch.float32)\n",
    "\n",
    "\n",
    "    padded_x_tensor = pad_sequence(x_tensor, batch_first=True, padding_value=vocab['<PAD>'])\n",
    "\n",
    "    return padded_x_tensor, y_labels_frame, y_ref_frame, y_alt_frame, y_mut_type_frame, y_chrom_frame, y_gemon_pos_frame"
   ]
  },
  {
   "cell_type": "code",
   "execution_count": null,
   "id": "9bc6883a",
   "metadata": {},
   "outputs": [],
   "source": [
    "train_loader = DataLoader(train_dataset, batch_size=config['batch_size'], shuffle=True, collate_fn=collate_fn)\n",
    "test_loader = DataLoader(test_dataset, batch_size=config['batch_size'], collate_fn=collate_fn)"
   ]
  },
  {
   "cell_type": "code",
   "execution_count": 188,
   "id": "3b464e18",
   "metadata": {},
   "outputs": [],
   "source": [
    "import math\n",
    "\n",
    "class PositionalEncoding(nn.Module):\n",
    "    def __init__(self, embed_dim, max_len=5000):\n",
    "        super().__init__()\n",
    "\n",
    "        pe = torch.zeros(max_len, embed_dim)\n",
    "        position = torch.arange(0, max_len).unsqueeze(1)\n",
    "\n",
    "        div_term = torch.exp((torch.arange(0, embed_dim, 2)) * (-math.log(10000.0) / embed_dim))\n",
    "\n",
    "        pe[:, 0::2] = torch.sin(position * div_term)\n",
    "        pe[:, 1::2] = torch.cos(position * div_term)\n",
    "\n",
    "        pe = pe.unsqueeze(0)\n",
    "        self.register_buffer('pe', pe)\n",
    "\n",
    "    def forward(self, x):\n",
    "        x = x + self.pe[:, :x.size(1), :].to(x.device)\n",
    "        return x\n",
    "\n",
    "class Transformer(nn.Module):\n",
    "    def __init__(self, embed_dim=512, num_heads=8, num_layers=6, ff_dim=2048, vocab_size=10000, max_len=5000):\n",
    "        super(Transformer, self).__init__()\n",
    "        self.embeddings = nn.Embedding(vocab_size, embed_dim)\n",
    "        self.position_encoding = PositionalEncoding(embed_dim=embed_dim, max_len=max_len)\n",
    "\n",
    "        encoder_layer = nn.TransformerEncoderLayer(\n",
    "            d_model=embed_dim,\n",
    "            nhead=num_heads,\n",
    "            dim_feedforward=ff_dim,\n",
    "            dropout=0.1,\n",
    "            batch_first=True\n",
    "        )\n",
    "        self.encoder = nn.TransformerEncoder(\n",
    "            encoder_layer=encoder_layer,\n",
    "            num_layers=num_layers\n",
    "        )\n",
    "\n",
    "        self.y_labels_out = nn.Linear(embed_dim, 5)\n",
    "        self.y_ref_out = nn.Linear(embed_dim, 4)\n",
    "        self.y_alt_out = nn.Linear(embed_dim, 4)\n",
    "        self.y_mut_type_out = nn.Linear(embed_dim, 12)\n",
    "        self.y_chrom_out = nn.Linear(embed_dim, 12)\n",
    "        self.y_gemon_pos_out = nn.Linear(embed_dim, 1)\n",
    "\n",
    "    def forward(self, x):\n",
    "        x = self.embeddings(x)\n",
    "        x = self.position_encoding(x)\n",
    "\n",
    "        x = self.encoder(x)\n",
    "        x = x.mean(dim=1)\n",
    "\n",
    "        y_labels_out = self.y_labels_out(x)\n",
    "        y_ref_out = self.y_ref_out(x)\n",
    "        y_alt_out = self.y_alt_out(x)\n",
    "        y_mut_type_out = self.y_mut_type_out(x)\n",
    "        y_chrom_out = self.y_chrom_out(x)\n",
    "        y_gemon_pos_out = self.y_gemon_pos_out(x)\n",
    "\n",
    "        return y_labels_out, y_ref_out, y_alt_out, y_mut_type_out, y_chrom_out, y_gemon_pos_out"
   ]
  },
  {
   "cell_type": "code",
   "execution_count": null,
   "id": "c503ca40",
   "metadata": {},
   "outputs": [],
   "source": [
    "model = Transformer(\n",
    "    embed_dim=config['embed_dim'],\n",
    "    num_heads=config['num_heads'],\n",
    "    num_layers=config['num_layers'],\n",
    "    ff_dim=config['ff_dim'],\n",
    "    vocab_size=len(vocab),\n",
    "    max_len=200\n",
    ")"
   ]
  },
  {
   "cell_type": "code",
   "execution_count": 190,
   "id": "9d48ac89",
   "metadata": {},
   "outputs": [
    {
     "name": "stdout",
     "output_type": "stream",
     "text": [
      "Total trainable parameters: 278310\n"
     ]
    }
   ],
   "source": [
    "num_params = sum(p.numel() for p in model.parameters() if p.requires_grad)\n",
    "print(f\"Total trainable parameters: {num_params}\")"
   ]
  },
  {
   "cell_type": "code",
   "execution_count": null,
   "id": "e20bce86",
   "metadata": {},
   "outputs": [],
   "source": [
    "ce1 = nn.CrossEntropyLoss()\n",
    "ce2 = nn.CrossEntropyLoss()\n",
    "ce3 = nn.CrossEntropyLoss()\n",
    "ce4 = nn.CrossEntropyLoss()\n",
    "ce5 = nn.CrossEntropyLoss()\n",
    "\n",
    "mse = nn.MSELoss()\n",
    "\n",
    "optimizer = optim.Adam(model.parameters(), lr=config['learning_rate'])"
   ]
  },
  {
   "cell_type": "code",
   "execution_count": 192,
   "id": "676273f6",
   "metadata": {},
   "outputs": [],
   "source": [
    "def train(model, loader, ce1, ce2, ce3, ce4, ce5, mse, optimizer):\n",
    "    model.train()\n",
    "\n",
    "    running_loss = 0.0\n",
    "    for x, y1, y2, y3, y4, y5, y6 in loader:\n",
    "        optimizer.zero_grad()\n",
    "\n",
    "        out1, out2, out3, out4, out5, out6 = model(x)\n",
    "        \n",
    "        loss1 = ce1(out1, y1)\n",
    "        loss2 = ce2(out2, y2)\n",
    "        loss3 = ce3(out3, y3)\n",
    "        loss4 = ce4(out4, y4)\n",
    "        loss5 = ce5(out5, y5)\n",
    "        loss6 = mse(out6.squeeze(1), y6)\n",
    "\n",
    "        loss = loss1 + loss2 + loss3 + loss4 + loss5 + loss6\n",
    "\n",
    "        loss.backward()\n",
    "        optimizer.step()\n",
    "\n",
    "        running_loss += loss.item() * len(x)\n",
    "    \n",
    "    print(f\"{loss1.item()} : {loss2.item()} : {loss3.item()} : {loss4.item()} : {loss5.item()} : {loss6.item()}\")\n",
    "\n",
    "    return (running_loss / len(loader.dataset))"
   ]
  },
  {
   "cell_type": "code",
   "execution_count": 193,
   "id": "ce33cf7c",
   "metadata": {},
   "outputs": [
    {
     "data": {
      "text/plain": [
       "(tensor([[37, 15, 19,  ...,  7,  8, 46],\n",
       "         [31, 35, 13,  ..., 33, 48, 22],\n",
       "         [ 5,  6,  3,  ..., 29, 64, 64],\n",
       "         ...,\n",
       "         [31, 37, 11,  ..., 16, 31, 32],\n",
       "         [55, 47, 60,  ..., 65, 42,  8],\n",
       "         [ 5,  6,  3,  ..., 22, 23, 28]]),\n",
       " tensor([1, 2, 2, 3, 2, 1, 1, 2, 1, 1, 2, 3, 1, 0, 1, 1, 2, 2, 2, 2, 2, 2, 2, 2,\n",
       "         2, 2, 1, 1, 0, 2, 2, 2]),\n",
       " tensor([1, 0, 0, 0, 0, 1, 0, 0, 2, 0, 1, 1, 1, 3, 1, 0, 0, 2, 1, 0, 3, 2, 1, 1,\n",
       "         1, 3, 2, 0, 2, 3, 3, 1]),\n",
       " tensor([3, 2, 3, 3, 1, 3, 2, 2, 0, 1, 0, 0, 3, 2, 3, 1, 3, 3, 3, 1, 1, 0, 2, 2,\n",
       "         3, 1, 0, 1, 3, 1, 0, 3]),\n",
       " tensor([ 5,  6,  8,  8,  7,  5,  6,  6,  1,  7,  4,  4,  5,  9,  5,  7,  8,  2,\n",
       "          5,  7, 10,  1,  3,  3,  5, 10,  1,  7,  2, 10, 11,  5]),\n",
       " tensor([ 1,  5,  0,  6,  3, 10,  4,  6,  8,  3,  8, 11,  4,  2,  1,  7,  8, 10,\n",
       "          8,  7, 11,  4,  7,  4,  7,  1,  4,  1,  6,  9,  4, 11]),\n",
       " tensor([0.4059, 0.7400, 0.2577, 0.2090, 0.0623, 0.5807, 0.6092, 0.0225, 0.2274,\n",
       "         0.0264, 0.1899, 0.2923, 0.8796, 0.3765, 0.2836, 0.6770, 0.4506, 0.5408,\n",
       "         0.5060, 0.5352, 0.3827, 0.9667, 0.4534, 0.2244, 0.5730, 0.0680, 0.6635,\n",
       "         0.2886, 0.4932, 0.0216, 0.1750, 0.4855]))"
      ]
     },
     "execution_count": 193,
     "metadata": {},
     "output_type": "execute_result"
    }
   ],
   "source": [
    "next(iter(train_loader))"
   ]
  },
  {
   "cell_type": "code",
   "execution_count": null,
   "id": "83f3b603",
   "metadata": {},
   "outputs": [],
   "source": [
    "def validation(model, loader, ce1, ce2, ce3, ce4, ce5, mse):\n",
    "    model.eval()\n",
    "\n",
    "    running_loss, correct1, correct2, correct3, correct4, correct5, total = 0.0, 0, 0, 0, 0, 0, 0\n",
    "\n",
    "    with torch.no_grad():\n",
    "        for x, y1, y2, y3, y4, y5, y6 in loader:\n",
    "            out1, out2, out3, out4, out5, out6 = model(x)\n",
    "\n",
    "            loss1 = ce1(out1, y1)\n",
    "            loss2 = ce2(out2, y2)\n",
    "            loss3 = ce3(out3, y3)\n",
    "            loss4 = ce4(out4, y4)\n",
    "            loss5 = ce5(out5, y5)\n",
    "            loss6 = mse(out6.squeeze(1), y6)\n",
    "\n",
    "            loss = loss1 + loss2 + loss3 + loss4 + loss5 + loss6\n",
    "            running_loss += loss.item() * len(x) \n",
    "\n",
    "            prediction1 = torch.argmax(out1, dim=1)\n",
    "            correct1 += (prediction1 == y1).sum().item()\n",
    "\n",
    "            prediction2 = torch.argmax(out2, dim=1)\n",
    "            correct2 += (prediction2 == y2).sum().item()\n",
    "\n",
    "            prediction3 = torch.argmax(out3, dim=1)\n",
    "            correct3 += (prediction3 == y3).sum().item()\n",
    "\n",
    "            prediction4 = torch.argmax(out4, dim=1)\n",
    "            correct4 += (prediction4 == y4).sum().item()\n",
    "\n",
    "            prediction5 = torch.argmax(out5, dim=1)\n",
    "            correct5 += (prediction5 == y5).sum().item()\n",
    "\n",
    "            total += len(x)\n",
    "    \n",
    "    accuracy1 = correct1 / total\n",
    "    accuracy2 = correct2 / total\n",
    "    accuracy3 = correct3 / total\n",
    "    accuracy4 = correct4 / total\n",
    "    accuracy5 = correct5 / total\n",
    "\n",
    "    return (\n",
    "        running_loss / len(loader.dataset),\n",
    "        accuracy1, \n",
    "        accuracy2, \n",
    "        accuracy3, \n",
    "        accuracy4, \n",
    "        accuracy5,\n",
    "        loss6.item()\n",
    "    )"
   ]
  },
  {
   "cell_type": "code",
   "execution_count": null,
   "id": "5c3c0b7f",
   "metadata": {},
   "outputs": [],
   "source": [
    "epochs = 10\n",
    "patience = 3\n",
    "best_val_loss = float('inf')\n",
    "counter = 0\n",
    "early_stop = False\n",
    "\n",
    "for epoch in range(epochs):\n",
    "    train_loss = train(\n",
    "        model,\n",
    "        train_loader,\n",
    "        ce1,\n",
    "        ce2,\n",
    "        ce3,\n",
    "        ce4,\n",
    "        ce5,\n",
    "        mse,\n",
    "        optimizer\n",
    "    )\n",
    "\n",
    "    val_loss, acc1, acc2, acc3, acc4, acc5 = validation(\n",
    "        model, \n",
    "        test_loader,\n",
    "        ce1,\n",
    "        ce2,\n",
    "        ce3,\n",
    "        ce4,\n",
    "        ce5,\n",
    "        mse\n",
    "    )\n",
    "\n",
    "    print(f\"Epoch ({epoch+1}/{epochs}): Train Loss = {train_loss:.4f}, Val Loss = {val_loss:.4f}, Acc1 = {acc1:.4f}, Acc2 = {acc2:.4f}, Acc3 = {acc3:.4f}, Acc4 = {acc4:.4f}, Acc5 = {acc5:.4f}\")\n",
    "\n",
    "    wandb.log({\"epoch\": epoch,\n",
    "               \"Training Loss\": train_loss, \n",
    "               \"Validation Loss\": val_loss, \n",
    "               \"Label Accuracy\": acc1,  \n",
    "               \"Reference Accuracy\": acc2,  \n",
    "               \"Alternate Accuracy\": acc3,  \n",
    "               \"Mutation Type Accuracy\": acc4, \n",
    "               \"Chrom Accuracy\": acc5, \n",
    "               })\n",
    "\n",
    "    if val_loss < best_val_loss:\n",
    "        best_val_loss = val_loss\n",
    "        counter = 0\n",
    "        print(\"No-Early Stopping Triggered!\")\n",
    "        continue\n",
    "    else:\n",
    "        counter += 1\n",
    "        print(f\"No improvement in val loss. Counter = {counter}/{patience}\")\n",
    "        if counter >= patience:\n",
    "            print(\"Early stopping triggered!\")\n",
    "            early_stop = True\n",
    "            break"
   ]
  }
 ],
 "metadata": {
  "kernelspec": {
   "display_name": "Python 3",
   "language": "python",
   "name": "python3"
  },
  "language_info": {
   "codemirror_mode": {
    "name": "ipython",
    "version": 3
   },
   "file_extension": ".py",
   "mimetype": "text/x-python",
   "name": "python",
   "nbconvert_exporter": "python",
   "pygments_lexer": "ipython3",
   "version": "3.10.0"
  }
 },
 "nbformat": 4,
 "nbformat_minor": 5
}
